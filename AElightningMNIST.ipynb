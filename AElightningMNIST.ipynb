{
 "cells": [
  {
   "cell_type": "markdown",
   "metadata": {},
   "source": [
    "### Same task as in `AutoencoderMNIST.ipynb`, this time implemented in lightning"
   ]
  },
  {
   "cell_type": "code",
   "execution_count": 2,
   "metadata": {},
   "outputs": [
    {
     "name": "stderr",
     "output_type": "stream",
     "text": [
      "c:\\Users\\aleks\\anaconda3\\Lib\\site-packages\\torchaudio\\backend\\utils.py:74: UserWarning: No audio backend is available.\n",
      "  warnings.warn(\"No audio backend is available.\")\n"
     ]
    }
   ],
   "source": [
    "import torch\n",
    "from torchvision import datasets\n",
    "from torchvision import transforms\n",
    "import matplotlib.pyplot as plt\n",
    "import numpy as np\n",
    "import pytorch_lightning as pl"
   ]
  },
  {
   "cell_type": "code",
   "execution_count": 3,
   "metadata": {},
   "outputs": [],
   "source": [
    "dataset = datasets.MNIST(root = \"./data\",\n",
    "                         train = True,\n",
    "                         download = True,\n",
    "                         transform = transforms.ToTensor()) #\n",
    "\n",
    "\n",
    "train_set, test_set, valid_set =\\\n",
    "                torch.utils.data.random_split(dataset, (int(0.7*len(dataset)), int(0.15*len(dataset)), int(0.15*len(dataset))))\n",
    "\n",
    "train_loader = torch.utils.data.DataLoader(dataset = train_set, batch_size = 32)\n",
    "validation_loader = torch.utils.data.DataLoader(dataset = valid_set, batch_size = 32)\n",
    "test_loader = torch.utils.data.DataLoader(dataset = test_set, batch_size = 32)"
   ]
  },
  {
   "cell_type": "code",
   "execution_count": 86,
   "metadata": {},
   "outputs": [
    {
     "data": {
      "text/plain": [
       "tensor([2, 6, 1, 9, 3, 0, 4, 2, 9, 6, 8, 8, 6, 2, 7, 5, 4, 3, 1, 2, 1, 7, 2, 0,\n",
       "        4, 6, 0, 5, 3, 3, 8, 3])"
      ]
     },
     "execution_count": 86,
     "metadata": {},
     "output_type": "execute_result"
    }
   ],
   "source": [
    "x, y=  next(iter(train_loader))\n",
    "x.reshape(-1, 28*28).size()\n",
    "y"
   ]
  },
  {
   "cell_type": "code",
   "execution_count": 33,
   "metadata": {},
   "outputs": [],
   "source": [
    "Nfeatures = 28*28 #size of the encoder input layer\n",
    "Layers=[128,64,36,18] #sizes of inner layers\n",
    "NTargets=10 #size of the encoder output layer"
   ]
  },
  {
   "cell_type": "code",
   "execution_count": 101,
   "metadata": {},
   "outputs": [],
   "source": [
    "class MNIST_AE(pl.LightningModule): \n",
    "\n",
    "### Model ###\n",
    "    def __init__(self, Nfeatures, Layers, Ntargets):\n",
    "        super(MNIST_AE, self).__init__() # TODO: if not \"cannot assign module before Module.__init__() call\"\n",
    "        # Initialize layers\n",
    "        self.encoderIn = torch.nn.Linear(Nfeatures, Layers[0]) #first layer 28*28 -> 128\n",
    "        self.encoderl1 = torch.nn.Linear(Layers[0], Layers[1])\n",
    "        self.encoderl2 = torch.nn.Linear(Layers[1], Layers[2])\n",
    "        self.encoderl3 = torch.nn.Linear(Layers[2], Layers[3])\n",
    "        self.encoderOut = torch.nn.Linear(Layers[3], Ntargets)\n",
    "\n",
    "        self.decoderIn = torch.nn.Linear(Ntargets, Layers[3]) #f\n",
    "        self.decoderl1 = torch.nn.Linear(Layers[3], Layers[2])\n",
    "        self.decoderl2 = torch.nn.Linear(Layers[2], Layers[1])\n",
    "        self.decoderl3 = torch.nn.Linear(Layers[1], Layers[0])\n",
    "        self.decoderOut = torch.nn.Linear(Layers[0], Nfeatures)\n",
    "        # TODO: better place to define mse_loss\n",
    "        self.mse_loss = torch.nn.MSELoss(reduction = 'mean')\n",
    "        self.validation_step_outputs = []\n",
    "\n",
    "\n",
    "    def forward(self, x):\n",
    "        x = torch.relu(self.encoderIn(x))\n",
    "        x = torch.relu(self.encoderl1(x))\n",
    "        x = torch.relu(self.encoderl2(x))\n",
    "        x = torch.relu(self.encoderl3(x))\n",
    "        x = self.encoderOut(x)\n",
    "        x = torch.relu(self.decoderIn(x))\n",
    "        x = torch.relu(self.decoderl1(x))\n",
    "        x = torch.relu(self.decoderl2(x))\n",
    "        x = torch.relu(self.decoderl3(x))\n",
    "        x = self.decoderOut(x)\n",
    "        return x\n",
    "\n",
    "### The Optimizer ### \n",
    "    def configure_optimizers(self):\n",
    "        #optimizer = torch.optim.Adam(self.parameters(), lr=0.05)#l_rate) # TODO: should be a parameter\n",
    "        optimizer = torch.optim.SGD(self.parameters(), lr=1e-5)#l_rate) # TODO: should be a parameter\n",
    "        return optimizer\n",
    "\n",
    "### Training ### \n",
    "    def training_step(self, batch, batch_idx):\n",
    "        images, label = batch\n",
    "        images = images.reshape(-1, 28*28)\n",
    "        # Evaluate physical model using data scaling\n",
    "        logits = self.forward(images)\n",
    "        # Evaluate loss comparing to the kinetic heat flux in y\n",
    "        loss = self.mse_loss(logits, images)\n",
    "        # Add logging\n",
    "        logs = {'loss': loss}\n",
    "        return {'loss': loss, 'log': logs}\n",
    "\n",
    "### Validation ### \n",
    "    def validation_step(self, batch, batch_idx):\n",
    "        images, label = batch\n",
    "        images = images.reshape(-1, 28*28)\n",
    "        # Evaluate physical model using data scaling\n",
    "        logits = self.forward(images)\n",
    "        # Evaluate loss comparing to the kinetic heat flux in y\n",
    "        loss = self.mse_loss(logits, images)\n",
    "        self.validation_step_outputs.append(loss)\n",
    "        return {'val_loss': loss}\n",
    "\n",
    "    # Define validation epoch end\n",
    "    def on_validation_epoch_end(self):\n",
    "        avg_loss = torch.stack(self.validation_step_outputs).mean()\n",
    "        self.log(\"validation_epoch_average\", avg_loss)\n",
    "        self.validation_step_outputs.clear()\n",
    "        tensorboard_logs = {'val_loss': avg_loss}\n",
    "        return {'avg_val_loss': avg_loss, 'log': tensorboard_logs}"
   ]
  },
  {
   "cell_type": "code",
   "execution_count": 102,
   "metadata": {},
   "outputs": [],
   "source": [
    "model=MNIST_AE(Nfeatures, Layers, NTargets)"
   ]
  },
  {
   "cell_type": "code",
   "execution_count": 103,
   "metadata": {},
   "outputs": [
    {
     "data": {
      "text/plain": [
       "20"
      ]
     },
     "execution_count": 103,
     "metadata": {},
     "output_type": "execute_result"
    }
   ],
   "source": [
    "len(model.state_dict())"
   ]
  },
  {
   "cell_type": "code",
   "execution_count": 104,
   "metadata": {},
   "outputs": [
    {
     "data": {
      "text/plain": [
       "   | Name       | Type    | Params\n",
       "----------------------------------------\n",
       "0  | encoderIn  | Linear  | 100 K \n",
       "1  | encoderl1  | Linear  | 8.3 K \n",
       "2  | encoderl2  | Linear  | 2.3 K \n",
       "3  | encoderl3  | Linear  | 666   \n",
       "4  | encoderOut | Linear  | 190   \n",
       "5  | decoderIn  | Linear  | 198   \n",
       "6  | decoderl1  | Linear  | 684   \n",
       "7  | decoderl2  | Linear  | 2.4 K \n",
       "8  | decoderl3  | Linear  | 8.3 K \n",
       "9  | decoderOut | Linear  | 101 K \n",
       "10 | mse_loss   | MSELoss | 0     \n",
       "----------------------------------------\n",
       "224 K     Trainable params\n",
       "0         Non-trainable params\n",
       "224 K     Total params\n",
       "0.899     Total estimated model params size (MB)"
      ]
     },
     "execution_count": 104,
     "metadata": {},
     "output_type": "execute_result"
    }
   ],
   "source": [
    "pl.utilities.model_summary.ModelSummary(model,max_depth=3)"
   ]
  },
  {
   "cell_type": "code",
   "execution_count": 105,
   "metadata": {},
   "outputs": [
    {
     "name": "stdout",
     "output_type": "stream",
     "text": [
      "encoderIn.weight\n",
      "encoderIn.bias\n",
      "encoderl1.weight\n",
      "encoderl1.bias\n",
      "encoderl2.weight\n",
      "encoderl2.bias\n",
      "encoderl3.weight\n",
      "encoderl3.bias\n",
      "encoderOut.weight\n",
      "encoderOut.bias\n",
      "decoderIn.weight\n",
      "decoderIn.bias\n",
      "decoderl1.weight\n",
      "decoderl1.bias\n",
      "decoderl2.weight\n",
      "decoderl2.bias\n",
      "decoderl3.weight\n",
      "decoderl3.bias\n",
      "decoderOut.weight\n",
      "decoderOut.bias\n"
     ]
    }
   ],
   "source": [
    "for name in model.state_dict():\n",
    "    print(name)"
   ]
  },
  {
   "cell_type": "code",
   "execution_count": 106,
   "metadata": {},
   "outputs": [
    {
     "name": "stderr",
     "output_type": "stream",
     "text": [
      "GPU available: True (cuda), used: True\n",
      "TPU available: False, using: 0 TPU cores\n",
      "IPU available: False, using: 0 IPUs\n",
      "HPU available: False, using: 0 HPUs\n"
     ]
    }
   ],
   "source": [
    "trainer = pl.Trainer(max_epochs = 5)\n"
   ]
  },
  {
   "cell_type": "code",
   "execution_count": 107,
   "metadata": {},
   "outputs": [
    {
     "name": "stderr",
     "output_type": "stream",
     "text": [
      "LOCAL_RANK: 0 - CUDA_VISIBLE_DEVICES: [0]\n",
      "\n",
      "   | Name       | Type    | Params\n",
      "----------------------------------------\n",
      "0  | encoderIn  | Linear  | 100 K \n",
      "1  | encoderl1  | Linear  | 8.3 K \n",
      "2  | encoderl2  | Linear  | 2.3 K \n",
      "3  | encoderl3  | Linear  | 666   \n",
      "4  | encoderOut | Linear  | 190   \n",
      "5  | decoderIn  | Linear  | 198   \n",
      "6  | decoderl1  | Linear  | 684   \n",
      "7  | decoderl2  | Linear  | 2.4 K \n",
      "8  | decoderl3  | Linear  | 8.3 K \n",
      "9  | decoderOut | Linear  | 101 K \n",
      "10 | mse_loss   | MSELoss | 0     \n",
      "----------------------------------------\n",
      "224 K     Trainable params\n",
      "0         Non-trainable params\n",
      "224 K     Total params\n",
      "0.899     Total estimated model params size (MB)\n"
     ]
    },
    {
     "data": {
      "application/vnd.jupyter.widget-view+json": {
       "model_id": "501fe2e361354e0d8ab504310f4d2334",
       "version_major": 2,
       "version_minor": 0
      },
      "text/plain": [
       "Sanity Checking: 0it [00:00, ?it/s]"
      ]
     },
     "metadata": {},
     "output_type": "display_data"
    },
    {
     "name": "stderr",
     "output_type": "stream",
     "text": [
      "c:\\Users\\aleks\\anaconda3\\Lib\\site-packages\\pytorch_lightning\\trainer\\connectors\\data_connector.py:442: PossibleUserWarning: The dataloader, train_dataloader, does not have many workers which may be a bottleneck. Consider increasing the value of the `num_workers` argument` (try 8 which is the number of cpus on this machine) in the `DataLoader` init to improve performance.\n",
      "  rank_zero_warn(\n"
     ]
    },
    {
     "data": {
      "application/vnd.jupyter.widget-view+json": {
       "model_id": "0b7248bd5a4e458c97ad2eaa8409adcb",
       "version_major": 2,
       "version_minor": 0
      },
      "text/plain": [
       "Training: 0it [00:00, ?it/s]"
      ]
     },
     "metadata": {},
     "output_type": "display_data"
    },
    {
     "data": {
      "application/vnd.jupyter.widget-view+json": {
       "model_id": "a53a173a01324aceae94601e24fdc2de",
       "version_major": 2,
       "version_minor": 0
      },
      "text/plain": [
       "Validation: 0it [00:00, ?it/s]"
      ]
     },
     "metadata": {},
     "output_type": "display_data"
    },
    {
     "data": {
      "application/vnd.jupyter.widget-view+json": {
       "model_id": "7d70f3dbef3f4855a241eedcbe137025",
       "version_major": 2,
       "version_minor": 0
      },
      "text/plain": [
       "Validation: 0it [00:00, ?it/s]"
      ]
     },
     "metadata": {},
     "output_type": "display_data"
    },
    {
     "data": {
      "application/vnd.jupyter.widget-view+json": {
       "model_id": "c0f9d63284464a2996ecb4c6ff105998",
       "version_major": 2,
       "version_minor": 0
      },
      "text/plain": [
       "Validation: 0it [00:00, ?it/s]"
      ]
     },
     "metadata": {},
     "output_type": "display_data"
    },
    {
     "data": {
      "application/vnd.jupyter.widget-view+json": {
       "model_id": "2310c065895d4ac8b71f9321e54397cb",
       "version_major": 2,
       "version_minor": 0
      },
      "text/plain": [
       "Validation: 0it [00:00, ?it/s]"
      ]
     },
     "metadata": {},
     "output_type": "display_data"
    },
    {
     "data": {
      "application/vnd.jupyter.widget-view+json": {
       "model_id": "da76f0063df2489ebb8c903b177abe98",
       "version_major": 2,
       "version_minor": 0
      },
      "text/plain": [
       "Validation: 0it [00:00, ?it/s]"
      ]
     },
     "metadata": {},
     "output_type": "display_data"
    },
    {
     "name": "stderr",
     "output_type": "stream",
     "text": [
      "`Trainer.fit` stopped: `max_epochs=5` reached.\n"
     ]
    }
   ],
   "source": [
    "trainer.fit(model, train_loader, validation_loader)"
   ]
  },
  {
   "cell_type": "code",
   "execution_count": 111,
   "metadata": {},
   "outputs": [
    {
     "data": {
      "image/png": "[encoded data removed]",
      "text/plain": [
       "<Figure size 1000x400 with 10 Axes>"
      ]
     },
     "metadata": {},
     "output_type": "display_data"
    }
   ],
   "source": [
    "def plot_digits(*args): #just plotting the result\n",
    "\n",
    "    n = min([x.shape[0] for x in args]) #n=5\n",
    "    \n",
    "    plt.figure(figsize=(2*n, 2*len(args))) #10 na 4\n",
    "    for j in range(n): #j [1,2,3,4,5]\n",
    "        for i in range(len(args)): #i [1,2]\n",
    "            img=args[i][j].reshape(-1,28,28).detach().numpy()\n",
    "            ax = plt.subplot(len(args), n, i*n + j + 1) #arguments: nrows, ncols, index\n",
    "            plt.imshow(img[0])\n",
    "            plt.gray()\n",
    "            ax.get_xaxis().set_visible(False)\n",
    "            ax.get_yaxis().set_visible(False)\n",
    "\n",
    "    plt.show()\n",
    "\n",
    "xbatch, ybatch =next(iter(test_loader))\n",
    "xbatch=xbatch.reshape(-1,28*28)\n",
    "a=[model(x) for x in xbatch[:5]]\n",
    "a=torch.stack(a, dim=0)\n",
    "\n",
    "plot_digits(xbatch[:5], a)"
   ]
  },
  {
   "cell_type": "code",
   "execution_count": 114,
   "metadata": {},
   "outputs": [
    {
     "ename": "ModuleNotFoundError",
     "evalue": "No module named 'tensorboard'",
     "output_type": "error",
     "traceback": [
      "\u001b[1;31m---------------------------------------------------------------------------\u001b[0m",
      "\u001b[1;31mModuleNotFoundError\u001b[0m                       Traceback (most recent call last)",
      "\u001b[1;32mc:\\Users\\aleks\\Projects\\arameic-mishmash\\AElightningMNIST.ipynb Cell 14\u001b[0m line \u001b[0;36m1\n\u001b[1;32m----> <a href='vscode-notebook-cell:/c%3A/Users/aleks/Projects/arameic-mishmash/AElightningMNIST.ipynb#X22sZmlsZQ%3D%3D?line=0'>1</a>\u001b[0m get_ipython()\u001b[39m.\u001b[39mrun_line_magic(\u001b[39m'\u001b[39m\u001b[39mload_ext\u001b[39m\u001b[39m'\u001b[39m, \u001b[39m'\u001b[39m\u001b[39mtensorboard\u001b[39m\u001b[39m'\u001b[39m)\n",
      "File \u001b[1;32mc:\\Users\\aleks\\anaconda3\\Lib\\site-packages\\IPython\\core\\interactiveshell.py:2432\u001b[0m, in \u001b[0;36mInteractiveShell.run_line_magic\u001b[1;34m(self, magic_name, line, _stack_depth)\u001b[0m\n\u001b[0;32m   2430\u001b[0m     kwargs[\u001b[39m'\u001b[39m\u001b[39mlocal_ns\u001b[39m\u001b[39m'\u001b[39m] \u001b[39m=\u001b[39m \u001b[39mself\u001b[39m\u001b[39m.\u001b[39mget_local_scope(stack_depth)\n\u001b[0;32m   2431\u001b[0m \u001b[39mwith\u001b[39;00m \u001b[39mself\u001b[39m\u001b[39m.\u001b[39mbuiltin_trap:\n\u001b[1;32m-> 2432\u001b[0m     result \u001b[39m=\u001b[39m fn(\u001b[39m*\u001b[39margs, \u001b[39m*\u001b[39m\u001b[39m*\u001b[39mkwargs)\n\u001b[0;32m   2434\u001b[0m \u001b[39m# The code below prevents the output from being displayed\u001b[39;00m\n\u001b[0;32m   2435\u001b[0m \u001b[39m# when using magics with decorator @output_can_be_silenced\u001b[39;00m\n\u001b[0;32m   2436\u001b[0m \u001b[39m# when the last Python token in the expression is a ';'.\u001b[39;00m\n\u001b[0;32m   2437\u001b[0m \u001b[39mif\u001b[39;00m \u001b[39mgetattr\u001b[39m(fn, magic\u001b[39m.\u001b[39mMAGIC_OUTPUT_CAN_BE_SILENCED, \u001b[39mFalse\u001b[39;00m):\n",
      "File \u001b[1;32mc:\\Users\\aleks\\anaconda3\\Lib\\site-packages\\IPython\\core\\magics\\extension.py:33\u001b[0m, in \u001b[0;36mExtensionMagics.load_ext\u001b[1;34m(self, module_str)\u001b[0m\n\u001b[0;32m     31\u001b[0m \u001b[39mif\u001b[39;00m \u001b[39mnot\u001b[39;00m module_str:\n\u001b[0;32m     32\u001b[0m     \u001b[39mraise\u001b[39;00m UsageError(\u001b[39m'\u001b[39m\u001b[39mMissing module name.\u001b[39m\u001b[39m'\u001b[39m)\n\u001b[1;32m---> 33\u001b[0m res \u001b[39m=\u001b[39m \u001b[39mself\u001b[39m\u001b[39m.\u001b[39mshell\u001b[39m.\u001b[39mextension_manager\u001b[39m.\u001b[39mload_extension(module_str)\n\u001b[0;32m     35\u001b[0m \u001b[39mif\u001b[39;00m res \u001b[39m==\u001b[39m \u001b[39m'\u001b[39m\u001b[39malready loaded\u001b[39m\u001b[39m'\u001b[39m:\n\u001b[0;32m     36\u001b[0m     \u001b[39mprint\u001b[39m(\u001b[39m\"\u001b[39m\u001b[39mThe \u001b[39m\u001b[39m%s\u001b[39;00m\u001b[39m extension is already loaded. To reload it, use:\u001b[39m\u001b[39m\"\u001b[39m \u001b[39m%\u001b[39m module_str)\n",
      "File \u001b[1;32mc:\\Users\\aleks\\anaconda3\\Lib\\site-packages\\IPython\\core\\extensions.py:76\u001b[0m, in \u001b[0;36mExtensionManager.load_extension\u001b[1;34m(self, module_str)\u001b[0m\n\u001b[0;32m     69\u001b[0m \u001b[39m\u001b[39m\u001b[39m\"\"\"Load an IPython extension by its module name.\u001b[39;00m\n\u001b[0;32m     70\u001b[0m \n\u001b[0;32m     71\u001b[0m \u001b[39mReturns the string \"already loaded\" if the extension is already loaded,\u001b[39;00m\n\u001b[0;32m     72\u001b[0m \u001b[39m\"no load function\" if the module doesn't have a load_ipython_extension\u001b[39;00m\n\u001b[0;32m     73\u001b[0m \u001b[39mfunction, or None if it succeeded.\u001b[39;00m\n\u001b[0;32m     74\u001b[0m \u001b[39m\"\"\"\u001b[39;00m\n\u001b[0;32m     75\u001b[0m \u001b[39mtry\u001b[39;00m:\n\u001b[1;32m---> 76\u001b[0m     \u001b[39mreturn\u001b[39;00m \u001b[39mself\u001b[39m\u001b[39m.\u001b[39m_load_extension(module_str)\n\u001b[0;32m     77\u001b[0m \u001b[39mexcept\u001b[39;00m \u001b[39mModuleNotFoundError\u001b[39;00m:\n\u001b[0;32m     78\u001b[0m     \u001b[39mif\u001b[39;00m module_str \u001b[39min\u001b[39;00m BUILTINS_EXTS:\n",
      "File \u001b[1;32mc:\\Users\\aleks\\anaconda3\\Lib\\site-packages\\IPython\\core\\extensions.py:91\u001b[0m, in \u001b[0;36mExtensionManager._load_extension\u001b[1;34m(self, module_str)\u001b[0m\n\u001b[0;32m     89\u001b[0m \u001b[39mwith\u001b[39;00m \u001b[39mself\u001b[39m\u001b[39m.\u001b[39mshell\u001b[39m.\u001b[39mbuiltin_trap:\n\u001b[0;32m     90\u001b[0m     \u001b[39mif\u001b[39;00m module_str \u001b[39mnot\u001b[39;00m \u001b[39min\u001b[39;00m sys\u001b[39m.\u001b[39mmodules:\n\u001b[1;32m---> 91\u001b[0m         mod \u001b[39m=\u001b[39m import_module(module_str)\n\u001b[0;32m     92\u001b[0m     mod \u001b[39m=\u001b[39m sys\u001b[39m.\u001b[39mmodules[module_str]\n\u001b[0;32m     93\u001b[0m     \u001b[39mif\u001b[39;00m \u001b[39mself\u001b[39m\u001b[39m.\u001b[39m_call_load_ipython_extension(mod):\n",
      "File \u001b[1;32mc:\\Users\\aleks\\anaconda3\\Lib\\importlib\\__init__.py:126\u001b[0m, in \u001b[0;36mimport_module\u001b[1;34m(name, package)\u001b[0m\n\u001b[0;32m    124\u001b[0m             \u001b[39mbreak\u001b[39;00m\n\u001b[0;32m    125\u001b[0m         level \u001b[39m+\u001b[39m\u001b[39m=\u001b[39m \u001b[39m1\u001b[39m\n\u001b[1;32m--> 126\u001b[0m \u001b[39mreturn\u001b[39;00m _bootstrap\u001b[39m.\u001b[39m_gcd_import(name[level:], package, level)\n",
      "File \u001b[1;32m<frozen importlib._bootstrap>:1204\u001b[0m, in \u001b[0;36m_gcd_import\u001b[1;34m(name, package, level)\u001b[0m\n",
      "File \u001b[1;32m<frozen importlib._bootstrap>:1176\u001b[0m, in \u001b[0;36m_find_and_load\u001b[1;34m(name, import_)\u001b[0m\n",
      "File \u001b[1;32m<frozen importlib._bootstrap>:1140\u001b[0m, in \u001b[0;36m_find_and_load_unlocked\u001b[1;34m(name, import_)\u001b[0m\n",
      "\u001b[1;31mModuleNotFoundError\u001b[0m: No module named 'tensorboard'"
     ]
    }
   ],
   "source": [
    "%load_ext tensorboard"
   ]
  }
 ],
 "metadata": {
  "kernelspec": {
   "display_name": "base",
   "language": "python",
   "name": "python3"
  },
  "language_info": {
   "codemirror_mode": {
    "name": "ipython",
    "version": 3
   },
   "file_extension": ".py",
   "mimetype": "text/x-python",
   "name": "python",
   "nbconvert_exporter": "python",
   "pygments_lexer": "ipython3",
   "version": "3.11.5"
  }
 },
 "nbformat": 4,
 "nbformat_minor": 2
}
