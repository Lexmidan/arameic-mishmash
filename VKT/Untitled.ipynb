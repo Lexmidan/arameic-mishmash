{
 "cells": [
  {
   "cell_type": "code",
   "execution_count": 1,
   "id": "d6f74d4d-4071-43c7-a105-d6700bba7660",
   "metadata": {},
   "outputs": [],
   "source": [
    "import numpy as np"
   ]
  },
  {
   "cell_type": "code",
   "execution_count": 2,
   "id": "e53021c4-9bbe-4e41-bdd8-26614f998cf6",
   "metadata": {},
   "outputs": [],
   "source": [
    "x=13223"
   ]
  },
  {
   "cell_type": "code",
   "execution_count": 3,
   "id": "97071192-5054-412c-bb41-fb5b1ffd2de3",
   "metadata": {},
   "outputs": [],
   "source": [
    "y=1233\n",
    "z=34\n",
    "h=\n"
   ]
  },
  {
   "cell_type": "code",
   "execution_count": null,
   "id": "e5b2802f-76a3-4659-a476-6bf761c208c9",
   "metadata": {},
   "outputs": [],
   "source": []
  }
 ],
 "metadata": {
  "kernelspec": {
   "display_name": "Python 3 (ipykernel)",
   "language": "python",
   "name": "python3"
  },
  "language_info": {
   "codemirror_mode": {
    "name": "ipython",
    "version": 3
   },
   "file_extension": ".py",
   "mimetype": "text/x-python",
   "name": "python",
   "nbconvert_exporter": "python",
   "pygments_lexer": "ipython3",
   "version": "3.9.13"
  }
 },
 "nbformat": 4,
 "nbformat_minor": 5
}
