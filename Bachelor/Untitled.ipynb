{
 "cells": [
  {
   "cell_type": "code",
   "execution_count": 1,
   "id": "454ece49",
   "metadata": {},
   "outputs": [],
   "source": [
    "import numpy as np\n",
    "from scipy.optimize import curve_fit\n",
    "import pandas as pd\n",
    "from scipy.interpolate import CubicSpline\n",
    "import sys\n",
    "xmin = 0.01; xmax = 0.19; Npoints = 40000; step = 110\n",
    "# Default kernel size is 100 microns\n",
    "width = 100e-4\n",
    "#!!!\n",
    "def impdata(filename):\n",
    "    path=f'https://raw.githubusercontent.com/homijan/ML-student-projects/intro-ab/students/bogdaale/gd-profiles/{filename}'\n",
    "    #path = f'gd-profiles/{filename}'\n",
    "    return path\n",
    "#!!!\n",
    "\n",
    "def getsub(f, x, xref):\n",
    "    f_cs = CubicSpline(x, f, extrapolate=True)\n",
    "    evalf = f_cs(xref)\n",
    "    # Floor the values\n",
    "    scale = 1e-4\n",
    "    evalf[evalf < scale * max(evalf)] = scale * max(evalf)\n",
    "    return evalf\n",
    "\n",
    "x_Te, Te = np.loadtxt(impdata('Te_gdhohlraum_cm_10ps_TekeV_interp.txt'), usecols=(0, 1), unpack=True)\n",
    "x_ne, ne = np.loadtxt(impdata('ne_gdhohlraum_cm_ne1e20cm3_interp.txt'), usecols=(0, 1), unpack=True)\n",
    "x_Zbar, Zbar = np.loadtxt(impdata('Zbar_gdhohlraum_cm_Z_interp.txt'), usecols=(0, 1), unpack=True)\n",
    "x_Qimpact, Qimpact = np.loadtxt(impdata('Q_gdhohlraum_microns_10ps_IMPACTWcm2.txt'), usecols=(0, 1), unpack=True)\n",
    "# changing units um->cm\n",
    "x_Qimpact/=1e4\n",
    "\n",
    "# In order to include Kn\n",
    "x_Qc7bBGK, Qc7bBGK, Knx = np.loadtxt(impdata('Q_gdhohlraum_cm_10ps_c7b-bgk-Wcm2-clogCHIC.txt'), comments='#', delimiter=', ', usecols=(0, 8, 6), unpack=True)\n",
    "xref = np.linspace(xmin, xmax, Npoints)\n",
    "T = getsub(Te, x_Te, xref)\n",
    "n = getsub(ne, x_ne, xref)\n",
    "Z = getsub(Zbar, x_Zbar, xref)\n",
    "Qimp = getsub(Qimpact, x_Qimpact, xref)\n",
    "# In order to include Kn\n",
    "absKnx = -Knx\n",
    "Kn = getsub(absKnx, x_Qc7bBGK, xref)\n",
    "\n",
    "#calculating Te gradient\n",
    "gradT=np.gradient(T, xref)\n",
    "\n",
    "\n",
    "\n",
    "path = './'\n",
    "data_scaling=pd.DataFrame(index=['mean', 'std'], columns=['T', 'gradT', 'Z', 'n', 'Kn', 'Q', 'beta']) #will contain mean values and std\n",
    "scaled_data=pd.DataFrame([T, gradT, Z, n, Kn, Qimp], index=['T', 'gradT', 'Z', 'n', 'Kn', 'Q']).T \n",
    "# ^^^ All data of which I want to find mean and std \n",
    "for val in data_scaling.columns:\n",
    "    # TODO: add beta data to scaled_data dataframe\n",
    "    if (val == 'beta'):\n",
    "        data_scaling[val]['mean'] = 0.0\n",
    "        data_scaling[val]['std'] = 1.0\n",
    "    else:\n",
    "        data_scaling[val]['mean']=scaled_data[val].mean()\n",
    "        data_scaling[val]['std']=scaled_data[val].std()\n",
    "for col in scaled_data.columns:\n",
    "    scaled_data[col]=(scaled_data[col]-data_scaling[col].loc['mean'])/data_scaling[col].loc['std']\n",
    "data_scaling.to_csv(f'{path}/data_scaling.csv')\n",
    "x=xref"
   ]
  },
  {
   "cell_type": "code",
   "execution_count": 2,
   "id": "efe3e3d2",
   "metadata": {},
   "outputs": [],
   "source": [
    "T, gradT= scaled_data['T'], scaled_data['gradT'], \n",
    "Z, n= scaled_data['Z'], scaled_data['n'],\n",
    "Kn, Qimp = scaled_data['Kn'], scaled_data['Q'], \n",
    "T_mean=data_scaling['T']['mean'], \n",
    "T_std=data_scaling['T']['std']"
   ]
  },
  {
   "cell_type": "code",
   "execution_count": 26,
   "id": "a0080a7d",
   "metadata": {},
   "outputs": [
    {
     "name": "stdout",
     "output_type": "stream",
     "text": [
      "Row length is 128 (each of x, Z, T, gradT, Kn, n 21 points plus Q and beta)\n",
      "Number of rows 37775\n",
      "We're done with 0/37775 points\n",
      "We're done with 500/37775 points\n",
      "We're done with 1000/37775 points\n",
      "We're done with 1500/37775 points\n",
      "We're done with 2000/37775 points\n",
      "We're done with 2500/37775 points\n"
     ]
    },
    {
     "ename": "KeyboardInterrupt",
     "evalue": "",
     "output_type": "error",
     "traceback": [
      "\u001b[1;31m---------------------------------------------------------------------------\u001b[0m",
      "\u001b[1;31mKeyboardInterrupt\u001b[0m                         Traceback (most recent call last)",
      "\u001b[1;32m~\\AppData\\Local\\Temp\\ipykernel_14824\\797750367.py\u001b[0m in \u001b[0;36m<module>\u001b[1;34m\u001b[0m\n\u001b[0;32m     30\u001b[0m         \u001b[0mx_c\u001b[0m\u001b[1;33m=\u001b[0m\u001b[0mnp\u001b[0m\u001b[1;33m.\u001b[0m\u001b[0mappend\u001b[0m\u001b[1;33m(\u001b[0m\u001b[0mx_c\u001b[0m\u001b[1;33m,\u001b[0m \u001b[0mx\u001b[0m\u001b[1;33m[\u001b[0m\u001b[0mrad\u001b[0m\u001b[1;33m+\u001b[0m\u001b[0mind\u001b[0m\u001b[1;33m]\u001b[0m\u001b[1;33m)\u001b[0m                     \u001b[1;31m#will be used as index column for Qdata\u001b[0m\u001b[1;33m\u001b[0m\u001b[1;33m\u001b[0m\u001b[0m\n\u001b[0;32m     31\u001b[0m         \u001b[1;31m# TODO: what is the appropriate scaling here? Global (max(x)-min(x)) might be to large!\u001b[0m\u001b[1;33m\u001b[0m\u001b[1;33m\u001b[0m\u001b[0m\n\u001b[1;32m---> 32\u001b[1;33m         \u001b[0mdatapoint\u001b[0m\u001b[1;33m=\u001b[0m\u001b[0mnp\u001b[0m\u001b[1;33m.\u001b[0m\u001b[0mappend\u001b[0m\u001b[1;33m(\u001b[0m\u001b[0mdatapoint\u001b[0m\u001b[1;33m,\u001b[0m \u001b[1;33m(\u001b[0m\u001b[0mx\u001b[0m\u001b[1;33m[\u001b[0m\u001b[0mind\u001b[0m\u001b[1;33m:\u001b[0m\u001b[0mind\u001b[0m\u001b[1;33m+\u001b[0m\u001b[1;36m2\u001b[0m\u001b[1;33m*\u001b[0m\u001b[0mrad\u001b[0m\u001b[1;33m:\u001b[0m\u001b[0mstep\u001b[0m\u001b[1;33m]\u001b[0m \u001b[1;33m-\u001b[0m \u001b[0mx\u001b[0m\u001b[1;33m[\u001b[0m\u001b[0mrad\u001b[0m\u001b[1;33m+\u001b[0m\u001b[0mind\u001b[0m\u001b[1;33m]\u001b[0m\u001b[1;33m)\u001b[0m \u001b[1;33m/\u001b[0m \u001b[1;33m(\u001b[0m\u001b[0mmax\u001b[0m\u001b[1;33m(\u001b[0m\u001b[0mx\u001b[0m\u001b[1;33m)\u001b[0m \u001b[1;33m-\u001b[0m \u001b[0mmin\u001b[0m\u001b[1;33m(\u001b[0m\u001b[0mx\u001b[0m\u001b[1;33m)\u001b[0m\u001b[1;33m)\u001b[0m\u001b[1;33m)\u001b[0m \u001b[1;31m#append all point distances in xmin-xmax\u001b[0m\u001b[1;33m\u001b[0m\u001b[1;33m\u001b[0m\u001b[0m\n\u001b[0m\u001b[0;32m     33\u001b[0m         \u001b[0mdatapoint\u001b[0m\u001b[1;33m=\u001b[0m\u001b[0mnp\u001b[0m\u001b[1;33m.\u001b[0m\u001b[0mappend\u001b[0m\u001b[1;33m(\u001b[0m\u001b[0mdatapoint\u001b[0m\u001b[1;33m,\u001b[0m \u001b[0mQimp\u001b[0m\u001b[1;33m[\u001b[0m\u001b[0mind\u001b[0m\u001b[1;33m+\u001b[0m\u001b[0mrad\u001b[0m\u001b[1;33m]\u001b[0m\u001b[1;33m)\u001b[0m \u001b[1;31m#append Qimpact in x_c\u001b[0m\u001b[1;33m\u001b[0m\u001b[1;33m\u001b[0m\u001b[0m\n\u001b[0;32m     34\u001b[0m         \u001b[1;31m# Find the self-similar nonlinearity of temperature profile given by\u001b[0m\u001b[1;33m\u001b[0m\u001b[1;33m\u001b[0m\u001b[0m\n",
      "\u001b[1;31mKeyboardInterrupt\u001b[0m: "
     ]
    }
   ],
   "source": [
    "rad=0     #finds out how many points fits in (!)radius(!) range\n",
    "s=0\n",
    "while s<=width/2:\n",
    "    s=xref[rad]-xref[0]\n",
    "    rad+=1\n",
    "\n",
    "numPoints = len(Z[0:2*rad:step]) #int(2*rad/step)+1 # the plus one because of integer evaluation\n",
    "if (numPoints % 2 == 0):\n",
    "    print(f'Number of points per field {numPoints} is not odd.')\n",
    "    print('Change step or width.')\n",
    "    sys.exit()\n",
    "numFields = 6 # x, Z, T, gradT, Kn, n\n",
    "Qdata=np.empty((0,numFields*numPoints+2), int) #2 * rad \"#of points in interval\" * 5 \"for each phsy quantity\" + 2 \"for Q and beta\"\n",
    "print(f'Row length is {numFields*numPoints+2} (each of x, Z, T, gradT, Kn, n {numPoints} points plus Q and beta)')\n",
    "print(f'Number of rows {len(x)-2*rad+1}')\n",
    "\n",
    "x_c=np.array([]) #saves coordinate of center to index result array \n",
    "\n",
    "for ind, _ in enumerate(x):  #x_min=x[ind], x_max=x[ind+2*rad], x_c=x[ind+rad]\n",
    "    datapoint=np.array([])          \n",
    "    if ind+2*rad>=len(x)+1:\n",
    "        break    \n",
    "\n",
    "    else:\n",
    "        datapoint=np.append(datapoint, T[ind:ind+2*rad:step]) #append all Te in xmin-xmax\n",
    "        datapoint=np.append(datapoint, gradT[ind:ind+2*rad:step]) #append all gradTe in xmin-xmax\n",
    "        datapoint=np.append(datapoint, Z[ind:ind+2*rad:step]) #append all Zbar in xmin-xmax\n",
    "        datapoint=np.append(datapoint, n[ind:ind+2*rad:step]) #append all gradTe in xmin-xmax\n",
    "        datapoint=np.append(datapoint, Kn[ind:ind+2*rad:step]) #append all Knudsen number in xmin-xmax\n",
    "        x_c=np.append(x_c, x[rad+ind])                     #will be used as index column for Qdata\n",
    "        # TODO: what is the appropriate scaling here? Global (max(x)-min(x)) might be to large!\n",
    "        datapoint=np.append(datapoint, (x[ind:ind+2*rad:step] - x[rad+ind]) / (max(x) - min(x))) #append all point distances in xmin-xmax            \n",
    "        datapoint=np.append(datapoint, Qimp[ind+rad]) #append Qimpact in x_c\n",
    "        # Find the self-similar nonlinearity of temperature profile given by\n",
    "        # T = c * (1 - b * x^2)^(1/beta),\n",
    "        # where c stands for Tc, b for 1/xf^2 and beta = n in Zeldovich\n",
    "        # Evaluate effective heat flux (logistic weighting of Qloc and Qfs) \n",
    "        # TODO: find how to pass x0, T0, x1, T1 as input (not global as now)\n",
    "        xpoints = x[ind:ind+2*rad:step]\n",
    "        Tpoints = T[ind:ind+2*rad:step].values * T_std + T_mean\n",
    "        x0 = xpoints[0]; T0 = Tpoints[0]\n",
    "        x1 = xpoints[len(xpoints)-1]; T1 = Tpoints[len(Tpoints)-1]\n",
    "        par, cov = curve_fit(Tselfsimilar, xpoints, Tpoints, maxfev = 1000)\n",
    "        # Visualize the fitting capability\n",
    "        #plt.plot(xpoints, Tpoints, 'k-')\n",
    "        #plt.plot(xpoints, Tselfsimilar(xpoints, par[0]), 'r--')\n",
    "        #plt.show()\n",
    "        #standev=np.sqrt(np.diag(cov))\n",
    "        #print(f'xc {x[rad+ind]}, par {par}, Tavg {0.5*(T0 + T1)}')\n",
    "        # TODO: fix this\n",
    "        if (x[rad+ind]<0.15):\n",
    "            par[0] = 2.5\n",
    "        datapoint=np.append(datapoint, max(0.0, min(par[0], 5./2.))) #append nonlinearity of T in x_c bounded by (0,5/2)     \n",
    "        # Add datapoint\n",
    "        Qdata=np.append(Qdata,[datapoint], axis=0)\n",
    "\n",
    "        if ind%500==0:\n",
    "            print(f\"We're done with {ind}/{len(x)-2*rad+1} points\") \n",
    "                #Naming of columns \n",
    "column_names=[]\n",
    "for _,name in enumerate(['T', 'gradT', 'Z', 'n', 'Kn', 'x']):\n",
    "    for i in range(numPoints):\n",
    "        column_names=np.append(column_names,f'{name}_{i}')\n",
    "column_names=np.append(column_names,['Q', 'beta'])\n",
    "\n",
    "df_Qdata=pd.DataFrame(Qdata, columns=column_names, index=x_c)\n",
    "print('Done')"
   ]
  },
  {
   "cell_type": "code",
   "execution_count": null,
   "id": "06f986b3",
   "metadata": {},
   "outputs": [],
   "source": [
    "\n",
    "rad=0     #finds out how many points fits in (!)radius(!) range\n",
    "s=0\n",
    "while s<=width/2:\n",
    "    s=xref[rad]-xref[0]\n",
    "    rad+=1\n",
    "\n",
    "numPoints = len(Z[0:2*rad:step]) #int(2*rad/step)+1 # the plus one because of integer evaluation\n",
    "if (numPoints % 2 == 0):\n",
    "    print(f'Number of points per field {numPoints} is not odd.')\n",
    "    print('Change step or width.')\n",
    "    sys.exit()\n",
    "numFields = 6 # x, Z, T, gradT, Kn, n\n",
    "Qdata=np.empty((0,numFields*numPoints+2), int) #2 * rad \"#of points in interval\" * 5 \"for each phsy quantity\" + 2 \"for Q and beta\"\n",
    "print(f'Row length is {numFields*numPoints+2} (each of x, Z, T, gradT, Kn, n {numPoints} points plus Q and beta)')\n",
    "print(f'Number of rows {len(x)-2*rad+1}')\n",
    "datapoint=pd.DataFrame([T[0:0+2*rad:step],gradT[0:0+2*rad:step],Z[0:0+2*rad:step],n[0:0+2*rad:step],Kn[0:0+2*rad:step]],columns=['T','gradT', 'Z', 'n', 'Kn'])\n",
    "datapoint['T']=T[0:0+2*rad:step] #append all Te in xmin-xmax\n",
    "datapoint=np.append(datapoint, gradT[0:0+2*rad:step]) #append all gradTe in xmin-xmax\n",
    "datapoint=np.append(datapoint, Z[0:0+2*rad:step]) #append all Zbar in xmin-xmax\n",
    "datapoint=np.append(datapoint, n[0:0+2*rad:step]) #append all gradTe in xmin-xmax\n",
    "datapoint=np.append(datapoint, Kn[0:0+2*rad:step]) #append all Knudsen number in xmin-xmax\n",
    "x_c=np.append(x_c, x[rad+ind])                     #will be used as index column for Qdata\n",
    "# TODO: what is the appropriate scaling here? Global (max(x)-min(x)) might be to large!\n",
    "datapoint=np.append(datapoint, (x[ind:ind+2*rad:step] - x[rad+ind]) / (max(x) - min(x))) #append all point distances in xmin-xmax            \n",
    "datapoint=np.append(datapoint, Qimp[ind+rad]) #append Qimpact in x_c\n",
    "for ind, _ in enumerate(x):  #x_min=x[ind], x_max=x[ind+2*rad], x_c=x[ind+rad]\n",
    "\n",
    "    if ind+2*rad>=len(x)+1:\n",
    "        break    \n",
    "##                                                      =params.values.flatten('F')\n",
    "    else:\n",
    "    datapoint\n",
    "        # Find the self-similar nonlinearity of temperature profile given by\n",
    "        # T = c * (1 - b * x^2)^(1/beta),\n",
    "        # where c stands for Tc, b for 1/xf^2 and beta = n in Zeldovich\n",
    "        # Evaluate effective heat flux (logistic weighting of Qloc and Qfs) \n",
    "        # TODO: find how to pass x0, T0, x1, T1 as input (not global as now)"
   ]
  },
  {
   "cell_type": "code",
   "execution_count": null,
   "id": "c9ea5173",
   "metadata": {},
   "outputs": [],
   "source": [
    "\n",
    "scaled_Qdata, numPoints=get_data(xref, scaled_data['T'], scaled_data['gradT'], \n",
    "                                 scaled_data['Z'], scaled_data['n'],\n",
    "                                 scaled_data['Kn'], scaled_data['Q'], \n",
    "                                 width, step, \n",
    "                                 data_scaling['T']['mean'], \n",
    "                                 data_scaling['T']['std'])"
   ]
  },
  {
   "cell_type": "code",
   "execution_count": 3,
   "id": "e3315b45",
   "metadata": {},
   "outputs": [
    {
     "ename": "NameError",
     "evalue": "name 'rad' is not defined",
     "output_type": "error",
     "traceback": [
      "\u001b[1;31m---------------------------------------------------------------------------\u001b[0m",
      "\u001b[1;31mNameError\u001b[0m                                 Traceback (most recent call last)",
      "\u001b[1;32m~\\AppData\\Local\\Temp\\ipykernel_20360\\3585496006.py\u001b[0m in \u001b[0;36m<module>\u001b[1;34m\u001b[0m\n\u001b[0;32m      1\u001b[0m \u001b[0mdatapoint\u001b[0m\u001b[1;33m=\u001b[0m\u001b[0mpd\u001b[0m\u001b[1;33m.\u001b[0m\u001b[0mDataFrame\u001b[0m\u001b[1;33m(\u001b[0m\u001b[0mcolumns\u001b[0m\u001b[1;33m=\u001b[0m\u001b[1;33m[\u001b[0m\u001b[1;34m'T'\u001b[0m\u001b[1;33m,\u001b[0m\u001b[1;34m'gradT'\u001b[0m\u001b[1;33m,\u001b[0m \u001b[1;34m'Z'\u001b[0m\u001b[1;33m,\u001b[0m \u001b[1;34m'n'\u001b[0m\u001b[1;33m,\u001b[0m \u001b[1;34m'Kn'\u001b[0m\u001b[1;33m]\u001b[0m\u001b[1;33m)\u001b[0m\u001b[1;33m\u001b[0m\u001b[1;33m\u001b[0m\u001b[0m\n\u001b[1;32m----> 2\u001b[1;33m \u001b[0mdatapoint\u001b[0m\u001b[1;33m[\u001b[0m\u001b[1;34m'T'\u001b[0m\u001b[1;33m]\u001b[0m\u001b[1;33m=\u001b[0m \u001b[0mT\u001b[0m\u001b[1;33m[\u001b[0m\u001b[1;36m0\u001b[0m\u001b[1;33m:\u001b[0m\u001b[1;36m0\u001b[0m\u001b[1;33m+\u001b[0m\u001b[1;36m2\u001b[0m\u001b[1;33m*\u001b[0m\u001b[0mrad\u001b[0m\u001b[1;33m:\u001b[0m\u001b[0mstep\u001b[0m\u001b[1;33m]\u001b[0m\u001b[1;33m\u001b[0m\u001b[1;33m\u001b[0m\u001b[0m\n\u001b[0m\u001b[0;32m      3\u001b[0m \u001b[0mdatapoint\u001b[0m\u001b[1;33m[\u001b[0m\u001b[1;34m'gradT'\u001b[0m\u001b[1;33m]\u001b[0m\u001b[1;33m=\u001b[0m\u001b[0mgradT\u001b[0m\u001b[1;33m[\u001b[0m\u001b[1;36m0\u001b[0m\u001b[1;33m:\u001b[0m\u001b[1;36m0\u001b[0m\u001b[1;33m+\u001b[0m\u001b[1;36m2\u001b[0m\u001b[1;33m*\u001b[0m\u001b[0mrad\u001b[0m\u001b[1;33m:\u001b[0m\u001b[0mstep\u001b[0m\u001b[1;33m]\u001b[0m\u001b[1;33m\u001b[0m\u001b[1;33m\u001b[0m\u001b[0m\n\u001b[0;32m      4\u001b[0m \u001b[0mdatapoint\u001b[0m\u001b[1;33m[\u001b[0m\u001b[1;34m'Z'\u001b[0m\u001b[1;33m]\u001b[0m\u001b[1;33m=\u001b[0m\u001b[0mZ\u001b[0m\u001b[1;33m[\u001b[0m\u001b[1;36m0\u001b[0m\u001b[1;33m:\u001b[0m\u001b[1;36m0\u001b[0m\u001b[1;33m+\u001b[0m\u001b[1;36m2\u001b[0m\u001b[1;33m*\u001b[0m\u001b[0mrad\u001b[0m\u001b[1;33m:\u001b[0m\u001b[0mstep\u001b[0m\u001b[1;33m]\u001b[0m\u001b[1;33m\u001b[0m\u001b[1;33m\u001b[0m\u001b[0m\n\u001b[0;32m      5\u001b[0m \u001b[0mdatapoint\u001b[0m\u001b[1;33m[\u001b[0m\u001b[1;34m'n'\u001b[0m\u001b[1;33m]\u001b[0m\u001b[1;33m=\u001b[0m\u001b[0mn\u001b[0m\u001b[1;33m[\u001b[0m\u001b[1;36m0\u001b[0m\u001b[1;33m:\u001b[0m\u001b[1;36m0\u001b[0m\u001b[1;33m+\u001b[0m\u001b[1;36m2\u001b[0m\u001b[1;33m*\u001b[0m\u001b[0mrad\u001b[0m\u001b[1;33m:\u001b[0m\u001b[0mstep\u001b[0m\u001b[1;33m]\u001b[0m\u001b[1;33m\u001b[0m\u001b[1;33m\u001b[0m\u001b[0m\n",
      "\u001b[1;31mNameError\u001b[0m: name 'rad' is not defined"
     ]
    }
   ],
   "source": [
    "datapoint=pd.DataFrame(columns=['T','gradT', 'Z', 'n', 'Kn'])\n",
    "datapoint['T']= T[:2*rad:step]\n",
    "datapoint['gradT']=gradT[:2*rad:step]\n",
    "datapoint['Z']=Z[:2*rad:step]\n",
    "datapoint['n']=n[:2*rad:step]\n",
    "datapoint['Kn']=Kn[:2*rad:step]\n"
   ]
  },
  {
   "cell_type": "code",
   "execution_count": 52,
   "id": "c4b370ae",
   "metadata": {},
   "outputs": [],
   "source": [
    "datapoint=pd.DataFrame(columns=['T','gradT', 'Z', 'n', 'Kn'])\n",
    "datapoint['T']= T[:2*rad:step]\n",
    "datapoint['gradT']=gradT[:2*rad:step]\n",
    "datapoint['Z']=Z[:2*rad:step]\n",
    "datapoint['n']=n[:2*rad:step]\n",
    "datapoint['Kn']=Kn[:2*rad:step]\n",
    "\n",
    "datapoint=datapoint.values.flatten('F')"
   ]
  },
  {
   "cell_type": "code",
   "execution_count": 53,
   "id": "fabe385a",
   "metadata": {},
   "outputs": [
    {
     "data": {
      "text/plain": [
       "array([ 0.50184975,  0.50172719,  0.50154898,  0.50132906,  0.50107091,\n",
       "        0.50076914,  0.50041367,  0.49999196,  0.4994905 ,  0.49889751,\n",
       "        0.49821115,  0.49743637,  0.49657513,  0.49562991,  0.49460437,\n",
       "        0.49350216,  0.49232681,  0.49108064,  0.48976489,  0.48838236,\n",
       "        0.48693475,  0.32162853,  0.32153248,  0.32143082,  0.32132299,\n",
       "        0.32120897,  0.32108877,  0.32096237,  0.32082957,  0.32069032,\n",
       "        0.32054463,  0.32039248,  0.32023369,  0.32006762,  0.31989421,\n",
       "        0.31971347,  0.3195254 ,  0.31933307,  0.31913999,  0.31894616,\n",
       "        0.31875157,  0.31855642, -0.39093568, -0.39093562, -0.39093561,\n",
       "       -0.39093563, -0.39093568, -0.39093574, -0.39093579, -0.39093586,\n",
       "       -0.39093594, -0.390936  , -0.39093605, -0.39093611, -0.39093617,\n",
       "       -0.39093622, -0.3909363 , -0.39093637, -0.39093643, -0.39093652,\n",
       "       -0.39093661, -0.39093669, -0.39093678, -0.3876272 , -0.38769144,\n",
       "       -0.38759004, -0.3873523 , -0.38700754, -0.38658493, -0.38611414,\n",
       "       -0.38562342, -0.38514418, -0.38470366, -0.38427456, -0.3838099 ,\n",
       "       -0.38330821, -0.38277568, -0.38221453, -0.38162876, -0.38102095,\n",
       "       -0.38039634, -0.37975484, -0.37906799, -0.37831839, -0.408955  ,\n",
       "       -0.38073682, -0.35063892, -0.32450423, -0.29449924, -0.24400027,\n",
       "       -0.10555754,  0.46502895,  0.2866726 , -0.4087712 ,         nan,\n",
       "               nan,         nan,         nan,         nan,         nan,\n",
       "               nan,         nan,         nan,         nan,         nan])"
      ]
     },
     "execution_count": 53,
     "metadata": {},
     "output_type": "execute_result"
    }
   ],
   "source": [
    "datapoint"
   ]
  },
  {
   "cell_type": "code",
   "execution_count": 54,
   "id": "1bbac011",
   "metadata": {},
   "outputs": [
    {
     "data": {
      "text/plain": [
       "0       -0.408955\n",
       "1       -0.408955\n",
       "2       -0.408955\n",
       "3       -0.408955\n",
       "4       -0.408955\n",
       "           ...   \n",
       "39995         NaN\n",
       "39996         NaN\n",
       "39997         NaN\n",
       "39998         NaN\n",
       "39999         NaN\n",
       "Name: Kn, Length: 40000, dtype: float64"
      ]
     },
     "execution_count": 54,
     "metadata": {},
     "output_type": "execute_result"
    }
   ],
   "source": [
    "Kn"
   ]
  },
  {
   "cell_type": "code",
   "execution_count": 16,
   "id": "8f815b48",
   "metadata": {},
   "outputs": [
    {
     "data": {
      "text/plain": [
       "0        0.321629\n",
       "1        0.321628\n",
       "2        0.321627\n",
       "3        0.321626\n",
       "4        0.321626\n",
       "           ...   \n",
       "39995    0.318031\n",
       "39996    0.318046\n",
       "39997    0.318061\n",
       "39998    0.318076\n",
       "39999    0.318084\n",
       "Name: gradT, Length: 40000, dtype: float64"
      ]
     },
     "execution_count": 16,
     "metadata": {},
     "output_type": "execute_result"
    }
   ],
   "source": [
    "gradT"
   ]
  },
  {
   "cell_type": "code",
   "execution_count": 18,
   "id": "ac5a4c5c",
   "metadata": {},
   "outputs": [
    {
     "ename": "AttributeError",
     "evalue": "module 'numpy' has no attribute 'constants'",
     "output_type": "error",
     "traceback": [
      "\u001b[1;31m---------------------------------------------------------------------------\u001b[0m",
      "\u001b[1;31mAttributeError\u001b[0m                            Traceback (most recent call last)",
      "\u001b[1;32m~\\AppData\\Local\\Temp\\ipykernel_20360\\4135729162.py\u001b[0m in \u001b[0;36m<module>\u001b[1;34m\u001b[0m\n\u001b[1;32m----> 1\u001b[1;33m \u001b[0mnp\u001b[0m\u001b[1;33m.\u001b[0m\u001b[0mconstants\u001b[0m\u001b[1;33m\u001b[0m\u001b[1;33m\u001b[0m\u001b[0m\n\u001b[0m",
      "\u001b[1;32m~\\anaconda3\\lib\\site-packages\\numpy\\__init__.py\u001b[0m in \u001b[0;36m__getattr__\u001b[1;34m(attr)\u001b[0m\n\u001b[0;32m    313\u001b[0m             \u001b[1;32mreturn\u001b[0m \u001b[0mTester\u001b[0m\u001b[1;33m\u001b[0m\u001b[1;33m\u001b[0m\u001b[0m\n\u001b[0;32m    314\u001b[0m \u001b[1;33m\u001b[0m\u001b[0m\n\u001b[1;32m--> 315\u001b[1;33m         raise AttributeError(\"module {!r} has no attribute \"\n\u001b[0m\u001b[0;32m    316\u001b[0m                              \"{!r}\".format(__name__, attr))\n\u001b[0;32m    317\u001b[0m \u001b[1;33m\u001b[0m\u001b[0m\n",
      "\u001b[1;31mAttributeError\u001b[0m: module 'numpy' has no attribute 'constants'"
     ]
    }
   ],
   "source": [
    "np.constants"
   ]
  },
  {
   "cell_type": "code",
   "execution_count": 20,
   "id": "20c224ac",
   "metadata": {},
   "outputs": [],
   "source": [
    "from scipy import constants"
   ]
  },
  {
   "cell_type": "code",
   "execution_count": 27,
   "id": "530e3a09",
   "metadata": {},
   "outputs": [
    {
     "name": "stdout",
     "output_type": "stream",
     "text": [
      "0.000000000000000000000013806490000000000921521605582037933206303448938698959216753842614566760715888449340127408504486083984375000000000000000000000000000000000000000000000000000000000000000000000000000000000000000000000000000000000000000000000000000000000000000000000000000000000000000000000000000000000000000000000000000000000000000000000000000000000000000000000000000000000000000000000000000000000000000000000000000000000000000000000000000000000000000000000000000000000000000000000000000000000000000000000000000000000000000000000000000000000000000000000000000000000000000000000000000000000000000000000000000000000000000000000000000000000000000000000000000000000000000000000000000000000000000000000000000000000000000000000000000000000000000000000000000000000000000000000000000000000000000000000000000000000000000000000000000000000000000000000000000000000000000000000000000000000000000000000000000000000000000000000000000000000000000000000000000000000000000000000000000000000000000000000000000000000000000000000000000000000000000000000000000000000000000000000000000000000000000000000000000000000000000000000000000000000000000000000000000000000000000000000000000000000000000000000000000000000000000000000000000000000000000000000000000000000000000000000000000000000000000000000000000000000000000000000000000000000000000000000000000000000000000000000000000000000000000000000000000000000000000000000000000000000000000000000000000000000000000000000000000000000000000000000000000000000000000000000000000000\n"
     ]
    }
   ],
   "source": [
    "print('{0:.1500f}'.format(constants.Boltzmann))"
   ]
  },
  {
   "cell_type": "code",
   "execution_count": 28,
   "id": "fe118559",
   "metadata": {},
   "outputs": [],
   "source": [
    "a=0.000000000000000000000013806490000000000921521605582037933206303448938698959216753842614566760715888449340127408504486083984375"
   ]
  },
  {
   "cell_type": "code",
   "execution_count": 29,
   "id": "7ef33994",
   "metadata": {},
   "outputs": [
    {
     "data": {
      "text/plain": [
       "1.380649e-23"
      ]
     },
     "execution_count": 29,
     "metadata": {},
     "output_type": "execute_result"
    }
   ],
   "source": [
    "a"
   ]
  },
  {
   "cell_type": "code",
   "execution_count": null,
   "id": "37c55463",
   "metadata": {},
   "outputs": [],
   "source": []
  }
 ],
 "metadata": {
  "kernelspec": {
   "display_name": "Python 3 (ipykernel)",
   "language": "python",
   "name": "python3"
  },
  "language_info": {
   "codemirror_mode": {
    "name": "ipython",
    "version": 3
   },
   "file_extension": ".py",
   "mimetype": "text/x-python",
   "name": "python",
   "nbconvert_exporter": "python",
   "pygments_lexer": "ipython3",
   "version": "3.9.13"
  }
 },
 "nbformat": 4,
 "nbformat_minor": 5
}
