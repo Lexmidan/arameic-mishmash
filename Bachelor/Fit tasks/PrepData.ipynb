{
 "cells": [
  {
   "cell_type": "markdown",
   "id": "acb5dd02",
   "metadata": {},
   "source": [
    "# <center><h2><b>Q_impact project</b></h2></center>\n",
    "\n",
    "\n",
    "\\begin{equation}\n",
    "      q = - \\frac{\\alpha_C }{ Z} \\frac{Z + 0.24}{Z + 4.2} T^{\\alpha_N} \\frac{\\partial T}{\\partial x}\n",
    "\\end{equation}\n",
    "\n",
    "**Configuration of the fit:**"
   ]
  },
  {
   "cell_type": "code",
   "execution_count": 1,
   "id": "ccd2a4d9-aa95-4cf9-946f-efa34abc61e1",
   "metadata": {},
   "outputs": [],
   "source": [
    "N=20#Number of domains\n",
    "fitoption=5 #Options of fitting:\n",
    "            #1 - constant alphaC, alphaN = 2.5\n",
    "            #2 - monomic alphaC, alphaN = 2.5\n",
    "            #3 - constant alphaC, constant alphaN\n",
    "            #4 - monomic alphaC, constant alphaN \n",
    "            #5 - Quadratic alphaC, alphaN = 2.5\n",
    "            #6 - monomic alphaC, monomic alphaN\n",
    "xmin = -1  \n",
    "xmax = 1"
   ]
  },
  {
   "cell_type": "code",
   "execution_count": 2,
   "id": "99ec5e8f",
   "metadata": {},
   "outputs": [],
   "source": [
    "import numpy as np\n",
    "from scipy.ndimage import gaussian_filter1d\n",
    "import matplotlib as mpl\n",
    "import matplotlib.pyplot as plt\n",
    "from scipy.optimize import curve_fit\n",
    "import pandas as pd\n",
    "from scipy.interpolate import CubicSpline\n",
    "import math\n",
    "import sys\n",
    "\n",
    "\n",
    "%matplotlib ipympl\n",
    "#!!!\n",
    "def import_from_git(filename):\n",
    "    url=f'https://raw.githubusercontent.com/homijan/ML-student-projects/intro-ab/students/bogdaale/gd-profiles/{filename}'\n",
    "    return url\n",
    "import scienceplots\n",
    "plt.style.use('science')\n",
    "path='C:/Users/aleks/Projects/arameic-mishmash/Bachelor/Data'\n",
    "#!!!\n"
   ]
  },
  {
   "cell_type": "markdown",
   "id": "46cf3630",
   "metadata": {},
   "source": [
    "**Importing data**"
   ]
  },
  {
   "cell_type": "code",
   "execution_count": 3,
   "id": "0d2fcc9c",
   "metadata": {},
   "outputs": [],
   "source": [
    "x_Te, Te_raw = np.loadtxt(import_from_git('Te_gdhohlraum_cm_10ps_TekeV_interp.txt'), usecols=(0, 1), unpack=True)\n",
    "x_ne, ne_raw = np.loadtxt(import_from_git('ne_gdhohlraum_cm_ne1e20cm3_interp.txt'), usecols=(0, 1), unpack=True)\n",
    "x_Zbar, Zbar_raw = np.loadtxt(import_from_git('Zbar_gdhohlraum_cm_Z_interp.txt'), usecols=(0, 1), unpack=True)\n",
    "\n",
    "x_Qloc, Qloc_raw = np.loadtxt(import_from_git('Q_gdhohlraum_microns_10ps_LocalWcm2.txt'), usecols=(0, 1), unpack=True)\n",
    "x_Qimpact, Qimpact_raw = np.loadtxt(import_from_git('Q_gdhohlraum_microns_10ps_IMPACTWcm2.txt'), usecols=(0, 1), unpack=True)\n",
    "x_Qsnb, Qsnb_raw = np.loadtxt(import_from_git('Q_gdhohlraum_microns_10ps_separatedsnbWcm2.txt'), usecols=(0, 1), unpack=True)\n",
    "\n",
    "x_Qc7bBGK, Qc7bBGK_raw, Knx_raw = np.loadtxt(import_from_git('Q_gdhohlraum_cm_10ps_c7b-bgk-Wcm2-clogCHIC.txt'), comments='#',\\\n",
    "                                         delimiter=',', usecols=(0, 8, 6), unpack=True)\n",
    "x_Qc7bAWBS, Qc7bAWBS_raw = np.loadtxt(import_from_git('Q_gdhohlraum_cm_10ps_c7b-awbs-Wcm2-clogCHIC.txt'), comments='#',\\\n",
    "                                      delimiter=',', usecols=(0, 8), unpack=True)\n",
    "\n",
    "# changing units um->cm\n",
    "x_Qloc/=1e4\n",
    "x_Qimpact/=1e4\n",
    "x_Qsnb/=1e4\n"
   ]
  },
  {
   "cell_type": "markdown",
   "id": "e1a2bb38",
   "metadata": {},
   "source": [
    "**Here the cubic spline interpolation is implemented** so that all values have the same x-axis"
   ]
  },
  {
   "cell_type": "code",
   "execution_count": 4,
   "id": "87bd6f23",
   "metadata": {},
   "outputs": [],
   "source": [
    "xref = x_Te[np.logical_and(x_Te > xmin, x_Te < xmax)]\n",
    "\n",
    "def getsub(f, x, xref):\n",
    "    f_cs = CubicSpline(x, f)\n",
    "    return f_cs(xref)\n",
    "\n",
    "Te = getsub(Te_raw, x_Te, xref)\n",
    "ne = getsub(ne_raw, x_ne, xref)\n",
    "Zbar = getsub(Zbar_raw, x_Zbar, xref)\n",
    "Qloc = getsub(Qloc_raw, x_Qloc, xref)\n",
    "Qimpact = getsub(Qimpact_raw, x_Qimpact, xref)\n",
    "Qsnb = getsub(Qsnb_raw, x_Qsnb, xref)\n",
    "Qc7bBGK = getsub(Qc7bBGK_raw, x_Qc7bBGK, xref)\n",
    "Knx = getsub(Knx_raw, x_Qc7bBGK, xref)\n",
    "Qc7bAWBS = getsub(Qc7bAWBS_raw, x_Qc7bAWBS, xref)"
   ]
  },
  {
   "cell_type": "markdown",
   "id": "388249c5",
   "metadata": {},
   "source": [
    "### 3-th task\n",
    "Evaluate the heat flux constant $k$ from the formula $q = -\\frac{k}{Z} \\frac{(Z + 0.24)}{ (Z + 4.2)} T^{2.5}\\frac{\\partial T}{\\partial x}$ by matching the $Q_{loc}$ profile"
   ]
  },
  {
   "cell_type": "code",
   "execution_count": 5,
   "id": "79bc1fcb-3f59-4afe-93a0-9619ae6d1912",
   "metadata": {},
   "outputs": [
    {
     "name": "stdout",
     "output_type": "stream",
     "text": [
      "Constant from Qloc profile k = 6.1480e+02 ± 3.4e-02\n"
     ]
    }
   ],
   "source": [
    "#calculating Te gradient\n",
    "gradTe=np.gradient(Te, xref)  \n",
    "#!!! 3-th task\n",
    "def fitQloc(X, k):\n",
    "    #fit function for Qloc profile\n",
    "    Z, T, gradT = X\n",
    "    q = -(k/Z)*((Z+0.24)/(Z+4.2))*T**2.5*gradT\n",
    "    return q\n",
    "par3, cov3 = curve_fit(fitQloc, (Zbar, Te, gradTe), Qloc,  maxfev = 1000)\n",
    "standev3=np.sqrt(np.diag(cov3))\n",
    "kQSH = par3[0]\n",
    "print(f'Constant from Qloc profile k = {par3[0]:.4e} ± {standev3[0]:.1e}')"
   ]
  },
  {
   "cell_type": "markdown",
   "id": "dbc4ac76",
   "metadata": {},
   "source": [
    "**Definition of fit function**"
   ]
  },
  {
   "cell_type": "code",
   "execution_count": 6,
   "id": "3de6835e",
   "metadata": {},
   "outputs": [
    {
     "data": {
      "text/html": [
       "<div>\n",
       "<style scoped>\n",
       "    .dataframe tbody tr th:only-of-type {\n",
       "        vertical-align: middle;\n",
       "    }\n",
       "\n",
       "    .dataframe tbody tr th {\n",
       "        vertical-align: top;\n",
       "    }\n",
       "\n",
       "    .dataframe thead th {\n",
       "        text-align: right;\n",
       "    }\n",
       "</style>\n",
       "<table border=\"1\" class=\"dataframe\">\n",
       "  <thead>\n",
       "    <tr style=\"text-align: right;\">\n",
       "      <th></th>\n",
       "      <th>values</th>\n",
       "    </tr>\n",
       "  </thead>\n",
       "  <tbody>\n",
       "    <tr>\n",
       "      <th>useC</th>\n",
       "      <td>False</td>\n",
       "    </tr>\n",
       "    <tr>\n",
       "      <th>useX</th>\n",
       "      <td>False</td>\n",
       "    </tr>\n",
       "    <tr>\n",
       "      <th>useN</th>\n",
       "      <td>False</td>\n",
       "    </tr>\n",
       "    <tr>\n",
       "      <th>useXN</th>\n",
       "      <td>False</td>\n",
       "    </tr>\n",
       "    <tr>\n",
       "      <th>useX2</th>\n",
       "      <td>True</td>\n",
       "    </tr>\n",
       "    <tr>\n",
       "      <th>useXN1</th>\n",
       "      <td>False</td>\n",
       "    </tr>\n",
       "  </tbody>\n",
       "</table>\n",
       "</div>"
      ],
      "text/plain": [
       "        values\n",
       "useC     False\n",
       "useX     False\n",
       "useN     False\n",
       "useXN    False\n",
       "useX2     True\n",
       "useXN1   False"
      ]
     },
     "execution_count": 6,
     "metadata": {},
     "output_type": "execute_result"
    }
   ],
   "source": [
    "opts=pd.DataFrame(index=pd.Index(['useC','useX','useN','useXN','useX2','useXN1']))\n",
    "opts['values']=np.full(6, True)\n",
    "if fitoption in range(7):\n",
    "    opts.iloc[:]=False\n",
    "    opts.iloc[fitoption-1]=True\n",
    "else:\n",
    "    print(f'Unknown option {fitoption}')\n",
    "    opts['useC']=True\n",
    "    \n",
    "    \n",
    "def fitQimpact(X, alpha0, alpha1, alpha2, alpha3, alpha4):\n",
    "    #fit function for Qloc profile\n",
    "    x, Z, T, gradT = X\n",
    "    if (opts.loc['useC'][0]):\n",
    "        q = -(alpha0 * kQSH / Z) * ((Z + 0.24) / (Z + 4.2)) * T**2.5 * gradT \n",
    "    else:\n",
    "        if (opts.loc['useX'][0]):\n",
    "            q = ( -((alpha0 + alpha1 * x) * kQSH / Z) * ((Z + 0.24)/(Z+4.2)) *T**2.5 * gradT )\n",
    "        else:\n",
    "            if (opts.loc['useN'][0]):\n",
    "                q = ( -(alpha0 * kQSH / Z) * ((Z + 0.24) / (Z + 4.2)) *T**(2.5 * 1.0 / (1.0 + np.exp(alpha3))) * gradT )\n",
    "            else: \n",
    "                if (opts.loc['useXN'][0]):\n",
    "                    q = ( -((alpha0 + alpha1 * x) * kQSH / Z) * ((Z + 0.24) / (Z + 4.2))* T**(2.5 * 1.0 / (1.0 + np.exp(alpha3))) * gradT )\n",
    "                else: \n",
    "                    if (opts.loc['useX2'][0]):\n",
    "                        q = ( -((alpha0 + alpha1 * x + alpha2 * x * x) * kQSH / Z) *((Z + 0.24) / (Z + 4.2)) * T**2.5 * gradT )\n",
    "                    else:\n",
    "                        if (opts.loc['useXN1'][0]):\n",
    "                            q = ( -((alpha0 + alpha1 * x) * kQSH / Z) * ((Z + 0.24) / (Z + 4.2)) *\\\n",
    "                                 T**(2.5 * 1.0 / (1.0 + np.exp(alpha3 + alpha4 * x))) * gradT )\n",
    "                        else:\n",
    "                            print(\"Unknown loss function\")\n",
    "    return q\n",
    "opts\n"
   ]
  },
  {
   "cell_type": "markdown",
   "id": "71bd1013",
   "metadata": {},
   "source": [
    "### 4&5-th task \n",
    "Evaluate \"nonlocal\" fitting constants $\\alpha_C$ and $\\alpha_N$ above $N$ subintervals  from the formula $q = -\\frac{\\alpha_C(x)}{Z} \\frac{(Z + 0.24)}{ (Z + 4.2)} T^{\\alpha_N(x)}\\frac{\\partial T}{\\partial x}$ by matching $Q_{impact}$ profile\n",
    "\n"
   ]
  },
  {
   "cell_type": "code",
   "execution_count": 12,
   "id": "f6795fb6",
   "metadata": {},
   "outputs": [
    {
     "name": "stdout",
     "output_type": "stream",
     "text": [
      "     For N =  20 \n",
      "\n",
      "Done\n"
     ]
    }
   ],
   "source": [
    "print(\"     For N = \", N, '\\n')\n",
    "# split the data we use in fit\n",
    "split_Z = np.array_split(Zbar, N)\n",
    "split_T = np.array_split(Te, N)\n",
    "split_gradT = np.array_split(gradTe, N)\n",
    "split_Qimpact = np.array_split(Qimpact, N)    #split the data we want to fit\n",
    "split_x = np.array_split(xref, N)             #split the x axes to know at which subinterval we currently are\n",
    "subfits = np.array([[],[]])                   #contain fit data for each subinterval\n",
    "fitparameters=pd.DataFrame(index=['alpha0','alpha1', 'alpha2', 'alpha3', 'alpha4'])\n",
    "for sub, _ in enumerate(split_x):             #fitting for each subinterval of xref\n",
    "    if _[0]>1e-2:\n",
    "        bound=[[-4e9,-4e9,-4e9,-4e9,-4e9 ],[4e9,4e9,4e9,4e9,4e9]]\n",
    "    else:\n",
    "        bound=[[-1e4,-1e4,-1e4,-1e4,-1e4 ],[1e4,1e4,1e4,1e4,1e4]]\n",
    "    pars, covs = curve_fit(fitQimpact, (split_x[sub], split_Z[sub],split_T[sub], split_gradT[sub]), split_Qimpact[sub],  maxfev = 100000\n",
    "                           ,bounds=bound)\n",
    "    standevs = np.sqrt(np.diag(covs))\n",
    "    if N<10:\n",
    "        print(f'Pars in subinterval x in <{split_x[sub][0]:.3e} ; {split_x[sub][-1]:.3e}>:','\\n',\\\n",
    "            f'alpha0 = {pars[0]:.2e} +- {standevs[0]:.2e}','\\n',\\\n",
    "            f'alpha1 = {pars[1]:.2e} +- {standevs[1]:.2e}','\\n',\\\n",
    "            f'alpha2 = {pars[1]:.2e} +- {standevs[1]:.2e}','\\n',\\\n",
    "            f'alpha3 = {pars[1]:.2e} +- {standevs[1]:.2e}','\\n',\\\n",
    "            f'alpha4 = {pars[1]:.2e} +- {standevs[1]:.2e}','\\n')\n",
    "    qsub = fitQimpact((split_x[sub], split_Z[sub], split_T[sub],split_gradT[sub]), *pars)\n",
    "    subfits = np.concatenate((subfits, np.array([split_x[sub],qsub])), axis = 1)\n",
    "    fitparameters[sub]=pars\n",
    "print('Done')"
   ]
  },
  {
   "cell_type": "code",
   "execution_count": 13,
   "id": "2e77d288",
   "metadata": {},
   "outputs": [],
   "source": [
    "fitparameters.T.to_csv(f'{path}/nonsliding_fitopt{fitoption}.csv')"
   ]
  },
  {
   "cell_type": "markdown",
   "id": "55c216c1",
   "metadata": {},
   "source": [
    "### 6-th task\n",
    "Generalize the concept of subintervals to a concept of a sliding interval $<x_c - \\Delta x/2, x_c + \\Delta x/2>$ centered around point $x_c$ of size $\\Delta x$"
   ]
  },
  {
   "cell_type": "code",
   "execution_count": 14,
   "id": "f0662718",
   "metadata": {},
   "outputs": [
    {
     "name": "stdout",
     "output_type": "stream",
     "text": [
      "We're done with 0/9730 points\n"
     ]
    },
    {
     "ename": "KeyboardInterrupt",
     "evalue": "",
     "output_type": "error",
     "traceback": [
      "\u001b[1;31m---------------------------------------------------------------------------\u001b[0m",
      "\u001b[1;31mKeyboardInterrupt\u001b[0m                         Traceback (most recent call last)",
      "\u001b[1;32m~\\AppData\\Local\\Temp\\ipykernel_21456\\1245893961.py\u001b[0m in \u001b[0;36m<module>\u001b[1;34m\u001b[0m\n\u001b[0;32m     36\u001b[0m     \u001b[1;32mreturn\u001b[0m\u001b[1;33m(\u001b[0m\u001b[0mslide\u001b[0m\u001b[1;33m)\u001b[0m\u001b[1;33m\u001b[0m\u001b[1;33m\u001b[0m\u001b[0m\n\u001b[0;32m     37\u001b[0m \u001b[1;33m\u001b[0m\u001b[0m\n\u001b[1;32m---> 38\u001b[1;33m \u001b[0mslides\u001b[0m\u001b[1;33m=\u001b[0m\u001b[0mgetAlphas\u001b[0m\u001b[1;33m(\u001b[0m\u001b[0mxref\u001b[0m\u001b[1;33m,\u001b[0m \u001b[0mZbar\u001b[0m\u001b[1;33m,\u001b[0m \u001b[0mTe\u001b[0m\u001b[1;33m,\u001b[0m \u001b[0mgradTe\u001b[0m\u001b[1;33m,\u001b[0m \u001b[0mQimpact\u001b[0m\u001b[1;33m,\u001b[0m\u001b[1;36m50e-4\u001b[0m\u001b[1;33m)\u001b[0m\u001b[1;33m\u001b[0m\u001b[1;33m\u001b[0m\u001b[0m\n\u001b[0m",
      "\u001b[1;32m~\\AppData\\Local\\Temp\\ipykernel_21456\\1245893961.py\u001b[0m in \u001b[0;36mgetAlphas\u001b[1;34m(x, Z, T, gradT, Qimpact, width)\u001b[0m\n\u001b[0;32m     11\u001b[0m             \u001b[1;32mbreak\u001b[0m\u001b[1;33m\u001b[0m\u001b[1;33m\u001b[0m\u001b[0m\n\u001b[0;32m     12\u001b[0m         \u001b[1;32melse\u001b[0m\u001b[1;33m:\u001b[0m\u001b[1;33m\u001b[0m\u001b[1;33m\u001b[0m\u001b[0m\n\u001b[1;32m---> 13\u001b[1;33m             pars, covs = curve_fit(fitQimpact, (x[ind:ind+2*rad], Z[ind:ind+2*rad], T[ind:ind+2*rad], gradT[ind:ind+2*rad]),\\\n\u001b[0m\u001b[0;32m     14\u001b[0m                                    Qimpact[ind:ind+2*rad],  maxfev = 100000, bounds=[[-4e8,-4e8,-4e8,-4e8,-4e8 ],\\\n\u001b[0;32m     15\u001b[0m                                                                                      [4e8,4e8,4e8,4e8,4e8]])\n",
      "\u001b[1;32m~\\anaconda3\\lib\\site-packages\\scipy\\optimize\\_minpack_py.py\u001b[0m in \u001b[0;36mcurve_fit\u001b[1;34m(f, xdata, ydata, p0, sigma, absolute_sigma, check_finite, bounds, method, jac, full_output, **kwargs)\u001b[0m\n\u001b[0;32m    843\u001b[0m             \u001b[0mkwargs\u001b[0m\u001b[1;33m[\u001b[0m\u001b[1;34m'max_nfev'\u001b[0m\u001b[1;33m]\u001b[0m \u001b[1;33m=\u001b[0m \u001b[0mkwargs\u001b[0m\u001b[1;33m.\u001b[0m\u001b[0mpop\u001b[0m\u001b[1;33m(\u001b[0m\u001b[1;34m'maxfev'\u001b[0m\u001b[1;33m,\u001b[0m \u001b[1;32mNone\u001b[0m\u001b[1;33m)\u001b[0m\u001b[1;33m\u001b[0m\u001b[1;33m\u001b[0m\u001b[0m\n\u001b[0;32m    844\u001b[0m \u001b[1;33m\u001b[0m\u001b[0m\n\u001b[1;32m--> 845\u001b[1;33m         res = least_squares(func, p0, jac=jac, bounds=bounds, method=method,\n\u001b[0m\u001b[0;32m    846\u001b[0m                             **kwargs)\n\u001b[0;32m    847\u001b[0m \u001b[1;33m\u001b[0m\u001b[0m\n",
      "\u001b[1;32m~\\anaconda3\\lib\\site-packages\\scipy\\optimize\\_lsq\\least_squares.py\u001b[0m in \u001b[0;36mleast_squares\u001b[1;34m(fun, x0, jac, bounds, method, ftol, xtol, gtol, x_scale, loss, f_scale, diff_step, tr_solver, tr_options, jac_sparsity, max_nfev, verbose, args, kwargs)\u001b[0m\n\u001b[0;32m    926\u001b[0m \u001b[1;33m\u001b[0m\u001b[0m\n\u001b[0;32m    927\u001b[0m     \u001b[1;32melif\u001b[0m \u001b[0mmethod\u001b[0m \u001b[1;33m==\u001b[0m \u001b[1;34m'trf'\u001b[0m\u001b[1;33m:\u001b[0m\u001b[1;33m\u001b[0m\u001b[1;33m\u001b[0m\u001b[0m\n\u001b[1;32m--> 928\u001b[1;33m         result = trf(fun_wrapped, jac_wrapped, x0, f0, J0, lb, ub, ftol, xtol,\n\u001b[0m\u001b[0;32m    929\u001b[0m                      \u001b[0mgtol\u001b[0m\u001b[1;33m,\u001b[0m \u001b[0mmax_nfev\u001b[0m\u001b[1;33m,\u001b[0m \u001b[0mx_scale\u001b[0m\u001b[1;33m,\u001b[0m \u001b[0mloss_function\u001b[0m\u001b[1;33m,\u001b[0m \u001b[0mtr_solver\u001b[0m\u001b[1;33m,\u001b[0m\u001b[1;33m\u001b[0m\u001b[1;33m\u001b[0m\u001b[0m\n\u001b[0;32m    930\u001b[0m                      tr_options.copy(), verbose)\n",
      "\u001b[1;32m~\\anaconda3\\lib\\site-packages\\scipy\\optimize\\_lsq\\trf.py\u001b[0m in \u001b[0;36mtrf\u001b[1;34m(fun, jac, x0, f0, J0, lb, ub, ftol, xtol, gtol, max_nfev, x_scale, loss_function, tr_solver, tr_options, verbose)\u001b[0m\n\u001b[0;32m    121\u001b[0m             loss_function, tr_solver, tr_options, verbose)\n\u001b[0;32m    122\u001b[0m     \u001b[1;32melse\u001b[0m\u001b[1;33m:\u001b[0m\u001b[1;33m\u001b[0m\u001b[1;33m\u001b[0m\u001b[0m\n\u001b[1;32m--> 123\u001b[1;33m         return trf_bounds(\n\u001b[0m\u001b[0;32m    124\u001b[0m             \u001b[0mfun\u001b[0m\u001b[1;33m,\u001b[0m \u001b[0mjac\u001b[0m\u001b[1;33m,\u001b[0m \u001b[0mx0\u001b[0m\u001b[1;33m,\u001b[0m \u001b[0mf0\u001b[0m\u001b[1;33m,\u001b[0m \u001b[0mJ0\u001b[0m\u001b[1;33m,\u001b[0m \u001b[0mlb\u001b[0m\u001b[1;33m,\u001b[0m \u001b[0mub\u001b[0m\u001b[1;33m,\u001b[0m \u001b[0mftol\u001b[0m\u001b[1;33m,\u001b[0m \u001b[0mxtol\u001b[0m\u001b[1;33m,\u001b[0m \u001b[0mgtol\u001b[0m\u001b[1;33m,\u001b[0m \u001b[0mmax_nfev\u001b[0m\u001b[1;33m,\u001b[0m \u001b[0mx_scale\u001b[0m\u001b[1;33m,\u001b[0m\u001b[1;33m\u001b[0m\u001b[1;33m\u001b[0m\u001b[0m\n\u001b[0;32m    125\u001b[0m             loss_function, tr_solver, tr_options, verbose)\n",
      "\u001b[1;32m~\\anaconda3\\lib\\site-packages\\scipy\\optimize\\_lsq\\trf.py\u001b[0m in \u001b[0;36mtrf_bounds\u001b[1;34m(fun, jac, x0, f0, J0, lb, ub, ftol, xtol, gtol, max_nfev, x_scale, loss_function, tr_solver, tr_options, verbose)\u001b[0m\n\u001b[0;32m    296\u001b[0m         \u001b[0mf_augmented\u001b[0m\u001b[1;33m[\u001b[0m\u001b[1;33m:\u001b[0m\u001b[0mm\u001b[0m\u001b[1;33m]\u001b[0m \u001b[1;33m=\u001b[0m \u001b[0mf\u001b[0m\u001b[1;33m\u001b[0m\u001b[1;33m\u001b[0m\u001b[0m\n\u001b[0;32m    297\u001b[0m         \u001b[1;32mif\u001b[0m \u001b[0mtr_solver\u001b[0m \u001b[1;33m==\u001b[0m \u001b[1;34m'exact'\u001b[0m\u001b[1;33m:\u001b[0m\u001b[1;33m\u001b[0m\u001b[1;33m\u001b[0m\u001b[0m\n\u001b[1;32m--> 298\u001b[1;33m             \u001b[0mJ_augmented\u001b[0m\u001b[1;33m[\u001b[0m\u001b[1;33m:\u001b[0m\u001b[0mm\u001b[0m\u001b[1;33m]\u001b[0m \u001b[1;33m=\u001b[0m \u001b[0mJ\u001b[0m \u001b[1;33m*\u001b[0m \u001b[0md\u001b[0m\u001b[1;33m\u001b[0m\u001b[1;33m\u001b[0m\u001b[0m\n\u001b[0m\u001b[0;32m    299\u001b[0m             \u001b[0mJ_h\u001b[0m \u001b[1;33m=\u001b[0m \u001b[0mJ_augmented\u001b[0m\u001b[1;33m[\u001b[0m\u001b[1;33m:\u001b[0m\u001b[0mm\u001b[0m\u001b[1;33m]\u001b[0m  \u001b[1;31m# Memory view.\u001b[0m\u001b[1;33m\u001b[0m\u001b[1;33m\u001b[0m\u001b[0m\n\u001b[0;32m    300\u001b[0m             \u001b[0mJ_augmented\u001b[0m\u001b[1;33m[\u001b[0m\u001b[0mm\u001b[0m\u001b[1;33m:\u001b[0m\u001b[1;33m]\u001b[0m \u001b[1;33m=\u001b[0m \u001b[0mnp\u001b[0m\u001b[1;33m.\u001b[0m\u001b[0mdiag\u001b[0m\u001b[1;33m(\u001b[0m\u001b[0mdiag_h\u001b[0m\u001b[1;33m**\u001b[0m\u001b[1;36m0.5\u001b[0m\u001b[1;33m)\u001b[0m\u001b[1;33m\u001b[0m\u001b[1;33m\u001b[0m\u001b[0m\n",
      "\u001b[1;31mKeyboardInterrupt\u001b[0m: "
     ]
    }
   ],
   "source": [
    "def getAlphas(x, Z, T, gradT, Qimpact,  width):  \n",
    "    rad=0     #finds out how many points fits in (!)radius(!) range\n",
    "    suma=0\n",
    "    while suma<=width/2:\n",
    "        suma=xref[rad]-xref[0]\n",
    "        rad+=1\n",
    "    slide=pd.DataFrame(columns=['Start','Center', 'End','alphaC0', 'alphaC0_std', 'alphaC1', 'alphaC1_std', 'alphaC2', 'alphaC2_std',\\\n",
    "                                'alphaN0', 'alphaN0_std', 'alphaN1', 'alphaN1_std']) \n",
    "    for ind, _ in enumerate(x):\n",
    "        if ind+2*rad>=len(x):\n",
    "            break\n",
    "        else:\n",
    "            pars, covs = curve_fit(fitQimpact, (x[ind:ind+2*rad], Z[ind:ind+2*rad], T[ind:ind+2*rad], gradT[ind:ind+2*rad]),\\\n",
    "                                   Qimpact[ind:ind+2*rad],  maxfev = 100000, bounds=[[-4e8,-4e8,-4e8,-4e8,-4e8 ],\\\n",
    "                                                                                     [4e8,4e8,4e8,4e8,4e8]])\n",
    "            standevs = np.sqrt(np.diag(covs))\n",
    "            \n",
    "            alphaC0=pars[0]\n",
    "            alphaC0_std=standevs[0]\n",
    "            alphaC1=pars[1]\n",
    "            alphaC1_std=standevs[1]\n",
    "            alphaC2=pars[2]\n",
    "            alphaC2_std=standevs[2]\n",
    "            alphaN0=pars[3]\n",
    "            alphaN0_std=standevs[3]\n",
    "            alphaN1=pars[4]\n",
    "            alphaN1_std=standevs[4]\n",
    "\n",
    "\n",
    "            slide.loc[len(slide.index)]=[x[ind], x[ind+rad], x[ind+2*rad], alphaC0, alphaC0_std, alphaC1,\\\n",
    "                                         alphaC1_std, alphaC2, alphaC2_std,alphaN0, alphaN0_std, alphaN1, alphaN1_std]\n",
    "            \n",
    "            if ind%500==0:\n",
    "                print(f\"We're done with {ind}/{len(x)-2*rad} points\")\n",
    "    print('Done')\n",
    "    return(slide)\n",
    "\n",
    "slides=getAlphas(xref, Zbar, Te, gradTe, Qimpact,50e-4)"
   ]
  },
  {
   "cell_type": "code",
   "execution_count": null,
   "id": "8168cfec",
   "metadata": {},
   "outputs": [],
   "source": [
    "slides.to_csv(f'{path}/sliding_fitopt{fitoption}.csv')"
   ]
  },
  {
   "cell_type": "markdown",
   "id": "e4da1270-f5ad-4141-974e-fde77f7473a4",
   "metadata": {},
   "source": [
    "### 7-th Task\n",
    "Prepare regression data based on the concept of sliding interval. For a given point xc create a 3N+1 long vector datapoint = [Zi, Ti, gradTi, Qc], where N is the number of discrete points in the deltax-interval and Qc is the value of Qimpact at xc. For each discrete position xc in (min(x) + deltax/2, max(x) - deltax/2) store the datapoint vector as a row to the data matrix Qdata."
   ]
  },
  {
   "cell_type": "code",
   "execution_count": null,
   "id": "4dbbade5-adc8-4809-a57a-d1603c99bb1a",
   "metadata": {},
   "outputs": [],
   "source": [
    "def get_data(x, Z, T, gradT, Kn, n, Qimp,   width):  \n",
    "    rad=0     #finds out how many points fits in (!)radius(!) range\n",
    "    s=0\n",
    "    while s<=width/2:\n",
    "        s=xref[rad]-xref[0]\n",
    "        rad+=1\n",
    "    \n",
    "    Qdata=np.empty((0,2*rad*5+3), int) #2*rad -  #of points in interval *5 - for each phsy quantity +3 - for three points of Qimp\n",
    "    print(f'Row length is {10*rad+3}') #2*5{x,Z,T,gradT,Kn,N} + 3{qimpact}\n",
    "    print(f'Number of rows {len(x)-2*rad+1}')\n",
    "    \n",
    "    x_c=np.array([]) #saves coordinate of center to index result array \n",
    "    \n",
    "    for ind, _ in enumerate(x):  #x_min=x[ind], x_max=x[ind+2*rad], x_c=x[ind+rad]\n",
    "        datapoint=np.array([])          \n",
    "        if ind+2*rad>=len(x)+1:\n",
    "            break    \n",
    "        \n",
    "        else:\n",
    "            datapoint=np.append(datapoint,Z[ind:ind+2*rad]) #append all Zbar in xmin-xmax\n",
    "            datapoint=np.append(datapoint,T[ind:ind+2*rad]) #append all Te in xmin-xmax\n",
    "            datapoint=np.append(datapoint,gradT[ind:ind+2*rad]) #append all gradTe in xmin-xmax\n",
    "            datapoint=np.append(datapoint,Kn[ind:ind+2*rad]) #append all Knudsen number in xmin-xmax\n",
    "            datapoint=np.append(datapoint,n[ind:ind+2*rad]) #append all gradTe in xmin-xmax\n",
    "            datapoint=np.append(datapoint,Qimp[ind+rad-1])\n",
    "            datapoint=np.append(datapoint,Qimp[ind+rad]) #append Qimpact in x_c\n",
    "            datapoint=np.append(datapoint,Qimp[ind+rad+1])\n",
    "            Qdata=np.append(Qdata,[datapoint], axis=0)\n",
    "            x_c=np.append(x_c,x[rad+ind])                     #will be used as index column for Qdata\n",
    "            \n",
    "            if ind%500==0:\n",
    "                print(f\"We're done with {ind}/{len(x)-2*rad+1} points\") \n",
    "    \n",
    "    #Naming of columns \n",
    "    column_names=[]\n",
    "    for _,name in enumerate(['Z', 'T', 'gradT', 'Kn', 'n']):\n",
    "        for i in range(2*rad):\n",
    "            column_names=np.append(column_names,f'{name}_{i}')\n",
    "    column_names=np.append(column_names,['Qimpact_c-1','Qimpact_c','Qimpact_c+1'])\n",
    "    \n",
    "    df_Qdata=pd.DataFrame(Qdata, columns=column_names, index=x_c)\n",
    "    print('Done')\n",
    "    return(df_Qdata)\n",
    "\n",
    "Qdata=get_data(xref, Zbar, Te, gradTe, Knx, ne, Qimpact, 50e-4)"
   ]
  },
  {
   "cell_type": "code",
   "execution_count": null,
   "id": "b422979c",
   "metadata": {},
   "outputs": [],
   "source": [
    "Qdata"
   ]
  },
  {
   "cell_type": "code",
   "execution_count": null,
   "id": "1a1aefbc",
   "metadata": {},
   "outputs": [],
   "source": [
    "#Test of boundaries\n",
    "\n",
    "print(Qdata['gradT_269'].iloc[-1]==gradTe[-1])\n",
    "print(Qdata['n_0'].iloc[-1]==ne[9865-135])\n",
    "print(Qdata['Z_0'].iloc[0]==Zbar[0])\n",
    "print(Qdata['Z_269'].iloc[-1]==Zbar[-1])\n"
   ]
  },
  {
   "cell_type": "code",
   "execution_count": null,
   "id": "43e1e904",
   "metadata": {},
   "outputs": [],
   "source": [
    "Qdata.to_csv(f'{path}/QData.csv')"
   ]
  },
  {
   "cell_type": "markdown",
   "id": "0395ee86",
   "metadata": {},
   "source": [
    "**Calculating mean and std for every quantity**"
   ]
  },
  {
   "cell_type": "code",
   "execution_count": null,
   "id": "8ebecf4d",
   "metadata": {},
   "outputs": [],
   "source": [
    "data_scaling=pd.DataFrame(index=['mean', 'std'], columns=['Z','T','gradT','Kn','n', 'Qimpact']) #will contain mean values and std\n",
    "scaled_data=pd.DataFrame([Zbar,Te,gradTe,Knx,ne,Qimpact], index=['Z','T','gradT','Kn','n', 'Qimpact']).T \n",
    "# ^^^ All data of which I want to find mean and std \n",
    "for val in data_scaling.columns:\n",
    "    data_scaling[val]['mean']=scaled_data[val].mean()\n",
    "    data_scaling[val]['std']=scaled_data[val].std()\n",
    "for col in scaled_data.columns:\n",
    "    scaled_data[col]=(scaled_data[col]-data_scaling[col].loc['mean'])/data_scaling[col].loc['std']\n",
    "data_scaling"
   ]
  },
  {
   "cell_type": "code",
   "execution_count": null,
   "id": "c5cf8eff",
   "metadata": {},
   "outputs": [],
   "source": [
    "data_scaling.to_csv(f'{path}/data_scaling_gradT.csv')"
   ]
  },
  {
   "cell_type": "markdown",
   "id": "04c1365f",
   "metadata": {},
   "source": [
    "**Now i store scaled data in the same format as Qdata**"
   ]
  },
  {
   "cell_type": "code",
   "execution_count": null,
   "id": "2b31c5a9",
   "metadata": {},
   "outputs": [],
   "source": [
    "scaled_Qdata=get_data(xref, scaled_data['Z'],  scaled_data['T'],  scaled_data['gradT'],  scaled_data['Kn'],\\\n",
    "                      scaled_data['n'],  scaled_data['Qimpact'], 50e-4)"
   ]
  },
  {
   "cell_type": "code",
   "execution_count": null,
   "id": "c09f0d15",
   "metadata": {},
   "outputs": [],
   "source": [
    "scaled_Qdata.to_csv(f'{path}/scaled_QData_gradT.csv')"
   ]
  },
  {
   "cell_type": "markdown",
   "id": "5fefbe77",
   "metadata": {},
   "source": [
    "**Plot parameters**"
   ]
  },
  {
   "cell_type": "code",
   "execution_count": 7,
   "id": "66433032",
   "metadata": {},
   "outputs": [],
   "source": [
    "figuresize=6.5\n",
    "import matplotlib.font_manager as fm\n",
    "mpl.rcParams['font.family'] = 'Avenir'\n",
    "plt.rcParams['axes.linewidth'] = 0.5\n"
   ]
  },
  {
   "cell_type": "markdown",
   "id": "a4189064",
   "metadata": {},
   "source": [
    "**Electron temperature profile**"
   ]
  },
  {
   "cell_type": "code",
   "execution_count": 9,
   "id": "dfe4f2bb",
   "metadata": {},
   "outputs": [
    {
     "data": {
      "application/vnd.jupyter.widget-view+json": {
       "model_id": "56656efce83b4f6da963e09d6b09af62",
       "version_major": 2,
       "version_minor": 0
      },
      "image/png": "[encoded data removed]",
      "text/html": [
       "\n",
       "            <div style=\"display: inline-block;\">\n",
       "                <div class=\"jupyter-widgets widget-label\" style=\"text-align: center;\">\n",
       "                    Figure\n",
       "                </div>\n",
       "                <img src='data:image/png;base64,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' width=650.0/>\n",
       "            </div>\n",
       "        "
      ],
      "text/plain": [
       "Canvas(toolbar=Toolbar(toolitems=[('Home', 'Reset original view', 'home', 'home'), ('Back', 'Back to previous …"
      ]
     },
     "metadata": {},
     "output_type": "display_data"
    }
   ],
   "source": [
    "fig1, axs1 = plt.subplots(4, 1, figsize=(6.5,6.5), sharex=True)\n",
    "axs1[0].plot(xref, Te, label=\"T$_e$\", color='r', lw=2)\n",
    "axs1[0].set_ylabel('eV',fontsize=18)\n",
    "axs1[0].legend(loc='upper left')\n",
    "\n",
    "axs1[1].plot(xref, ne, label=\"n$_e$\", lw=2)\n",
    "axs1[1].set_ylabel('cm$^{-3}$',fontsize=18)\n",
    "axs1[1].legend()\n",
    "\n",
    "axs1[2].plot(xref, Zbar, label=\"Z\", color='purple', lw=2)\n",
    "axs1[2].legend()\n",
    "\n",
    "axs1[3].plot(xref, Knx, color='green', label=\"Kn\", lw=2)\n",
    "axs1[3].set_xlabel('cm',fontsize=18)\n",
    "axs1[3].legend(loc='upper left')\n",
    "\n",
    "axs1[0].tick_params(axis='x',which='major',bottom=True,top=False,labelbottom=False, labelsize=12, size=5)\n",
    "axs1[0].tick_params(axis='y',which='major',left=True,right=False, labelsize=12, size=5)\n",
    "axs1[1].tick_params(axis='x',which='major',bottom=True,top=False,labelbottom=False, labelsize=12, size=5)\n",
    "axs1[1].tick_params(axis='y',which='major',left=True,right=False, labelsize=12, size=5)\n",
    "axs1[2].tick_params(axis='x',which='major',bottom=True,top=False,labelbottom=False, labelsize=12, size=5)\n",
    "axs1[2].tick_params(axis='y',which='major',left=True,right=False, labelsize=12, size=5)\n",
    "axs1[3].tick_params(axis='x',which='major',bottom=True,top=False,labelbottom=True, labelsize=12, size=5)\n",
    "axs1[3].tick_params(axis='y',which='major',left=True,right=False, labelsize=12, size=5)"
   ]
  },
  {
   "cell_type": "markdown",
   "id": "0217bf3f",
   "metadata": {},
   "source": [
    "**Profile of fit function q**"
   ]
  },
  {
   "cell_type": "code",
   "execution_count": null,
   "id": "8c6b072f",
   "metadata": {},
   "outputs": [],
   "source": [
    "fig6, axs6 = plt.subplots(1, 1, figsize=(figuresize, figuresize))\n",
    "axs6.plot(subfits[0,:],subfits[1,:], 'blue', label = f'Fit curve')\n",
    "axs6.plot(xref, Qloc/1e1, 'k-.', label = r'Spitzer-Harm $\\times$ 0.1')\n",
    "axs6.plot(xref, Qimpact, 'r', label=\"$q_\\mathrm{impact}$\", linewidth=2.0)\n",
    "axs6.set_xlabel('cm')\n",
    "axs6.set_ylabel('W/cm$^2$')\n",
    "axs6.legend()\n",
    "# if (opts.loc['useC'][0]):\n",
    "#     axs6.set_title(r'  $q=- f(c) \\kappa T^{2.5} \\nabla T$')\n",
    "# else:\n",
    "#     if (opts.loc['useX'][0]):\n",
    "#         axs6.set_title(r'  $q=- f(c+ax) \\kappa T^{2.5} \\nabla T$')\n",
    "#     else:\n",
    "#         if (opts.loc['useN'][0]):\n",
    "#             axs6.set_title(r'  $q=- f(c) \\kappa T^{\\alpha(c)} \\nabla T$')\n",
    "#         else:\n",
    "#             if (opts.loc['useXN'][0]):\n",
    "#                 axs6.set_title(r'  $q=- f(c+ax) \\kappa T^{\\alpha(c)} \\nabla T$')\n",
    "#             else:\n",
    "#                 if (opts.loc['useX2'][0]):\n",
    "#                     axs6.set_title(r'  $q=- f(c+ax+bx^2) \\kappa T^{2.5} \\nabla T$')\n",
    "#                 else:\n",
    "#                     if (opts.loc['useXN1'][0]):\n",
    "#                         axs6.set_title(r'  $q=- f(c+ax) \\kappa T^{\\alpha(c+ax)} \\nabla T$')\n",
    "#                     else:\n",
    "#                         print(\"Unknown title option.\"); quit()\n",
    "\n",
    "axs6.tick_params(axis='x',which='both',bottom=True,top=False,labelbottom=True)\n",
    "axs6.tick_params(axis='y',which='both',left=True,right=False)\n",
    "axs6.spines['top'].set_visible(False)\n",
    "axs6.spines['right'].set_visible(False)\n",
    "mpl.rcParams['axes.linewidth'] = 1\n",
    "plt.show()"
   ]
  },
  {
   "cell_type": "markdown",
   "id": "4617aefa",
   "metadata": {},
   "source": [
    "**Heat flux profiles**"
   ]
  },
  {
   "cell_type": "code",
   "execution_count": null,
   "id": "dc878717",
   "metadata": {},
   "outputs": [],
   "source": [
    "fig4, axs4 = plt.subplots(1, 1, figsize=(figuresize, figuresize))\n",
    "axs4.plot(xref, Qloc, label=\"Qloc\")\n",
    "axs4.plot(xref, Qimpact, label=\"Qimpact\")\n",
    "axs4.plot(xref, Qsnb, label=\"Qsnb\")\n",
    "axs4.plot(xref, gaussian_filter1d(Qc7bAWBS,3), label=\"Qc7b-awbs\")\n",
    "axs4.plot(xref, gaussian_filter1d(Qc7bBGK, 3), label=\"Qc7b-bgk\")\n",
    "axs4.set_xlabel('cm')\n",
    "axs4.set_ylabel('W/cm$^2$')\n",
    "axs4.set_title('Q')\n",
    "\n",
    "axs4.spines['bottom'].set_visible(True)\n",
    "axs4.spines['left'].set_visible(True)\n",
    "\n",
    "axs4.tick_params(axis='x',which='both',bottom=True,top=False,labelbottom=True)\n",
    "axs4.tick_params(axis='y',which='both',left=True,right=False)\n",
    "mpl.rcParams['axes.linewidth'] = 0.2\n",
    "axs4.legend(loc='upper left')"
   ]
  },
  {
   "cell_type": "code",
   "execution_count": 4,
   "id": "20d6a512",
   "metadata": {},
   "outputs": [
    {
     "data": {
      "text/plain": [
       "[<matplotlib.lines.Line2D at 0x1913d29e280>]"
      ]
     },
     "execution_count": 4,
     "metadata": {},
     "output_type": "execute_result"
    },
    {
     "data": {
      "application/vnd.jupyter.widget-view+json": {
       "model_id": "a63a214e70334c7abc6a9bd28443cdfc",
       "version_major": 2,
       "version_minor": 0
      },
      "image/png": "[encoded data removed]",
      "text/html": [
       "\n",
       "            <div style=\"display: inline-block;\">\n",
       "                <div class=\"jupyter-widgets widget-label\" style=\"text-align: center;\">\n",
       "                    Figure\n",
       "                </div>\n",
       "                <img src='data:image/png;base64,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' width=350.0/>\n",
       "            </div>\n",
       "        "
      ],
      "text/plain": [
       "Canvas(toolbar=Toolbar(toolitems=[('Home', 'Reset original view', 'home', 'home'), ('Back', 'Back to previous …"
      ]
     },
     "metadata": {},
     "output_type": "display_data"
    }
   ],
   "source": [
    "plt.plot(x_Qimpact, Qimpact_raw)"
   ]
  },
  {
   "cell_type": "code",
   "execution_count": null,
   "id": "d18e9c56",
   "metadata": {},
   "outputs": [],
   "source": []
  }
 ],
 "metadata": {
  "kernelspec": {
   "display_name": "Python 3 (ipykernel)",
   "language": "python",
   "name": "python3"
  },
  "language_info": {
   "codemirror_mode": {
    "name": "ipython",
    "version": 3
   },
   "file_extension": ".py",
   "mimetype": "text/x-python",
   "name": "python",
   "nbconvert_exporter": "python",
   "pygments_lexer": "ipython3",
   "version": "3.9.13"
  }
 },
 "nbformat": 4,
 "nbformat_minor": 5
}
