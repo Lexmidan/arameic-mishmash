{
 "cells": [
  {
   "cell_type": "markdown",
   "id": "561b56bc",
   "metadata": {},
   "source": [
    "# **Neural network part of Qimpact project**\n",
    "**Data was proceeded and prepared for NN in Qimpact.jpynb, here's the implementation of NN itself**"
   ]
  },
  {
   "cell_type": "code",
   "execution_count": 60,
   "id": "b5c55cda",
   "metadata": {},
   "outputs": [],
   "source": [
    "import torch\n",
    "import torch.optim as optim\n",
    "import torch.nn as nn\n",
    "from torch.utils.data import Dataset, TensorDataset, DataLoader\n",
    "import pytorch_lightning as pl\n",
    "from pytorch_lightning import Trainer\n",
    "from pytorch_lightning.profiler import Profiler, AdvancedProfiler\n",
    "import numpy as np\n",
    "import pandas as pd\n",
    "from matplotlib import pyplot as plt\n",
    "import matplotlib as mpl\n",
    "from PIL import Image\n",
    "%matplotlib ipympl\n",
    "\n",
    "#!!!\n",
    "import scienceplots\n",
    "path='C:/Users/aleks/Projects/arameic-mishmash/Bachelor/Data'\n",
    "plt.style.use('science')\n",
    "#!!!"
   ]
  },
  {
   "cell_type": "markdown",
   "id": "ff9c5c96",
   "metadata": {},
   "source": [
    "**Size of test and validation data (Rest will be used for training)**"
   ]
  },
  {
   "cell_type": "code",
   "execution_count": 38,
   "id": "edd39c03",
   "metadata": {},
   "outputs": [],
   "source": [
    "validationsize=1000 #how many samples will be used as traindata\n",
    "testsize=1000"
   ]
  },
  {
   "cell_type": "markdown",
   "id": "916f136c",
   "metadata": {},
   "source": [
    "**Importing already scaled data, that were created in Qimpact.jupynb**"
   ]
  },
  {
   "cell_type": "code",
   "execution_count": 39,
   "id": "fdb36653",
   "metadata": {},
   "outputs": [
    {
     "name": "stdout",
     "output_type": "stream",
     "text": [
      "(9731, 1353)\n"
     ]
    },
    {
     "data": {
      "text/html": [
       "<div>\n",
       "<style scoped>\n",
       "    .dataframe tbody tr th:only-of-type {\n",
       "        vertical-align: middle;\n",
       "    }\n",
       "\n",
       "    .dataframe tbody tr th {\n",
       "        vertical-align: top;\n",
       "    }\n",
       "\n",
       "    .dataframe thead th {\n",
       "        text-align: right;\n",
       "    }\n",
       "</style>\n",
       "<table border=\"1\" class=\"dataframe\">\n",
       "  <thead>\n",
       "    <tr style=\"text-align: right;\">\n",
       "      <th></th>\n",
       "      <th>Z_0</th>\n",
       "      <th>Z_1</th>\n",
       "      <th>Z_2</th>\n",
       "      <th>Z_3</th>\n",
       "      <th>Z_4</th>\n",
       "      <th>Z_5</th>\n",
       "      <th>Z_6</th>\n",
       "      <th>Z_7</th>\n",
       "      <th>Z_8</th>\n",
       "      <th>Z_9</th>\n",
       "      <th>...</th>\n",
       "      <th>n_263</th>\n",
       "      <th>n_264</th>\n",
       "      <th>n_265</th>\n",
       "      <th>n_266</th>\n",
       "      <th>n_267</th>\n",
       "      <th>n_268</th>\n",
       "      <th>n_269</th>\n",
       "      <th>Qimpact_c-1</th>\n",
       "      <th>Qimpact_c</th>\n",
       "      <th>Qimpact_c+1</th>\n",
       "    </tr>\n",
       "  </thead>\n",
       "  <tbody>\n",
       "    <tr>\n",
       "      <th>0.003694</th>\n",
       "      <td>-0.390936</td>\n",
       "      <td>-0.390936</td>\n",
       "      <td>-0.390936</td>\n",
       "      <td>-0.390936</td>\n",
       "      <td>-0.390936</td>\n",
       "      <td>-0.390936</td>\n",
       "      <td>-0.390936</td>\n",
       "      <td>-0.390936</td>\n",
       "      <td>-0.390936</td>\n",
       "      <td>-0.390936</td>\n",
       "      <td>...</td>\n",
       "      <td>-0.387512</td>\n",
       "      <td>-0.387510</td>\n",
       "      <td>-0.387508</td>\n",
       "      <td>-0.387506</td>\n",
       "      <td>-0.387503</td>\n",
       "      <td>-0.387501</td>\n",
       "      <td>-0.387499</td>\n",
       "      <td>-1.063465</td>\n",
       "      <td>-1.063306</td>\n",
       "      <td>-1.063147</td>\n",
       "    </tr>\n",
       "    <tr>\n",
       "      <th>0.003712</th>\n",
       "      <td>-0.390936</td>\n",
       "      <td>-0.390936</td>\n",
       "      <td>-0.390936</td>\n",
       "      <td>-0.390936</td>\n",
       "      <td>-0.390936</td>\n",
       "      <td>-0.390936</td>\n",
       "      <td>-0.390936</td>\n",
       "      <td>-0.390936</td>\n",
       "      <td>-0.390936</td>\n",
       "      <td>-0.390936</td>\n",
       "      <td>...</td>\n",
       "      <td>-0.387510</td>\n",
       "      <td>-0.387508</td>\n",
       "      <td>-0.387506</td>\n",
       "      <td>-0.387503</td>\n",
       "      <td>-0.387501</td>\n",
       "      <td>-0.387499</td>\n",
       "      <td>-0.387497</td>\n",
       "      <td>-1.063306</td>\n",
       "      <td>-1.063147</td>\n",
       "      <td>-1.062988</td>\n",
       "    </tr>\n",
       "    <tr>\n",
       "      <th>0.003731</th>\n",
       "      <td>-0.390936</td>\n",
       "      <td>-0.390936</td>\n",
       "      <td>-0.390936</td>\n",
       "      <td>-0.390936</td>\n",
       "      <td>-0.390936</td>\n",
       "      <td>-0.390936</td>\n",
       "      <td>-0.390936</td>\n",
       "      <td>-0.390936</td>\n",
       "      <td>-0.390936</td>\n",
       "      <td>-0.390936</td>\n",
       "      <td>...</td>\n",
       "      <td>-0.387508</td>\n",
       "      <td>-0.387506</td>\n",
       "      <td>-0.387503</td>\n",
       "      <td>-0.387501</td>\n",
       "      <td>-0.387499</td>\n",
       "      <td>-0.387497</td>\n",
       "      <td>-0.387495</td>\n",
       "      <td>-1.063147</td>\n",
       "      <td>-1.062988</td>\n",
       "      <td>-1.062829</td>\n",
       "    </tr>\n",
       "    <tr>\n",
       "      <th>0.003750</th>\n",
       "      <td>-0.390936</td>\n",
       "      <td>-0.390936</td>\n",
       "      <td>-0.390936</td>\n",
       "      <td>-0.390936</td>\n",
       "      <td>-0.390936</td>\n",
       "      <td>-0.390936</td>\n",
       "      <td>-0.390936</td>\n",
       "      <td>-0.390936</td>\n",
       "      <td>-0.390936</td>\n",
       "      <td>-0.390936</td>\n",
       "      <td>...</td>\n",
       "      <td>-0.387506</td>\n",
       "      <td>-0.387503</td>\n",
       "      <td>-0.387501</td>\n",
       "      <td>-0.387499</td>\n",
       "      <td>-0.387497</td>\n",
       "      <td>-0.387495</td>\n",
       "      <td>-0.387493</td>\n",
       "      <td>-1.062988</td>\n",
       "      <td>-1.062829</td>\n",
       "      <td>-1.062670</td>\n",
       "    </tr>\n",
       "    <tr>\n",
       "      <th>0.003768</th>\n",
       "      <td>-0.390936</td>\n",
       "      <td>-0.390936</td>\n",
       "      <td>-0.390936</td>\n",
       "      <td>-0.390936</td>\n",
       "      <td>-0.390936</td>\n",
       "      <td>-0.390936</td>\n",
       "      <td>-0.390936</td>\n",
       "      <td>-0.390936</td>\n",
       "      <td>-0.390936</td>\n",
       "      <td>-0.390936</td>\n",
       "      <td>...</td>\n",
       "      <td>-0.387503</td>\n",
       "      <td>-0.387501</td>\n",
       "      <td>-0.387499</td>\n",
       "      <td>-0.387497</td>\n",
       "      <td>-0.387495</td>\n",
       "      <td>-0.387493</td>\n",
       "      <td>-0.387491</td>\n",
       "      <td>-1.062829</td>\n",
       "      <td>-1.062670</td>\n",
       "      <td>-1.062511</td>\n",
       "    </tr>\n",
       "  </tbody>\n",
       "</table>\n",
       "<p>5 rows × 1353 columns</p>\n",
       "</div>"
      ],
      "text/plain": [
       "               Z_0       Z_1       Z_2       Z_3       Z_4       Z_5  \\\n",
       "0.003694 -0.390936 -0.390936 -0.390936 -0.390936 -0.390936 -0.390936   \n",
       "0.003712 -0.390936 -0.390936 -0.390936 -0.390936 -0.390936 -0.390936   \n",
       "0.003731 -0.390936 -0.390936 -0.390936 -0.390936 -0.390936 -0.390936   \n",
       "0.003750 -0.390936 -0.390936 -0.390936 -0.390936 -0.390936 -0.390936   \n",
       "0.003768 -0.390936 -0.390936 -0.390936 -0.390936 -0.390936 -0.390936   \n",
       "\n",
       "               Z_6       Z_7       Z_8       Z_9  ...     n_263     n_264  \\\n",
       "0.003694 -0.390936 -0.390936 -0.390936 -0.390936  ... -0.387512 -0.387510   \n",
       "0.003712 -0.390936 -0.390936 -0.390936 -0.390936  ... -0.387510 -0.387508   \n",
       "0.003731 -0.390936 -0.390936 -0.390936 -0.390936  ... -0.387508 -0.387506   \n",
       "0.003750 -0.390936 -0.390936 -0.390936 -0.390936  ... -0.387506 -0.387503   \n",
       "0.003768 -0.390936 -0.390936 -0.390936 -0.390936  ... -0.387503 -0.387501   \n",
       "\n",
       "             n_265     n_266     n_267     n_268     n_269  Qimpact_c-1  \\\n",
       "0.003694 -0.387508 -0.387506 -0.387503 -0.387501 -0.387499    -1.063465   \n",
       "0.003712 -0.387506 -0.387503 -0.387501 -0.387499 -0.387497    -1.063306   \n",
       "0.003731 -0.387503 -0.387501 -0.387499 -0.387497 -0.387495    -1.063147   \n",
       "0.003750 -0.387501 -0.387499 -0.387497 -0.387495 -0.387493    -1.062988   \n",
       "0.003768 -0.387499 -0.387497 -0.387495 -0.387493 -0.387491    -1.062829   \n",
       "\n",
       "          Qimpact_c  Qimpact_c+1  \n",
       "0.003694  -1.063306    -1.063147  \n",
       "0.003712  -1.063147    -1.062988  \n",
       "0.003731  -1.062988    -1.062829  \n",
       "0.003750  -1.062829    -1.062670  \n",
       "0.003768  -1.062670    -1.062511  \n",
       "\n",
       "[5 rows x 1353 columns]"
      ]
     },
     "execution_count": 39,
     "metadata": {},
     "output_type": "execute_result"
    }
   ],
   "source": [
    "scaled_Qdata = pd.read_csv(f'{path}/scaled_QData_gradT.csv', header=0, index_col=0)  #qdata\n",
    "print(scaled_Qdata.shape)\n",
    "scaled_Qdata.head()"
   ]
  },
  {
   "cell_type": "markdown",
   "id": "8186b0e2",
   "metadata": {},
   "source": [
    "**Shuffling and spliting data**"
   ]
  },
  {
   "cell_type": "code",
   "execution_count": 40,
   "id": "1c8e8b89",
   "metadata": {},
   "outputs": [
    {
     "data": {
      "text/plain": [
       "(9731, 1353)"
      ]
     },
     "execution_count": 40,
     "metadata": {},
     "output_type": "execute_result"
    }
   ],
   "source": [
    "scaled_Qdata.shape"
   ]
  },
  {
   "cell_type": "code",
   "execution_count": 41,
   "id": "70613231",
   "metadata": {},
   "outputs": [
    {
     "name": "stdout",
     "output_type": "stream",
     "text": [
      "Training dataset size:  (7731, 1353) \n",
      "Testing dataset size:  (9731, 1353) \n",
      "Validation dataset size:  (1000, 1353)\n"
     ]
    }
   ],
   "source": [
    "shuffled_Qdata=scaled_Qdata.sample(n=scaled_Qdata.shape[0])\n",
    "\n",
    "validation_data=shuffled_Qdata.iloc[:validationsize]\n",
    "test_data=scaled_Qdata\n",
    "train_data=shuffled_Qdata.iloc[validationsize+testsize:]\n",
    "\n",
    "print('Training dataset size: ', train_data.shape, '\\nTesting dataset size: ',test_data.shape,'\\nValidation dataset size: ', validation_data.shape)"
   ]
  },
  {
   "cell_type": "code",
   "execution_count": 42,
   "id": "2b0a429e",
   "metadata": {},
   "outputs": [
    {
     "data": {
      "text/html": [
       "<div>\n",
       "<style scoped>\n",
       "    .dataframe tbody tr th:only-of-type {\n",
       "        vertical-align: middle;\n",
       "    }\n",
       "\n",
       "    .dataframe tbody tr th {\n",
       "        vertical-align: top;\n",
       "    }\n",
       "\n",
       "    .dataframe thead th {\n",
       "        text-align: right;\n",
       "    }\n",
       "</style>\n",
       "<table border=\"1\" class=\"dataframe\">\n",
       "  <thead>\n",
       "    <tr style=\"text-align: right;\">\n",
       "      <th></th>\n",
       "      <th>Z_0</th>\n",
       "      <th>Z_1</th>\n",
       "      <th>Z_2</th>\n",
       "      <th>Z_3</th>\n",
       "      <th>Z_4</th>\n",
       "      <th>Z_5</th>\n",
       "      <th>Z_6</th>\n",
       "      <th>Z_7</th>\n",
       "      <th>Z_8</th>\n",
       "      <th>Z_9</th>\n",
       "      <th>...</th>\n",
       "      <th>n_263</th>\n",
       "      <th>n_264</th>\n",
       "      <th>n_265</th>\n",
       "      <th>n_266</th>\n",
       "      <th>n_267</th>\n",
       "      <th>n_268</th>\n",
       "      <th>n_269</th>\n",
       "      <th>Qimpact_c-1</th>\n",
       "      <th>Qimpact_c</th>\n",
       "      <th>Qimpact_c+1</th>\n",
       "    </tr>\n",
       "  </thead>\n",
       "  <tbody>\n",
       "    <tr>\n",
       "      <th>0.087451</th>\n",
       "      <td>-0.390939</td>\n",
       "      <td>-0.390939</td>\n",
       "      <td>-0.390939</td>\n",
       "      <td>-0.390939</td>\n",
       "      <td>-0.390939</td>\n",
       "      <td>-0.390939</td>\n",
       "      <td>-0.390939</td>\n",
       "      <td>-0.390939</td>\n",
       "      <td>-0.390939</td>\n",
       "      <td>-0.390939</td>\n",
       "      <td>...</td>\n",
       "      <td>-0.363042</td>\n",
       "      <td>-0.363037</td>\n",
       "      <td>-0.363032</td>\n",
       "      <td>-0.363028</td>\n",
       "      <td>-0.363023</td>\n",
       "      <td>-0.363018</td>\n",
       "      <td>-0.363013</td>\n",
       "      <td>-0.235850</td>\n",
       "      <td>-0.235597</td>\n",
       "      <td>-0.235344</td>\n",
       "    </tr>\n",
       "    <tr>\n",
       "      <th>0.116249</th>\n",
       "      <td>-0.390940</td>\n",
       "      <td>-0.390940</td>\n",
       "      <td>-0.390940</td>\n",
       "      <td>-0.390940</td>\n",
       "      <td>-0.390940</td>\n",
       "      <td>-0.390940</td>\n",
       "      <td>-0.390940</td>\n",
       "      <td>-0.390940</td>\n",
       "      <td>-0.390940</td>\n",
       "      <td>-0.390940</td>\n",
       "      <td>...</td>\n",
       "      <td>-0.358534</td>\n",
       "      <td>-0.358533</td>\n",
       "      <td>-0.358533</td>\n",
       "      <td>-0.358533</td>\n",
       "      <td>-0.358533</td>\n",
       "      <td>-0.358533</td>\n",
       "      <td>-0.358533</td>\n",
       "      <td>0.267570</td>\n",
       "      <td>0.268000</td>\n",
       "      <td>0.268429</td>\n",
       "    </tr>\n",
       "    <tr>\n",
       "      <th>0.110059</th>\n",
       "      <td>-0.390940</td>\n",
       "      <td>-0.390940</td>\n",
       "      <td>-0.390940</td>\n",
       "      <td>-0.390940</td>\n",
       "      <td>-0.390940</td>\n",
       "      <td>-0.390940</td>\n",
       "      <td>-0.390940</td>\n",
       "      <td>-0.390940</td>\n",
       "      <td>-0.390940</td>\n",
       "      <td>-0.390940</td>\n",
       "      <td>...</td>\n",
       "      <td>-0.358554</td>\n",
       "      <td>-0.358554</td>\n",
       "      <td>-0.358554</td>\n",
       "      <td>-0.358554</td>\n",
       "      <td>-0.358554</td>\n",
       "      <td>-0.358554</td>\n",
       "      <td>-0.358554</td>\n",
       "      <td>0.134778</td>\n",
       "      <td>0.135153</td>\n",
       "      <td>0.135529</td>\n",
       "    </tr>\n",
       "    <tr>\n",
       "      <th>0.113182</th>\n",
       "      <td>-0.390940</td>\n",
       "      <td>-0.390940</td>\n",
       "      <td>-0.390940</td>\n",
       "      <td>-0.390940</td>\n",
       "      <td>-0.390940</td>\n",
       "      <td>-0.390940</td>\n",
       "      <td>-0.390940</td>\n",
       "      <td>-0.390940</td>\n",
       "      <td>-0.390940</td>\n",
       "      <td>-0.390940</td>\n",
       "      <td>...</td>\n",
       "      <td>-0.358542</td>\n",
       "      <td>-0.358542</td>\n",
       "      <td>-0.358542</td>\n",
       "      <td>-0.358542</td>\n",
       "      <td>-0.358542</td>\n",
       "      <td>-0.358542</td>\n",
       "      <td>-0.358542</td>\n",
       "      <td>0.199554</td>\n",
       "      <td>0.199955</td>\n",
       "      <td>0.200356</td>\n",
       "    </tr>\n",
       "    <tr>\n",
       "      <th>0.142934</th>\n",
       "      <td>-0.390940</td>\n",
       "      <td>-0.390940</td>\n",
       "      <td>-0.390940</td>\n",
       "      <td>-0.390940</td>\n",
       "      <td>-0.390940</td>\n",
       "      <td>-0.390940</td>\n",
       "      <td>-0.390940</td>\n",
       "      <td>-0.390940</td>\n",
       "      <td>-0.390940</td>\n",
       "      <td>-0.390940</td>\n",
       "      <td>...</td>\n",
       "      <td>-0.360942</td>\n",
       "      <td>-0.360942</td>\n",
       "      <td>-0.360942</td>\n",
       "      <td>-0.360942</td>\n",
       "      <td>-0.360941</td>\n",
       "      <td>-0.360941</td>\n",
       "      <td>-0.360941</td>\n",
       "      <td>1.149133</td>\n",
       "      <td>1.150023</td>\n",
       "      <td>1.150914</td>\n",
       "    </tr>\n",
       "  </tbody>\n",
       "</table>\n",
       "<p>5 rows × 1353 columns</p>\n",
       "</div>"
      ],
      "text/plain": [
       "               Z_0       Z_1       Z_2       Z_3       Z_4       Z_5  \\\n",
       "0.087451 -0.390939 -0.390939 -0.390939 -0.390939 -0.390939 -0.390939   \n",
       "0.116249 -0.390940 -0.390940 -0.390940 -0.390940 -0.390940 -0.390940   \n",
       "0.110059 -0.390940 -0.390940 -0.390940 -0.390940 -0.390940 -0.390940   \n",
       "0.113182 -0.390940 -0.390940 -0.390940 -0.390940 -0.390940 -0.390940   \n",
       "0.142934 -0.390940 -0.390940 -0.390940 -0.390940 -0.390940 -0.390940   \n",
       "\n",
       "               Z_6       Z_7       Z_8       Z_9  ...     n_263     n_264  \\\n",
       "0.087451 -0.390939 -0.390939 -0.390939 -0.390939  ... -0.363042 -0.363037   \n",
       "0.116249 -0.390940 -0.390940 -0.390940 -0.390940  ... -0.358534 -0.358533   \n",
       "0.110059 -0.390940 -0.390940 -0.390940 -0.390940  ... -0.358554 -0.358554   \n",
       "0.113182 -0.390940 -0.390940 -0.390940 -0.390940  ... -0.358542 -0.358542   \n",
       "0.142934 -0.390940 -0.390940 -0.390940 -0.390940  ... -0.360942 -0.360942   \n",
       "\n",
       "             n_265     n_266     n_267     n_268     n_269  Qimpact_c-1  \\\n",
       "0.087451 -0.363032 -0.363028 -0.363023 -0.363018 -0.363013    -0.235850   \n",
       "0.116249 -0.358533 -0.358533 -0.358533 -0.358533 -0.358533     0.267570   \n",
       "0.110059 -0.358554 -0.358554 -0.358554 -0.358554 -0.358554     0.134778   \n",
       "0.113182 -0.358542 -0.358542 -0.358542 -0.358542 -0.358542     0.199554   \n",
       "0.142934 -0.360942 -0.360942 -0.360941 -0.360941 -0.360941     1.149133   \n",
       "\n",
       "          Qimpact_c  Qimpact_c+1  \n",
       "0.087451  -0.235597    -0.235344  \n",
       "0.116249   0.268000     0.268429  \n",
       "0.110059   0.135153     0.135529  \n",
       "0.113182   0.199955     0.200356  \n",
       "0.142934   1.150023     1.150914  \n",
       "\n",
       "[5 rows x 1353 columns]"
      ]
     },
     "execution_count": 42,
     "metadata": {},
     "output_type": "execute_result"
    }
   ],
   "source": [
    "train_data.head()"
   ]
  },
  {
   "cell_type": "code",
   "execution_count": 43,
   "id": "95b61b62",
   "metadata": {},
   "outputs": [],
   "source": [
    "target_fields = ['Qimpact_c-1','Qimpact_c','Qimpact_c+1']\n",
    "\n",
    "train_features, train_targets = train_data.drop(target_fields, axis=1), train_data[target_fields]\n",
    "test_features, test_targets = test_data.drop(target_fields, axis=1), test_data[target_fields]\n",
    "validation_features, validation_targets = validation_data.drop(target_fields, axis=1), validation_data[target_fields]    \n"
   ]
  },
  {
   "cell_type": "code",
   "execution_count": 44,
   "id": "fb36ff15",
   "metadata": {},
   "outputs": [],
   "source": [
    "l_rate = 0.2\n",
    "mse_loss = nn.MSELoss(reduction = 'mean')"
   ]
  },
  {
   "cell_type": "code",
   "execution_count": 45,
   "id": "41b930b5",
   "metadata": {},
   "outputs": [
    {
     "data": {
      "text/plain": [
       "1350"
      ]
     },
     "execution_count": 45,
     "metadata": {},
     "output_type": "execute_result"
    }
   ],
   "source": [
    "train_features.shape[1]"
   ]
  },
  {
   "cell_type": "code",
   "execution_count": 46,
   "id": "8c5fb368",
   "metadata": {},
   "outputs": [],
   "source": [
    "class Regression(pl.LightningModule):\n",
    "    \n",
    "### The Model ### \n",
    "\n",
    "    # Question: what will your model architecture look like?\n",
    "    # Initialize the layers\n",
    "    # Here we have one input layer (size 56 #3N as we have 56 #3N features), one hidden layer (size 10), \n",
    "    # and one output layer (size 1 as we are predicting a single value)\n",
    "    def __init__(self):\n",
    "        super(Regression, self).__init__()\n",
    "        self.fc1 = nn.Linear(train_features.shape[1], 10) #Here I changed initial 56 size of fc1 to 1350=#features in \n",
    "        self.fc2 = nn.Linear(10, 3) #here i changed output size to 3 (as we have 3 target values)\n",
    "    \n",
    "\n",
    "    def forward(self, x):\n",
    "        x = torch.sigmoid(self.fc1(x))\n",
    "        x = self.fc2(x)\n",
    "        return x\n",
    "\n",
    "### Data loader ### \n",
    "    def train_dataloader(self):\n",
    "        train_dataset = TensorDataset(torch.tensor(train_features.values).float(), torch.tensor(train_targets[target_fields].values).float())\n",
    "        train_loader = DataLoader(dataset = train_dataset, batch_size = 128)\n",
    "        return train_loader\n",
    "        \n",
    "    def val_dataloader(self):\n",
    "        validation_dataset = TensorDataset(torch.tensor(validation_features.values).float(),\\\n",
    "                                           torch.tensor(validation_targets[target_fields].values).float())\n",
    "        validation_loader = DataLoader(dataset = validation_dataset, batch_size = 128)\n",
    "        return validation_loader\n",
    "    \n",
    "    def test_dataloader(self):\n",
    "        test_dataset = TensorDataset(torch.tensor(test_features.values).float(), torch.tensor(test_targets[target_fields].values).float())\n",
    "        test_loader = DataLoader(dataset = test_dataset, batch_size = 128)\n",
    "        return test_loader\n",
    "\n",
    "### The Optimizer ### \n",
    "    def configure_optimizers(self):\n",
    "        return optim.SGD(self.parameters(), lr=l_rate)\n",
    "\n",
    "### Training ### \n",
    "    def training_step(self, batch, batch_idx):\n",
    "        x, y = batch\n",
    "        logits = self.forward(x)\n",
    "        loss = mse_loss(logits, y)\n",
    "        # Add logging\n",
    "        logs = {'loss': loss}\n",
    "        return {'loss': loss, 'log': logs}\n",
    "\n",
    "### Validation ### \n",
    "    def validation_step(self, batch, batch_idx):\n",
    "        x, y = batch\n",
    "        logits = self.forward(x)\n",
    "        loss = mse_loss(logits, y)\n",
    "        return {'val_loss': loss}\n",
    "\n",
    "    # Define validation epoch end\n",
    "    def validation_epoch_end(self, outputs):\n",
    "        avg_loss = torch.stack([x['val_loss'] for x in outputs]).mean()\n",
    "        tensorboard_logs = {'val_loss': avg_loss}\n",
    "        return {'avg_val_loss': avg_loss, 'log': tensorboard_logs}\n",
    "\n",
    "### Testing ###     \n",
    "    def test_step(self, batch, batch_idx):\n",
    "        x, y = batch\n",
    "        logits = self.forward(x)\n",
    "        loss = mse_loss(logits, y)\n",
    "        correct = torch.sum(logits == y.data)\n",
    "        \n",
    "        predictions_pred.append(logits)\n",
    "        predictions_actual.append(y.data)\n",
    "        return {'test_loss': loss, 'test_correct': correct, 'logits': logits}\n",
    "    \n",
    "    # Define test end\n",
    "    def test_epoch_end(self, outputs):\n",
    "        avg_loss = torch.stack([x['test_loss'] for x in outputs]).mean()\n",
    "        logs = {'test_loss': avg_loss}      \n",
    "        return {'avg_test_loss': avg_loss, 'log': logs, 'progress_bar': logs }"
   ]
  },
  {
   "cell_type": "code",
   "execution_count": 47,
   "id": "85961c6c",
   "metadata": {},
   "outputs": [
    {
     "name": "stderr",
     "output_type": "stream",
     "text": [
      "GPU available: False, used: False\n",
      "TPU available: False, using: 0 TPU cores\n",
      "IPU available: False, using: 0 IPUs\n",
      "HPU available: False, using: 0 HPUs\n",
      "\n",
      "  | Name | Type   | Params\n",
      "--------------------------------\n",
      "0 | fc1  | Linear | 13.5 K\n",
      "1 | fc2  | Linear | 33    \n",
      "--------------------------------\n",
      "13.5 K    Trainable params\n",
      "0         Non-trainable params\n",
      "13.5 K    Total params\n",
      "0.054     Total estimated model params size (MB)\n"
     ]
    },
    {
     "data": {
      "application/vnd.jupyter.widget-view+json": {
       "model_id": "",
       "version_major": 2,
       "version_minor": 0
      },
      "text/plain": [
       "Sanity Checking: 0it [00:00, ?it/s]"
      ]
     },
     "metadata": {},
     "output_type": "display_data"
    },
    {
     "name": "stderr",
     "output_type": "stream",
     "text": [
      "C:\\Users\\aleks\\anaconda3\\lib\\site-packages\\pytorch_lightning\\trainer\\connectors\\data_connector.py:236: PossibleUserWarning: The dataloader, val_dataloader 0, does not have many workers which may be a bottleneck. Consider increasing the value of the `num_workers` argument` (try 8 which is the number of cpus on this machine) in the `DataLoader` init to improve performance.\n",
      "  rank_zero_warn(\n",
      "C:\\Users\\aleks\\anaconda3\\lib\\site-packages\\pytorch_lightning\\trainer\\connectors\\data_connector.py:236: PossibleUserWarning: The dataloader, train_dataloader, does not have many workers which may be a bottleneck. Consider increasing the value of the `num_workers` argument` (try 8 which is the number of cpus on this machine) in the `DataLoader` init to improve performance.\n",
      "  rank_zero_warn(\n"
     ]
    },
    {
     "data": {
      "application/vnd.jupyter.widget-view+json": {
       "model_id": "9d876ebaa1b948838eba5eaef49607be",
       "version_major": 2,
       "version_minor": 0
      },
      "text/plain": [
       "Training: 0it [00:00, ?it/s]"
      ]
     },
     "metadata": {},
     "output_type": "display_data"
    },
    {
     "data": {
      "application/vnd.jupyter.widget-view+json": {
       "model_id": "",
       "version_major": 2,
       "version_minor": 0
      },
      "text/plain": [
       "Validation: 0it [00:00, ?it/s]"
      ]
     },
     "metadata": {},
     "output_type": "display_data"
    },
    {
     "data": {
      "application/vnd.jupyter.widget-view+json": {
       "model_id": "",
       "version_major": 2,
       "version_minor": 0
      },
      "text/plain": [
       "Validation: 0it [00:00, ?it/s]"
      ]
     },
     "metadata": {},
     "output_type": "display_data"
    },
    {
     "data": {
      "application/vnd.jupyter.widget-view+json": {
       "model_id": "",
       "version_major": 2,
       "version_minor": 0
      },
      "text/plain": [
       "Validation: 0it [00:00, ?it/s]"
      ]
     },
     "metadata": {},
     "output_type": "display_data"
    },
    {
     "data": {
      "application/vnd.jupyter.widget-view+json": {
       "model_id": "",
       "version_major": 2,
       "version_minor": 0
      },
      "text/plain": [
       "Validation: 0it [00:00, ?it/s]"
      ]
     },
     "metadata": {},
     "output_type": "display_data"
    },
    {
     "data": {
      "application/vnd.jupyter.widget-view+json": {
       "model_id": "",
       "version_major": 2,
       "version_minor": 0
      },
      "text/plain": [
       "Validation: 0it [00:00, ?it/s]"
      ]
     },
     "metadata": {},
     "output_type": "display_data"
    },
    {
     "data": {
      "application/vnd.jupyter.widget-view+json": {
       "model_id": "",
       "version_major": 2,
       "version_minor": 0
      },
      "text/plain": [
       "Validation: 0it [00:00, ?it/s]"
      ]
     },
     "metadata": {},
     "output_type": "display_data"
    },
    {
     "data": {
      "application/vnd.jupyter.widget-view+json": {
       "model_id": "",
       "version_major": 2,
       "version_minor": 0
      },
      "text/plain": [
       "Validation: 0it [00:00, ?it/s]"
      ]
     },
     "metadata": {},
     "output_type": "display_data"
    },
    {
     "data": {
      "application/vnd.jupyter.widget-view+json": {
       "model_id": "",
       "version_major": 2,
       "version_minor": 0
      },
      "text/plain": [
       "Validation: 0it [00:00, ?it/s]"
      ]
     },
     "metadata": {},
     "output_type": "display_data"
    },
    {
     "data": {
      "application/vnd.jupyter.widget-view+json": {
       "model_id": "",
       "version_major": 2,
       "version_minor": 0
      },
      "text/plain": [
       "Validation: 0it [00:00, ?it/s]"
      ]
     },
     "metadata": {},
     "output_type": "display_data"
    },
    {
     "data": {
      "application/vnd.jupyter.widget-view+json": {
       "model_id": "",
       "version_major": 2,
       "version_minor": 0
      },
      "text/plain": [
       "Validation: 0it [00:00, ?it/s]"
      ]
     },
     "metadata": {},
     "output_type": "display_data"
    },
    {
     "data": {
      "application/vnd.jupyter.widget-view+json": {
       "model_id": "",
       "version_major": 2,
       "version_minor": 0
      },
      "text/plain": [
       "Validation: 0it [00:00, ?it/s]"
      ]
     },
     "metadata": {},
     "output_type": "display_data"
    },
    {
     "data": {
      "application/vnd.jupyter.widget-view+json": {
       "model_id": "",
       "version_major": 2,
       "version_minor": 0
      },
      "text/plain": [
       "Validation: 0it [00:00, ?it/s]"
      ]
     },
     "metadata": {},
     "output_type": "display_data"
    },
    {
     "data": {
      "application/vnd.jupyter.widget-view+json": {
       "model_id": "",
       "version_major": 2,
       "version_minor": 0
      },
      "text/plain": [
       "Validation: 0it [00:00, ?it/s]"
      ]
     },
     "metadata": {},
     "output_type": "display_data"
    },
    {
     "data": {
      "application/vnd.jupyter.widget-view+json": {
       "model_id": "",
       "version_major": 2,
       "version_minor": 0
      },
      "text/plain": [
       "Validation: 0it [00:00, ?it/s]"
      ]
     },
     "metadata": {},
     "output_type": "display_data"
    },
    {
     "data": {
      "application/vnd.jupyter.widget-view+json": {
       "model_id": "",
       "version_major": 2,
       "version_minor": 0
      },
      "text/plain": [
       "Validation: 0it [00:00, ?it/s]"
      ]
     },
     "metadata": {},
     "output_type": "display_data"
    },
    {
     "data": {
      "application/vnd.jupyter.widget-view+json": {
       "model_id": "",
       "version_major": 2,
       "version_minor": 0
      },
      "text/plain": [
       "Validation: 0it [00:00, ?it/s]"
      ]
     },
     "metadata": {},
     "output_type": "display_data"
    },
    {
     "data": {
      "application/vnd.jupyter.widget-view+json": {
       "model_id": "",
       "version_major": 2,
       "version_minor": 0
      },
      "text/plain": [
       "Validation: 0it [00:00, ?it/s]"
      ]
     },
     "metadata": {},
     "output_type": "display_data"
    },
    {
     "data": {
      "application/vnd.jupyter.widget-view+json": {
       "model_id": "",
       "version_major": 2,
       "version_minor": 0
      },
      "text/plain": [
       "Validation: 0it [00:00, ?it/s]"
      ]
     },
     "metadata": {},
     "output_type": "display_data"
    },
    {
     "data": {
      "application/vnd.jupyter.widget-view+json": {
       "model_id": "",
       "version_major": 2,
       "version_minor": 0
      },
      "text/plain": [
       "Validation: 0it [00:00, ?it/s]"
      ]
     },
     "metadata": {},
     "output_type": "display_data"
    },
    {
     "data": {
      "application/vnd.jupyter.widget-view+json": {
       "model_id": "",
       "version_major": 2,
       "version_minor": 0
      },
      "text/plain": [
       "Validation: 0it [00:00, ?it/s]"
      ]
     },
     "metadata": {},
     "output_type": "display_data"
    },
    {
     "data": {
      "application/vnd.jupyter.widget-view+json": {
       "model_id": "",
       "version_major": 2,
       "version_minor": 0
      },
      "text/plain": [
       "Validation: 0it [00:00, ?it/s]"
      ]
     },
     "metadata": {},
     "output_type": "display_data"
    },
    {
     "data": {
      "application/vnd.jupyter.widget-view+json": {
       "model_id": "",
       "version_major": 2,
       "version_minor": 0
      },
      "text/plain": [
       "Validation: 0it [00:00, ?it/s]"
      ]
     },
     "metadata": {},
     "output_type": "display_data"
    },
    {
     "data": {
      "application/vnd.jupyter.widget-view+json": {
       "model_id": "",
       "version_major": 2,
       "version_minor": 0
      },
      "text/plain": [
       "Validation: 0it [00:00, ?it/s]"
      ]
     },
     "metadata": {},
     "output_type": "display_data"
    },
    {
     "data": {
      "application/vnd.jupyter.widget-view+json": {
       "model_id": "",
       "version_major": 2,
       "version_minor": 0
      },
      "text/plain": [
       "Validation: 0it [00:00, ?it/s]"
      ]
     },
     "metadata": {},
     "output_type": "display_data"
    },
    {
     "data": {
      "application/vnd.jupyter.widget-view+json": {
       "model_id": "",
       "version_major": 2,
       "version_minor": 0
      },
      "text/plain": [
       "Validation: 0it [00:00, ?it/s]"
      ]
     },
     "metadata": {},
     "output_type": "display_data"
    },
    {
     "data": {
      "application/vnd.jupyter.widget-view+json": {
       "model_id": "",
       "version_major": 2,
       "version_minor": 0
      },
      "text/plain": [
       "Validation: 0it [00:00, ?it/s]"
      ]
     },
     "metadata": {},
     "output_type": "display_data"
    },
    {
     "data": {
      "application/vnd.jupyter.widget-view+json": {
       "model_id": "",
       "version_major": 2,
       "version_minor": 0
      },
      "text/plain": [
       "Validation: 0it [00:00, ?it/s]"
      ]
     },
     "metadata": {},
     "output_type": "display_data"
    },
    {
     "data": {
      "application/vnd.jupyter.widget-view+json": {
       "model_id": "",
       "version_major": 2,
       "version_minor": 0
      },
      "text/plain": [
       "Validation: 0it [00:00, ?it/s]"
      ]
     },
     "metadata": {},
     "output_type": "display_data"
    },
    {
     "data": {
      "application/vnd.jupyter.widget-view+json": {
       "model_id": "",
       "version_major": 2,
       "version_minor": 0
      },
      "text/plain": [
       "Validation: 0it [00:00, ?it/s]"
      ]
     },
     "metadata": {},
     "output_type": "display_data"
    },
    {
     "data": {
      "application/vnd.jupyter.widget-view+json": {
       "model_id": "",
       "version_major": 2,
       "version_minor": 0
      },
      "text/plain": [
       "Validation: 0it [00:00, ?it/s]"
      ]
     },
     "metadata": {},
     "output_type": "display_data"
    },
    {
     "data": {
      "application/vnd.jupyter.widget-view+json": {
       "model_id": "",
       "version_major": 2,
       "version_minor": 0
      },
      "text/plain": [
       "Validation: 0it [00:00, ?it/s]"
      ]
     },
     "metadata": {},
     "output_type": "display_data"
    },
    {
     "data": {
      "application/vnd.jupyter.widget-view+json": {
       "model_id": "",
       "version_major": 2,
       "version_minor": 0
      },
      "text/plain": [
       "Validation: 0it [00:00, ?it/s]"
      ]
     },
     "metadata": {},
     "output_type": "display_data"
    },
    {
     "data": {
      "application/vnd.jupyter.widget-view+json": {
       "model_id": "",
       "version_major": 2,
       "version_minor": 0
      },
      "text/plain": [
       "Validation: 0it [00:00, ?it/s]"
      ]
     },
     "metadata": {},
     "output_type": "display_data"
    },
    {
     "data": {
      "application/vnd.jupyter.widget-view+json": {
       "model_id": "",
       "version_major": 2,
       "version_minor": 0
      },
      "text/plain": [
       "Validation: 0it [00:00, ?it/s]"
      ]
     },
     "metadata": {},
     "output_type": "display_data"
    },
    {
     "data": {
      "application/vnd.jupyter.widget-view+json": {
       "model_id": "",
       "version_major": 2,
       "version_minor": 0
      },
      "text/plain": [
       "Validation: 0it [00:00, ?it/s]"
      ]
     },
     "metadata": {},
     "output_type": "display_data"
    },
    {
     "data": {
      "application/vnd.jupyter.widget-view+json": {
       "model_id": "",
       "version_major": 2,
       "version_minor": 0
      },
      "text/plain": [
       "Validation: 0it [00:00, ?it/s]"
      ]
     },
     "metadata": {},
     "output_type": "display_data"
    },
    {
     "data": {
      "application/vnd.jupyter.widget-view+json": {
       "model_id": "",
       "version_major": 2,
       "version_minor": 0
      },
      "text/plain": [
       "Validation: 0it [00:00, ?it/s]"
      ]
     },
     "metadata": {},
     "output_type": "display_data"
    },
    {
     "data": {
      "application/vnd.jupyter.widget-view+json": {
       "model_id": "",
       "version_major": 2,
       "version_minor": 0
      },
      "text/plain": [
       "Validation: 0it [00:00, ?it/s]"
      ]
     },
     "metadata": {},
     "output_type": "display_data"
    },
    {
     "data": {
      "application/vnd.jupyter.widget-view+json": {
       "model_id": "",
       "version_major": 2,
       "version_minor": 0
      },
      "text/plain": [
       "Validation: 0it [00:00, ?it/s]"
      ]
     },
     "metadata": {},
     "output_type": "display_data"
    },
    {
     "data": {
      "application/vnd.jupyter.widget-view+json": {
       "model_id": "",
       "version_major": 2,
       "version_minor": 0
      },
      "text/plain": [
       "Validation: 0it [00:00, ?it/s]"
      ]
     },
     "metadata": {},
     "output_type": "display_data"
    },
    {
     "data": {
      "application/vnd.jupyter.widget-view+json": {
       "model_id": "",
       "version_major": 2,
       "version_minor": 0
      },
      "text/plain": [
       "Validation: 0it [00:00, ?it/s]"
      ]
     },
     "metadata": {},
     "output_type": "display_data"
    },
    {
     "data": {
      "application/vnd.jupyter.widget-view+json": {
       "model_id": "",
       "version_major": 2,
       "version_minor": 0
      },
      "text/plain": [
       "Validation: 0it [00:00, ?it/s]"
      ]
     },
     "metadata": {},
     "output_type": "display_data"
    },
    {
     "data": {
      "application/vnd.jupyter.widget-view+json": {
       "model_id": "",
       "version_major": 2,
       "version_minor": 0
      },
      "text/plain": [
       "Validation: 0it [00:00, ?it/s]"
      ]
     },
     "metadata": {},
     "output_type": "display_data"
    },
    {
     "data": {
      "application/vnd.jupyter.widget-view+json": {
       "model_id": "",
       "version_major": 2,
       "version_minor": 0
      },
      "text/plain": [
       "Validation: 0it [00:00, ?it/s]"
      ]
     },
     "metadata": {},
     "output_type": "display_data"
    },
    {
     "data": {
      "application/vnd.jupyter.widget-view+json": {
       "model_id": "",
       "version_major": 2,
       "version_minor": 0
      },
      "text/plain": [
       "Validation: 0it [00:00, ?it/s]"
      ]
     },
     "metadata": {},
     "output_type": "display_data"
    },
    {
     "data": {
      "application/vnd.jupyter.widget-view+json": {
       "model_id": "",
       "version_major": 2,
       "version_minor": 0
      },
      "text/plain": [
       "Validation: 0it [00:00, ?it/s]"
      ]
     },
     "metadata": {},
     "output_type": "display_data"
    },
    {
     "data": {
      "application/vnd.jupyter.widget-view+json": {
       "model_id": "",
       "version_major": 2,
       "version_minor": 0
      },
      "text/plain": [
       "Validation: 0it [00:00, ?it/s]"
      ]
     },
     "metadata": {},
     "output_type": "display_data"
    },
    {
     "data": {
      "application/vnd.jupyter.widget-view+json": {
       "model_id": "",
       "version_major": 2,
       "version_minor": 0
      },
      "text/plain": [
       "Validation: 0it [00:00, ?it/s]"
      ]
     },
     "metadata": {},
     "output_type": "display_data"
    },
    {
     "data": {
      "application/vnd.jupyter.widget-view+json": {
       "model_id": "",
       "version_major": 2,
       "version_minor": 0
      },
      "text/plain": [
       "Validation: 0it [00:00, ?it/s]"
      ]
     },
     "metadata": {},
     "output_type": "display_data"
    },
    {
     "data": {
      "application/vnd.jupyter.widget-view+json": {
       "model_id": "",
       "version_major": 2,
       "version_minor": 0
      },
      "text/plain": [
       "Validation: 0it [00:00, ?it/s]"
      ]
     },
     "metadata": {},
     "output_type": "display_data"
    },
    {
     "name": "stderr",
     "output_type": "stream",
     "text": [
      "`Trainer.fit` stopped: `max_epochs=50` reached.\n"
     ]
    }
   ],
   "source": [
    "model = Regression()\n",
    "trainer = Trainer(max_epochs = 50)  # Option to check if it's working at all: fast_dev_run=True \n",
    "                                    # Option to implement early stopping: early_stop_callback=True\n",
    "trainer.fit(model)"
   ]
  },
  {
   "cell_type": "code",
   "execution_count": 48,
   "id": "1a4fa6a4",
   "metadata": {},
   "outputs": [
    {
     "name": "stderr",
     "output_type": "stream",
     "text": [
      "C:\\Users\\aleks\\anaconda3\\lib\\site-packages\\pytorch_lightning\\trainer\\trainer.py:1386: UserWarning: `.test(ckpt_path=None)` was called without a model. The best model of the previous `fit` call will be used. You can pass `.test(ckpt_path='best')` to use the best model or `.test(ckpt_path='last')` to use the last model. If you pass a value, this warning will be silenced.\n",
      "  rank_zero_warn(\n",
      "Restoring states from the checkpoint path at C:\\Users\\aleks\\Projects\\arameic-mishmash\\Bachelor\\lightning_logs\\version_18\\checkpoints\\epoch=49-step=3050.ckpt\n",
      "Loaded model weights from checkpoint at C:\\Users\\aleks\\Projects\\arameic-mishmash\\Bachelor\\lightning_logs\\version_18\\checkpoints\\epoch=49-step=3050.ckpt\n",
      "C:\\Users\\aleks\\anaconda3\\lib\\site-packages\\pytorch_lightning\\trainer\\connectors\\data_connector.py:236: PossibleUserWarning: The dataloader, test_dataloader 0, does not have many workers which may be a bottleneck. Consider increasing the value of the `num_workers` argument` (try 8 which is the number of cpus on this machine) in the `DataLoader` init to improve performance.\n",
      "  rank_zero_warn(\n"
     ]
    },
    {
     "data": {
      "application/vnd.jupyter.widget-view+json": {
       "model_id": "48c2c561911d4956883f37ab74a47bdf",
       "version_major": 2,
       "version_minor": 0
      },
      "text/plain": [
       "Testing: 0it [00:00, ?it/s]"
      ]
     },
     "metadata": {},
     "output_type": "display_data"
    },
    {
     "data": {
      "text/plain": [
       "[{}]"
      ]
     },
     "execution_count": 48,
     "metadata": {},
     "output_type": "execute_result"
    }
   ],
   "source": [
    "predictions_pred = []\n",
    "predictions_actual = []\n",
    "trainer.test()"
   ]
  },
  {
   "cell_type": "code",
   "execution_count": 49,
   "id": "b09e1312",
   "metadata": {},
   "outputs": [
    {
     "data": {
      "text/plain": [
       "Regression(\n",
       "  (fc1): Linear(in_features=1350, out_features=10, bias=True)\n",
       "  (fc2): Linear(in_features=10, out_features=3, bias=True)\n",
       ")"
      ]
     },
     "execution_count": 49,
     "metadata": {},
     "output_type": "execute_result"
    }
   ],
   "source": [
    "torch.save(model.state_dict(), f'{path}/model.pt')\n",
    "model.eval()"
   ]
  },
  {
   "cell_type": "code",
   "execution_count": 50,
   "id": "4fe79d9f",
   "metadata": {},
   "outputs": [
    {
     "name": "stdout",
     "output_type": "stream",
     "text": [
      "length of pred_actual 77 \n",
      "size of tenzors inside pred_actual torch.Size([128, 3])\n"
     ]
    }
   ],
   "source": [
    "print('length of pred_actual',len(predictions_actual),'\\nsize of tenzors inside pred_actual',predictions_actual[3].size())"
   ]
  },
  {
   "cell_type": "code",
   "execution_count": 51,
   "id": "a270416f",
   "metadata": {},
   "outputs": [],
   "source": [
    "# convert my predicted values back to actual numbers of bike rides again, instead of the scaled values used to predict on\n",
    "data_scaling=pd.read_csv(f'{path}/data_scaling.csv', header=0, index_col=0)\n",
    "mean = data_scaling['Qimpact'][0]\n",
    "std = data_scaling['Qimpact'][1]"
   ]
  },
  {
   "cell_type": "code",
   "execution_count": 52,
   "id": "c2b92742",
   "metadata": {},
   "outputs": [
    {
     "data": {
      "text/html": [
       "<div>\n",
       "<style scoped>\n",
       "    .dataframe tbody tr th:only-of-type {\n",
       "        vertical-align: middle;\n",
       "    }\n",
       "\n",
       "    .dataframe tbody tr th {\n",
       "        vertical-align: top;\n",
       "    }\n",
       "\n",
       "    .dataframe thead th {\n",
       "        text-align: right;\n",
       "    }\n",
       "</style>\n",
       "<table border=\"1\" class=\"dataframe\">\n",
       "  <thead>\n",
       "    <tr style=\"text-align: right;\">\n",
       "      <th></th>\n",
       "      <th>Z</th>\n",
       "      <th>T</th>\n",
       "      <th>Kn</th>\n",
       "      <th>n</th>\n",
       "      <th>Qimpact</th>\n",
       "    </tr>\n",
       "  </thead>\n",
       "  <tbody>\n",
       "    <tr>\n",
       "      <th>mean</th>\n",
       "      <td>6.636804</td>\n",
       "      <td>2205.480397</td>\n",
       "      <td>-0.021059</td>\n",
       "      <td>1.121635e+21</td>\n",
       "      <td>2.712235e+13</td>\n",
       "    </tr>\n",
       "    <tr>\n",
       "      <th>std</th>\n",
       "      <td>11.862872</td>\n",
       "      <td>688.061478</td>\n",
       "      <td>0.051320</td>\n",
       "      <td>1.691621e+21</td>\n",
       "      <td>2.477510e+13</td>\n",
       "    </tr>\n",
       "  </tbody>\n",
       "</table>\n",
       "</div>"
      ],
      "text/plain": [
       "              Z            T        Kn             n       Qimpact\n",
       "mean   6.636804  2205.480397 -0.021059  1.121635e+21  2.712235e+13\n",
       "std   11.862872   688.061478  0.051320  1.691621e+21  2.477510e+13"
      ]
     },
     "execution_count": 52,
     "metadata": {},
     "output_type": "execute_result"
    }
   ],
   "source": [
    "data_scaling"
   ]
  },
  {
   "cell_type": "markdown",
   "id": "d34da269",
   "metadata": {},
   "source": [
    "## Ploting part"
   ]
  },
  {
   "cell_type": "code",
   "execution_count": 67,
   "id": "fa460a34",
   "metadata": {},
   "outputs": [],
   "source": [
    "figuresize=6.5\n",
    "import matplotlib.font_manager as fm\n",
    "mpl.rcParams['font.family'] = 'Avenir'\n",
    "plt.rcParams['axes.linewidth'] = 0.5"
   ]
  },
  {
   "cell_type": "code",
   "execution_count": 68,
   "id": "e5d66bb0",
   "metadata": {},
   "outputs": [],
   "source": [
    "# Get dates for plotting\n",
    "datesx = scaled_Qdata.index\n",
    "\n",
    "# Get predicted points (scaled back to their original size)\n",
    "plot_pred = []\n",
    "for i in range(len(predictions_pred)):\n",
    "    plot_pred.extend(predictions_pred[i].T.numpy()[0] * std + mean)\n",
    "\n",
    "# Get actual points (scaled back to their original size)\n",
    "plot_actual = []\n",
    "for i in range(len(predictions_actual)):\n",
    "    plot_actual.extend(predictions_actual[i].T.numpy()[0] * std + mean)   "
   ]
  },
  {
   "cell_type": "markdown",
   "id": "a2b8672f",
   "metadata": {},
   "source": [
    "**Predicted heat flux**"
   ]
  },
  {
   "cell_type": "code",
   "execution_count": 69,
   "id": "69e02c77",
   "metadata": {},
   "outputs": [
    {
     "data": {
      "text/plain": [
       "<matplotlib.legend.Legend at 0x1df9525a610>"
      ]
     },
     "execution_count": 69,
     "metadata": {},
     "output_type": "execute_result"
    },
    {
     "data": {
      "application/vnd.jupyter.widget-view+json": {
       "model_id": "9191f4d12cf040fcb1ff77881f057e85",
       "version_major": 2,
       "version_minor": 0
      },
      "image/png": "[encoded data removed]",
      "text/html": [
       "\n",
       "            <div style=\"display: inline-block;\">\n",
       "                <div class=\"jupyter-widgets widget-label\" style=\"text-align: center;\">\n",
       "                    Figure\n",
       "                </div>\n",
       "                <img src='data:image/png;base64,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' width=1000.0/>\n",
       "            </div>\n",
       "        "
      ],
      "text/plain": [
       "Canvas(toolbar=Toolbar(toolitems=[('Home', 'Reset original view', 'home', 'home'), ('Back', 'Back to previous …"
      ]
     },
     "metadata": {},
     "output_type": "display_data"
    }
   ],
   "source": [
    "# And finally we can see that our network has done a decent job of estimating!\n",
    "fig, ax = plt.subplots(figsize=(10,4))\n",
    "ax.plot(scaled_Qdata.index,plot_pred, label='Prediction')\n",
    "ax.plot(scaled_Qdata.index,plot_actual, label='Data', color='r')\n",
    "ax.set_xlabel('cm')\n",
    "ax.set_ylabel('W/cm$^2$')\n",
    "ax.legend()"
   ]
  },
  {
   "cell_type": "markdown",
   "id": "5a08b3a9",
   "metadata": {},
   "source": [
    "**Gradients of predicted heat flux and initial data**"
   ]
  },
  {
   "cell_type": "code",
   "execution_count": 55,
   "id": "5b56778d",
   "metadata": {},
   "outputs": [],
   "source": [
    "gradQpred=np.gradient(plot_pred, scaled_Qdata.index)\n",
    "gradQact=np.gradient(plot_actual, scaled_Qdata.index)"
   ]
  },
  {
   "cell_type": "code",
   "execution_count": 66,
   "id": "ea5e474d",
   "metadata": {},
   "outputs": [
    {
     "data": {
      "text/plain": [
       "Text(0, 0.5, 'W/cm$^3$')"
      ]
     },
     "execution_count": 66,
     "metadata": {},
     "output_type": "execute_result"
    },
    {
     "data": {
      "application/vnd.jupyter.widget-view+json": {
       "model_id": "836c1fde6800482b8b1f08d2fde294e8",
       "version_major": 2,
       "version_minor": 0
      },
      "image/png": "[encoded data removed]",
      "text/html": [
       "\n",
       "            <div style=\"display: inline-block;\">\n",
       "                <div class=\"jupyter-widgets widget-label\" style=\"text-align: center;\">\n",
       "                    Figure\n",
       "                </div>\n",
       "                <img src='data:image/png;base64,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' width=1000.0/>\n",
       "            </div>\n",
       "        "
      ],
      "text/plain": [
       "Canvas(toolbar=Toolbar(toolitems=[('Home', 'Reset original view', 'home', 'home'), ('Back', 'Back to previous …"
      ]
     },
     "metadata": {},
     "output_type": "display_data"
    }
   ],
   "source": [
    "fig2, ax2 = plt.subplots(figsize=(10,4))\n",
    "ax2.plot(scaled_Qdata.index,gradQpred, label='Prediction grad')\n",
    "ax2.plot(scaled_Qdata.index,gradQact, label='Data grad', color='orange')\n",
    "ax2.legend()\n",
    "ax2.set_xlabel('cm')\n",
    "ax2.set_ylabel('W/cm$^3$')\n"
   ]
  },
  {
   "cell_type": "code",
   "execution_count": null,
   "id": "864d7766",
   "metadata": {},
   "outputs": [],
   "source": []
  }
 ],
 "metadata": {
  "kernelspec": {
   "display_name": "Python 3 (ipykernel)",
   "language": "python",
   "name": "python3"
  },
  "language_info": {
   "codemirror_mode": {
    "name": "ipython",
    "version": 3
   },
   "file_extension": ".py",
   "mimetype": "text/x-python",
   "name": "python",
   "nbconvert_exporter": "python",
   "pygments_lexer": "ipython3",
   "version": "3.9.13"
  }
 },
 "nbformat": 4,
 "nbformat_minor": 5
}
