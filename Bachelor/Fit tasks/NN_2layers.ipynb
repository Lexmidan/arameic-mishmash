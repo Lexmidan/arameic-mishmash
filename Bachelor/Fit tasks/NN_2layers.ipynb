{
 "cells": [
  {
   "cell_type": "markdown",
   "id": "561b56bc",
   "metadata": {},
   "source": [
    "# **Neural network part of Qimpact project**\n",
    "**Data was proceeded and prepared for NN in Qimpact.jpynb, here's the implementation of NN itself**"
   ]
  },
  {
   "cell_type": "code",
   "execution_count": 93,
   "id": "b5c55cda",
   "metadata": {},
   "outputs": [],
   "source": [
    "import torch\n",
    "import torch.optim as optim\n",
    "import torch.nn as nn\n",
    "from torch.utils.data import Dataset, TensorDataset, DataLoader\n",
    "import pytorch_lightning as pl\n",
    "from pytorch_lightning import Trainer\n",
    "from pytorch_lightning.profiler import Profiler, AdvancedProfiler\n",
    "import numpy as np\n",
    "import pandas as pd\n",
    "from matplotlib import pyplot as plt\n",
    "import matplotlib as mpl\n",
    "from PIL import Image\n",
    "%matplotlib ipympl\n",
    "from scipy.ndimage import gaussian_filter1d\n",
    "from scipy.optimize import curve_fit\n",
    "from scipy.interpolate import CubicSpline\n",
    "import math\n",
    "import sys\n",
    "\n",
    "#!!!\n",
    "import scienceplots\n",
    "path='C:/Users/aleks/Projects/arameic-mishmash/Bachelor/Data'\n",
    "plt.style.use('science')\n",
    "#!!!"
   ]
  },
  {
   "cell_type": "markdown",
   "id": "ff9c5c96",
   "metadata": {},
   "source": [
    "**Size of test and validation data (Rest will be used for training)**"
   ]
  },
  {
   "cell_type": "code",
   "execution_count": 50,
   "id": "edd39c03",
   "metadata": {},
   "outputs": [],
   "source": [
    "validationsize=1000 #how many samples will be used as traindata\n",
    "testsize=1000"
   ]
  },
  {
   "cell_type": "markdown",
   "id": "916f136c",
   "metadata": {},
   "source": [
    "**Importing already scaled data, that were created in Qimpact.jupynb**"
   ]
  },
  {
   "cell_type": "code",
   "execution_count": 51,
   "id": "fdb36653",
   "metadata": {},
   "outputs": [
    {
     "name": "stdout",
     "output_type": "stream",
     "text": [
      "(9731, 1353)\n"
     ]
    },
    {
     "data": {
      "text/html": [
       "<div>\n",
       "<style scoped>\n",
       "    .dataframe tbody tr th:only-of-type {\n",
       "        vertical-align: middle;\n",
       "    }\n",
       "\n",
       "    .dataframe tbody tr th {\n",
       "        vertical-align: top;\n",
       "    }\n",
       "\n",
       "    .dataframe thead th {\n",
       "        text-align: right;\n",
       "    }\n",
       "</style>\n",
       "<table border=\"1\" class=\"dataframe\">\n",
       "  <thead>\n",
       "    <tr style=\"text-align: right;\">\n",
       "      <th></th>\n",
       "      <th>Z_0</th>\n",
       "      <th>Z_1</th>\n",
       "      <th>Z_2</th>\n",
       "      <th>Z_3</th>\n",
       "      <th>Z_4</th>\n",
       "      <th>Z_5</th>\n",
       "      <th>Z_6</th>\n",
       "      <th>Z_7</th>\n",
       "      <th>Z_8</th>\n",
       "      <th>Z_9</th>\n",
       "      <th>...</th>\n",
       "      <th>n_263</th>\n",
       "      <th>n_264</th>\n",
       "      <th>n_265</th>\n",
       "      <th>n_266</th>\n",
       "      <th>n_267</th>\n",
       "      <th>n_268</th>\n",
       "      <th>n_269</th>\n",
       "      <th>Qimpact_c-1</th>\n",
       "      <th>Qimpact_c</th>\n",
       "      <th>Qimpact_c+1</th>\n",
       "    </tr>\n",
       "  </thead>\n",
       "  <tbody>\n",
       "    <tr>\n",
       "      <th>0.003694</th>\n",
       "      <td>-0.390936</td>\n",
       "      <td>-0.390936</td>\n",
       "      <td>-0.390936</td>\n",
       "      <td>-0.390936</td>\n",
       "      <td>-0.390936</td>\n",
       "      <td>-0.390936</td>\n",
       "      <td>-0.390936</td>\n",
       "      <td>-0.390936</td>\n",
       "      <td>-0.390936</td>\n",
       "      <td>-0.390936</td>\n",
       "      <td>...</td>\n",
       "      <td>-0.387512</td>\n",
       "      <td>-0.387510</td>\n",
       "      <td>-0.387508</td>\n",
       "      <td>-0.387506</td>\n",
       "      <td>-0.387503</td>\n",
       "      <td>-0.387501</td>\n",
       "      <td>-0.387499</td>\n",
       "      <td>-1.063465</td>\n",
       "      <td>-1.063306</td>\n",
       "      <td>-1.063147</td>\n",
       "    </tr>\n",
       "    <tr>\n",
       "      <th>0.003712</th>\n",
       "      <td>-0.390936</td>\n",
       "      <td>-0.390936</td>\n",
       "      <td>-0.390936</td>\n",
       "      <td>-0.390936</td>\n",
       "      <td>-0.390936</td>\n",
       "      <td>-0.390936</td>\n",
       "      <td>-0.390936</td>\n",
       "      <td>-0.390936</td>\n",
       "      <td>-0.390936</td>\n",
       "      <td>-0.390936</td>\n",
       "      <td>...</td>\n",
       "      <td>-0.387510</td>\n",
       "      <td>-0.387508</td>\n",
       "      <td>-0.387506</td>\n",
       "      <td>-0.387503</td>\n",
       "      <td>-0.387501</td>\n",
       "      <td>-0.387499</td>\n",
       "      <td>-0.387497</td>\n",
       "      <td>-1.063306</td>\n",
       "      <td>-1.063147</td>\n",
       "      <td>-1.062988</td>\n",
       "    </tr>\n",
       "    <tr>\n",
       "      <th>0.003731</th>\n",
       "      <td>-0.390936</td>\n",
       "      <td>-0.390936</td>\n",
       "      <td>-0.390936</td>\n",
       "      <td>-0.390936</td>\n",
       "      <td>-0.390936</td>\n",
       "      <td>-0.390936</td>\n",
       "      <td>-0.390936</td>\n",
       "      <td>-0.390936</td>\n",
       "      <td>-0.390936</td>\n",
       "      <td>-0.390936</td>\n",
       "      <td>...</td>\n",
       "      <td>-0.387508</td>\n",
       "      <td>-0.387506</td>\n",
       "      <td>-0.387503</td>\n",
       "      <td>-0.387501</td>\n",
       "      <td>-0.387499</td>\n",
       "      <td>-0.387497</td>\n",
       "      <td>-0.387495</td>\n",
       "      <td>-1.063147</td>\n",
       "      <td>-1.062988</td>\n",
       "      <td>-1.062829</td>\n",
       "    </tr>\n",
       "    <tr>\n",
       "      <th>0.003750</th>\n",
       "      <td>-0.390936</td>\n",
       "      <td>-0.390936</td>\n",
       "      <td>-0.390936</td>\n",
       "      <td>-0.390936</td>\n",
       "      <td>-0.390936</td>\n",
       "      <td>-0.390936</td>\n",
       "      <td>-0.390936</td>\n",
       "      <td>-0.390936</td>\n",
       "      <td>-0.390936</td>\n",
       "      <td>-0.390936</td>\n",
       "      <td>...</td>\n",
       "      <td>-0.387506</td>\n",
       "      <td>-0.387503</td>\n",
       "      <td>-0.387501</td>\n",
       "      <td>-0.387499</td>\n",
       "      <td>-0.387497</td>\n",
       "      <td>-0.387495</td>\n",
       "      <td>-0.387493</td>\n",
       "      <td>-1.062988</td>\n",
       "      <td>-1.062829</td>\n",
       "      <td>-1.062670</td>\n",
       "    </tr>\n",
       "    <tr>\n",
       "      <th>0.003768</th>\n",
       "      <td>-0.390936</td>\n",
       "      <td>-0.390936</td>\n",
       "      <td>-0.390936</td>\n",
       "      <td>-0.390936</td>\n",
       "      <td>-0.390936</td>\n",
       "      <td>-0.390936</td>\n",
       "      <td>-0.390936</td>\n",
       "      <td>-0.390936</td>\n",
       "      <td>-0.390936</td>\n",
       "      <td>-0.390936</td>\n",
       "      <td>...</td>\n",
       "      <td>-0.387503</td>\n",
       "      <td>-0.387501</td>\n",
       "      <td>-0.387499</td>\n",
       "      <td>-0.387497</td>\n",
       "      <td>-0.387495</td>\n",
       "      <td>-0.387493</td>\n",
       "      <td>-0.387491</td>\n",
       "      <td>-1.062829</td>\n",
       "      <td>-1.062670</td>\n",
       "      <td>-1.062511</td>\n",
       "    </tr>\n",
       "  </tbody>\n",
       "</table>\n",
       "<p>5 rows × 1353 columns</p>\n",
       "</div>"
      ],
      "text/plain": [
       "               Z_0       Z_1       Z_2       Z_3       Z_4       Z_5  \\\n",
       "0.003694 -0.390936 -0.390936 -0.390936 -0.390936 -0.390936 -0.390936   \n",
       "0.003712 -0.390936 -0.390936 -0.390936 -0.390936 -0.390936 -0.390936   \n",
       "0.003731 -0.390936 -0.390936 -0.390936 -0.390936 -0.390936 -0.390936   \n",
       "0.003750 -0.390936 -0.390936 -0.390936 -0.390936 -0.390936 -0.390936   \n",
       "0.003768 -0.390936 -0.390936 -0.390936 -0.390936 -0.390936 -0.390936   \n",
       "\n",
       "               Z_6       Z_7       Z_8       Z_9  ...     n_263     n_264  \\\n",
       "0.003694 -0.390936 -0.390936 -0.390936 -0.390936  ... -0.387512 -0.387510   \n",
       "0.003712 -0.390936 -0.390936 -0.390936 -0.390936  ... -0.387510 -0.387508   \n",
       "0.003731 -0.390936 -0.390936 -0.390936 -0.390936  ... -0.387508 -0.387506   \n",
       "0.003750 -0.390936 -0.390936 -0.390936 -0.390936  ... -0.387506 -0.387503   \n",
       "0.003768 -0.390936 -0.390936 -0.390936 -0.390936  ... -0.387503 -0.387501   \n",
       "\n",
       "             n_265     n_266     n_267     n_268     n_269  Qimpact_c-1  \\\n",
       "0.003694 -0.387508 -0.387506 -0.387503 -0.387501 -0.387499    -1.063465   \n",
       "0.003712 -0.387506 -0.387503 -0.387501 -0.387499 -0.387497    -1.063306   \n",
       "0.003731 -0.387503 -0.387501 -0.387499 -0.387497 -0.387495    -1.063147   \n",
       "0.003750 -0.387501 -0.387499 -0.387497 -0.387495 -0.387493    -1.062988   \n",
       "0.003768 -0.387499 -0.387497 -0.387495 -0.387493 -0.387491    -1.062829   \n",
       "\n",
       "          Qimpact_c  Qimpact_c+1  \n",
       "0.003694  -1.063306    -1.063147  \n",
       "0.003712  -1.063147    -1.062988  \n",
       "0.003731  -1.062988    -1.062829  \n",
       "0.003750  -1.062829    -1.062670  \n",
       "0.003768  -1.062670    -1.062511  \n",
       "\n",
       "[5 rows x 1353 columns]"
      ]
     },
     "execution_count": 51,
     "metadata": {},
     "output_type": "execute_result"
    }
   ],
   "source": [
    "scaled_Qdata = pd.read_csv(f'{path}/scaled_QData_gradT.csv', header=0, index_col=0)  #qdata\n",
    "print(scaled_Qdata.shape)\n",
    "scaled_Qdata.head()"
   ]
  },
  {
   "cell_type": "markdown",
   "id": "8186b0e2",
   "metadata": {},
   "source": [
    "**Shuffling and spliting data**"
   ]
  },
  {
   "cell_type": "code",
   "execution_count": 52,
   "id": "1c8e8b89",
   "metadata": {},
   "outputs": [
    {
     "data": {
      "text/plain": [
       "(9731, 1353)"
      ]
     },
     "execution_count": 52,
     "metadata": {},
     "output_type": "execute_result"
    }
   ],
   "source": [
    "scaled_Qdata.shape"
   ]
  },
  {
   "cell_type": "code",
   "execution_count": 53,
   "id": "70613231",
   "metadata": {},
   "outputs": [
    {
     "name": "stdout",
     "output_type": "stream",
     "text": [
      "Training dataset size:  (7731, 1353) \n",
      "Testing dataset size:  (9731, 1353) \n",
      "Validation dataset size:  (1000, 1353)\n"
     ]
    }
   ],
   "source": [
    "shuffled_Qdata=scaled_Qdata.sample(n=scaled_Qdata.shape[0])\n",
    "\n",
    "validation_data=shuffled_Qdata.iloc[:validationsize]\n",
    "test_data=scaled_Qdata\n",
    "train_data=shuffled_Qdata.iloc[validationsize+testsize:]\n",
    "\n",
    "print('Training dataset size: ', train_data.shape, '\\nTesting dataset size: ',test_data.shape,'\\nValidation dataset size: ', validation_data.shape)"
   ]
  },
  {
   "cell_type": "code",
   "execution_count": 54,
   "id": "2b0a429e",
   "metadata": {},
   "outputs": [
    {
     "data": {
      "text/html": [
       "<div>\n",
       "<style scoped>\n",
       "    .dataframe tbody tr th:only-of-type {\n",
       "        vertical-align: middle;\n",
       "    }\n",
       "\n",
       "    .dataframe tbody tr th {\n",
       "        vertical-align: top;\n",
       "    }\n",
       "\n",
       "    .dataframe thead th {\n",
       "        text-align: right;\n",
       "    }\n",
       "</style>\n",
       "<table border=\"1\" class=\"dataframe\">\n",
       "  <thead>\n",
       "    <tr style=\"text-align: right;\">\n",
       "      <th></th>\n",
       "      <th>Z_0</th>\n",
       "      <th>Z_1</th>\n",
       "      <th>Z_2</th>\n",
       "      <th>Z_3</th>\n",
       "      <th>Z_4</th>\n",
       "      <th>Z_5</th>\n",
       "      <th>Z_6</th>\n",
       "      <th>Z_7</th>\n",
       "      <th>Z_8</th>\n",
       "      <th>Z_9</th>\n",
       "      <th>...</th>\n",
       "      <th>n_263</th>\n",
       "      <th>n_264</th>\n",
       "      <th>n_265</th>\n",
       "      <th>n_266</th>\n",
       "      <th>n_267</th>\n",
       "      <th>n_268</th>\n",
       "      <th>n_269</th>\n",
       "      <th>Qimpact_c-1</th>\n",
       "      <th>Qimpact_c</th>\n",
       "      <th>Qimpact_c+1</th>\n",
       "    </tr>\n",
       "  </thead>\n",
       "  <tbody>\n",
       "    <tr>\n",
       "      <th>0.073819</th>\n",
       "      <td>-0.390938</td>\n",
       "      <td>-0.390938</td>\n",
       "      <td>-0.390938</td>\n",
       "      <td>-0.390938</td>\n",
       "      <td>-0.390938</td>\n",
       "      <td>-0.390938</td>\n",
       "      <td>-0.390938</td>\n",
       "      <td>-0.390938</td>\n",
       "      <td>-0.390938</td>\n",
       "      <td>-0.390938</td>\n",
       "      <td>...</td>\n",
       "      <td>-0.366730</td>\n",
       "      <td>-0.366724</td>\n",
       "      <td>-0.366719</td>\n",
       "      <td>-0.366714</td>\n",
       "      <td>-0.366708</td>\n",
       "      <td>-0.366703</td>\n",
       "      <td>-0.366698</td>\n",
       "      <td>-0.405012</td>\n",
       "      <td>-0.404798</td>\n",
       "      <td>-0.404584</td>\n",
       "    </tr>\n",
       "    <tr>\n",
       "      <th>0.160194</th>\n",
       "      <td>-0.390941</td>\n",
       "      <td>-0.390941</td>\n",
       "      <td>-0.390941</td>\n",
       "      <td>-0.390941</td>\n",
       "      <td>-0.390941</td>\n",
       "      <td>-0.390941</td>\n",
       "      <td>-0.390941</td>\n",
       "      <td>-0.390941</td>\n",
       "      <td>-0.390941</td>\n",
       "      <td>-0.390941</td>\n",
       "      <td>...</td>\n",
       "      <td>-0.184084</td>\n",
       "      <td>-0.180556</td>\n",
       "      <td>-0.176997</td>\n",
       "      <td>-0.173407</td>\n",
       "      <td>-0.169786</td>\n",
       "      <td>-0.166135</td>\n",
       "      <td>-0.162454</td>\n",
       "      <td>2.279241</td>\n",
       "      <td>2.280782</td>\n",
       "      <td>2.282322</td>\n",
       "    </tr>\n",
       "    <tr>\n",
       "      <th>0.179698</th>\n",
       "      <td>2.617405</td>\n",
       "      <td>2.617370</td>\n",
       "      <td>2.617334</td>\n",
       "      <td>2.617298</td>\n",
       "      <td>2.617263</td>\n",
       "      <td>2.617228</td>\n",
       "      <td>2.617193</td>\n",
       "      <td>2.617159</td>\n",
       "      <td>2.617125</td>\n",
       "      <td>2.617091</td>\n",
       "      <td>...</td>\n",
       "      <td>2.769202</td>\n",
       "      <td>2.771723</td>\n",
       "      <td>2.774271</td>\n",
       "      <td>2.776845</td>\n",
       "      <td>2.779446</td>\n",
       "      <td>2.782074</td>\n",
       "      <td>2.784728</td>\n",
       "      <td>-0.833537</td>\n",
       "      <td>-0.834368</td>\n",
       "      <td>-0.835197</td>\n",
       "    </tr>\n",
       "    <tr>\n",
       "      <th>0.081186</th>\n",
       "      <td>-0.390938</td>\n",
       "      <td>-0.390938</td>\n",
       "      <td>-0.390938</td>\n",
       "      <td>-0.390938</td>\n",
       "      <td>-0.390938</td>\n",
       "      <td>-0.390938</td>\n",
       "      <td>-0.390938</td>\n",
       "      <td>-0.390938</td>\n",
       "      <td>-0.390938</td>\n",
       "      <td>-0.390938</td>\n",
       "      <td>...</td>\n",
       "      <td>-0.364687</td>\n",
       "      <td>-0.364682</td>\n",
       "      <td>-0.364677</td>\n",
       "      <td>-0.364672</td>\n",
       "      <td>-0.364667</td>\n",
       "      <td>-0.364662</td>\n",
       "      <td>-0.364657</td>\n",
       "      <td>-0.317115</td>\n",
       "      <td>-0.316882</td>\n",
       "      <td>-0.316650</td>\n",
       "    </tr>\n",
       "    <tr>\n",
       "      <th>0.027873</th>\n",
       "      <td>-0.390936</td>\n",
       "      <td>-0.390936</td>\n",
       "      <td>-0.390936</td>\n",
       "      <td>-0.390936</td>\n",
       "      <td>-0.390936</td>\n",
       "      <td>-0.390936</td>\n",
       "      <td>-0.390936</td>\n",
       "      <td>-0.390936</td>\n",
       "      <td>-0.390936</td>\n",
       "      <td>-0.390936</td>\n",
       "      <td>...</td>\n",
       "      <td>-0.382131</td>\n",
       "      <td>-0.382126</td>\n",
       "      <td>-0.382120</td>\n",
       "      <td>-0.382115</td>\n",
       "      <td>-0.382110</td>\n",
       "      <td>-0.382104</td>\n",
       "      <td>-0.382099</td>\n",
       "      <td>-0.854731</td>\n",
       "      <td>-0.854566</td>\n",
       "      <td>-0.854400</td>\n",
       "    </tr>\n",
       "  </tbody>\n",
       "</table>\n",
       "<p>5 rows × 1353 columns</p>\n",
       "</div>"
      ],
      "text/plain": [
       "               Z_0       Z_1       Z_2       Z_3       Z_4       Z_5  \\\n",
       "0.073819 -0.390938 -0.390938 -0.390938 -0.390938 -0.390938 -0.390938   \n",
       "0.160194 -0.390941 -0.390941 -0.390941 -0.390941 -0.390941 -0.390941   \n",
       "0.179698  2.617405  2.617370  2.617334  2.617298  2.617263  2.617228   \n",
       "0.081186 -0.390938 -0.390938 -0.390938 -0.390938 -0.390938 -0.390938   \n",
       "0.027873 -0.390936 -0.390936 -0.390936 -0.390936 -0.390936 -0.390936   \n",
       "\n",
       "               Z_6       Z_7       Z_8       Z_9  ...     n_263     n_264  \\\n",
       "0.073819 -0.390938 -0.390938 -0.390938 -0.390938  ... -0.366730 -0.366724   \n",
       "0.160194 -0.390941 -0.390941 -0.390941 -0.390941  ... -0.184084 -0.180556   \n",
       "0.179698  2.617193  2.617159  2.617125  2.617091  ...  2.769202  2.771723   \n",
       "0.081186 -0.390938 -0.390938 -0.390938 -0.390938  ... -0.364687 -0.364682   \n",
       "0.027873 -0.390936 -0.390936 -0.390936 -0.390936  ... -0.382131 -0.382126   \n",
       "\n",
       "             n_265     n_266     n_267     n_268     n_269  Qimpact_c-1  \\\n",
       "0.073819 -0.366719 -0.366714 -0.366708 -0.366703 -0.366698    -0.405012   \n",
       "0.160194 -0.176997 -0.173407 -0.169786 -0.166135 -0.162454     2.279241   \n",
       "0.179698  2.774271  2.776845  2.779446  2.782074  2.784728    -0.833537   \n",
       "0.081186 -0.364677 -0.364672 -0.364667 -0.364662 -0.364657    -0.317115   \n",
       "0.027873 -0.382120 -0.382115 -0.382110 -0.382104 -0.382099    -0.854731   \n",
       "\n",
       "          Qimpact_c  Qimpact_c+1  \n",
       "0.073819  -0.404798    -0.404584  \n",
       "0.160194   2.280782     2.282322  \n",
       "0.179698  -0.834368    -0.835197  \n",
       "0.081186  -0.316882    -0.316650  \n",
       "0.027873  -0.854566    -0.854400  \n",
       "\n",
       "[5 rows x 1353 columns]"
      ]
     },
     "execution_count": 54,
     "metadata": {},
     "output_type": "execute_result"
    }
   ],
   "source": [
    "train_data.head()"
   ]
  },
  {
   "cell_type": "code",
   "execution_count": 55,
   "id": "95b61b62",
   "metadata": {},
   "outputs": [],
   "source": [
    "target_fields = ['Qimpact_c-1','Qimpact_c','Qimpact_c+1']\n",
    "\n",
    "train_features, train_targets = train_data.drop(target_fields, axis=1), train_data[target_fields]\n",
    "test_features, test_targets = test_data.drop(target_fields, axis=1), test_data[target_fields]\n",
    "validation_features, validation_targets = validation_data.drop(target_fields, axis=1), validation_data[target_fields]    \n"
   ]
  },
  {
   "cell_type": "code",
   "execution_count": 68,
   "id": "fb36ff15",
   "metadata": {},
   "outputs": [],
   "source": [
    "l_rate = 0.02\n",
    "mse_loss = nn.MSELoss(reduction = 'mean')"
   ]
  },
  {
   "cell_type": "code",
   "execution_count": 69,
   "id": "41b930b5",
   "metadata": {},
   "outputs": [
    {
     "data": {
      "text/plain": [
       "1350"
      ]
     },
     "execution_count": 69,
     "metadata": {},
     "output_type": "execute_result"
    }
   ],
   "source": [
    "train_features.shape[1]"
   ]
  },
  {
   "cell_type": "code",
   "execution_count": 143,
   "id": "abffe2ae",
   "metadata": {},
   "outputs": [],
   "source": [
    "class Regression_3l(pl.LightningModule):\n",
    "    \n",
    "### The Model ### \n",
    "\n",
    "    # Question: what will your model architecture look like?\n",
    "    # Initialize the layers\n",
    "    # Here we have one input layer (size 56 #3N as we have 56 #3N features), one hidden layer (size 10), \n",
    "    # and one output layer (size 1 as we are predicting a single value)\n",
    "    def __init__(self):\n",
    "        super(Regression_3l, self).__init__()\n",
    "        self.fc1 = nn.Linear(train_features.shape[1], 20) #Here I changed initial 56 size of fc1 to 1350=#features in \n",
    "        self.fc2 = nn.Linear(20, 20) #Here I changed initial 56 size of fc1 to 1350=#features in \n",
    "        self.fc3 = nn.Linear(20, 3) #here i changed output size to 3 (as we have 3 target values)\n",
    "    \n",
    "\n",
    "    def forward(self, x):\n",
    "        x = torch.sigmoid(self.fc1(x))\n",
    "        x = torch.sigmoid(self.fc2(x))\n",
    "        x = self.fc3(x)\n",
    "        return x\n",
    "\n",
    "### Data loader ### \n",
    "    def train_dataloader(self):\n",
    "        train_dataset = TensorDataset(torch.tensor(train_features.values).float(), torch.tensor(train_targets[target_fields].values).float())\n",
    "        train_loader = DataLoader(dataset = train_dataset, batch_size = 128)\n",
    "        return train_loader\n",
    "        \n",
    "    def val_dataloader(self):\n",
    "        validation_dataset = TensorDataset(torch.tensor(validation_features.values).float(),\\\n",
    "                                           torch.tensor(validation_targets[target_fields].values).float())\n",
    "        validation_loader = DataLoader(dataset = validation_dataset, batch_size = 128)\n",
    "        return validation_loader\n",
    "    \n",
    "    def test_dataloader(self):\n",
    "        test_dataset = TensorDataset(torch.tensor(test_features.values).float(), torch.tensor(test_targets[target_fields].values).float())\n",
    "        test_loader = DataLoader(dataset = test_dataset, batch_size = 128)\n",
    "        return test_loader\n",
    "\n",
    "### The Optimizer ### \n",
    "    def configure_optimizers(self):\n",
    "        return optim.SGD(self.parameters(), lr=l_rate)\n",
    "\n",
    "### Training ### \n",
    "    def training_step(self, batch, batch_idx):\n",
    "        x, y = batch\n",
    "        logits = self.forward(x)\n",
    "        loss = mse_loss(logits, y)\n",
    "        # Add logging\n",
    "        logs = {'loss': loss}\n",
    "        return {'loss': loss, 'log': logs}\n",
    "\n",
    "### Validation ### \n",
    "    def validation_step(self, batch, batch_idx):\n",
    "        x, y = batch\n",
    "        logits = self.forward(x)\n",
    "        loss = mse_loss(logits, y)\n",
    "        return {'val_loss': loss}\n",
    "\n",
    "    # Define validation epoch end\n",
    "    def validation_epoch_end(self, outputs):\n",
    "        avg_loss = torch.stack([x['val_loss'] for x in outputs]).mean()\n",
    "        tensorboard_logs = {'val_loss': avg_loss}\n",
    "        return {'avg_val_loss': avg_loss, 'log': tensorboard_logs}\n",
    "\n",
    "### Testing ###     \n",
    "    def test_step(self, batch, batch_idx):\n",
    "        x, y = batch\n",
    "        logits = self.forward(x)\n",
    "        loss = mse_loss(logits, y)\n",
    "        correct = torch.sum(logits == y.data)\n",
    "        \n",
    "        predictions_pred.append(logits)\n",
    "        predictions_actual.append(y.data)\n",
    "        return {'test_loss': loss, 'test_correct': correct, 'logits': logits}\n",
    "    \n",
    "    # Define test end\n",
    "    def test_epoch_end(self, outputs):\n",
    "        avg_loss = torch.stack([x['test_loss'] for x in outputs]).mean()\n",
    "        logs = {'test_loss': avg_loss}      \n",
    "        return {'avg_test_loss': avg_loss, 'log': logs, 'progress_bar': logs }"
   ]
  },
  {
   "cell_type": "code",
   "execution_count": 144,
   "id": "85961c6c",
   "metadata": {},
   "outputs": [
    {
     "name": "stderr",
     "output_type": "stream",
     "text": [
      "GPU available: False, used: False\n",
      "TPU available: False, using: 0 TPU cores\n",
      "IPU available: False, using: 0 IPUs\n",
      "HPU available: False, using: 0 HPUs\n",
      "\n",
      "  | Name | Type   | Params\n",
      "--------------------------------\n",
      "0 | fc1  | Linear | 27.0 K\n",
      "1 | fc2  | Linear | 420   \n",
      "2 | fc3  | Linear | 63    \n",
      "--------------------------------\n",
      "27.5 K    Trainable params\n",
      "0         Non-trainable params\n",
      "27.5 K    Total params\n",
      "0.110     Total estimated model params size (MB)\n"
     ]
    },
    {
     "data": {
      "application/vnd.jupyter.widget-view+json": {
       "model_id": "",
       "version_major": 2,
       "version_minor": 0
      },
      "text/plain": [
       "Sanity Checking: 0it [00:00, ?it/s]"
      ]
     },
     "metadata": {},
     "output_type": "display_data"
    },
    {
     "name": "stderr",
     "output_type": "stream",
     "text": [
      "C:\\Users\\aleks\\anaconda3\\lib\\site-packages\\pytorch_lightning\\trainer\\connectors\\data_connector.py:236: PossibleUserWarning: The dataloader, val_dataloader 0, does not have many workers which may be a bottleneck. Consider increasing the value of the `num_workers` argument` (try 8 which is the number of cpus on this machine) in the `DataLoader` init to improve performance.\n",
      "  rank_zero_warn(\n",
      "C:\\Users\\aleks\\anaconda3\\lib\\site-packages\\pytorch_lightning\\trainer\\connectors\\data_connector.py:236: PossibleUserWarning: The dataloader, train_dataloader, does not have many workers which may be a bottleneck. Consider increasing the value of the `num_workers` argument` (try 8 which is the number of cpus on this machine) in the `DataLoader` init to improve performance.\n",
      "  rank_zero_warn(\n"
     ]
    },
    {
     "data": {
      "application/vnd.jupyter.widget-view+json": {
       "model_id": "79ec3b36725942dfa44df2ada5f1de59",
       "version_major": 2,
       "version_minor": 0
      },
      "text/plain": [
       "Training: 0it [00:00, ?it/s]"
      ]
     },
     "metadata": {},
     "output_type": "display_data"
    },
    {
     "data": {
      "application/vnd.jupyter.widget-view+json": {
       "model_id": "",
       "version_major": 2,
       "version_minor": 0
      },
      "text/plain": [
       "Validation: 0it [00:00, ?it/s]"
      ]
     },
     "metadata": {},
     "output_type": "display_data"
    },
    {
     "data": {
      "application/vnd.jupyter.widget-view+json": {
       "model_id": "",
       "version_major": 2,
       "version_minor": 0
      },
      "text/plain": [
       "Validation: 0it [00:00, ?it/s]"
      ]
     },
     "metadata": {},
     "output_type": "display_data"
    },
    {
     "data": {
      "application/vnd.jupyter.widget-view+json": {
       "model_id": "",
       "version_major": 2,
       "version_minor": 0
      },
      "text/plain": [
       "Validation: 0it [00:00, ?it/s]"
      ]
     },
     "metadata": {},
     "output_type": "display_data"
    },
    {
     "data": {
      "application/vnd.jupyter.widget-view+json": {
       "model_id": "",
       "version_major": 2,
       "version_minor": 0
      },
      "text/plain": [
       "Validation: 0it [00:00, ?it/s]"
      ]
     },
     "metadata": {},
     "output_type": "display_data"
    },
    {
     "data": {
      "application/vnd.jupyter.widget-view+json": {
       "model_id": "",
       "version_major": 2,
       "version_minor": 0
      },
      "text/plain": [
       "Validation: 0it [00:00, ?it/s]"
      ]
     },
     "metadata": {},
     "output_type": "display_data"
    },
    {
     "data": {
      "application/vnd.jupyter.widget-view+json": {
       "model_id": "",
       "version_major": 2,
       "version_minor": 0
      },
      "text/plain": [
       "Validation: 0it [00:00, ?it/s]"
      ]
     },
     "metadata": {},
     "output_type": "display_data"
    },
    {
     "data": {
      "application/vnd.jupyter.widget-view+json": {
       "model_id": "",
       "version_major": 2,
       "version_minor": 0
      },
      "text/plain": [
       "Validation: 0it [00:00, ?it/s]"
      ]
     },
     "metadata": {},
     "output_type": "display_data"
    },
    {
     "data": {
      "application/vnd.jupyter.widget-view+json": {
       "model_id": "",
       "version_major": 2,
       "version_minor": 0
      },
      "text/plain": [
       "Validation: 0it [00:00, ?it/s]"
      ]
     },
     "metadata": {},
     "output_type": "display_data"
    },
    {
     "data": {
      "application/vnd.jupyter.widget-view+json": {
       "model_id": "",
       "version_major": 2,
       "version_minor": 0
      },
      "text/plain": [
       "Validation: 0it [00:00, ?it/s]"
      ]
     },
     "metadata": {},
     "output_type": "display_data"
    },
    {
     "data": {
      "application/vnd.jupyter.widget-view+json": {
       "model_id": "",
       "version_major": 2,
       "version_minor": 0
      },
      "text/plain": [
       "Validation: 0it [00:00, ?it/s]"
      ]
     },
     "metadata": {},
     "output_type": "display_data"
    },
    {
     "data": {
      "application/vnd.jupyter.widget-view+json": {
       "model_id": "",
       "version_major": 2,
       "version_minor": 0
      },
      "text/plain": [
       "Validation: 0it [00:00, ?it/s]"
      ]
     },
     "metadata": {},
     "output_type": "display_data"
    },
    {
     "data": {
      "application/vnd.jupyter.widget-view+json": {
       "model_id": "",
       "version_major": 2,
       "version_minor": 0
      },
      "text/plain": [
       "Validation: 0it [00:00, ?it/s]"
      ]
     },
     "metadata": {},
     "output_type": "display_data"
    },
    {
     "data": {
      "application/vnd.jupyter.widget-view+json": {
       "model_id": "",
       "version_major": 2,
       "version_minor": 0
      },
      "text/plain": [
       "Validation: 0it [00:00, ?it/s]"
      ]
     },
     "metadata": {},
     "output_type": "display_data"
    },
    {
     "data": {
      "application/vnd.jupyter.widget-view+json": {
       "model_id": "",
       "version_major": 2,
       "version_minor": 0
      },
      "text/plain": [
       "Validation: 0it [00:00, ?it/s]"
      ]
     },
     "metadata": {},
     "output_type": "display_data"
    },
    {
     "data": {
      "application/vnd.jupyter.widget-view+json": {
       "model_id": "",
       "version_major": 2,
       "version_minor": 0
      },
      "text/plain": [
       "Validation: 0it [00:00, ?it/s]"
      ]
     },
     "metadata": {},
     "output_type": "display_data"
    },
    {
     "data": {
      "application/vnd.jupyter.widget-view+json": {
       "model_id": "",
       "version_major": 2,
       "version_minor": 0
      },
      "text/plain": [
       "Validation: 0it [00:00, ?it/s]"
      ]
     },
     "metadata": {},
     "output_type": "display_data"
    },
    {
     "data": {
      "application/vnd.jupyter.widget-view+json": {
       "model_id": "",
       "version_major": 2,
       "version_minor": 0
      },
      "text/plain": [
       "Validation: 0it [00:00, ?it/s]"
      ]
     },
     "metadata": {},
     "output_type": "display_data"
    },
    {
     "data": {
      "application/vnd.jupyter.widget-view+json": {
       "model_id": "",
       "version_major": 2,
       "version_minor": 0
      },
      "text/plain": [
       "Validation: 0it [00:00, ?it/s]"
      ]
     },
     "metadata": {},
     "output_type": "display_data"
    },
    {
     "data": {
      "application/vnd.jupyter.widget-view+json": {
       "model_id": "",
       "version_major": 2,
       "version_minor": 0
      },
      "text/plain": [
       "Validation: 0it [00:00, ?it/s]"
      ]
     },
     "metadata": {},
     "output_type": "display_data"
    },
    {
     "data": {
      "application/vnd.jupyter.widget-view+json": {
       "model_id": "",
       "version_major": 2,
       "version_minor": 0
      },
      "text/plain": [
       "Validation: 0it [00:00, ?it/s]"
      ]
     },
     "metadata": {},
     "output_type": "display_data"
    },
    {
     "data": {
      "application/vnd.jupyter.widget-view+json": {
       "model_id": "",
       "version_major": 2,
       "version_minor": 0
      },
      "text/plain": [
       "Validation: 0it [00:00, ?it/s]"
      ]
     },
     "metadata": {},
     "output_type": "display_data"
    },
    {
     "data": {
      "application/vnd.jupyter.widget-view+json": {
       "model_id": "",
       "version_major": 2,
       "version_minor": 0
      },
      "text/plain": [
       "Validation: 0it [00:00, ?it/s]"
      ]
     },
     "metadata": {},
     "output_type": "display_data"
    },
    {
     "data": {
      "application/vnd.jupyter.widget-view+json": {
       "model_id": "",
       "version_major": 2,
       "version_minor": 0
      },
      "text/plain": [
       "Validation: 0it [00:00, ?it/s]"
      ]
     },
     "metadata": {},
     "output_type": "display_data"
    },
    {
     "data": {
      "application/vnd.jupyter.widget-view+json": {
       "model_id": "",
       "version_major": 2,
       "version_minor": 0
      },
      "text/plain": [
       "Validation: 0it [00:00, ?it/s]"
      ]
     },
     "metadata": {},
     "output_type": "display_data"
    },
    {
     "data": {
      "application/vnd.jupyter.widget-view+json": {
       "model_id": "",
       "version_major": 2,
       "version_minor": 0
      },
      "text/plain": [
       "Validation: 0it [00:00, ?it/s]"
      ]
     },
     "metadata": {},
     "output_type": "display_data"
    },
    {
     "data": {
      "application/vnd.jupyter.widget-view+json": {
       "model_id": "",
       "version_major": 2,
       "version_minor": 0
      },
      "text/plain": [
       "Validation: 0it [00:00, ?it/s]"
      ]
     },
     "metadata": {},
     "output_type": "display_data"
    },
    {
     "data": {
      "application/vnd.jupyter.widget-view+json": {
       "model_id": "",
       "version_major": 2,
       "version_minor": 0
      },
      "text/plain": [
       "Validation: 0it [00:00, ?it/s]"
      ]
     },
     "metadata": {},
     "output_type": "display_data"
    },
    {
     "data": {
      "application/vnd.jupyter.widget-view+json": {
       "model_id": "",
       "version_major": 2,
       "version_minor": 0
      },
      "text/plain": [
       "Validation: 0it [00:00, ?it/s]"
      ]
     },
     "metadata": {},
     "output_type": "display_data"
    },
    {
     "data": {
      "application/vnd.jupyter.widget-view+json": {
       "model_id": "",
       "version_major": 2,
       "version_minor": 0
      },
      "text/plain": [
       "Validation: 0it [00:00, ?it/s]"
      ]
     },
     "metadata": {},
     "output_type": "display_data"
    },
    {
     "data": {
      "application/vnd.jupyter.widget-view+json": {
       "model_id": "",
       "version_major": 2,
       "version_minor": 0
      },
      "text/plain": [
       "Validation: 0it [00:00, ?it/s]"
      ]
     },
     "metadata": {},
     "output_type": "display_data"
    },
    {
     "data": {
      "application/vnd.jupyter.widget-view+json": {
       "model_id": "",
       "version_major": 2,
       "version_minor": 0
      },
      "text/plain": [
       "Validation: 0it [00:00, ?it/s]"
      ]
     },
     "metadata": {},
     "output_type": "display_data"
    },
    {
     "data": {
      "application/vnd.jupyter.widget-view+json": {
       "model_id": "",
       "version_major": 2,
       "version_minor": 0
      },
      "text/plain": [
       "Validation: 0it [00:00, ?it/s]"
      ]
     },
     "metadata": {},
     "output_type": "display_data"
    },
    {
     "data": {
      "application/vnd.jupyter.widget-view+json": {
       "model_id": "",
       "version_major": 2,
       "version_minor": 0
      },
      "text/plain": [
       "Validation: 0it [00:00, ?it/s]"
      ]
     },
     "metadata": {},
     "output_type": "display_data"
    },
    {
     "data": {
      "application/vnd.jupyter.widget-view+json": {
       "model_id": "",
       "version_major": 2,
       "version_minor": 0
      },
      "text/plain": [
       "Validation: 0it [00:00, ?it/s]"
      ]
     },
     "metadata": {},
     "output_type": "display_data"
    },
    {
     "data": {
      "application/vnd.jupyter.widget-view+json": {
       "model_id": "",
       "version_major": 2,
       "version_minor": 0
      },
      "text/plain": [
       "Validation: 0it [00:00, ?it/s]"
      ]
     },
     "metadata": {},
     "output_type": "display_data"
    },
    {
     "data": {
      "application/vnd.jupyter.widget-view+json": {
       "model_id": "",
       "version_major": 2,
       "version_minor": 0
      },
      "text/plain": [
       "Validation: 0it [00:00, ?it/s]"
      ]
     },
     "metadata": {},
     "output_type": "display_data"
    },
    {
     "data": {
      "application/vnd.jupyter.widget-view+json": {
       "model_id": "",
       "version_major": 2,
       "version_minor": 0
      },
      "text/plain": [
       "Validation: 0it [00:00, ?it/s]"
      ]
     },
     "metadata": {},
     "output_type": "display_data"
    },
    {
     "data": {
      "application/vnd.jupyter.widget-view+json": {
       "model_id": "",
       "version_major": 2,
       "version_minor": 0
      },
      "text/plain": [
       "Validation: 0it [00:00, ?it/s]"
      ]
     },
     "metadata": {},
     "output_type": "display_data"
    },
    {
     "data": {
      "application/vnd.jupyter.widget-view+json": {
       "model_id": "",
       "version_major": 2,
       "version_minor": 0
      },
      "text/plain": [
       "Validation: 0it [00:00, ?it/s]"
      ]
     },
     "metadata": {},
     "output_type": "display_data"
    },
    {
     "data": {
      "application/vnd.jupyter.widget-view+json": {
       "model_id": "",
       "version_major": 2,
       "version_minor": 0
      },
      "text/plain": [
       "Validation: 0it [00:00, ?it/s]"
      ]
     },
     "metadata": {},
     "output_type": "display_data"
    },
    {
     "data": {
      "application/vnd.jupyter.widget-view+json": {
       "model_id": "",
       "version_major": 2,
       "version_minor": 0
      },
      "text/plain": [
       "Validation: 0it [00:00, ?it/s]"
      ]
     },
     "metadata": {},
     "output_type": "display_data"
    },
    {
     "data": {
      "application/vnd.jupyter.widget-view+json": {
       "model_id": "",
       "version_major": 2,
       "version_minor": 0
      },
      "text/plain": [
       "Validation: 0it [00:00, ?it/s]"
      ]
     },
     "metadata": {},
     "output_type": "display_data"
    },
    {
     "data": {
      "application/vnd.jupyter.widget-view+json": {
       "model_id": "",
       "version_major": 2,
       "version_minor": 0
      },
      "text/plain": [
       "Validation: 0it [00:00, ?it/s]"
      ]
     },
     "metadata": {},
     "output_type": "display_data"
    },
    {
     "data": {
      "application/vnd.jupyter.widget-view+json": {
       "model_id": "",
       "version_major": 2,
       "version_minor": 0
      },
      "text/plain": [
       "Validation: 0it [00:00, ?it/s]"
      ]
     },
     "metadata": {},
     "output_type": "display_data"
    },
    {
     "data": {
      "application/vnd.jupyter.widget-view+json": {
       "model_id": "",
       "version_major": 2,
       "version_minor": 0
      },
      "text/plain": [
       "Validation: 0it [00:00, ?it/s]"
      ]
     },
     "metadata": {},
     "output_type": "display_data"
    },
    {
     "data": {
      "application/vnd.jupyter.widget-view+json": {
       "model_id": "",
       "version_major": 2,
       "version_minor": 0
      },
      "text/plain": [
       "Validation: 0it [00:00, ?it/s]"
      ]
     },
     "metadata": {},
     "output_type": "display_data"
    },
    {
     "data": {
      "application/vnd.jupyter.widget-view+json": {
       "model_id": "",
       "version_major": 2,
       "version_minor": 0
      },
      "text/plain": [
       "Validation: 0it [00:00, ?it/s]"
      ]
     },
     "metadata": {},
     "output_type": "display_data"
    },
    {
     "data": {
      "application/vnd.jupyter.widget-view+json": {
       "model_id": "",
       "version_major": 2,
       "version_minor": 0
      },
      "text/plain": [
       "Validation: 0it [00:00, ?it/s]"
      ]
     },
     "metadata": {},
     "output_type": "display_data"
    },
    {
     "data": {
      "application/vnd.jupyter.widget-view+json": {
       "model_id": "",
       "version_major": 2,
       "version_minor": 0
      },
      "text/plain": [
       "Validation: 0it [00:00, ?it/s]"
      ]
     },
     "metadata": {},
     "output_type": "display_data"
    },
    {
     "data": {
      "application/vnd.jupyter.widget-view+json": {
       "model_id": "",
       "version_major": 2,
       "version_minor": 0
      },
      "text/plain": [
       "Validation: 0it [00:00, ?it/s]"
      ]
     },
     "metadata": {},
     "output_type": "display_data"
    },
    {
     "data": {
      "application/vnd.jupyter.widget-view+json": {
       "model_id": "",
       "version_major": 2,
       "version_minor": 0
      },
      "text/plain": [
       "Validation: 0it [00:00, ?it/s]"
      ]
     },
     "metadata": {},
     "output_type": "display_data"
    },
    {
     "data": {
      "application/vnd.jupyter.widget-view+json": {
       "model_id": "",
       "version_major": 2,
       "version_minor": 0
      },
      "text/plain": [
       "Validation: 0it [00:00, ?it/s]"
      ]
     },
     "metadata": {},
     "output_type": "display_data"
    },
    {
     "data": {
      "application/vnd.jupyter.widget-view+json": {
       "model_id": "",
       "version_major": 2,
       "version_minor": 0
      },
      "text/plain": [
       "Validation: 0it [00:00, ?it/s]"
      ]
     },
     "metadata": {},
     "output_type": "display_data"
    },
    {
     "data": {
      "application/vnd.jupyter.widget-view+json": {
       "model_id": "",
       "version_major": 2,
       "version_minor": 0
      },
      "text/plain": [
       "Validation: 0it [00:00, ?it/s]"
      ]
     },
     "metadata": {},
     "output_type": "display_data"
    },
    {
     "data": {
      "application/vnd.jupyter.widget-view+json": {
       "model_id": "",
       "version_major": 2,
       "version_minor": 0
      },
      "text/plain": [
       "Validation: 0it [00:00, ?it/s]"
      ]
     },
     "metadata": {},
     "output_type": "display_data"
    },
    {
     "data": {
      "application/vnd.jupyter.widget-view+json": {
       "model_id": "",
       "version_major": 2,
       "version_minor": 0
      },
      "text/plain": [
       "Validation: 0it [00:00, ?it/s]"
      ]
     },
     "metadata": {},
     "output_type": "display_data"
    },
    {
     "data": {
      "application/vnd.jupyter.widget-view+json": {
       "model_id": "",
       "version_major": 2,
       "version_minor": 0
      },
      "text/plain": [
       "Validation: 0it [00:00, ?it/s]"
      ]
     },
     "metadata": {},
     "output_type": "display_data"
    },
    {
     "data": {
      "application/vnd.jupyter.widget-view+json": {
       "model_id": "",
       "version_major": 2,
       "version_minor": 0
      },
      "text/plain": [
       "Validation: 0it [00:00, ?it/s]"
      ]
     },
     "metadata": {},
     "output_type": "display_data"
    },
    {
     "data": {
      "application/vnd.jupyter.widget-view+json": {
       "model_id": "",
       "version_major": 2,
       "version_minor": 0
      },
      "text/plain": [
       "Validation: 0it [00:00, ?it/s]"
      ]
     },
     "metadata": {},
     "output_type": "display_data"
    },
    {
     "data": {
      "application/vnd.jupyter.widget-view+json": {
       "model_id": "",
       "version_major": 2,
       "version_minor": 0
      },
      "text/plain": [
       "Validation: 0it [00:00, ?it/s]"
      ]
     },
     "metadata": {},
     "output_type": "display_data"
    },
    {
     "data": {
      "application/vnd.jupyter.widget-view+json": {
       "model_id": "",
       "version_major": 2,
       "version_minor": 0
      },
      "text/plain": [
       "Validation: 0it [00:00, ?it/s]"
      ]
     },
     "metadata": {},
     "output_type": "display_data"
    },
    {
     "data": {
      "application/vnd.jupyter.widget-view+json": {
       "model_id": "",
       "version_major": 2,
       "version_minor": 0
      },
      "text/plain": [
       "Validation: 0it [00:00, ?it/s]"
      ]
     },
     "metadata": {},
     "output_type": "display_data"
    },
    {
     "data": {
      "application/vnd.jupyter.widget-view+json": {
       "model_id": "",
       "version_major": 2,
       "version_minor": 0
      },
      "text/plain": [
       "Validation: 0it [00:00, ?it/s]"
      ]
     },
     "metadata": {},
     "output_type": "display_data"
    },
    {
     "data": {
      "application/vnd.jupyter.widget-view+json": {
       "model_id": "",
       "version_major": 2,
       "version_minor": 0
      },
      "text/plain": [
       "Validation: 0it [00:00, ?it/s]"
      ]
     },
     "metadata": {},
     "output_type": "display_data"
    },
    {
     "data": {
      "application/vnd.jupyter.widget-view+json": {
       "model_id": "",
       "version_major": 2,
       "version_minor": 0
      },
      "text/plain": [
       "Validation: 0it [00:00, ?it/s]"
      ]
     },
     "metadata": {},
     "output_type": "display_data"
    },
    {
     "data": {
      "application/vnd.jupyter.widget-view+json": {
       "model_id": "",
       "version_major": 2,
       "version_minor": 0
      },
      "text/plain": [
       "Validation: 0it [00:00, ?it/s]"
      ]
     },
     "metadata": {},
     "output_type": "display_data"
    },
    {
     "data": {
      "application/vnd.jupyter.widget-view+json": {
       "model_id": "",
       "version_major": 2,
       "version_minor": 0
      },
      "text/plain": [
       "Validation: 0it [00:00, ?it/s]"
      ]
     },
     "metadata": {},
     "output_type": "display_data"
    },
    {
     "data": {
      "application/vnd.jupyter.widget-view+json": {
       "model_id": "",
       "version_major": 2,
       "version_minor": 0
      },
      "text/plain": [
       "Validation: 0it [00:00, ?it/s]"
      ]
     },
     "metadata": {},
     "output_type": "display_data"
    },
    {
     "data": {
      "application/vnd.jupyter.widget-view+json": {
       "model_id": "",
       "version_major": 2,
       "version_minor": 0
      },
      "text/plain": [
       "Validation: 0it [00:00, ?it/s]"
      ]
     },
     "metadata": {},
     "output_type": "display_data"
    },
    {
     "data": {
      "application/vnd.jupyter.widget-view+json": {
       "model_id": "",
       "version_major": 2,
       "version_minor": 0
      },
      "text/plain": [
       "Validation: 0it [00:00, ?it/s]"
      ]
     },
     "metadata": {},
     "output_type": "display_data"
    },
    {
     "data": {
      "application/vnd.jupyter.widget-view+json": {
       "model_id": "",
       "version_major": 2,
       "version_minor": 0
      },
      "text/plain": [
       "Validation: 0it [00:00, ?it/s]"
      ]
     },
     "metadata": {},
     "output_type": "display_data"
    },
    {
     "data": {
      "application/vnd.jupyter.widget-view+json": {
       "model_id": "",
       "version_major": 2,
       "version_minor": 0
      },
      "text/plain": [
       "Validation: 0it [00:00, ?it/s]"
      ]
     },
     "metadata": {},
     "output_type": "display_data"
    },
    {
     "data": {
      "application/vnd.jupyter.widget-view+json": {
       "model_id": "",
       "version_major": 2,
       "version_minor": 0
      },
      "text/plain": [
       "Validation: 0it [00:00, ?it/s]"
      ]
     },
     "metadata": {},
     "output_type": "display_data"
    },
    {
     "data": {
      "application/vnd.jupyter.widget-view+json": {
       "model_id": "",
       "version_major": 2,
       "version_minor": 0
      },
      "text/plain": [
       "Validation: 0it [00:00, ?it/s]"
      ]
     },
     "metadata": {},
     "output_type": "display_data"
    },
    {
     "data": {
      "application/vnd.jupyter.widget-view+json": {
       "model_id": "",
       "version_major": 2,
       "version_minor": 0
      },
      "text/plain": [
       "Validation: 0it [00:00, ?it/s]"
      ]
     },
     "metadata": {},
     "output_type": "display_data"
    },
    {
     "data": {
      "application/vnd.jupyter.widget-view+json": {
       "model_id": "",
       "version_major": 2,
       "version_minor": 0
      },
      "text/plain": [
       "Validation: 0it [00:00, ?it/s]"
      ]
     },
     "metadata": {},
     "output_type": "display_data"
    },
    {
     "data": {
      "application/vnd.jupyter.widget-view+json": {
       "model_id": "",
       "version_major": 2,
       "version_minor": 0
      },
      "text/plain": [
       "Validation: 0it [00:00, ?it/s]"
      ]
     },
     "metadata": {},
     "output_type": "display_data"
    },
    {
     "data": {
      "application/vnd.jupyter.widget-view+json": {
       "model_id": "",
       "version_major": 2,
       "version_minor": 0
      },
      "text/plain": [
       "Validation: 0it [00:00, ?it/s]"
      ]
     },
     "metadata": {},
     "output_type": "display_data"
    },
    {
     "data": {
      "application/vnd.jupyter.widget-view+json": {
       "model_id": "",
       "version_major": 2,
       "version_minor": 0
      },
      "text/plain": [
       "Validation: 0it [00:00, ?it/s]"
      ]
     },
     "metadata": {},
     "output_type": "display_data"
    },
    {
     "data": {
      "application/vnd.jupyter.widget-view+json": {
       "model_id": "",
       "version_major": 2,
       "version_minor": 0
      },
      "text/plain": [
       "Validation: 0it [00:00, ?it/s]"
      ]
     },
     "metadata": {},
     "output_type": "display_data"
    },
    {
     "data": {
      "application/vnd.jupyter.widget-view+json": {
       "model_id": "",
       "version_major": 2,
       "version_minor": 0
      },
      "text/plain": [
       "Validation: 0it [00:00, ?it/s]"
      ]
     },
     "metadata": {},
     "output_type": "display_data"
    },
    {
     "data": {
      "application/vnd.jupyter.widget-view+json": {
       "model_id": "",
       "version_major": 2,
       "version_minor": 0
      },
      "text/plain": [
       "Validation: 0it [00:00, ?it/s]"
      ]
     },
     "metadata": {},
     "output_type": "display_data"
    },
    {
     "data": {
      "application/vnd.jupyter.widget-view+json": {
       "model_id": "",
       "version_major": 2,
       "version_minor": 0
      },
      "text/plain": [
       "Validation: 0it [00:00, ?it/s]"
      ]
     },
     "metadata": {},
     "output_type": "display_data"
    },
    {
     "data": {
      "application/vnd.jupyter.widget-view+json": {
       "model_id": "",
       "version_major": 2,
       "version_minor": 0
      },
      "text/plain": [
       "Validation: 0it [00:00, ?it/s]"
      ]
     },
     "metadata": {},
     "output_type": "display_data"
    },
    {
     "data": {
      "application/vnd.jupyter.widget-view+json": {
       "model_id": "",
       "version_major": 2,
       "version_minor": 0
      },
      "text/plain": [
       "Validation: 0it [00:00, ?it/s]"
      ]
     },
     "metadata": {},
     "output_type": "display_data"
    },
    {
     "data": {
      "application/vnd.jupyter.widget-view+json": {
       "model_id": "",
       "version_major": 2,
       "version_minor": 0
      },
      "text/plain": [
       "Validation: 0it [00:00, ?it/s]"
      ]
     },
     "metadata": {},
     "output_type": "display_data"
    },
    {
     "data": {
      "application/vnd.jupyter.widget-view+json": {
       "model_id": "",
       "version_major": 2,
       "version_minor": 0
      },
      "text/plain": [
       "Validation: 0it [00:00, ?it/s]"
      ]
     },
     "metadata": {},
     "output_type": "display_data"
    },
    {
     "data": {
      "application/vnd.jupyter.widget-view+json": {
       "model_id": "",
       "version_major": 2,
       "version_minor": 0
      },
      "text/plain": [
       "Validation: 0it [00:00, ?it/s]"
      ]
     },
     "metadata": {},
     "output_type": "display_data"
    },
    {
     "data": {
      "application/vnd.jupyter.widget-view+json": {
       "model_id": "",
       "version_major": 2,
       "version_minor": 0
      },
      "text/plain": [
       "Validation: 0it [00:00, ?it/s]"
      ]
     },
     "metadata": {},
     "output_type": "display_data"
    },
    {
     "data": {
      "application/vnd.jupyter.widget-view+json": {
       "model_id": "",
       "version_major": 2,
       "version_minor": 0
      },
      "text/plain": [
       "Validation: 0it [00:00, ?it/s]"
      ]
     },
     "metadata": {},
     "output_type": "display_data"
    },
    {
     "data": {
      "application/vnd.jupyter.widget-view+json": {
       "model_id": "",
       "version_major": 2,
       "version_minor": 0
      },
      "text/plain": [
       "Validation: 0it [00:00, ?it/s]"
      ]
     },
     "metadata": {},
     "output_type": "display_data"
    },
    {
     "data": {
      "application/vnd.jupyter.widget-view+json": {
       "model_id": "",
       "version_major": 2,
       "version_minor": 0
      },
      "text/plain": [
       "Validation: 0it [00:00, ?it/s]"
      ]
     },
     "metadata": {},
     "output_type": "display_data"
    },
    {
     "data": {
      "application/vnd.jupyter.widget-view+json": {
       "model_id": "",
       "version_major": 2,
       "version_minor": 0
      },
      "text/plain": [
       "Validation: 0it [00:00, ?it/s]"
      ]
     },
     "metadata": {},
     "output_type": "display_data"
    },
    {
     "data": {
      "application/vnd.jupyter.widget-view+json": {
       "model_id": "",
       "version_major": 2,
       "version_minor": 0
      },
      "text/plain": [
       "Validation: 0it [00:00, ?it/s]"
      ]
     },
     "metadata": {},
     "output_type": "display_data"
    },
    {
     "data": {
      "application/vnd.jupyter.widget-view+json": {
       "model_id": "",
       "version_major": 2,
       "version_minor": 0
      },
      "text/plain": [
       "Validation: 0it [00:00, ?it/s]"
      ]
     },
     "metadata": {},
     "output_type": "display_data"
    },
    {
     "data": {
      "application/vnd.jupyter.widget-view+json": {
       "model_id": "",
       "version_major": 2,
       "version_minor": 0
      },
      "text/plain": [
       "Validation: 0it [00:00, ?it/s]"
      ]
     },
     "metadata": {},
     "output_type": "display_data"
    },
    {
     "data": {
      "application/vnd.jupyter.widget-view+json": {
       "model_id": "",
       "version_major": 2,
       "version_minor": 0
      },
      "text/plain": [
       "Validation: 0it [00:00, ?it/s]"
      ]
     },
     "metadata": {},
     "output_type": "display_data"
    },
    {
     "data": {
      "application/vnd.jupyter.widget-view+json": {
       "model_id": "",
       "version_major": 2,
       "version_minor": 0
      },
      "text/plain": [
       "Validation: 0it [00:00, ?it/s]"
      ]
     },
     "metadata": {},
     "output_type": "display_data"
    },
    {
     "data": {
      "application/vnd.jupyter.widget-view+json": {
       "model_id": "",
       "version_major": 2,
       "version_minor": 0
      },
      "text/plain": [
       "Validation: 0it [00:00, ?it/s]"
      ]
     },
     "metadata": {},
     "output_type": "display_data"
    },
    {
     "data": {
      "application/vnd.jupyter.widget-view+json": {
       "model_id": "",
       "version_major": 2,
       "version_minor": 0
      },
      "text/plain": [
       "Validation: 0it [00:00, ?it/s]"
      ]
     },
     "metadata": {},
     "output_type": "display_data"
    },
    {
     "data": {
      "application/vnd.jupyter.widget-view+json": {
       "model_id": "",
       "version_major": 2,
       "version_minor": 0
      },
      "text/plain": [
       "Validation: 0it [00:00, ?it/s]"
      ]
     },
     "metadata": {},
     "output_type": "display_data"
    },
    {
     "data": {
      "application/vnd.jupyter.widget-view+json": {
       "model_id": "",
       "version_major": 2,
       "version_minor": 0
      },
      "text/plain": [
       "Validation: 0it [00:00, ?it/s]"
      ]
     },
     "metadata": {},
     "output_type": "display_data"
    },
    {
     "data": {
      "application/vnd.jupyter.widget-view+json": {
       "model_id": "",
       "version_major": 2,
       "version_minor": 0
      },
      "text/plain": [
       "Validation: 0it [00:00, ?it/s]"
      ]
     },
     "metadata": {},
     "output_type": "display_data"
    },
    {
     "data": {
      "application/vnd.jupyter.widget-view+json": {
       "model_id": "",
       "version_major": 2,
       "version_minor": 0
      },
      "text/plain": [
       "Validation: 0it [00:00, ?it/s]"
      ]
     },
     "metadata": {},
     "output_type": "display_data"
    },
    {
     "data": {
      "application/vnd.jupyter.widget-view+json": {
       "model_id": "",
       "version_major": 2,
       "version_minor": 0
      },
      "text/plain": [
       "Validation: 0it [00:00, ?it/s]"
      ]
     },
     "metadata": {},
     "output_type": "display_data"
    },
    {
     "data": {
      "application/vnd.jupyter.widget-view+json": {
       "model_id": "",
       "version_major": 2,
       "version_minor": 0
      },
      "text/plain": [
       "Validation: 0it [00:00, ?it/s]"
      ]
     },
     "metadata": {},
     "output_type": "display_data"
    },
    {
     "data": {
      "application/vnd.jupyter.widget-view+json": {
       "model_id": "",
       "version_major": 2,
       "version_minor": 0
      },
      "text/plain": [
       "Validation: 0it [00:00, ?it/s]"
      ]
     },
     "metadata": {},
     "output_type": "display_data"
    },
    {
     "data": {
      "application/vnd.jupyter.widget-view+json": {
       "model_id": "",
       "version_major": 2,
       "version_minor": 0
      },
      "text/plain": [
       "Validation: 0it [00:00, ?it/s]"
      ]
     },
     "metadata": {},
     "output_type": "display_data"
    },
    {
     "data": {
      "application/vnd.jupyter.widget-view+json": {
       "model_id": "",
       "version_major": 2,
       "version_minor": 0
      },
      "text/plain": [
       "Validation: 0it [00:00, ?it/s]"
      ]
     },
     "metadata": {},
     "output_type": "display_data"
    },
    {
     "data": {
      "application/vnd.jupyter.widget-view+json": {
       "model_id": "",
       "version_major": 2,
       "version_minor": 0
      },
      "text/plain": [
       "Validation: 0it [00:00, ?it/s]"
      ]
     },
     "metadata": {},
     "output_type": "display_data"
    },
    {
     "data": {
      "application/vnd.jupyter.widget-view+json": {
       "model_id": "",
       "version_major": 2,
       "version_minor": 0
      },
      "text/plain": [
       "Validation: 0it [00:00, ?it/s]"
      ]
     },
     "metadata": {},
     "output_type": "display_data"
    },
    {
     "data": {
      "application/vnd.jupyter.widget-view+json": {
       "model_id": "",
       "version_major": 2,
       "version_minor": 0
      },
      "text/plain": [
       "Validation: 0it [00:00, ?it/s]"
      ]
     },
     "metadata": {},
     "output_type": "display_data"
    },
    {
     "data": {
      "application/vnd.jupyter.widget-view+json": {
       "model_id": "",
       "version_major": 2,
       "version_minor": 0
      },
      "text/plain": [
       "Validation: 0it [00:00, ?it/s]"
      ]
     },
     "metadata": {},
     "output_type": "display_data"
    },
    {
     "data": {
      "application/vnd.jupyter.widget-view+json": {
       "model_id": "",
       "version_major": 2,
       "version_minor": 0
      },
      "text/plain": [
       "Validation: 0it [00:00, ?it/s]"
      ]
     },
     "metadata": {},
     "output_type": "display_data"
    },
    {
     "data": {
      "application/vnd.jupyter.widget-view+json": {
       "model_id": "",
       "version_major": 2,
       "version_minor": 0
      },
      "text/plain": [
       "Validation: 0it [00:00, ?it/s]"
      ]
     },
     "metadata": {},
     "output_type": "display_data"
    },
    {
     "data": {
      "application/vnd.jupyter.widget-view+json": {
       "model_id": "",
       "version_major": 2,
       "version_minor": 0
      },
      "text/plain": [
       "Validation: 0it [00:00, ?it/s]"
      ]
     },
     "metadata": {},
     "output_type": "display_data"
    },
    {
     "data": {
      "application/vnd.jupyter.widget-view+json": {
       "model_id": "",
       "version_major": 2,
       "version_minor": 0
      },
      "text/plain": [
       "Validation: 0it [00:00, ?it/s]"
      ]
     },
     "metadata": {},
     "output_type": "display_data"
    },
    {
     "data": {
      "application/vnd.jupyter.widget-view+json": {
       "model_id": "",
       "version_major": 2,
       "version_minor": 0
      },
      "text/plain": [
       "Validation: 0it [00:00, ?it/s]"
      ]
     },
     "metadata": {},
     "output_type": "display_data"
    },
    {
     "data": {
      "application/vnd.jupyter.widget-view+json": {
       "model_id": "",
       "version_major": 2,
       "version_minor": 0
      },
      "text/plain": [
       "Validation: 0it [00:00, ?it/s]"
      ]
     },
     "metadata": {},
     "output_type": "display_data"
    },
    {
     "data": {
      "application/vnd.jupyter.widget-view+json": {
       "model_id": "",
       "version_major": 2,
       "version_minor": 0
      },
      "text/plain": [
       "Validation: 0it [00:00, ?it/s]"
      ]
     },
     "metadata": {},
     "output_type": "display_data"
    },
    {
     "data": {
      "application/vnd.jupyter.widget-view+json": {
       "model_id": "",
       "version_major": 2,
       "version_minor": 0
      },
      "text/plain": [
       "Validation: 0it [00:00, ?it/s]"
      ]
     },
     "metadata": {},
     "output_type": "display_data"
    },
    {
     "data": {
      "application/vnd.jupyter.widget-view+json": {
       "model_id": "",
       "version_major": 2,
       "version_minor": 0
      },
      "text/plain": [
       "Validation: 0it [00:00, ?it/s]"
      ]
     },
     "metadata": {},
     "output_type": "display_data"
    },
    {
     "data": {
      "application/vnd.jupyter.widget-view+json": {
       "model_id": "",
       "version_major": 2,
       "version_minor": 0
      },
      "text/plain": [
       "Validation: 0it [00:00, ?it/s]"
      ]
     },
     "metadata": {},
     "output_type": "display_data"
    },
    {
     "data": {
      "application/vnd.jupyter.widget-view+json": {
       "model_id": "",
       "version_major": 2,
       "version_minor": 0
      },
      "text/plain": [
       "Validation: 0it [00:00, ?it/s]"
      ]
     },
     "metadata": {},
     "output_type": "display_data"
    },
    {
     "data": {
      "application/vnd.jupyter.widget-view+json": {
       "model_id": "",
       "version_major": 2,
       "version_minor": 0
      },
      "text/plain": [
       "Validation: 0it [00:00, ?it/s]"
      ]
     },
     "metadata": {},
     "output_type": "display_data"
    },
    {
     "data": {
      "application/vnd.jupyter.widget-view+json": {
       "model_id": "",
       "version_major": 2,
       "version_minor": 0
      },
      "text/plain": [
       "Validation: 0it [00:00, ?it/s]"
      ]
     },
     "metadata": {},
     "output_type": "display_data"
    },
    {
     "data": {
      "application/vnd.jupyter.widget-view+json": {
       "model_id": "",
       "version_major": 2,
       "version_minor": 0
      },
      "text/plain": [
       "Validation: 0it [00:00, ?it/s]"
      ]
     },
     "metadata": {},
     "output_type": "display_data"
    },
    {
     "data": {
      "application/vnd.jupyter.widget-view+json": {
       "model_id": "",
       "version_major": 2,
       "version_minor": 0
      },
      "text/plain": [
       "Validation: 0it [00:00, ?it/s]"
      ]
     },
     "metadata": {},
     "output_type": "display_data"
    },
    {
     "data": {
      "application/vnd.jupyter.widget-view+json": {
       "model_id": "",
       "version_major": 2,
       "version_minor": 0
      },
      "text/plain": [
       "Validation: 0it [00:00, ?it/s]"
      ]
     },
     "metadata": {},
     "output_type": "display_data"
    },
    {
     "data": {
      "application/vnd.jupyter.widget-view+json": {
       "model_id": "",
       "version_major": 2,
       "version_minor": 0
      },
      "text/plain": [
       "Validation: 0it [00:00, ?it/s]"
      ]
     },
     "metadata": {},
     "output_type": "display_data"
    },
    {
     "data": {
      "application/vnd.jupyter.widget-view+json": {
       "model_id": "",
       "version_major": 2,
       "version_minor": 0
      },
      "text/plain": [
       "Validation: 0it [00:00, ?it/s]"
      ]
     },
     "metadata": {},
     "output_type": "display_data"
    },
    {
     "data": {
      "application/vnd.jupyter.widget-view+json": {
       "model_id": "",
       "version_major": 2,
       "version_minor": 0
      },
      "text/plain": [
       "Validation: 0it [00:00, ?it/s]"
      ]
     },
     "metadata": {},
     "output_type": "display_data"
    },
    {
     "data": {
      "application/vnd.jupyter.widget-view+json": {
       "model_id": "",
       "version_major": 2,
       "version_minor": 0
      },
      "text/plain": [
       "Validation: 0it [00:00, ?it/s]"
      ]
     },
     "metadata": {},
     "output_type": "display_data"
    },
    {
     "data": {
      "application/vnd.jupyter.widget-view+json": {
       "model_id": "",
       "version_major": 2,
       "version_minor": 0
      },
      "text/plain": [
       "Validation: 0it [00:00, ?it/s]"
      ]
     },
     "metadata": {},
     "output_type": "display_data"
    },
    {
     "data": {
      "application/vnd.jupyter.widget-view+json": {
       "model_id": "",
       "version_major": 2,
       "version_minor": 0
      },
      "text/plain": [
       "Validation: 0it [00:00, ?it/s]"
      ]
     },
     "metadata": {},
     "output_type": "display_data"
    },
    {
     "data": {
      "application/vnd.jupyter.widget-view+json": {
       "model_id": "",
       "version_major": 2,
       "version_minor": 0
      },
      "text/plain": [
       "Validation: 0it [00:00, ?it/s]"
      ]
     },
     "metadata": {},
     "output_type": "display_data"
    },
    {
     "data": {
      "application/vnd.jupyter.widget-view+json": {
       "model_id": "",
       "version_major": 2,
       "version_minor": 0
      },
      "text/plain": [
       "Validation: 0it [00:00, ?it/s]"
      ]
     },
     "metadata": {},
     "output_type": "display_data"
    },
    {
     "data": {
      "application/vnd.jupyter.widget-view+json": {
       "model_id": "",
       "version_major": 2,
       "version_minor": 0
      },
      "text/plain": [
       "Validation: 0it [00:00, ?it/s]"
      ]
     },
     "metadata": {},
     "output_type": "display_data"
    },
    {
     "data": {
      "application/vnd.jupyter.widget-view+json": {
       "model_id": "",
       "version_major": 2,
       "version_minor": 0
      },
      "text/plain": [
       "Validation: 0it [00:00, ?it/s]"
      ]
     },
     "metadata": {},
     "output_type": "display_data"
    },
    {
     "data": {
      "application/vnd.jupyter.widget-view+json": {
       "model_id": "",
       "version_major": 2,
       "version_minor": 0
      },
      "text/plain": [
       "Validation: 0it [00:00, ?it/s]"
      ]
     },
     "metadata": {},
     "output_type": "display_data"
    },
    {
     "data": {
      "application/vnd.jupyter.widget-view+json": {
       "model_id": "",
       "version_major": 2,
       "version_minor": 0
      },
      "text/plain": [
       "Validation: 0it [00:00, ?it/s]"
      ]
     },
     "metadata": {},
     "output_type": "display_data"
    },
    {
     "data": {
      "application/vnd.jupyter.widget-view+json": {
       "model_id": "",
       "version_major": 2,
       "version_minor": 0
      },
      "text/plain": [
       "Validation: 0it [00:00, ?it/s]"
      ]
     },
     "metadata": {},
     "output_type": "display_data"
    },
    {
     "data": {
      "application/vnd.jupyter.widget-view+json": {
       "model_id": "",
       "version_major": 2,
       "version_minor": 0
      },
      "text/plain": [
       "Validation: 0it [00:00, ?it/s]"
      ]
     },
     "metadata": {},
     "output_type": "display_data"
    },
    {
     "data": {
      "application/vnd.jupyter.widget-view+json": {
       "model_id": "",
       "version_major": 2,
       "version_minor": 0
      },
      "text/plain": [
       "Validation: 0it [00:00, ?it/s]"
      ]
     },
     "metadata": {},
     "output_type": "display_data"
    },
    {
     "data": {
      "application/vnd.jupyter.widget-view+json": {
       "model_id": "",
       "version_major": 2,
       "version_minor": 0
      },
      "text/plain": [
       "Validation: 0it [00:00, ?it/s]"
      ]
     },
     "metadata": {},
     "output_type": "display_data"
    },
    {
     "data": {
      "application/vnd.jupyter.widget-view+json": {
       "model_id": "",
       "version_major": 2,
       "version_minor": 0
      },
      "text/plain": [
       "Validation: 0it [00:00, ?it/s]"
      ]
     },
     "metadata": {},
     "output_type": "display_data"
    },
    {
     "data": {
      "application/vnd.jupyter.widget-view+json": {
       "model_id": "",
       "version_major": 2,
       "version_minor": 0
      },
      "text/plain": [
       "Validation: 0it [00:00, ?it/s]"
      ]
     },
     "metadata": {},
     "output_type": "display_data"
    },
    {
     "data": {
      "application/vnd.jupyter.widget-view+json": {
       "model_id": "",
       "version_major": 2,
       "version_minor": 0
      },
      "text/plain": [
       "Validation: 0it [00:00, ?it/s]"
      ]
     },
     "metadata": {},
     "output_type": "display_data"
    },
    {
     "data": {
      "application/vnd.jupyter.widget-view+json": {
       "model_id": "",
       "version_major": 2,
       "version_minor": 0
      },
      "text/plain": [
       "Validation: 0it [00:00, ?it/s]"
      ]
     },
     "metadata": {},
     "output_type": "display_data"
    },
    {
     "data": {
      "application/vnd.jupyter.widget-view+json": {
       "model_id": "",
       "version_major": 2,
       "version_minor": 0
      },
      "text/plain": [
       "Validation: 0it [00:00, ?it/s]"
      ]
     },
     "metadata": {},
     "output_type": "display_data"
    },
    {
     "data": {
      "application/vnd.jupyter.widget-view+json": {
       "model_id": "",
       "version_major": 2,
       "version_minor": 0
      },
      "text/plain": [
       "Validation: 0it [00:00, ?it/s]"
      ]
     },
     "metadata": {},
     "output_type": "display_data"
    },
    {
     "data": {
      "application/vnd.jupyter.widget-view+json": {
       "model_id": "",
       "version_major": 2,
       "version_minor": 0
      },
      "text/plain": [
       "Validation: 0it [00:00, ?it/s]"
      ]
     },
     "metadata": {},
     "output_type": "display_data"
    },
    {
     "data": {
      "application/vnd.jupyter.widget-view+json": {
       "model_id": "",
       "version_major": 2,
       "version_minor": 0
      },
      "text/plain": [
       "Validation: 0it [00:00, ?it/s]"
      ]
     },
     "metadata": {},
     "output_type": "display_data"
    },
    {
     "data": {
      "application/vnd.jupyter.widget-view+json": {
       "model_id": "",
       "version_major": 2,
       "version_minor": 0
      },
      "text/plain": [
       "Validation: 0it [00:00, ?it/s]"
      ]
     },
     "metadata": {},
     "output_type": "display_data"
    },
    {
     "data": {
      "application/vnd.jupyter.widget-view+json": {
       "model_id": "",
       "version_major": 2,
       "version_minor": 0
      },
      "text/plain": [
       "Validation: 0it [00:00, ?it/s]"
      ]
     },
     "metadata": {},
     "output_type": "display_data"
    },
    {
     "data": {
      "application/vnd.jupyter.widget-view+json": {
       "model_id": "",
       "version_major": 2,
       "version_minor": 0
      },
      "text/plain": [
       "Validation: 0it [00:00, ?it/s]"
      ]
     },
     "metadata": {},
     "output_type": "display_data"
    },
    {
     "data": {
      "application/vnd.jupyter.widget-view+json": {
       "model_id": "",
       "version_major": 2,
       "version_minor": 0
      },
      "text/plain": [
       "Validation: 0it [00:00, ?it/s]"
      ]
     },
     "metadata": {},
     "output_type": "display_data"
    },
    {
     "data": {
      "application/vnd.jupyter.widget-view+json": {
       "model_id": "",
       "version_major": 2,
       "version_minor": 0
      },
      "text/plain": [
       "Validation: 0it [00:00, ?it/s]"
      ]
     },
     "metadata": {},
     "output_type": "display_data"
    },
    {
     "data": {
      "application/vnd.jupyter.widget-view+json": {
       "model_id": "",
       "version_major": 2,
       "version_minor": 0
      },
      "text/plain": [
       "Validation: 0it [00:00, ?it/s]"
      ]
     },
     "metadata": {},
     "output_type": "display_data"
    },
    {
     "data": {
      "application/vnd.jupyter.widget-view+json": {
       "model_id": "",
       "version_major": 2,
       "version_minor": 0
      },
      "text/plain": [
       "Validation: 0it [00:00, ?it/s]"
      ]
     },
     "metadata": {},
     "output_type": "display_data"
    },
    {
     "data": {
      "application/vnd.jupyter.widget-view+json": {
       "model_id": "",
       "version_major": 2,
       "version_minor": 0
      },
      "text/plain": [
       "Validation: 0it [00:00, ?it/s]"
      ]
     },
     "metadata": {},
     "output_type": "display_data"
    },
    {
     "data": {
      "application/vnd.jupyter.widget-view+json": {
       "model_id": "",
       "version_major": 2,
       "version_minor": 0
      },
      "text/plain": [
       "Validation: 0it [00:00, ?it/s]"
      ]
     },
     "metadata": {},
     "output_type": "display_data"
    },
    {
     "data": {
      "application/vnd.jupyter.widget-view+json": {
       "model_id": "",
       "version_major": 2,
       "version_minor": 0
      },
      "text/plain": [
       "Validation: 0it [00:00, ?it/s]"
      ]
     },
     "metadata": {},
     "output_type": "display_data"
    },
    {
     "data": {
      "application/vnd.jupyter.widget-view+json": {
       "model_id": "",
       "version_major": 2,
       "version_minor": 0
      },
      "text/plain": [
       "Validation: 0it [00:00, ?it/s]"
      ]
     },
     "metadata": {},
     "output_type": "display_data"
    },
    {
     "data": {
      "application/vnd.jupyter.widget-view+json": {
       "model_id": "",
       "version_major": 2,
       "version_minor": 0
      },
      "text/plain": [
       "Validation: 0it [00:00, ?it/s]"
      ]
     },
     "metadata": {},
     "output_type": "display_data"
    },
    {
     "data": {
      "application/vnd.jupyter.widget-view+json": {
       "model_id": "",
       "version_major": 2,
       "version_minor": 0
      },
      "text/plain": [
       "Validation: 0it [00:00, ?it/s]"
      ]
     },
     "metadata": {},
     "output_type": "display_data"
    },
    {
     "data": {
      "application/vnd.jupyter.widget-view+json": {
       "model_id": "",
       "version_major": 2,
       "version_minor": 0
      },
      "text/plain": [
       "Validation: 0it [00:00, ?it/s]"
      ]
     },
     "metadata": {},
     "output_type": "display_data"
    },
    {
     "data": {
      "application/vnd.jupyter.widget-view+json": {
       "model_id": "",
       "version_major": 2,
       "version_minor": 0
      },
      "text/plain": [
       "Validation: 0it [00:00, ?it/s]"
      ]
     },
     "metadata": {},
     "output_type": "display_data"
    },
    {
     "data": {
      "application/vnd.jupyter.widget-view+json": {
       "model_id": "",
       "version_major": 2,
       "version_minor": 0
      },
      "text/plain": [
       "Validation: 0it [00:00, ?it/s]"
      ]
     },
     "metadata": {},
     "output_type": "display_data"
    },
    {
     "data": {
      "application/vnd.jupyter.widget-view+json": {
       "model_id": "",
       "version_major": 2,
       "version_minor": 0
      },
      "text/plain": [
       "Validation: 0it [00:00, ?it/s]"
      ]
     },
     "metadata": {},
     "output_type": "display_data"
    },
    {
     "data": {
      "application/vnd.jupyter.widget-view+json": {
       "model_id": "",
       "version_major": 2,
       "version_minor": 0
      },
      "text/plain": [
       "Validation: 0it [00:00, ?it/s]"
      ]
     },
     "metadata": {},
     "output_type": "display_data"
    },
    {
     "data": {
      "application/vnd.jupyter.widget-view+json": {
       "model_id": "",
       "version_major": 2,
       "version_minor": 0
      },
      "text/plain": [
       "Validation: 0it [00:00, ?it/s]"
      ]
     },
     "metadata": {},
     "output_type": "display_data"
    },
    {
     "data": {
      "application/vnd.jupyter.widget-view+json": {
       "model_id": "",
       "version_major": 2,
       "version_minor": 0
      },
      "text/plain": [
       "Validation: 0it [00:00, ?it/s]"
      ]
     },
     "metadata": {},
     "output_type": "display_data"
    },
    {
     "data": {
      "application/vnd.jupyter.widget-view+json": {
       "model_id": "",
       "version_major": 2,
       "version_minor": 0
      },
      "text/plain": [
       "Validation: 0it [00:00, ?it/s]"
      ]
     },
     "metadata": {},
     "output_type": "display_data"
    },
    {
     "data": {
      "application/vnd.jupyter.widget-view+json": {
       "model_id": "",
       "version_major": 2,
       "version_minor": 0
      },
      "text/plain": [
       "Validation: 0it [00:00, ?it/s]"
      ]
     },
     "metadata": {},
     "output_type": "display_data"
    },
    {
     "data": {
      "application/vnd.jupyter.widget-view+json": {
       "model_id": "",
       "version_major": 2,
       "version_minor": 0
      },
      "text/plain": [
       "Validation: 0it [00:00, ?it/s]"
      ]
     },
     "metadata": {},
     "output_type": "display_data"
    },
    {
     "data": {
      "application/vnd.jupyter.widget-view+json": {
       "model_id": "",
       "version_major": 2,
       "version_minor": 0
      },
      "text/plain": [
       "Validation: 0it [00:00, ?it/s]"
      ]
     },
     "metadata": {},
     "output_type": "display_data"
    },
    {
     "data": {
      "application/vnd.jupyter.widget-view+json": {
       "model_id": "",
       "version_major": 2,
       "version_minor": 0
      },
      "text/plain": [
       "Validation: 0it [00:00, ?it/s]"
      ]
     },
     "metadata": {},
     "output_type": "display_data"
    },
    {
     "data": {
      "application/vnd.jupyter.widget-view+json": {
       "model_id": "",
       "version_major": 2,
       "version_minor": 0
      },
      "text/plain": [
       "Validation: 0it [00:00, ?it/s]"
      ]
     },
     "metadata": {},
     "output_type": "display_data"
    },
    {
     "data": {
      "application/vnd.jupyter.widget-view+json": {
       "model_id": "",
       "version_major": 2,
       "version_minor": 0
      },
      "text/plain": [
       "Validation: 0it [00:00, ?it/s]"
      ]
     },
     "metadata": {},
     "output_type": "display_data"
    },
    {
     "data": {
      "application/vnd.jupyter.widget-view+json": {
       "model_id": "",
       "version_major": 2,
       "version_minor": 0
      },
      "text/plain": [
       "Validation: 0it [00:00, ?it/s]"
      ]
     },
     "metadata": {},
     "output_type": "display_data"
    },
    {
     "data": {
      "application/vnd.jupyter.widget-view+json": {
       "model_id": "",
       "version_major": 2,
       "version_minor": 0
      },
      "text/plain": [
       "Validation: 0it [00:00, ?it/s]"
      ]
     },
     "metadata": {},
     "output_type": "display_data"
    },
    {
     "data": {
      "application/vnd.jupyter.widget-view+json": {
       "model_id": "",
       "version_major": 2,
       "version_minor": 0
      },
      "text/plain": [
       "Validation: 0it [00:00, ?it/s]"
      ]
     },
     "metadata": {},
     "output_type": "display_data"
    },
    {
     "data": {
      "application/vnd.jupyter.widget-view+json": {
       "model_id": "",
       "version_major": 2,
       "version_minor": 0
      },
      "text/plain": [
       "Validation: 0it [00:00, ?it/s]"
      ]
     },
     "metadata": {},
     "output_type": "display_data"
    },
    {
     "data": {
      "application/vnd.jupyter.widget-view+json": {
       "model_id": "",
       "version_major": 2,
       "version_minor": 0
      },
      "text/plain": [
       "Validation: 0it [00:00, ?it/s]"
      ]
     },
     "metadata": {},
     "output_type": "display_data"
    },
    {
     "data": {
      "application/vnd.jupyter.widget-view+json": {
       "model_id": "",
       "version_major": 2,
       "version_minor": 0
      },
      "text/plain": [
       "Validation: 0it [00:00, ?it/s]"
      ]
     },
     "metadata": {},
     "output_type": "display_data"
    },
    {
     "data": {
      "application/vnd.jupyter.widget-view+json": {
       "model_id": "",
       "version_major": 2,
       "version_minor": 0
      },
      "text/plain": [
       "Validation: 0it [00:00, ?it/s]"
      ]
     },
     "metadata": {},
     "output_type": "display_data"
    },
    {
     "data": {
      "application/vnd.jupyter.widget-view+json": {
       "model_id": "",
       "version_major": 2,
       "version_minor": 0
      },
      "text/plain": [
       "Validation: 0it [00:00, ?it/s]"
      ]
     },
     "metadata": {},
     "output_type": "display_data"
    },
    {
     "data": {
      "application/vnd.jupyter.widget-view+json": {
       "model_id": "",
       "version_major": 2,
       "version_minor": 0
      },
      "text/plain": [
       "Validation: 0it [00:00, ?it/s]"
      ]
     },
     "metadata": {},
     "output_type": "display_data"
    },
    {
     "data": {
      "application/vnd.jupyter.widget-view+json": {
       "model_id": "",
       "version_major": 2,
       "version_minor": 0
      },
      "text/plain": [
       "Validation: 0it [00:00, ?it/s]"
      ]
     },
     "metadata": {},
     "output_type": "display_data"
    },
    {
     "data": {
      "application/vnd.jupyter.widget-view+json": {
       "model_id": "",
       "version_major": 2,
       "version_minor": 0
      },
      "text/plain": [
       "Validation: 0it [00:00, ?it/s]"
      ]
     },
     "metadata": {},
     "output_type": "display_data"
    },
    {
     "data": {
      "application/vnd.jupyter.widget-view+json": {
       "model_id": "",
       "version_major": 2,
       "version_minor": 0
      },
      "text/plain": [
       "Validation: 0it [00:00, ?it/s]"
      ]
     },
     "metadata": {},
     "output_type": "display_data"
    },
    {
     "data": {
      "application/vnd.jupyter.widget-view+json": {
       "model_id": "",
       "version_major": 2,
       "version_minor": 0
      },
      "text/plain": [
       "Validation: 0it [00:00, ?it/s]"
      ]
     },
     "metadata": {},
     "output_type": "display_data"
    },
    {
     "data": {
      "application/vnd.jupyter.widget-view+json": {
       "model_id": "",
       "version_major": 2,
       "version_minor": 0
      },
      "text/plain": [
       "Validation: 0it [00:00, ?it/s]"
      ]
     },
     "metadata": {},
     "output_type": "display_data"
    },
    {
     "data": {
      "application/vnd.jupyter.widget-view+json": {
       "model_id": "",
       "version_major": 2,
       "version_minor": 0
      },
      "text/plain": [
       "Validation: 0it [00:00, ?it/s]"
      ]
     },
     "metadata": {},
     "output_type": "display_data"
    },
    {
     "data": {
      "application/vnd.jupyter.widget-view+json": {
       "model_id": "",
       "version_major": 2,
       "version_minor": 0
      },
      "text/plain": [
       "Validation: 0it [00:00, ?it/s]"
      ]
     },
     "metadata": {},
     "output_type": "display_data"
    },
    {
     "data": {
      "application/vnd.jupyter.widget-view+json": {
       "model_id": "",
       "version_major": 2,
       "version_minor": 0
      },
      "text/plain": [
       "Validation: 0it [00:00, ?it/s]"
      ]
     },
     "metadata": {},
     "output_type": "display_data"
    },
    {
     "data": {
      "application/vnd.jupyter.widget-view+json": {
       "model_id": "",
       "version_major": 2,
       "version_minor": 0
      },
      "text/plain": [
       "Validation: 0it [00:00, ?it/s]"
      ]
     },
     "metadata": {},
     "output_type": "display_data"
    },
    {
     "data": {
      "application/vnd.jupyter.widget-view+json": {
       "model_id": "",
       "version_major": 2,
       "version_minor": 0
      },
      "text/plain": [
       "Validation: 0it [00:00, ?it/s]"
      ]
     },
     "metadata": {},
     "output_type": "display_data"
    },
    {
     "data": {
      "application/vnd.jupyter.widget-view+json": {
       "model_id": "",
       "version_major": 2,
       "version_minor": 0
      },
      "text/plain": [
       "Validation: 0it [00:00, ?it/s]"
      ]
     },
     "metadata": {},
     "output_type": "display_data"
    },
    {
     "name": "stderr",
     "output_type": "stream",
     "text": [
      "`Trainer.fit` stopped: `max_epochs=200` reached.\n"
     ]
    }
   ],
   "source": [
    "model = Regression_3l()\n",
    "trainer = Trainer(max_epochs = 200)  # Option to check if it's working at all: fast_dev_run=True \n",
    "                                    # Option to implement early stopping: early_stop_callback=True\n",
    "trainer.fit(model)"
   ]
  },
  {
   "cell_type": "code",
   "execution_count": 145,
   "id": "1a4fa6a4",
   "metadata": {},
   "outputs": [
    {
     "name": "stderr",
     "output_type": "stream",
     "text": [
      "C:\\Users\\aleks\\anaconda3\\lib\\site-packages\\pytorch_lightning\\trainer\\trainer.py:1386: UserWarning: `.test(ckpt_path=None)` was called without a model. The best model of the previous `fit` call will be used. You can pass `.test(ckpt_path='best')` to use the best model or `.test(ckpt_path='last')` to use the last model. If you pass a value, this warning will be silenced.\n",
      "  rank_zero_warn(\n",
      "Restoring states from the checkpoint path at C:\\Users\\aleks\\Projects\\arameic-mishmash\\Bachelor\\Fit tasks\\lightning_logs\\version_43\\checkpoints\\epoch=199-step=12200.ckpt\n",
      "Loaded model weights from checkpoint at C:\\Users\\aleks\\Projects\\arameic-mishmash\\Bachelor\\Fit tasks\\lightning_logs\\version_43\\checkpoints\\epoch=199-step=12200.ckpt\n",
      "C:\\Users\\aleks\\anaconda3\\lib\\site-packages\\pytorch_lightning\\trainer\\connectors\\data_connector.py:236: PossibleUserWarning: The dataloader, test_dataloader 0, does not have many workers which may be a bottleneck. Consider increasing the value of the `num_workers` argument` (try 8 which is the number of cpus on this machine) in the `DataLoader` init to improve performance.\n",
      "  rank_zero_warn(\n"
     ]
    },
    {
     "data": {
      "application/vnd.jupyter.widget-view+json": {
       "model_id": "8d6a856000be44539cbbc26964f10799",
       "version_major": 2,
       "version_minor": 0
      },
      "text/plain": [
       "Testing: 0it [00:00, ?it/s]"
      ]
     },
     "metadata": {},
     "output_type": "display_data"
    },
    {
     "data": {
      "text/plain": [
       "[{}]"
      ]
     },
     "execution_count": 145,
     "metadata": {},
     "output_type": "execute_result"
    }
   ],
   "source": [
    "predictions_pred = []\n",
    "predictions_actual = []\n",
    "trainer.test()"
   ]
  },
  {
   "cell_type": "code",
   "execution_count": 146,
   "id": "b09e1312",
   "metadata": {},
   "outputs": [
    {
     "data": {
      "text/plain": [
       "Regression_3l(\n",
       "  (fc1): Linear(in_features=1350, out_features=20, bias=True)\n",
       "  (fc2): Linear(in_features=20, out_features=20, bias=True)\n",
       "  (fc3): Linear(in_features=20, out_features=3, bias=True)\n",
       ")"
      ]
     },
     "execution_count": 146,
     "metadata": {},
     "output_type": "execute_result"
    }
   ],
   "source": [
    "torch.save(model.state_dict(), f'{path}/model.pt')\n",
    "model.eval()"
   ]
  },
  {
   "cell_type": "code",
   "execution_count": 147,
   "id": "4fe79d9f",
   "metadata": {},
   "outputs": [
    {
     "name": "stdout",
     "output_type": "stream",
     "text": [
      "length of pred_actual 77 \n",
      "size of tenzors inside pred_actual torch.Size([128, 3])\n"
     ]
    }
   ],
   "source": [
    "print('length of pred_actual',len(predictions_actual),'\\nsize of tenzors inside pred_actual',predictions_actual[3].size())"
   ]
  },
  {
   "cell_type": "code",
   "execution_count": 148,
   "id": "a270416f",
   "metadata": {},
   "outputs": [],
   "source": [
    "# convert my predicted values back to actual numbers of bike rides again, instead of the scaled values used to predict on\n",
    "data_scaling=pd.read_csv(f'{path}/data_scaling.csv', header=0, index_col=0)\n",
    "mean = data_scaling['Qimpact'][0]\n",
    "std = data_scaling['Qimpact'][1]"
   ]
  },
  {
   "cell_type": "code",
   "execution_count": 149,
   "id": "c2b92742",
   "metadata": {},
   "outputs": [
    {
     "data": {
      "text/html": [
       "<div>\n",
       "<style scoped>\n",
       "    .dataframe tbody tr th:only-of-type {\n",
       "        vertical-align: middle;\n",
       "    }\n",
       "\n",
       "    .dataframe tbody tr th {\n",
       "        vertical-align: top;\n",
       "    }\n",
       "\n",
       "    .dataframe thead th {\n",
       "        text-align: right;\n",
       "    }\n",
       "</style>\n",
       "<table border=\"1\" class=\"dataframe\">\n",
       "  <thead>\n",
       "    <tr style=\"text-align: right;\">\n",
       "      <th></th>\n",
       "      <th>Z</th>\n",
       "      <th>T</th>\n",
       "      <th>Kn</th>\n",
       "      <th>n</th>\n",
       "      <th>Qimpact</th>\n",
       "    </tr>\n",
       "  </thead>\n",
       "  <tbody>\n",
       "    <tr>\n",
       "      <th>mean</th>\n",
       "      <td>6.636804</td>\n",
       "      <td>2205.480397</td>\n",
       "      <td>-0.021059</td>\n",
       "      <td>1.121635e+21</td>\n",
       "      <td>2.712235e+13</td>\n",
       "    </tr>\n",
       "    <tr>\n",
       "      <th>std</th>\n",
       "      <td>11.862872</td>\n",
       "      <td>688.061478</td>\n",
       "      <td>0.051320</td>\n",
       "      <td>1.691621e+21</td>\n",
       "      <td>2.477510e+13</td>\n",
       "    </tr>\n",
       "  </tbody>\n",
       "</table>\n",
       "</div>"
      ],
      "text/plain": [
       "              Z            T        Kn             n       Qimpact\n",
       "mean   6.636804  2205.480397 -0.021059  1.121635e+21  2.712235e+13\n",
       "std   11.862872   688.061478  0.051320  1.691621e+21  2.477510e+13"
      ]
     },
     "execution_count": 149,
     "metadata": {},
     "output_type": "execute_result"
    }
   ],
   "source": [
    "data_scaling"
   ]
  },
  {
   "cell_type": "markdown",
   "id": "d34da269",
   "metadata": {},
   "source": [
    "## Ploting part"
   ]
  },
  {
   "cell_type": "code",
   "execution_count": 150,
   "id": "fa460a34",
   "metadata": {},
   "outputs": [],
   "source": [
    "figuresize=6.5\n",
    "import matplotlib.font_manager as fm\n",
    "mpl.rcParams['font.family'] = 'Avenir'\n",
    "plt.rcParams['axes.linewidth'] = 0.5"
   ]
  },
  {
   "cell_type": "code",
   "execution_count": 151,
   "id": "e5d66bb0",
   "metadata": {},
   "outputs": [],
   "source": [
    "# Get dates for plotting\n",
    "datesx = scaled_Qdata.index\n",
    "\n",
    "# Get predicted points (scaled back to their original size)\n",
    "plot_pred = []\n",
    "for i in range(len(predictions_pred)):\n",
    "    plot_pred.extend(predictions_pred[i].T.numpy()[0] * std + mean)\n",
    "\n",
    "# Get actual points (scaled back to their original size)\n",
    "plot_actual = []\n",
    "for i in range(len(predictions_actual)):\n",
    "    plot_actual.extend(predictions_actual[i].T.numpy()[0] * std + mean)   "
   ]
  },
  {
   "cell_type": "markdown",
   "id": "a2b8672f",
   "metadata": {},
   "source": [
    "**Predicted heat flux**"
   ]
  },
  {
   "cell_type": "code",
   "execution_count": 152,
   "id": "69e02c77",
   "metadata": {},
   "outputs": [
    {
     "data": {
      "text/plain": [
       "<matplotlib.legend.Legend at 0x20cb8a42bb0>"
      ]
     },
     "execution_count": 152,
     "metadata": {},
     "output_type": "execute_result"
    },
    {
     "data": {
      "application/vnd.jupyter.widget-view+json": {
       "model_id": "c8dc0001edb640439d496023cb9b9f29",
       "version_major": 2,
       "version_minor": 0
      },
      "image/png": "[encoded data removed]",
      "text/html": [
       "\n",
       "            <div style=\"display: inline-block;\">\n",
       "                <div class=\"jupyter-widgets widget-label\" style=\"text-align: center;\">\n",
       "                    Figure\n",
       "                </div>\n",
       "                <img src='data:image/png;base64,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' width=1000.0/>\n",
       "            </div>\n",
       "        "
      ],
      "text/plain": [
       "Canvas(toolbar=Toolbar(toolitems=[('Home', 'Reset original view', 'home', 'home'), ('Back', 'Back to previous …"
      ]
     },
     "metadata": {},
     "output_type": "display_data"
    }
   ],
   "source": [
    "# And finally we can see that our network has done a decent job of estimating!\n",
    "fig, ax = plt.subplots(figsize=(10,4))\n",
    "ax.plot(scaled_Qdata.index,plot_pred, label='NN Prediction', lw=2)\n",
    "ax.plot(scaled_Qdata.index,plot_actual,'r--', label='Impact (kinetic reference)', lw=3, alpha=0.6)\n",
    "ax.set_xlabel('cm',fontsize=18)\n",
    "ax.set_ylabel('W/cm$^2$',fontsize=18)\n",
    "ax.spines['top'].set_visible(False)\n",
    "ax.spines['right'].set_visible(False)\n",
    "#ax.grid(color='grey', linestyle='-.', linewidth=0.3,which=\"both\")\n",
    "ax.tick_params(axis='x',which='both',bottom=True,top=False,labelbottom=True, labelsize=15, size=5)\n",
    "ax.tick_params(axis='y',which='both',left=True,right=False, labelsize=15, size=5)\n",
    "ax.legend()"
   ]
  },
  {
   "cell_type": "markdown",
   "id": "5a08b3a9",
   "metadata": {},
   "source": [
    "**Gradients of predicted heat flux and initial data**"
   ]
  },
  {
   "cell_type": "code",
   "execution_count": 153,
   "id": "5b56778d",
   "metadata": {},
   "outputs": [],
   "source": [
    "gradQpred=np.gradient(plot_pred, scaled_Qdata.index)\n",
    "gradQact=np.gradient(plot_actual, scaled_Qdata.index)"
   ]
  },
  {
   "cell_type": "code",
   "execution_count": 154,
   "id": "ea5e474d",
   "metadata": {},
   "outputs": [
    {
     "data": {
      "text/plain": [
       "<matplotlib.legend.Legend at 0x20cb88a0fd0>"
      ]
     },
     "execution_count": 154,
     "metadata": {},
     "output_type": "execute_result"
    },
    {
     "data": {
      "application/vnd.jupyter.widget-view+json": {
       "model_id": "aad88e0f9a354b1990eba3a95813d876",
       "version_major": 2,
       "version_minor": 0
      },
      "image/png": "[encoded data removed]",
      "text/html": [
       "\n",
       "            <div style=\"display: inline-block;\">\n",
       "                <div class=\"jupyter-widgets widget-label\" style=\"text-align: center;\">\n",
       "                    Figure\n",
       "                </div>\n",
       "                <img src='data:image/png;base64,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' width=1200.0/>\n",
       "            </div>\n",
       "        "
      ],
      "text/plain": [
       "Canvas(toolbar=Toolbar(toolitems=[('Home', 'Reset original view', 'home', 'home'), ('Back', 'Back to previous …"
      ]
     },
     "metadata": {},
     "output_type": "display_data"
    }
   ],
   "source": [
    "fig2, ax2 = plt.subplots(figsize=(12,8))\n",
    "ax2.plot(scaled_Qdata.index,gradQpred, label=r'NN prediction', lw=1.5)\n",
    "ax2.plot(scaled_Qdata.index,gradQact, 'r--', label='Impact (kinetic reference)', lw=3, alpha=0.6)\n",
    "ax2.set_xlim(1.453e-1,1.832e-1)\n",
    "\n",
    "ax2.set_xlabel('cm', fontsize=24)\n",
    "ax2.set_ylabel('W/cm$^3$', fontsize=24)\n",
    "ax.tick_params(axis='x',which='both',bottom=True,top=False,labelbottom=True, labelsize=15, size=5)\n",
    "ax.tick_params(axis='y',which='both',left=True,right=False, labelsize=15, size=5)\n",
    "ax2.legend()\n"
   ]
  },
  {
   "cell_type": "code",
   "execution_count": 155,
   "id": "864d7766",
   "metadata": {},
   "outputs": [
    {
     "name": "stderr",
     "output_type": "stream",
     "text": [
      "C:\\Users\\aleks\\AppData\\Local\\Temp\\ipykernel_2724\\812428851.py:1: RuntimeWarning: More than 20 figures have been opened. Figures created through the pyplot interface (`matplotlib.pyplot.figure`) are retained until explicitly closed and may consume too much memory. (To control this warning, see the rcParam `figure.max_open_warning`).\n",
      "  fig1, axs1 = plt.subplots(2, 1, figsize=(6.5,6.5), sharex=True)\n"
     ]
    },
    {
     "data": {
      "text/plain": [
       "Text(0.5, 0, 'cm')"
      ]
     },
     "execution_count": 155,
     "metadata": {},
     "output_type": "execute_result"
    },
    {
     "data": {
      "application/vnd.jupyter.widget-view+json": {
       "model_id": "7d30d1b2c36441ab82de843f1915dcf1",
       "version_major": 2,
       "version_minor": 0
      },
      "image/png": "[encoded data removed]",
      "text/html": [
       "\n",
       "            <div style=\"display: inline-block;\">\n",
       "                <div class=\"jupyter-widgets widget-label\" style=\"text-align: center;\">\n",
       "                    Figure\n",
       "                </div>\n",
       "                <img src='data:image/png;base64,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' width=650.0/>\n",
       "            </div>\n",
       "        "
      ],
      "text/plain": [
       "Canvas(toolbar=Toolbar(toolitems=[('Home', 'Reset original view', 'home', 'home'), ('Back', 'Back to previous …"
      ]
     },
     "metadata": {},
     "output_type": "display_data"
    }
   ],
   "source": [
    "fig1, axs1 = plt.subplots(2, 1, figsize=(6.5,6.5), sharex=True)\n",
    "\n",
    "\n",
    "axs1[0].plot(scaled_Qdata.index,plot_pred, label='NN Prediction')\n",
    "axs1[0].plot(scaled_Qdata.index,plot_actual, label='$q$ Impact', color='r')\n",
    "axs1[0].set_ylabel('W/cm$^2$',fontsize=18)\n",
    "\n",
    "axs1[0].tick_params(axis='x',which='both',bottom=True,top=False,labelbottom=False, labelsize=15, size=5)\n",
    "axs1[0].tick_params(axis='y',which='both',left=True,right=False, labelsize=15, size=5)\n",
    "axs1[1].tick_params(axis='x',which='both',bottom=True,top=False,labelbottom=True, labelsize=15, size=5)\n",
    "axs1[1].tick_params(axis='y',which='both',left=True,right=False, labelsize=15, size=5)\n",
    "axs1[0].legend()\n",
    "\n",
    "axs1[1].plot(scaled_Qdata.index,gradQpred, label=r'$\\nabla q$ NN prediction')\n",
    "axs1[1].plot(scaled_Qdata.index,gradQact, label=r'$\\nabla q$ Impact ', color='orange', lw=2)\n",
    "axs1[1].set_ylabel('W/cm$^3$',fontsize=18)\n",
    "axs1[1].legend(loc='upper left')\n",
    "axs1[1].set_xlabel('cm',fontsize=18)\n"
   ]
  },
  {
   "cell_type": "code",
   "execution_count": 140,
   "id": "bacee807",
   "metadata": {},
   "outputs": [
    {
     "name": "stdout",
     "output_type": "stream",
     "text": [
      "Flux limiter from Qeff profile flim = 1.6e-01 ± 7.4e-04\n"
     ]
    },
    {
     "data": {
      "application/vnd.jupyter.widget-view+json": {
       "model_id": "c4380c878de941a4b0d5abdb6e488863",
       "version_major": 2,
       "version_minor": 0
      },
      "image/png": "[encoded data removed]",
      "text/html": [
       "\n",
       "            <div style=\"display: inline-block;\">\n",
       "                <div class=\"jupyter-widgets widget-label\" style=\"text-align: center;\">\n",
       "                    Figure\n",
       "                </div>\n",
       "                <img src='data:image/png;base64,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' width=1200.0/>\n",
       "            </div>\n",
       "        "
      ],
      "text/plain": [
       "Canvas(toolbar=Toolbar(toolitems=[('Home', 'Reset original view', 'home', 'home'), ('Back', 'Back to previous …"
      ]
     },
     "metadata": {},
     "output_type": "display_data"
    }
   ],
   "source": [
    "#!!!\n",
    "def impdata(filename):\n",
    "    url=f'https://raw.githubusercontent.com/homijan/ML-student-projects/intro-ab/students/bogdaale/gd-profiles/{filename}'\n",
    "    return url\n",
    "#!!!\n",
    "\n",
    "x_Te, Te = np.loadtxt(impdata('Te_gdhohlraum_cm_10ps_TekeV_interp.txt'), usecols=(0, 1), unpack=True)\n",
    "x_ne, ne = np.loadtxt(impdata('ne_gdhohlraum_cm_ne1e20cm3_interp.txt'), usecols=(0, 1), unpack=True)\n",
    "x_Zbar, Zbar = np.loadtxt(impdata('Zbar_gdhohlraum_cm_Z_interp.txt'), usecols=(0, 1), unpack=True)\n",
    "\n",
    "x_Qloc, Qloc = np.loadtxt(impdata('Q_gdhohlraum_microns_10ps_LocalWcm2.txt'), usecols=(0, 1), unpack=True)\n",
    "x_Qimpact, Qimpact = np.loadtxt(impdata('Q_gdhohlraum_microns_10ps_IMPACTWcm2.txt'), usecols=(0, 1), unpack=True)\n",
    "x_Qsnb, Qsnb = np.loadtxt(impdata('Q_gdhohlraum_microns_10ps_separatedsnbWcm2.txt'), usecols=(0, 1), unpack=True)\n",
    "\n",
    "x_Qc7bBGK, Qc7bBGK, Knx = np.loadtxt(impdata('Q_gdhohlraum_cm_10ps_c7b-bgk-Wcm2-clogCHIC.txt'), comments='#', delimiter=', ', usecols=(0, 8, 6), unpack=True)\n",
    "x_Qc7bAWBS, Qc7bAWBS = np.loadtxt(impdata('Q_gdhohlraum_cm_10ps_c7b-awbs-Wcm2-clogCHIC.txt'), comments='#', delimiter=', ', usecols=(0, 8), unpack=True)\n",
    "\n",
    "# changing units um->cm\n",
    "x_Qloc/=1e4\n",
    "x_Qimpact/=1e4\n",
    "x_Qsnb/=1e4\n",
    "\n",
    "def getsub(f, x, xref):\n",
    "    f_cs = CubicSpline(x, f)\n",
    "    return f_cs(xref)\n",
    "\n",
    "def Qstream(ne, Te):\n",
    "    me = 9.1094e-28 # [g]\n",
    "    eV2K = 1.1604e4 # K = eV2K * eV\n",
    "    erg2J = 1e-7\n",
    "    kB = 1.3807e-16 * eV2K # [erg/eV]\n",
    "  # Local thermal energy density\n",
    "    eTh = ne * kB * Te\n",
    "  # Thermal velocity\n",
    "    vTh = (kB * Te / me)**0.5\n",
    "  # Free-streaming heat flux [cm/s*erg/cm3]\n",
    "    Qfs = vTh * eTh\n",
    "    return erg2J * Qfs\n",
    "\n",
    "# Transform data to match given spatial interval \n",
    "# Default values spanning the whole c7b spatial domain\n",
    "xmin = -1.0; xmax = 1.0\n",
    "\n",
    "\n",
    "xref = x_Te[np.logical_and(x_Te > xmin, x_Te < xmax)]\n",
    "Te = getsub(Te, x_Te, xref)\n",
    "ne = getsub(ne, x_ne, xref)\n",
    "Zbar = getsub(Zbar, x_Zbar, xref)\n",
    "Qloc = getsub(Qloc, x_Qloc, xref)\n",
    "Qimpact = getsub(Qimpact, x_Qimpact, xref)\n",
    "Qsnb = getsub(Qsnb, x_Qsnb, xref)\n",
    "Qc7bBGK = getsub(Qc7bBGK, x_Qc7bBGK, xref)\n",
    "Knx = getsub(Knx, x_Qc7bBGK, xref)\n",
    "Qc7bAWBS = getsub(Qc7bAWBS, x_Qc7bAWBS, xref)\n",
    "\n",
    "#calculating Te gradient\n",
    "gradTe=np.gradient(Te, xref)\n",
    "\n",
    "# Evaluate free-streaming heat flux\n",
    "Qfs = Qstream(ne, Te)\n",
    "\n",
    "# Evaluate effective heat flux (logistic weighting of Qloc and Qfs) \n",
    "def fitQeff(X, flim):\n",
    "    #fit function for Qloc profile\n",
    "    ne, Z, Te, gradTe = X\n",
    "    kQSH = 6.1e+02 # scaling constant corresponding to the SHICK local heat flux\n",
    "    Qloc = -(kQSH/Z)*((Z+0.24)/(Z+4.2))*Te**2.5*gradTe\n",
    "    Qfs = Qstream(ne, Te)\n",
    "    Qeff = flim * Qfs * (1.0 - np.exp(-Qloc/(flim*Qfs)))\n",
    "    return Qeff\n",
    "par3, cov3 = curve_fit(fitQeff, (ne, Zbar, Te, gradTe), Qimpact,  maxfev = 1000)\n",
    "standev3=np.sqrt(np.diag(cov3))\n",
    "flim = par3[0]\n",
    "print(f'Flux limiter from Qeff profile flim = {flim:.1e} ± {standev3[0]:.1e}')\n",
    "\n",
    "if (len(sys.argv) > 3):\n",
    "    flim = float(sys.argv[3])\n",
    "    print(f'Flux limiter overruled to flim = {flim}')\n",
    "    \n",
    "#plot stuff\n",
    "fontsize = 16\n",
    "plt.rcParams.update({'font.size': fontsize})\n",
    "\n",
    "strflim = f'{flim:.2f}'\n",
    "fig1, axs1 = plt.subplots(1, 1, figsize=(12, 8))\n",
    "axs1.plot(xref, Qimpact, color='red', label=\"Impact (kinetic reference)\", linewidth=4.0, alpha=0.6)\n",
    "# TODO: Use real NN-driven heat flux Q\n",
    "QNN = Qimpact\n",
    "axs1.plot(xref, Qsnb, 'b--', label=\"Q by Schurtz-Nikolai-Busquet\")\n",
    "axs1.plot(xref, 0.1*Qloc, 'k-.', label=r'Local Q$_{SH}$ × 0.1')\n",
    "axs1.plot(xref, fitQeff((ne, Zbar, Te, gradTe), flim), 'green', label=f'Q limited at const $f$={strflim}', lw=2, alpha=0.6)\n",
    "#axs1.plot(scaled_Qdata.index,plot_pred, 'red',label='NN Prediction', lw=2)\n",
    "#axs1.plot(xref, flim*Qfs, ':', label=f'{strflim} free-streaming')\n",
    "axs1.set_xlabel('cm', fontsize=24)\n",
    "axs1.set_ylabel('W/cm$^2$', fontsize=24)\n",
    "axs1.legend(loc=\"upper left\")\n",
    "axs1.autoscale(enable=True, axis='x', tight=True)\n",
    "axs1.tick_params(axis='x',which='both',bottom=True,top=False,labelbottom=True, labelsize=20, size=5)\n",
    "axs1.tick_params(axis='y',which='both',left=True,right=False, labelsize=20, size=5)\n",
    "\n",
    "plt.show()"
   ]
  },
  {
   "cell_type": "code",
   "execution_count": 141,
   "id": "9a321bd9",
   "metadata": {},
   "outputs": [],
   "source": [
    "gradQimpact=np.gradient(Qimpact, xref)\n",
    "gradQsnb=np.gradient(Qsnb, xref)\n",
    "gradQloc=np.gradient(Qloc, xref)\n",
    "gradfitQeff=np.gradient(fitQeff((ne, Zbar, Te, gradTe), flim), xref)"
   ]
  },
  {
   "cell_type": "code",
   "execution_count": 142,
   "id": "a8038d64",
   "metadata": {},
   "outputs": [
    {
     "data": {
      "application/vnd.jupyter.widget-view+json": {
       "model_id": "2b5a452cc3014365b924fe470da87ad4",
       "version_major": 2,
       "version_minor": 0
      },
      "image/png": "[encoded data removed]",
      "text/html": [
       "\n",
       "            <div style=\"display: inline-block;\">\n",
       "                <div class=\"jupyter-widgets widget-label\" style=\"text-align: center;\">\n",
       "                    Figure\n",
       "                </div>\n",
       "                <img src='data:image/png;base64,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' width=1200.0/>\n",
       "            </div>\n",
       "        "
      ],
      "text/plain": [
       "Canvas(toolbar=Toolbar(toolitems=[('Home', 'Reset original view', 'home', 'home'), ('Back', 'Back to previous …"
      ]
     },
     "metadata": {},
     "output_type": "display_data"
    }
   ],
   "source": [
    "fig2, axs2 = plt.subplots(figsize=(12, 8))\n",
    "\n",
    "#axs2.plot(scaled_Qdata.index,gradQpred, 'r', label=r'$\\nabla Q$ NN prediction', lw=2)\n",
    "\n",
    "axs2.plot(xref,gradQsnb,'b--', label=r'$\\nabla Q$  by Schurtz-Nikolai-Busquet')\n",
    "axs2.plot(xref,gradQloc,'k-.', label=r'Local $\\nabla  Q$× 0.1')\n",
    "axs2.plot(xref,gradfitQeff, 'g', label=r'$\\nabla Q$ limited at const $f$=0.16', lw=2, alpha=0.6)\n",
    "axs2.plot(scaled_Qdata.index,gradQact,'red', label=r'Impact (kinetic reference)', linewidth=4.0, alpha=0.6)\n",
    "axs2.set_ylim(-3.3e16,2.2e16)\n",
    "axs2.set_xlim(0.125,0.179)\n",
    "axs2.set_xlabel('cm', fontsize=24)\n",
    "axs2.set_ylabel('W/cm$^3$', fontsize=24)\n",
    "axs2.legend(loc=\"upper left\", bbox_to_anchor=(0, 0.3))\n",
    "axs2.tick_params(axis='x',which='both',bottom=True,top=False,labelbottom=True, labelsize=20, size=5)\n",
    "axs2.tick_params(axis='y',which='both',left=True,right=False, labelsize=20, size=5)\n",
    "#axs2.autoscale(enable=True, axis='x', tight=True)\n",
    "\n"
   ]
  },
  {
   "cell_type": "code",
   "execution_count": null,
   "id": "9ecbad0e",
   "metadata": {},
   "outputs": [],
   "source": []
  },
  {
   "cell_type": "code",
   "execution_count": 156,
   "id": "1121f8b1",
   "metadata": {},
   "outputs": [
    {
     "name": "stdout",
     "output_type": "stream",
     "text": [
      "Collecting environment information...\n",
      "PyTorch version: 1.13.0\n",
      "Is debug build: False\n",
      "CUDA used to build PyTorch: Could not collect\n",
      "ROCM used to build PyTorch: N/A\n",
      "\n",
      "OS: Microsoft Windows 10 Pro\n",
      "GCC version: Could not collect\n",
      "Clang version: Could not collect\n",
      "CMake version: Could not collect\n",
      "Libc version: N/A\n",
      "\n",
      "Python version: 3.9.13 (main, Aug 25 2022, 23:51:50) [MSC v.1916 64 bit (AMD64)] (64-bit runtime)\n",
      "Python platform: Windows-10-10.0.19045-SP0\n",
      "Is CUDA available: False\n",
      "CUDA runtime version: Could not collect\n",
      "CUDA_MODULE_LOADING set to: N/A\n",
      "GPU models and configuration: GPU 0: NVIDIA GeForce GTX 1650\n",
      "Nvidia driver version: 512.78\n",
      "cuDNN version: Could not collect\n",
      "HIP runtime version: N/A\n",
      "MIOpen runtime version: N/A\n",
      "Is XNNPACK available: True\n",
      "\n",
      "Versions of relevant libraries:\n",
      "[pip3] mypy-extensions==0.4.3\n",
      "[pip3] numpy==1.22.3\n",
      "[pip3] numpydoc==1.5.0\n",
      "[pip3] pytorch-lightning==1.7.7\n",
      "[pip3] torch==1.13.0\n",
      "[pip3] torchaudio==0.13.0\n",
      "[pip3] torchmetrics==0.10.3\n",
      "[pip3] torchvision==0.14.0\n",
      "[conda] blas                      1.0                         mkl  \n",
      "[conda] cudatoolkit               11.3.1               h59b6b97_2  \n",
      "[conda] mkl                       2021.4.0           haa95532_640  \n",
      "[conda] mkl-service               2.4.0            py39h2bbff1b_0  \n",
      "[conda] mkl_fft                   1.3.1            py39h277e83a_0  \n",
      "[conda] mkl_random                1.2.2            py39hf11a4ad_0  \n",
      "[conda] numpy                     1.22.3           py39h7a0a035_0  \n",
      "[conda] numpy-base                1.22.3           py39hca35cd5_0  \n",
      "[conda] numpydoc                  1.5.0            py39haa95532_0  \n",
      "[conda] pytorch                   1.13.0              py3.9_cpu_0    pytorch\n",
      "[conda] pytorch-cuda              11.7                 h67b0de4_0    pytorch\n",
      "[conda] pytorch-lightning         1.7.7              pyhd8ed1ab_0    conda-forge\n",
      "[conda] pytorch-mutex             1.0                         cpu    pytorch\n",
      "[conda] torchaudio                0.13.0                 py39_cpu    pytorch\n",
      "[conda] torchmetrics              0.10.3             pyhd8ed1ab_0    conda-forge\n",
      "[conda] torchvision               0.14.0                 py39_cpu    pytorch\n"
     ]
    }
   ],
   "source": [
    "!python -m torch.utils.collect_env"
   ]
  },
  {
   "cell_type": "code",
   "execution_count": 157,
   "id": "8c880541",
   "metadata": {},
   "outputs": [
    {
     "name": "stdout",
     "output_type": "stream",
     "text": [
      "False\n"
     ]
    }
   ],
   "source": [
    "print(torch.cuda.is_available())"
   ]
  }
 ],
 "metadata": {
  "kernelspec": {
   "display_name": "Python 3 (ipykernel)",
   "language": "python",
   "name": "python3"
  },
  "language_info": {
   "codemirror_mode": {
    "name": "ipython",
    "version": 3
   },
   "file_extension": ".py",
   "mimetype": "text/x-python",
   "name": "python",
   "nbconvert_exporter": "python",
   "pygments_lexer": "ipython3",
   "version": "3.9.13"
  }
 },
 "nbformat": 4,
 "nbformat_minor": 5
}
