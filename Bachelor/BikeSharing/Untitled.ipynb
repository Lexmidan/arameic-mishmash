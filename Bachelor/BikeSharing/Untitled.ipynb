{
 "cells": [
  {
   "cell_type": "markdown",
   "id": "561b56bc",
   "metadata": {},
   "source": [
    "# **Neural network part of Qimpact project**\n",
    "**Data was proceeded and prepared for NN in Qimpact.jpynb, here's the implementation of NN itself**"
   ]
  },
  {
   "cell_type": "code",
   "execution_count": 43,
   "id": "b5c55cda",
   "metadata": {},
   "outputs": [],
   "source": [
    "import torch\n",
    "import torch.optim as optim\n",
    "import torch.nn as nn\n",
    "from torch.utils.data import Dataset, TensorDataset, DataLoader\n",
    "import pytorch_lightning as pl\n",
    "from pytorch_lightning import Trainer\n",
    "from pytorch_lightning.profiler import Profiler, AdvancedProfiler\n",
    "import numpy as np\n",
    "import pandas as pd\n",
    "from matplotlib import pyplot as plt\n",
    "from PIL import Image\n",
    "%matplotlib ipympl"
   ]
  },
  {
   "cell_type": "markdown",
   "id": "ff9c5c96",
   "metadata": {},
   "source": [
    "**Set the size of test and validation data (Rest will be used for training)**"
   ]
  },
  {
   "cell_type": "code",
   "execution_count": 2,
   "id": "edd39c03",
   "metadata": {},
   "outputs": [],
   "source": [
    "validationsize=1000 #how many samples will be used as traindata\n",
    "testsize=1000"
   ]
  },
  {
   "cell_type": "markdown",
   "id": "916f136c",
   "metadata": {},
   "source": [
    "**Importing already scaled data, that were created in Qimpact.jupynb**"
   ]
  },
  {
   "cell_type": "code",
   "execution_count": 21,
   "id": "fdb36653",
   "metadata": {},
   "outputs": [
    {
     "name": "stdout",
     "output_type": "stream",
     "text": [
      "(9731, 1353)\n"
     ]
    },
    {
     "data": {
      "text/html": [
       "<div>\n",
       "<style scoped>\n",
       "    .dataframe tbody tr th:only-of-type {\n",
       "        vertical-align: middle;\n",
       "    }\n",
       "\n",
       "    .dataframe tbody tr th {\n",
       "        vertical-align: top;\n",
       "    }\n",
       "\n",
       "    .dataframe thead th {\n",
       "        text-align: right;\n",
       "    }\n",
       "</style>\n",
       "<table border=\"1\" class=\"dataframe\">\n",
       "  <thead>\n",
       "    <tr style=\"text-align: right;\">\n",
       "      <th></th>\n",
       "      <th>Z_0</th>\n",
       "      <th>Z_1</th>\n",
       "      <th>Z_2</th>\n",
       "      <th>Z_3</th>\n",
       "      <th>Z_4</th>\n",
       "      <th>Z_5</th>\n",
       "      <th>Z_6</th>\n",
       "      <th>Z_7</th>\n",
       "      <th>Z_8</th>\n",
       "      <th>Z_9</th>\n",
       "      <th>...</th>\n",
       "      <th>n_263</th>\n",
       "      <th>n_264</th>\n",
       "      <th>n_265</th>\n",
       "      <th>n_266</th>\n",
       "      <th>n_267</th>\n",
       "      <th>n_268</th>\n",
       "      <th>n_269</th>\n",
       "      <th>Qimpact_c-1</th>\n",
       "      <th>Qimpact_c</th>\n",
       "      <th>Qimpact_c+1</th>\n",
       "    </tr>\n",
       "  </thead>\n",
       "  <tbody>\n",
       "    <tr>\n",
       "      <th>0.003694</th>\n",
       "      <td>-0.390936</td>\n",
       "      <td>-0.390936</td>\n",
       "      <td>-0.390936</td>\n",
       "      <td>-0.390936</td>\n",
       "      <td>-0.390936</td>\n",
       "      <td>-0.390936</td>\n",
       "      <td>-0.390936</td>\n",
       "      <td>-0.390936</td>\n",
       "      <td>-0.390936</td>\n",
       "      <td>-0.390936</td>\n",
       "      <td>...</td>\n",
       "      <td>4.661122e+20</td>\n",
       "      <td>4.661157e+20</td>\n",
       "      <td>4.661192e+20</td>\n",
       "      <td>4.661227e+20</td>\n",
       "      <td>4.661262e+20</td>\n",
       "      <td>4.661298e+20</td>\n",
       "      <td>4.661333e+20</td>\n",
       "      <td>-1.063465</td>\n",
       "      <td>-1.063306</td>\n",
       "      <td>-1.063147</td>\n",
       "    </tr>\n",
       "    <tr>\n",
       "      <th>0.003712</th>\n",
       "      <td>-0.390936</td>\n",
       "      <td>-0.390936</td>\n",
       "      <td>-0.390936</td>\n",
       "      <td>-0.390936</td>\n",
       "      <td>-0.390936</td>\n",
       "      <td>-0.390936</td>\n",
       "      <td>-0.390936</td>\n",
       "      <td>-0.390936</td>\n",
       "      <td>-0.390936</td>\n",
       "      <td>-0.390936</td>\n",
       "      <td>...</td>\n",
       "      <td>4.661157e+20</td>\n",
       "      <td>4.661192e+20</td>\n",
       "      <td>4.661227e+20</td>\n",
       "      <td>4.661262e+20</td>\n",
       "      <td>4.661298e+20</td>\n",
       "      <td>4.661333e+20</td>\n",
       "      <td>4.661369e+20</td>\n",
       "      <td>-1.063306</td>\n",
       "      <td>-1.063147</td>\n",
       "      <td>-1.062988</td>\n",
       "    </tr>\n",
       "    <tr>\n",
       "      <th>0.003731</th>\n",
       "      <td>-0.390936</td>\n",
       "      <td>-0.390936</td>\n",
       "      <td>-0.390936</td>\n",
       "      <td>-0.390936</td>\n",
       "      <td>-0.390936</td>\n",
       "      <td>-0.390936</td>\n",
       "      <td>-0.390936</td>\n",
       "      <td>-0.390936</td>\n",
       "      <td>-0.390936</td>\n",
       "      <td>-0.390936</td>\n",
       "      <td>...</td>\n",
       "      <td>4.661192e+20</td>\n",
       "      <td>4.661227e+20</td>\n",
       "      <td>4.661262e+20</td>\n",
       "      <td>4.661298e+20</td>\n",
       "      <td>4.661333e+20</td>\n",
       "      <td>4.661369e+20</td>\n",
       "      <td>4.661405e+20</td>\n",
       "      <td>-1.063147</td>\n",
       "      <td>-1.062988</td>\n",
       "      <td>-1.062829</td>\n",
       "    </tr>\n",
       "    <tr>\n",
       "      <th>0.003750</th>\n",
       "      <td>-0.390936</td>\n",
       "      <td>-0.390936</td>\n",
       "      <td>-0.390936</td>\n",
       "      <td>-0.390936</td>\n",
       "      <td>-0.390936</td>\n",
       "      <td>-0.390936</td>\n",
       "      <td>-0.390936</td>\n",
       "      <td>-0.390936</td>\n",
       "      <td>-0.390936</td>\n",
       "      <td>-0.390936</td>\n",
       "      <td>...</td>\n",
       "      <td>4.661227e+20</td>\n",
       "      <td>4.661262e+20</td>\n",
       "      <td>4.661298e+20</td>\n",
       "      <td>4.661333e+20</td>\n",
       "      <td>4.661369e+20</td>\n",
       "      <td>4.661405e+20</td>\n",
       "      <td>4.661441e+20</td>\n",
       "      <td>-1.062988</td>\n",
       "      <td>-1.062829</td>\n",
       "      <td>-1.062670</td>\n",
       "    </tr>\n",
       "    <tr>\n",
       "      <th>0.003768</th>\n",
       "      <td>-0.390936</td>\n",
       "      <td>-0.390936</td>\n",
       "      <td>-0.390936</td>\n",
       "      <td>-0.390936</td>\n",
       "      <td>-0.390936</td>\n",
       "      <td>-0.390936</td>\n",
       "      <td>-0.390936</td>\n",
       "      <td>-0.390936</td>\n",
       "      <td>-0.390936</td>\n",
       "      <td>-0.390936</td>\n",
       "      <td>...</td>\n",
       "      <td>4.661262e+20</td>\n",
       "      <td>4.661298e+20</td>\n",
       "      <td>4.661333e+20</td>\n",
       "      <td>4.661369e+20</td>\n",
       "      <td>4.661405e+20</td>\n",
       "      <td>4.661441e+20</td>\n",
       "      <td>4.661477e+20</td>\n",
       "      <td>-1.062829</td>\n",
       "      <td>-1.062670</td>\n",
       "      <td>-1.062511</td>\n",
       "    </tr>\n",
       "  </tbody>\n",
       "</table>\n",
       "<p>5 rows × 1353 columns</p>\n",
       "</div>"
      ],
      "text/plain": [
       "               Z_0       Z_1       Z_2       Z_3       Z_4       Z_5  \\\n",
       "0.003694 -0.390936 -0.390936 -0.390936 -0.390936 -0.390936 -0.390936   \n",
       "0.003712 -0.390936 -0.390936 -0.390936 -0.390936 -0.390936 -0.390936   \n",
       "0.003731 -0.390936 -0.390936 -0.390936 -0.390936 -0.390936 -0.390936   \n",
       "0.003750 -0.390936 -0.390936 -0.390936 -0.390936 -0.390936 -0.390936   \n",
       "0.003768 -0.390936 -0.390936 -0.390936 -0.390936 -0.390936 -0.390936   \n",
       "\n",
       "               Z_6       Z_7       Z_8       Z_9  ...         n_263  \\\n",
       "0.003694 -0.390936 -0.390936 -0.390936 -0.390936  ...  4.661122e+20   \n",
       "0.003712 -0.390936 -0.390936 -0.390936 -0.390936  ...  4.661157e+20   \n",
       "0.003731 -0.390936 -0.390936 -0.390936 -0.390936  ...  4.661192e+20   \n",
       "0.003750 -0.390936 -0.390936 -0.390936 -0.390936  ...  4.661227e+20   \n",
       "0.003768 -0.390936 -0.390936 -0.390936 -0.390936  ...  4.661262e+20   \n",
       "\n",
       "                 n_264         n_265         n_266         n_267  \\\n",
       "0.003694  4.661157e+20  4.661192e+20  4.661227e+20  4.661262e+20   \n",
       "0.003712  4.661192e+20  4.661227e+20  4.661262e+20  4.661298e+20   \n",
       "0.003731  4.661227e+20  4.661262e+20  4.661298e+20  4.661333e+20   \n",
       "0.003750  4.661262e+20  4.661298e+20  4.661333e+20  4.661369e+20   \n",
       "0.003768  4.661298e+20  4.661333e+20  4.661369e+20  4.661405e+20   \n",
       "\n",
       "                 n_268         n_269  Qimpact_c-1  Qimpact_c  Qimpact_c+1  \n",
       "0.003694  4.661298e+20  4.661333e+20    -1.063465  -1.063306    -1.063147  \n",
       "0.003712  4.661333e+20  4.661369e+20    -1.063306  -1.063147    -1.062988  \n",
       "0.003731  4.661369e+20  4.661405e+20    -1.063147  -1.062988    -1.062829  \n",
       "0.003750  4.661405e+20  4.661441e+20    -1.062988  -1.062829    -1.062670  \n",
       "0.003768  4.661441e+20  4.661477e+20    -1.062829  -1.062670    -1.062511  \n",
       "\n",
       "[5 rows x 1353 columns]"
      ]
     },
     "execution_count": 21,
     "metadata": {},
     "output_type": "execute_result"
    }
   ],
   "source": [
    "scaled_Qdata = pd.read_csv('C:/Users/aleks/Projects/arameic-mishmash/Bachelor/Data/scaled_QData.csv', header=0, index_col=0)  #qdata\n",
    "print(scaled_Qdata.shape)\n",
    "scaled_Qdata.head()"
   ]
  },
  {
   "cell_type": "markdown",
   "id": "8186b0e2",
   "metadata": {},
   "source": [
    "**Shuffling and spliting data**"
   ]
  },
  {
   "cell_type": "code",
   "execution_count": 22,
   "id": "70613231",
   "metadata": {},
   "outputs": [
    {
     "name": "stdout",
     "output_type": "stream",
     "text": [
      "Training dataset size:  (7731, 1353) \n",
      "Testing dataset size:  (1000, 1353) \n",
      "Validation dataset size:  (1000, 1353)\n"
     ]
    }
   ],
   "source": [
    "shuffled_Qdata=scaled_Qdata.sample(n=scaled_Qdata.shape[0])\n",
    "\n",
    "validation_data=shuffled_Qdata.iloc[:validationsize]\n",
    "test_data=shuffled_Qdata.iloc[validationsize:validationsize+testsize]\n",
    "train_data=shuffled_Qdata.iloc[validationsize+testsize:]\n",
    "\n",
    "print('Training dataset size: ', train_data.shape, '\\nTesting dataset size: ',test_data.shape,'\\nValidation dataset size: ', validation_data.shape)"
   ]
  },
  {
   "cell_type": "code",
   "execution_count": 23,
   "id": "5e19db06",
   "metadata": {},
   "outputs": [
    {
     "data": {
      "text/html": [
       "<div>\n",
       "<style scoped>\n",
       "    .dataframe tbody tr th:only-of-type {\n",
       "        vertical-align: middle;\n",
       "    }\n",
       "\n",
       "    .dataframe tbody tr th {\n",
       "        vertical-align: top;\n",
       "    }\n",
       "\n",
       "    .dataframe thead th {\n",
       "        text-align: right;\n",
       "    }\n",
       "</style>\n",
       "<table border=\"1\" class=\"dataframe\">\n",
       "  <thead>\n",
       "    <tr style=\"text-align: right;\">\n",
       "      <th></th>\n",
       "      <th>Z_0</th>\n",
       "      <th>Z_1</th>\n",
       "      <th>Z_2</th>\n",
       "      <th>Z_3</th>\n",
       "      <th>Z_4</th>\n",
       "      <th>Z_5</th>\n",
       "      <th>Z_6</th>\n",
       "      <th>Z_7</th>\n",
       "      <th>Z_8</th>\n",
       "      <th>Z_9</th>\n",
       "      <th>...</th>\n",
       "      <th>n_263</th>\n",
       "      <th>n_264</th>\n",
       "      <th>n_265</th>\n",
       "      <th>n_266</th>\n",
       "      <th>n_267</th>\n",
       "      <th>n_268</th>\n",
       "      <th>n_269</th>\n",
       "      <th>Qimpact_c-1</th>\n",
       "      <th>Qimpact_c</th>\n",
       "      <th>Qimpact_c+1</th>\n",
       "    </tr>\n",
       "  </thead>\n",
       "  <tbody>\n",
       "    <tr>\n",
       "      <th>0.115146</th>\n",
       "      <td>-0.390940</td>\n",
       "      <td>-0.390940</td>\n",
       "      <td>-0.390940</td>\n",
       "      <td>-0.390940</td>\n",
       "      <td>-0.390940</td>\n",
       "      <td>-0.390940</td>\n",
       "      <td>-0.390940</td>\n",
       "      <td>-0.390940</td>\n",
       "      <td>-0.390940</td>\n",
       "      <td>-0.390940</td>\n",
       "      <td>...</td>\n",
       "      <td>5.151270e+20</td>\n",
       "      <td>5.151271e+20</td>\n",
       "      <td>5.151272e+20</td>\n",
       "      <td>5.151273e+20</td>\n",
       "      <td>5.151274e+20</td>\n",
       "      <td>5.151275e+20</td>\n",
       "      <td>5.151276e+20</td>\n",
       "      <td>0.242566</td>\n",
       "      <td>0.242985</td>\n",
       "      <td>0.243404</td>\n",
       "    </tr>\n",
       "    <tr>\n",
       "      <th>0.169581</th>\n",
       "      <td>2.859757</td>\n",
       "      <td>2.867081</td>\n",
       "      <td>2.874319</td>\n",
       "      <td>2.881469</td>\n",
       "      <td>2.888532</td>\n",
       "      <td>2.895505</td>\n",
       "      <td>2.902390</td>\n",
       "      <td>2.909184</td>\n",
       "      <td>2.915888</td>\n",
       "      <td>2.922500</td>\n",
       "      <td>...</td>\n",
       "      <td>5.307983e+21</td>\n",
       "      <td>5.307856e+21</td>\n",
       "      <td>5.308078e+21</td>\n",
       "      <td>5.308642e+21</td>\n",
       "      <td>5.309531e+21</td>\n",
       "      <td>5.310731e+21</td>\n",
       "      <td>5.312228e+21</td>\n",
       "      <td>1.373409</td>\n",
       "      <td>1.357157</td>\n",
       "      <td>1.340976</td>\n",
       "    </tr>\n",
       "    <tr>\n",
       "      <th>0.162625</th>\n",
       "      <td>-0.390941</td>\n",
       "      <td>-0.390941</td>\n",
       "      <td>-0.390941</td>\n",
       "      <td>-0.390941</td>\n",
       "      <td>-0.390941</td>\n",
       "      <td>-0.390941</td>\n",
       "      <td>-0.390941</td>\n",
       "      <td>-0.390941</td>\n",
       "      <td>-0.390941</td>\n",
       "      <td>-0.390941</td>\n",
       "      <td>...</td>\n",
       "      <td>1.950378e+21</td>\n",
       "      <td>1.961413e+21</td>\n",
       "      <td>1.972474e+21</td>\n",
       "      <td>1.983560e+21</td>\n",
       "      <td>1.994672e+21</td>\n",
       "      <td>2.005808e+21</td>\n",
       "      <td>2.016970e+21</td>\n",
       "      <td>2.504447</td>\n",
       "      <td>2.506950</td>\n",
       "      <td>2.509474</td>\n",
       "    </tr>\n",
       "    <tr>\n",
       "      <th>0.014315</th>\n",
       "      <td>-0.390936</td>\n",
       "      <td>-0.390936</td>\n",
       "      <td>-0.390936</td>\n",
       "      <td>-0.390936</td>\n",
       "      <td>-0.390936</td>\n",
       "      <td>-0.390936</td>\n",
       "      <td>-0.390936</td>\n",
       "      <td>-0.390936</td>\n",
       "      <td>-0.390936</td>\n",
       "      <td>-0.390936</td>\n",
       "      <td>...</td>\n",
       "      <td>4.697631e+20</td>\n",
       "      <td>4.697704e+20</td>\n",
       "      <td>4.697778e+20</td>\n",
       "      <td>4.697852e+20</td>\n",
       "      <td>4.697925e+20</td>\n",
       "      <td>4.697999e+20</td>\n",
       "      <td>4.698072e+20</td>\n",
       "      <td>-0.973003</td>\n",
       "      <td>-0.972842</td>\n",
       "      <td>-0.972681</td>\n",
       "    </tr>\n",
       "    <tr>\n",
       "      <th>0.163859</th>\n",
       "      <td>-0.340107</td>\n",
       "      <td>-0.336590</td>\n",
       "      <td>-0.332961</td>\n",
       "      <td>-0.329223</td>\n",
       "      <td>-0.325374</td>\n",
       "      <td>-0.321416</td>\n",
       "      <td>-0.317350</td>\n",
       "      <td>-0.313177</td>\n",
       "      <td>-0.308896</td>\n",
       "      <td>-0.304508</td>\n",
       "      <td>...</td>\n",
       "      <td>2.724252e+21</td>\n",
       "      <td>2.736538e+21</td>\n",
       "      <td>2.748836e+21</td>\n",
       "      <td>2.761146e+21</td>\n",
       "      <td>2.773468e+21</td>\n",
       "      <td>2.785801e+21</td>\n",
       "      <td>2.798145e+21</td>\n",
       "      <td>2.716519</td>\n",
       "      <td>2.720418</td>\n",
       "      <td>2.724334</td>\n",
       "    </tr>\n",
       "  </tbody>\n",
       "</table>\n",
       "<p>5 rows × 1353 columns</p>\n",
       "</div>"
      ],
      "text/plain": [
       "               Z_0       Z_1       Z_2       Z_3       Z_4       Z_5  \\\n",
       "0.115146 -0.390940 -0.390940 -0.390940 -0.390940 -0.390940 -0.390940   \n",
       "0.169581  2.859757  2.867081  2.874319  2.881469  2.888532  2.895505   \n",
       "0.162625 -0.390941 -0.390941 -0.390941 -0.390941 -0.390941 -0.390941   \n",
       "0.014315 -0.390936 -0.390936 -0.390936 -0.390936 -0.390936 -0.390936   \n",
       "0.163859 -0.340107 -0.336590 -0.332961 -0.329223 -0.325374 -0.321416   \n",
       "\n",
       "               Z_6       Z_7       Z_8       Z_9  ...         n_263  \\\n",
       "0.115146 -0.390940 -0.390940 -0.390940 -0.390940  ...  5.151270e+20   \n",
       "0.169581  2.902390  2.909184  2.915888  2.922500  ...  5.307983e+21   \n",
       "0.162625 -0.390941 -0.390941 -0.390941 -0.390941  ...  1.950378e+21   \n",
       "0.014315 -0.390936 -0.390936 -0.390936 -0.390936  ...  4.697631e+20   \n",
       "0.163859 -0.317350 -0.313177 -0.308896 -0.304508  ...  2.724252e+21   \n",
       "\n",
       "                 n_264         n_265         n_266         n_267  \\\n",
       "0.115146  5.151271e+20  5.151272e+20  5.151273e+20  5.151274e+20   \n",
       "0.169581  5.307856e+21  5.308078e+21  5.308642e+21  5.309531e+21   \n",
       "0.162625  1.961413e+21  1.972474e+21  1.983560e+21  1.994672e+21   \n",
       "0.014315  4.697704e+20  4.697778e+20  4.697852e+20  4.697925e+20   \n",
       "0.163859  2.736538e+21  2.748836e+21  2.761146e+21  2.773468e+21   \n",
       "\n",
       "                 n_268         n_269  Qimpact_c-1  Qimpact_c  Qimpact_c+1  \n",
       "0.115146  5.151275e+20  5.151276e+20     0.242566   0.242985     0.243404  \n",
       "0.169581  5.310731e+21  5.312228e+21     1.373409   1.357157     1.340976  \n",
       "0.162625  2.005808e+21  2.016970e+21     2.504447   2.506950     2.509474  \n",
       "0.014315  4.697999e+20  4.698072e+20    -0.973003  -0.972842    -0.972681  \n",
       "0.163859  2.785801e+21  2.798145e+21     2.716519   2.720418     2.724334  \n",
       "\n",
       "[5 rows x 1353 columns]"
      ]
     },
     "execution_count": 23,
     "metadata": {},
     "output_type": "execute_result"
    }
   ],
   "source": [
    "train_data.head()"
   ]
  },
  {
   "cell_type": "code",
   "execution_count": 24,
   "id": "95b61b62",
   "metadata": {},
   "outputs": [],
   "source": [
    "target_fields = ['Qimpact_c-1', 'Qimpact_c', 'Qimpact_c+1']\n",
    "\n",
    "train_features, train_targets = train_data.drop(target_fields, axis=1), train_data[target_fields]\n",
    "test_features, test_targets = test_data.drop(target_fields, axis=1), test_data[target_fields]\n",
    "validation_features, validation_targets = validation_data.drop(target_fields, axis=1), validation_data[target_fields]    \n"
   ]
  },
  {
   "cell_type": "code",
   "execution_count": 27,
   "id": "69aedbf2",
   "metadata": {},
   "outputs": [],
   "source": [
    "l_rate = 0.2\n",
    "mse_loss = nn.MSELoss(reduction = 'mean')"
   ]
  },
  {
   "cell_type": "code",
   "execution_count": 31,
   "id": "946bc3f1",
   "metadata": {},
   "outputs": [],
   "source": [
    "class Regression(pl.LightningModule):\n",
    "    \n",
    "### The Model ### \n",
    "\n",
    "    # Question: what will your model architecture look like?\n",
    "    # Initialize the layers\n",
    "    # Here we have one input layer (size 56 #3N as we have 56 #3N features), one hidden layer (size 10), \n",
    "    # and one output layer (size 1 as we are predicting a single value)\n",
    "    def __init__(self):\n",
    "        super(Regression, self).__init__()\n",
    "        self.fc1 = nn.Linear(train_features.shape[1], 10) #Here I changed initial 56 size of fc1 to 1350=#features in \n",
    "        self.fc2 = nn.Linear(10, 3) #here i changed output size to 3 (as we have 3 target values)\n",
    "    \n",
    "    # Question: how should the forward pass be performed, and what will its ouputs be?\n",
    "    # Perform the forward pass\n",
    "    # We're using the sigmoid activation function on our hidden layer, but our output layer has no activation \n",
    "    # function as we're predicting a continuous variable so we want the actual number predicted\n",
    "    def forward(self, x):\n",
    "        x = torch.sigmoid(self.fc1(x))\n",
    "        x = self.fc2(x)\n",
    "        return x\n",
    "\n",
    "### The Data Loaders ###     \n",
    "    \n",
    "    # Question: How do you want to load your data into the model?\n",
    "    # Define functions for data loading: train / validate / test\n",
    "    def train_dataloader(self):\n",
    "        train_dataset = TensorDataset(torch.tensor(train_features.values).float(), torch.tensor(train_targets[target_fields].values).float())\n",
    "        train_loader = DataLoader(dataset = train_dataset, batch_size = 128)\n",
    "        return train_loader\n",
    "        \n",
    "    def val_dataloader(self):\n",
    "        validation_dataset = TensorDataset(torch.tensor(validation_features.values).float(), torch.tensor(validation_targets[target_fields].values).float())\n",
    "        validation_loader = DataLoader(dataset = validation_dataset, batch_size = 128)\n",
    "        return validation_loader\n",
    "    \n",
    "    def test_dataloader(self):\n",
    "        test_dataset = TensorDataset(torch.tensor(test_features.values).float(), torch.tensor(test_targets[target_fields].values).float())\n",
    "        test_loader = DataLoader(dataset = test_dataset, batch_size = 128)\n",
    "        return test_loader\n",
    "\n",
    "### The Optimizer ### \n",
    "\n",
    "    # Question: what optimizer will I use?\n",
    "    # Define optimizer function: here we are using Stochastic Gradient Descent\n",
    "    def configure_optimizers(self):\n",
    "        return optim.SGD(self.parameters(), lr=l_rate)\n",
    "\n",
    "### Training ### \n",
    "\n",
    "    # Question: what should a training step look like?\n",
    "    # Define training step\n",
    "    def training_step(self, batch, batch_idx):\n",
    "        x, y = batch\n",
    "        logits = self.forward(x)\n",
    "        loss = mse_loss(logits, y)\n",
    "        # Add logging\n",
    "        logs = {'loss': loss}\n",
    "        return {'loss': loss, 'log': logs}\n",
    "\n",
    "### Validation ### \n",
    "    \n",
    "    # Question: what should a validation step look like?\n",
    "    # Define validation step\n",
    "    def validation_step(self, batch, batch_idx):\n",
    "        x, y = batch\n",
    "        logits = self.forward(x)\n",
    "        loss = mse_loss(logits, y)\n",
    "        return {'val_loss': loss}\n",
    "\n",
    "    # Define validation epoch end\n",
    "    def validation_epoch_end(self, outputs):\n",
    "        avg_loss = torch.stack([x['val_loss'] for x in outputs]).mean()\n",
    "        tensorboard_logs = {'val_loss': avg_loss}\n",
    "        return {'avg_val_loss': avg_loss, 'log': tensorboard_logs}\n",
    "\n",
    "### Testing ###     \n",
    "\n",
    "    # Question: what should a test step look like?\n",
    "    # Define test step\n",
    "    def test_step(self, batch, batch_idx):\n",
    "        x, y = batch\n",
    "        logits = self.forward(x)\n",
    "        loss = mse_loss(logits, y)\n",
    "        correct = torch.sum(logits == y.data)\n",
    "        \n",
    "        # I want to visualize my predictions vs my actuals so here I'm going to \n",
    "        # add these lines to extract the data for plotting later on\n",
    "        predictions_pred.append(logits)\n",
    "        predictions_actual.append(y.data)\n",
    "        return {'test_loss': loss, 'test_correct': correct, 'logits': logits}\n",
    "    \n",
    "    # Define test end\n",
    "    def test_epoch_end(self, outputs):\n",
    "        avg_loss = torch.stack([x['test_loss'] for x in outputs]).mean()\n",
    "        logs = {'test_loss': avg_loss}      \n",
    "        return {'avg_test_loss': avg_loss, 'log': logs, 'progress_bar': logs }"
   ]
  },
  {
   "cell_type": "code",
   "execution_count": 32,
   "id": "d22dfe61",
   "metadata": {},
   "outputs": [
    {
     "name": "stderr",
     "output_type": "stream",
     "text": [
      "GPU available: False, used: False\n",
      "TPU available: False, using: 0 TPU cores\n",
      "IPU available: False, using: 0 IPUs\n",
      "HPU available: False, using: 0 HPUs\n",
      "Missing logger folder: C:\\Users\\aleks\\Projects\\arameic-mishmash\\Bachelor\\BikeSharing\\lightning_logs\n",
      "\n",
      "  | Name | Type   | Params\n",
      "--------------------------------\n",
      "0 | fc1  | Linear | 13.5 K\n",
      "1 | fc2  | Linear | 33    \n",
      "--------------------------------\n",
      "13.5 K    Trainable params\n",
      "0         Non-trainable params\n",
      "13.5 K    Total params\n",
      "0.054     Total estimated model params size (MB)\n"
     ]
    },
    {
     "data": {
      "application/vnd.jupyter.widget-view+json": {
       "model_id": "",
       "version_major": 2,
       "version_minor": 0
      },
      "text/plain": [
       "Sanity Checking: 0it [00:00, ?it/s]"
      ]
     },
     "metadata": {},
     "output_type": "display_data"
    },
    {
     "name": "stderr",
     "output_type": "stream",
     "text": [
      "C:\\Users\\aleks\\anaconda3\\lib\\site-packages\\pytorch_lightning\\trainer\\connectors\\data_connector.py:236: PossibleUserWarning: The dataloader, val_dataloader 0, does not have many workers which may be a bottleneck. Consider increasing the value of the `num_workers` argument` (try 8 which is the number of cpus on this machine) in the `DataLoader` init to improve performance.\n",
      "  rank_zero_warn(\n",
      "C:\\Users\\aleks\\anaconda3\\lib\\site-packages\\pytorch_lightning\\trainer\\connectors\\data_connector.py:236: PossibleUserWarning: The dataloader, train_dataloader, does not have many workers which may be a bottleneck. Consider increasing the value of the `num_workers` argument` (try 8 which is the number of cpus on this machine) in the `DataLoader` init to improve performance.\n",
      "  rank_zero_warn(\n"
     ]
    },
    {
     "data": {
      "application/vnd.jupyter.widget-view+json": {
       "model_id": "f95b91fd53824de487e7115a81111f56",
       "version_major": 2,
       "version_minor": 0
      },
      "text/plain": [
       "Training: 0it [00:00, ?it/s]"
      ]
     },
     "metadata": {},
     "output_type": "display_data"
    },
    {
     "data": {
      "application/vnd.jupyter.widget-view+json": {
       "model_id": "",
       "version_major": 2,
       "version_minor": 0
      },
      "text/plain": [
       "Validation: 0it [00:00, ?it/s]"
      ]
     },
     "metadata": {},
     "output_type": "display_data"
    },
    {
     "data": {
      "application/vnd.jupyter.widget-view+json": {
       "model_id": "",
       "version_major": 2,
       "version_minor": 0
      },
      "text/plain": [
       "Validation: 0it [00:00, ?it/s]"
      ]
     },
     "metadata": {},
     "output_type": "display_data"
    },
    {
     "data": {
      "application/vnd.jupyter.widget-view+json": {
       "model_id": "",
       "version_major": 2,
       "version_minor": 0
      },
      "text/plain": [
       "Validation: 0it [00:00, ?it/s]"
      ]
     },
     "metadata": {},
     "output_type": "display_data"
    },
    {
     "data": {
      "application/vnd.jupyter.widget-view+json": {
       "model_id": "",
       "version_major": 2,
       "version_minor": 0
      },
      "text/plain": [
       "Validation: 0it [00:00, ?it/s]"
      ]
     },
     "metadata": {},
     "output_type": "display_data"
    },
    {
     "data": {
      "application/vnd.jupyter.widget-view+json": {
       "model_id": "",
       "version_major": 2,
       "version_minor": 0
      },
      "text/plain": [
       "Validation: 0it [00:00, ?it/s]"
      ]
     },
     "metadata": {},
     "output_type": "display_data"
    },
    {
     "data": {
      "application/vnd.jupyter.widget-view+json": {
       "model_id": "",
       "version_major": 2,
       "version_minor": 0
      },
      "text/plain": [
       "Validation: 0it [00:00, ?it/s]"
      ]
     },
     "metadata": {},
     "output_type": "display_data"
    },
    {
     "data": {
      "application/vnd.jupyter.widget-view+json": {
       "model_id": "",
       "version_major": 2,
       "version_minor": 0
      },
      "text/plain": [
       "Validation: 0it [00:00, ?it/s]"
      ]
     },
     "metadata": {},
     "output_type": "display_data"
    },
    {
     "data": {
      "application/vnd.jupyter.widget-view+json": {
       "model_id": "",
       "version_major": 2,
       "version_minor": 0
      },
      "text/plain": [
       "Validation: 0it [00:00, ?it/s]"
      ]
     },
     "metadata": {},
     "output_type": "display_data"
    },
    {
     "data": {
      "application/vnd.jupyter.widget-view+json": {
       "model_id": "",
       "version_major": 2,
       "version_minor": 0
      },
      "text/plain": [
       "Validation: 0it [00:00, ?it/s]"
      ]
     },
     "metadata": {},
     "output_type": "display_data"
    },
    {
     "data": {
      "application/vnd.jupyter.widget-view+json": {
       "model_id": "",
       "version_major": 2,
       "version_minor": 0
      },
      "text/plain": [
       "Validation: 0it [00:00, ?it/s]"
      ]
     },
     "metadata": {},
     "output_type": "display_data"
    },
    {
     "data": {
      "application/vnd.jupyter.widget-view+json": {
       "model_id": "",
       "version_major": 2,
       "version_minor": 0
      },
      "text/plain": [
       "Validation: 0it [00:00, ?it/s]"
      ]
     },
     "metadata": {},
     "output_type": "display_data"
    },
    {
     "data": {
      "application/vnd.jupyter.widget-view+json": {
       "model_id": "",
       "version_major": 2,
       "version_minor": 0
      },
      "text/plain": [
       "Validation: 0it [00:00, ?it/s]"
      ]
     },
     "metadata": {},
     "output_type": "display_data"
    },
    {
     "data": {
      "application/vnd.jupyter.widget-view+json": {
       "model_id": "",
       "version_major": 2,
       "version_minor": 0
      },
      "text/plain": [
       "Validation: 0it [00:00, ?it/s]"
      ]
     },
     "metadata": {},
     "output_type": "display_data"
    },
    {
     "data": {
      "application/vnd.jupyter.widget-view+json": {
       "model_id": "",
       "version_major": 2,
       "version_minor": 0
      },
      "text/plain": [
       "Validation: 0it [00:00, ?it/s]"
      ]
     },
     "metadata": {},
     "output_type": "display_data"
    },
    {
     "data": {
      "application/vnd.jupyter.widget-view+json": {
       "model_id": "",
       "version_major": 2,
       "version_minor": 0
      },
      "text/plain": [
       "Validation: 0it [00:00, ?it/s]"
      ]
     },
     "metadata": {},
     "output_type": "display_data"
    },
    {
     "data": {
      "application/vnd.jupyter.widget-view+json": {
       "model_id": "",
       "version_major": 2,
       "version_minor": 0
      },
      "text/plain": [
       "Validation: 0it [00:00, ?it/s]"
      ]
     },
     "metadata": {},
     "output_type": "display_data"
    },
    {
     "data": {
      "application/vnd.jupyter.widget-view+json": {
       "model_id": "",
       "version_major": 2,
       "version_minor": 0
      },
      "text/plain": [
       "Validation: 0it [00:00, ?it/s]"
      ]
     },
     "metadata": {},
     "output_type": "display_data"
    },
    {
     "data": {
      "application/vnd.jupyter.widget-view+json": {
       "model_id": "",
       "version_major": 2,
       "version_minor": 0
      },
      "text/plain": [
       "Validation: 0it [00:00, ?it/s]"
      ]
     },
     "metadata": {},
     "output_type": "display_data"
    },
    {
     "data": {
      "application/vnd.jupyter.widget-view+json": {
       "model_id": "",
       "version_major": 2,
       "version_minor": 0
      },
      "text/plain": [
       "Validation: 0it [00:00, ?it/s]"
      ]
     },
     "metadata": {},
     "output_type": "display_data"
    },
    {
     "data": {
      "application/vnd.jupyter.widget-view+json": {
       "model_id": "",
       "version_major": 2,
       "version_minor": 0
      },
      "text/plain": [
       "Validation: 0it [00:00, ?it/s]"
      ]
     },
     "metadata": {},
     "output_type": "display_data"
    },
    {
     "data": {
      "application/vnd.jupyter.widget-view+json": {
       "model_id": "",
       "version_major": 2,
       "version_minor": 0
      },
      "text/plain": [
       "Validation: 0it [00:00, ?it/s]"
      ]
     },
     "metadata": {},
     "output_type": "display_data"
    },
    {
     "data": {
      "application/vnd.jupyter.widget-view+json": {
       "model_id": "",
       "version_major": 2,
       "version_minor": 0
      },
      "text/plain": [
       "Validation: 0it [00:00, ?it/s]"
      ]
     },
     "metadata": {},
     "output_type": "display_data"
    },
    {
     "data": {
      "application/vnd.jupyter.widget-view+json": {
       "model_id": "",
       "version_major": 2,
       "version_minor": 0
      },
      "text/plain": [
       "Validation: 0it [00:00, ?it/s]"
      ]
     },
     "metadata": {},
     "output_type": "display_data"
    },
    {
     "data": {
      "application/vnd.jupyter.widget-view+json": {
       "model_id": "",
       "version_major": 2,
       "version_minor": 0
      },
      "text/plain": [
       "Validation: 0it [00:00, ?it/s]"
      ]
     },
     "metadata": {},
     "output_type": "display_data"
    },
    {
     "data": {
      "application/vnd.jupyter.widget-view+json": {
       "model_id": "",
       "version_major": 2,
       "version_minor": 0
      },
      "text/plain": [
       "Validation: 0it [00:00, ?it/s]"
      ]
     },
     "metadata": {},
     "output_type": "display_data"
    },
    {
     "data": {
      "application/vnd.jupyter.widget-view+json": {
       "model_id": "",
       "version_major": 2,
       "version_minor": 0
      },
      "text/plain": [
       "Validation: 0it [00:00, ?it/s]"
      ]
     },
     "metadata": {},
     "output_type": "display_data"
    },
    {
     "data": {
      "application/vnd.jupyter.widget-view+json": {
       "model_id": "",
       "version_major": 2,
       "version_minor": 0
      },
      "text/plain": [
       "Validation: 0it [00:00, ?it/s]"
      ]
     },
     "metadata": {},
     "output_type": "display_data"
    },
    {
     "data": {
      "application/vnd.jupyter.widget-view+json": {
       "model_id": "",
       "version_major": 2,
       "version_minor": 0
      },
      "text/plain": [
       "Validation: 0it [00:00, ?it/s]"
      ]
     },
     "metadata": {},
     "output_type": "display_data"
    },
    {
     "data": {
      "application/vnd.jupyter.widget-view+json": {
       "model_id": "",
       "version_major": 2,
       "version_minor": 0
      },
      "text/plain": [
       "Validation: 0it [00:00, ?it/s]"
      ]
     },
     "metadata": {},
     "output_type": "display_data"
    },
    {
     "data": {
      "application/vnd.jupyter.widget-view+json": {
       "model_id": "",
       "version_major": 2,
       "version_minor": 0
      },
      "text/plain": [
       "Validation: 0it [00:00, ?it/s]"
      ]
     },
     "metadata": {},
     "output_type": "display_data"
    },
    {
     "data": {
      "application/vnd.jupyter.widget-view+json": {
       "model_id": "",
       "version_major": 2,
       "version_minor": 0
      },
      "text/plain": [
       "Validation: 0it [00:00, ?it/s]"
      ]
     },
     "metadata": {},
     "output_type": "display_data"
    },
    {
     "data": {
      "application/vnd.jupyter.widget-view+json": {
       "model_id": "",
       "version_major": 2,
       "version_minor": 0
      },
      "text/plain": [
       "Validation: 0it [00:00, ?it/s]"
      ]
     },
     "metadata": {},
     "output_type": "display_data"
    },
    {
     "data": {
      "application/vnd.jupyter.widget-view+json": {
       "model_id": "",
       "version_major": 2,
       "version_minor": 0
      },
      "text/plain": [
       "Validation: 0it [00:00, ?it/s]"
      ]
     },
     "metadata": {},
     "output_type": "display_data"
    },
    {
     "data": {
      "application/vnd.jupyter.widget-view+json": {
       "model_id": "",
       "version_major": 2,
       "version_minor": 0
      },
      "text/plain": [
       "Validation: 0it [00:00, ?it/s]"
      ]
     },
     "metadata": {},
     "output_type": "display_data"
    },
    {
     "data": {
      "application/vnd.jupyter.widget-view+json": {
       "model_id": "",
       "version_major": 2,
       "version_minor": 0
      },
      "text/plain": [
       "Validation: 0it [00:00, ?it/s]"
      ]
     },
     "metadata": {},
     "output_type": "display_data"
    },
    {
     "data": {
      "application/vnd.jupyter.widget-view+json": {
       "model_id": "",
       "version_major": 2,
       "version_minor": 0
      },
      "text/plain": [
       "Validation: 0it [00:00, ?it/s]"
      ]
     },
     "metadata": {},
     "output_type": "display_data"
    },
    {
     "data": {
      "application/vnd.jupyter.widget-view+json": {
       "model_id": "",
       "version_major": 2,
       "version_minor": 0
      },
      "text/plain": [
       "Validation: 0it [00:00, ?it/s]"
      ]
     },
     "metadata": {},
     "output_type": "display_data"
    },
    {
     "data": {
      "application/vnd.jupyter.widget-view+json": {
       "model_id": "",
       "version_major": 2,
       "version_minor": 0
      },
      "text/plain": [
       "Validation: 0it [00:00, ?it/s]"
      ]
     },
     "metadata": {},
     "output_type": "display_data"
    },
    {
     "data": {
      "application/vnd.jupyter.widget-view+json": {
       "model_id": "",
       "version_major": 2,
       "version_minor": 0
      },
      "text/plain": [
       "Validation: 0it [00:00, ?it/s]"
      ]
     },
     "metadata": {},
     "output_type": "display_data"
    },
    {
     "data": {
      "application/vnd.jupyter.widget-view+json": {
       "model_id": "",
       "version_major": 2,
       "version_minor": 0
      },
      "text/plain": [
       "Validation: 0it [00:00, ?it/s]"
      ]
     },
     "metadata": {},
     "output_type": "display_data"
    },
    {
     "data": {
      "application/vnd.jupyter.widget-view+json": {
       "model_id": "",
       "version_major": 2,
       "version_minor": 0
      },
      "text/plain": [
       "Validation: 0it [00:00, ?it/s]"
      ]
     },
     "metadata": {},
     "output_type": "display_data"
    },
    {
     "data": {
      "application/vnd.jupyter.widget-view+json": {
       "model_id": "",
       "version_major": 2,
       "version_minor": 0
      },
      "text/plain": [
       "Validation: 0it [00:00, ?it/s]"
      ]
     },
     "metadata": {},
     "output_type": "display_data"
    },
    {
     "data": {
      "application/vnd.jupyter.widget-view+json": {
       "model_id": "",
       "version_major": 2,
       "version_minor": 0
      },
      "text/plain": [
       "Validation: 0it [00:00, ?it/s]"
      ]
     },
     "metadata": {},
     "output_type": "display_data"
    },
    {
     "data": {
      "application/vnd.jupyter.widget-view+json": {
       "model_id": "",
       "version_major": 2,
       "version_minor": 0
      },
      "text/plain": [
       "Validation: 0it [00:00, ?it/s]"
      ]
     },
     "metadata": {},
     "output_type": "display_data"
    },
    {
     "data": {
      "application/vnd.jupyter.widget-view+json": {
       "model_id": "",
       "version_major": 2,
       "version_minor": 0
      },
      "text/plain": [
       "Validation: 0it [00:00, ?it/s]"
      ]
     },
     "metadata": {},
     "output_type": "display_data"
    },
    {
     "data": {
      "application/vnd.jupyter.widget-view+json": {
       "model_id": "",
       "version_major": 2,
       "version_minor": 0
      },
      "text/plain": [
       "Validation: 0it [00:00, ?it/s]"
      ]
     },
     "metadata": {},
     "output_type": "display_data"
    },
    {
     "data": {
      "application/vnd.jupyter.widget-view+json": {
       "model_id": "",
       "version_major": 2,
       "version_minor": 0
      },
      "text/plain": [
       "Validation: 0it [00:00, ?it/s]"
      ]
     },
     "metadata": {},
     "output_type": "display_data"
    },
    {
     "data": {
      "application/vnd.jupyter.widget-view+json": {
       "model_id": "",
       "version_major": 2,
       "version_minor": 0
      },
      "text/plain": [
       "Validation: 0it [00:00, ?it/s]"
      ]
     },
     "metadata": {},
     "output_type": "display_data"
    },
    {
     "data": {
      "application/vnd.jupyter.widget-view+json": {
       "model_id": "",
       "version_major": 2,
       "version_minor": 0
      },
      "text/plain": [
       "Validation: 0it [00:00, ?it/s]"
      ]
     },
     "metadata": {},
     "output_type": "display_data"
    },
    {
     "data": {
      "application/vnd.jupyter.widget-view+json": {
       "model_id": "",
       "version_major": 2,
       "version_minor": 0
      },
      "text/plain": [
       "Validation: 0it [00:00, ?it/s]"
      ]
     },
     "metadata": {},
     "output_type": "display_data"
    },
    {
     "name": "stderr",
     "output_type": "stream",
     "text": [
      "`Trainer.fit` stopped: `max_epochs=50` reached.\n"
     ]
    }
   ],
   "source": [
    "model = Regression()\n",
    "trainer = Trainer(max_epochs = 50)  # Option to check if it's working at all: fast_dev_run=True \n",
    "                                    # Option to implement early stopping: early_stop_callback=True\n",
    "trainer.fit(model)"
   ]
  },
  {
   "cell_type": "code",
   "execution_count": 36,
   "id": "50277463",
   "metadata": {},
   "outputs": [
    {
     "name": "stderr",
     "output_type": "stream",
     "text": [
      "C:\\Users\\aleks\\anaconda3\\lib\\site-packages\\pytorch_lightning\\trainer\\trainer.py:1386: UserWarning: `.test(ckpt_path=None)` was called without a model. The best model of the previous `fit` call will be used. You can pass `.test(ckpt_path='best')` to use the best model or `.test(ckpt_path='last')` to use the last model. If you pass a value, this warning will be silenced.\n",
      "  rank_zero_warn(\n",
      "Restoring states from the checkpoint path at C:\\Users\\aleks\\Projects\\arameic-mishmash\\Bachelor\\BikeSharing\\lightning_logs\\version_0\\checkpoints\\epoch=49-step=3050.ckpt\n",
      "Loaded model weights from checkpoint at C:\\Users\\aleks\\Projects\\arameic-mishmash\\Bachelor\\BikeSharing\\lightning_logs\\version_0\\checkpoints\\epoch=49-step=3050.ckpt\n",
      "C:\\Users\\aleks\\anaconda3\\lib\\site-packages\\pytorch_lightning\\trainer\\connectors\\data_connector.py:236: PossibleUserWarning: The dataloader, test_dataloader 0, does not have many workers which may be a bottleneck. Consider increasing the value of the `num_workers` argument` (try 8 which is the number of cpus on this machine) in the `DataLoader` init to improve performance.\n",
      "  rank_zero_warn(\n"
     ]
    },
    {
     "data": {
      "application/vnd.jupyter.widget-view+json": {
       "model_id": "3050648b9bd14306a66166daef9aa33e",
       "version_major": 2,
       "version_minor": 0
      },
      "text/plain": [
       "Testing: 0it [00:00, ?it/s]"
      ]
     },
     "metadata": {},
     "output_type": "display_data"
    },
    {
     "data": {
      "text/plain": [
       "[{}]"
      ]
     },
     "execution_count": 36,
     "metadata": {},
     "output_type": "execute_result"
    }
   ],
   "source": [
    "predictions_pred = []\n",
    "predictions_actual = []\n",
    "trainer.test()"
   ]
  },
  {
   "cell_type": "code",
   "execution_count": 39,
   "id": "3c48c887",
   "metadata": {},
   "outputs": [],
   "source": [
    "# Here I'm getting the mean and standard deviation values for 'cnt', so I can convert my predicted\n",
    "# values back to actual numbers of bike rides again, instead of the scaled values used to predict on\n",
    "data_scaling=pd.read_csv('C:/Users/aleks/Projects/arameic-mishmash/Bachelor/Data/data_scaling.csv', header=0, index_col=0)\n",
    "mean = data_scaling['Qimpact'][0]\n",
    "std = data_scaling['Qimpact'][1]"
   ]
  },
  {
   "cell_type": "code",
   "execution_count": 40,
   "id": "c4f25fbc",
   "metadata": {},
   "outputs": [],
   "source": [
    "# Get dates for plotting\n",
    "datesx = scaled_Qdata.index\n",
    "\n",
    "# Get predicted points (scaled back to their original size)\n",
    "plot_pred = []\n",
    "for i in range(len(predictions_pred)):\n",
    "    plot_pred.extend(predictions_pred[i].T.numpy()[0] * std + mean)\n",
    "\n",
    "# Get actual points (scaled back to their original size)\n",
    "plot_actual = []\n",
    "for i in range(len(predictions_actual)):\n",
    "    plot_actual.extend(predictions_actual[i].T.numpy()[0] * std + mean)   "
   ]
  },
  {
   "cell_type": "code",
   "execution_count": 47,
   "id": "f5ad5c4f",
   "metadata": {},
   "outputs": [
    {
     "data": {
      "text/plain": [
       "<matplotlib.legend.Legend at 0x23397304250>"
      ]
     },
     "execution_count": 47,
     "metadata": {},
     "output_type": "execute_result"
    },
    {
     "data": {
      "application/vnd.jupyter.widget-view+json": {
       "model_id": "0ad60446a3a94d328cc47470613752a6",
       "version_major": 2,
       "version_minor": 0
      },
      "image/png": "[encoded data removed]",
      "text/html": [
       "\n",
       "            <div style=\"display: inline-block;\">\n",
       "                <div class=\"jupyter-widgets widget-label\" style=\"text-align: center;\">\n",
       "                    Figure\n",
       "                </div>\n",
       "                <img src='data:image/png;base64,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' width=1000.0/>\n",
       "            </div>\n",
       "        "
      ],
      "text/plain": [
       "Canvas(toolbar=Toolbar(toolitems=[('Home', 'Reset original view', 'home', 'home'), ('Back', 'Back to previous …"
      ]
     },
     "metadata": {},
     "output_type": "display_data"
    }
   ],
   "source": [
    "# And finally we can see that our network has done a decent job of estimating!\n",
    "fig, ax = plt.subplots(figsize=(10,4))\n",
    "ax.plot(plot_pred, label='Prediction')\n",
    "ax.plot(plot_actual, label='Data')\n",
    "ax.set_xticks(np.arange(len(datesx)))\n",
    "ax.set_xticklabels(datesx, rotation=45)\n",
    "ax.legend()"
   ]
  },
  {
   "cell_type": "code",
   "execution_count": null,
   "id": "bdc5c5e7",
   "metadata": {},
   "outputs": [],
   "source": []
  }
 ],
 "metadata": {
  "kernelspec": {
   "display_name": "Python 3 (ipykernel)",
   "language": "python",
   "name": "python3"
  },
  "language_info": {
   "codemirror_mode": {
    "name": "ipython",
    "version": 3
   },
   "file_extension": ".py",
   "mimetype": "text/x-python",
   "name": "python",
   "nbconvert_exporter": "python",
   "pygments_lexer": "ipython3",
   "version": "3.9.13"
  }
 },
 "nbformat": 4,
 "nbformat_minor": 5
}
