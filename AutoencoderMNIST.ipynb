{
 "cells": [
  {
   "cell_type": "markdown",
   "id": "4d59f114",
   "metadata": {},
   "source": [
    "## Will try to initiate an autoencoder in PyTorch\n",
    "* Inspired by https://www.geeksforgeeks.org/implementing-an-autoencoder-in-pytorch/ *"
   ]
  },
  {
   "cell_type": "code",
   "execution_count": 16,
   "id": "eefb093f",
   "metadata": {},
   "outputs": [],
   "source": [
    "\n",
    "import torch\n",
    "from torchvision import datasets\n",
    "from torchvision import transforms\n",
    "import matplotlib.pyplot as plt\n",
    "import numpy as np\n"
   ]
  },
  {
   "cell_type": "markdown",
   "id": "facb2457",
   "metadata": {},
   "source": [
    "### Autoencoder will learn an MNIST dataset and consequently will reproduce the number from MNIST"
   ]
  },
  {
   "cell_type": "code",
   "execution_count": 17,
   "id": "1a9cd50b",
   "metadata": {},
   "outputs": [],
   "source": [
    "dataset = datasets.MNIST(root = \"./data\",\n",
    "                         train = True,\n",
    "                         download = True,\n",
    "                         transform = transforms.ToTensor()) #"
   ]
  },
  {
   "cell_type": "markdown",
   "id": "acbdf1dc",
   "metadata": {},
   "source": [
    "### Artificially decrease amount of data"
   ]
  },
  {
   "cell_type": "code",
   "execution_count": 18,
   "id": "0295662c",
   "metadata": {},
   "outputs": [],
   "source": [
    "#_, dataset=torch.utils.data.random_split(dataset, [int(0.99*len(dataset)), int(0.01*len(dataset))])"
   ]
  },
  {
   "cell_type": "code",
   "execution_count": 19,
   "id": "539d9b64",
   "metadata": {},
   "outputs": [],
   "source": [
    "\n",
    "train_set, test_set, valid_set =\\\n",
    "                torch.utils.data.random_split(dataset, (int(0.7*len(dataset)), int(0.15*len(dataset)), int(0.15*len(dataset))))"
   ]
  },
  {
   "cell_type": "code",
   "execution_count": 20,
   "id": "a3ab2774",
   "metadata": {},
   "outputs": [],
   "source": [
    "train_loader = torch.utils.data.DataLoader(dataset = train_set, batch_size = 32)\n",
    "validation_loader = torch.utils.data.DataLoader(dataset = valid_set, batch_size = 32)\n",
    "test_loader = torch.utils.data.DataLoader(dataset = test_set, batch_size = 32)"
   ]
  },
  {
   "cell_type": "code",
   "execution_count": 21,
   "id": "e38d03ee",
   "metadata": {},
   "outputs": [],
   "source": [
    "class AE(torch.nn.Module):\n",
    "    def __init__(self):\n",
    "        super().__init__()\n",
    "         \n",
    "        # Building an linear encoder with Linear\n",
    "        # layer followed by Relu activation function\n",
    "        # 784 ==> 10\n",
    "        self.encoder = torch.nn.Sequential(\n",
    "            torch.nn.Linear(28 * 28, 128),\n",
    "            torch.nn.ReLU(),\n",
    "            torch.nn.Linear(128, 64),\n",
    "            torch.nn.ReLU(),\n",
    "            torch.nn.Linear(64, 36),\n",
    "            torch.nn.ReLU(),\n",
    "            torch.nn.Linear(36, 18),\n",
    "            torch.nn.ReLU(),\n",
    "            torch.nn.Linear(18, 10)\n",
    "        )\n",
    "         \n",
    "        # Building an linear decoder with Linear\n",
    "        # layer followed by Relu activation function\n",
    "        # The Sigmoid activation function\n",
    "        # outputs the value between 0 and 1\n",
    "        # 10 ==> 784\n",
    "        self.decoder = torch.nn.Sequential(\n",
    "            torch.nn.Linear(10, 18),\n",
    "            torch.nn.ReLU(),\n",
    "            torch.nn.Linear(18, 36),\n",
    "            torch.nn.ReLU(),\n",
    "            torch.nn.Linear(36, 64),\n",
    "            torch.nn.ReLU(),\n",
    "            torch.nn.Linear(64, 128),\n",
    "            torch.nn.ReLU(),\n",
    "            torch.nn.Linear(128, 28 * 28),\n",
    "            torch.nn.Sigmoid()\n",
    "        )\n",
    " \n",
    "    def forward(self, x):\n",
    "        encoded = self.encoder(x)\n",
    "        decoded = self.decoder(encoded)\n",
    "        return decoded, encoded"
   ]
  },
  {
   "cell_type": "markdown",
   "id": "5656550d",
   "metadata": {},
   "source": [
    "Just a function used for visualization"
   ]
  },
  {
   "cell_type": "code",
   "execution_count": 22,
   "id": "9636d43a",
   "metadata": {},
   "outputs": [],
   "source": [
    "def plot_digits(*args): #just plotting the result\n",
    "\n",
    "    n = min([x.shape[0] for x in args]) #n=5\n",
    "    \n",
    "    plt.figure(figsize=(2*n, 2*len(args))) #10 na 4\n",
    "    for j in range(n): #j [1,2,3,4,5]\n",
    "        for i in range(len(args)): #i [1,2]\n",
    "            img=args[i][j].reshape(-1,28,28).detach().numpy()\n",
    "            ax = plt.subplot(len(args), n, i*n + j + 1) #arguments: nrows, ncols, index\n",
    "            plt.imshow(img[0])\n",
    "            plt.gray()\n",
    "            ax.get_xaxis().set_visible(False)\n",
    "            ax.get_yaxis().set_visible(False)\n",
    "\n",
    "    plt.show()"
   ]
  },
  {
   "cell_type": "code",
   "execution_count": 23,
   "id": "50c5dfee",
   "metadata": {},
   "outputs": [],
   "source": [
    "#blab lbalvsdbmsfdkmsal"
   ]
  },
  {
   "cell_type": "code",
   "execution_count": 24,
   "id": "83d5b3ed",
   "metadata": {},
   "outputs": [],
   "source": [
    "model = AE()\n",
    "loss_function = torch.nn.MSELoss()\n",
    "optimizer = torch.optim.Adam(model.parameters(),\n",
    "                             lr = 1e-2,\n",
    "                             weight_decay = 1e-8)"
   ]
  },
  {
   "cell_type": "code",
   "execution_count": 33,
   "id": "cf808762",
   "metadata": {},
   "outputs": [],
   "source": [
    "\n",
    "epochs = 4\n",
    "outputs = []\n",
    "losses = []\n",
    "val_losses=[]\n",
    "for epoch in range(epochs):\n",
    "    for (images_in_batch, _) in train_loader: \n",
    "        \n",
    "# Reshaping the image to (-1, 784)\n",
    "        images_in_batch = images_in_batch.reshape(-1, 28*28)\n",
    "       \n",
    "# Output of Autoencoder\n",
    "        reconstructed = model(images_in_batch)[0]\n",
    "       \n",
    "# Calculating the loss function\n",
    "        loss = loss_function(reconstructed, images_in_batch)\n",
    "       \n",
    "# The gradients are set to zero,\n",
    "        # the gradient is computed and stored.\n",
    "        # .step() performs parameter update\n",
    "        optimizer.zero_grad()\n",
    "        loss.backward()\n",
    "        optimizer.step()   \n",
    "        \n",
    "# Storing the losses in a list for plotting\n",
    "        losses.append(loss.detach().numpy()) #error at the end of the training on one batch := train_losses\n",
    "    \n",
    "# calculating validation loss (error for the last img of the batch) \n",
    "        one_img, _=validation_loader.dataset[int(np.random.random()*len(validation_loader.dataset))] #picking 1 random image from validation dataset\n",
    "        one_img=one_img.reshape(-1, 28*28)\n",
    "        one_res=model(one_img)[0]\n",
    "        val_loss=loss_function(one_res, one_img)\n",
    "        val_losses.append(val_loss.detach().numpy())\n",
    "    outputs.append((epochs, one_img, reconstructed))"
   ]
  },
  {
   "cell_type": "code",
   "execution_count": 1,
   "id": "1d1c67f3",
   "metadata": {},
   "outputs": [
    {
     "ename": "NameError",
     "evalue": "name 'losses' is not defined",
     "output_type": "error",
     "traceback": [
      "\u001b[1;31m---------------------------------------------------------------------------\u001b[0m",
      "\u001b[1;31mNameError\u001b[0m                                 Traceback (most recent call last)",
      "\u001b[1;32mc:\\Users\\aleks\\Projects\\arameic-mishmash\\AutoencoderMNIST.ipynb Cell 15\u001b[0m line \u001b[0;36m4\n\u001b[0;32m      <a href='vscode-notebook-cell:/c%3A/Users/aleks/Projects/arameic-mishmash/AutoencoderMNIST.ipynb#X20sZmlsZQ%3D%3D?line=1'>2</a>\u001b[0m \u001b[39mimport\u001b[39;00m \u001b[39mscipy\u001b[39;00m\n\u001b[0;32m      <a href='vscode-notebook-cell:/c%3A/Users/aleks/Projects/arameic-mishmash/AutoencoderMNIST.ipynb#X20sZmlsZQ%3D%3D?line=2'>3</a>\u001b[0m \u001b[39mimport\u001b[39;00m \u001b[39mnumpy\u001b[39;00m \u001b[39mas\u001b[39;00m \u001b[39mnp\u001b[39;00m\n\u001b[1;32m----> <a href='vscode-notebook-cell:/c%3A/Users/aleks/Projects/arameic-mishmash/AutoencoderMNIST.ipynb#X20sZmlsZQ%3D%3D?line=3'>4</a>\u001b[0m smooth_losses\u001b[39m=\u001b[39mscipy\u001b[39m.\u001b[39mndimage\u001b[39m.\u001b[39mgaussian_filter(losses, \u001b[39m100\u001b[39m) \u001b[39m#because original losses are too noisy to see the pattern\u001b[39;00m\n\u001b[0;32m      <a href='vscode-notebook-cell:/c%3A/Users/aleks/Projects/arameic-mishmash/AutoencoderMNIST.ipynb#X20sZmlsZQ%3D%3D?line=4'>5</a>\u001b[0m smooth_val_losses\u001b[39m=\u001b[39mscipy\u001b[39m.\u001b[39mndimage\u001b[39m.\u001b[39mgaussian_filter(val_losses, \u001b[39m100\u001b[39m)\n\u001b[0;32m      <a href='vscode-notebook-cell:/c%3A/Users/aleks/Projects/arameic-mishmash/AutoencoderMNIST.ipynb#X20sZmlsZQ%3D%3D?line=6'>7</a>\u001b[0m figs, axs \u001b[39m=\u001b[39m plt\u001b[39m.\u001b[39msubplots()\n",
      "\u001b[1;31mNameError\u001b[0m: name 'losses' is not defined"
     ]
    }
   ],
   "source": [
    "%matplotlib widget\n",
    "import scipy\n",
    "import numpy as np\n",
    "smooth_losses=scipy.ndimage.gaussian_filter(losses, 100) #because original losses are too noisy to see the pattern\n",
    "smooth_val_losses=scipy.ndimage.gaussian_filter(val_losses, 100)\n",
    "\n",
    "figs, axs = plt.subplots()\n",
    "axs.plot(np.arange(0,len(losses)), smooth_val_losses, label='valid loss')\n",
    "axs.plot(np.arange(0,len(losses)), smooth_losses, label='train loss')\n",
    "axs.legend()"
   ]
  },
  {
   "cell_type": "code",
   "execution_count": 37,
   "id": "8e85ad99",
   "metadata": {},
   "outputs": [],
   "source": [
    "xbatch, ybatch =next(iter(test_loader))\n",
    "xbatch=xbatch.reshape(-1,28*28)\n",
    "a=[model(x)[0] for x in xbatch[:5]]\n",
    "a=torch.stack(a, dim=0)"
   ]
  },
  {
   "cell_type": "code",
   "execution_count": 38,
   "id": "7267e1b7",
   "metadata": {},
   "outputs": [
    {
     "data": {
      "application/vnd.jupyter.widget-view+json": {
       "model_id": "c75ed2cf58db42b69c135a8f66385adb",
       "version_major": 2,
       "version_minor": 0
      },
      "image/png": "[encoded data removed]",
      "text/html": [
       "\n",
       "            <div style=\"display: inline-block;\">\n",
       "                <div class=\"jupyter-widgets widget-label\" style=\"text-align: center;\">\n",
       "                    Figure\n",
       "                </div>\n",
       "                <img src='data:image/png;base64,iVBORw0KGgoAAAANSUhEUgAAA+gAAAGQCAYAAAA9TUphAAAAOXRFWHRTb2Z0d2FyZQBNYXRwbG90bGliIHZlcnNpb24zLjcuMiwgaHR0cHM6Ly9tYXRwbG90bGliLm9yZy8pXeV/AAAACXBIWXMAAA9hAAAPYQGoP6dpAAA3ZElEQVR4nO3ce7CdVXk/8BWuIckhIYRLQsIlIXIVuQkIhYAooBanqBXbqTrWKjKK7VStWrGAl7GjdNpip2CrVWeKFwSrRcQWLUTughgCYuQSwi0k5EKSAyHccn5/+Rvf93nCeTk5l5VzPp8Z/ljPrP2etfdee717ZbO+4/r6+voKAAAAMKK2GukBAAAAADboAAAAUAUbdAAAAKiADToAAABUwAYdAAAAKmCDDgAAABWwQQcAAIAK2KADAABABWzQAQAAoAI26AAAAFABG3QAAACogA06AAAAVMAGHQAAACpggw4AAAAVsEEHAACACtigAwAAQAVs0AEAAKACNugAAABQARt0AAAAqIANOgAAAFTABh0AAAAqYIMOAAAAFbBBBwAAgArYoAMAAEAFbNABAACgAjboAAAAUAEbdAAAAKiADToAAABUwAYdAAAAKmCDDgAAABWwQQcAAIAK2KADAABABWzQAQAAoAI26AAAAFABG3QAAACogA06AAAAVMAGHQAAACpggw4AAAAVsEEHAACACtigAwAAQAVs0AEAAKACNugAAABQARt0AAAAqIANOgAAAFTABh0AAAAqYIMOAAAAFbBBBwAAgArYoAMAAEAFbNABAACgAtuM9AAYXhs3bixLly4tPT09Zdy4cSM9HCrR19dXent7y4wZM8pWWw3dv9uZf2SGa/6VYg4SmX+MNPdgRtJwroF0Y4M+xixdurTMmjVrpIdBpR555JEyc+bMIbu++cdLGer5V4o5yKaZf4w092BG0nCsgXTjn0nGmJ6enpEeAhUb6vlh/vFShmN+mINsivnHSHMPZiSZH/WwQR9j/C9NvJShnh/mHy9lOOaHOcimmH+MNPdgRpL5UQ8bdAAAAKiADToAAABUwAYdAAAAKmCDDgAAABWwQQcAAIAK2KADAABABWzQAQAAoAI26AAAAFABG3QAAACogA06AAAAVMAGHQAAACpggw4AAAAVsEEHAACACtigAwAAQAVs0AEAAKACNugAAABQgW1GegAAALA5+vr6Qu2CCy4ItfPPP7/RPvHEEztd/7rrrhvAqABePr+gAwAAQAVs0AEAAKACNugAAABQARt0AAAAqICQOEalKVOmhNoHPvCBUPv85z8fan/+538eat/85jcHZVyMXcccc0yonXTSSaGWBRZddtlljfbXvva1QRsXQE2yNfC8887rt08mC3ZrP7Z97VLycDmA4eIXdAAAAKiADToAAABUwAYdAAAAKmCDDgAAABUQEseocOSRRzbal1xySehz6KGHhlpfX1+onXvuuaF28sknN9qrVq0KffbZZ59QW79+fai1A76WL18e+tx9992hRh122GGHUGu/pwcccEDos++++3a61rhx40LtFa94RaP94x//OPR5/PHH42ABtjBZAFzXULi2LACuHc557bXXdrpWFjgHMBT8gg4AAAAVsEEHAACACtigAwAAQAWcQWeL0z4/Vkop//Zv/9ZoZ+fBu8oeO3v27EY7O7ve1dvf/vZGe+3ataFPdg7+4osvHvDfZPBcfvnloXbqqaf2+7jbb7891NrZCZsya9asRjs7V/npT3861FasWNHp+mxZpkyZEmpnnXVWo/3Wt7419MnmW5Z5kK01H/vYxxrtp59+ur9hllJKOfvss0OtnaHw0EMPdboWY8O8efNC7YILLmi0szUw0+U8e3a2PHvc+eef36nGlu2EE04ItYsuuqjRPuSQQzpdK1tfb7vttkZ7/vz5oU97vWXs8Qs6AAAAVMAGHQAAACpggw4AAAAVsEEHAACACozr25y0K7Y469atK5MnTx7pYXS21157hdq9994baltvvfWQjqMd9LFmzZrQZ9KkSaE20HE9//zzoZYFkf385z8f0PU3Ze3atWXHHXcc1Gv+vi1t/mVeeOGFUPvmN7/ZaH/2s58NfZYsWRJqCxcuDLVXvvKVobZx48Z+x3XPPfeE2ic/+clQ+9GPftTvtUbKUM+/Ura8OZgFwv33f/93qB133HEDun4WYpR9Lbj++usb7Xe/+92hTxYI9zd/8zeh9uEPf7jR/pd/+Zd+xzkczL+hlQWvXXvttcM/kEGUfX42h3vw4DjooINC7fTTTw+1j370o6G2ww47hNr48eMb7WXLloU+3/jGN0Lt9a9/fagdccQRjfZ9990X+uy///6hNhyGYw2kG7+gAwAAQAVs0AEAAKACNugAAABQARt0AAAAqMA2Iz0AeClXXHFFqA00eO2ZZ54JtSyka8GCBaHWDkhqt0sp5ZBDDgm1T3ziE6HWDv/YeeedQ59tt9021C666KJQO/TQQ0ONofWOd7wj1C6//PIBXSubM1//+tdD7Z3vfGe/1zrggANC7Qtf+EKo1RwSN9Zl4TxXXnllqB177LGh1g4h/NM//dPQZ9WqVZ3GcdZZZ4XaOeec02hnAZVTp07tdP277rqrUz+2XLXkD1933XWhNn/+/Eb7vPPO63StCy64YDCGxGZqB7aVEr9rfexjH+v0uOXLl4fapZdeGmpf/vKXG+21a9eGPtOnTw+1D33oQ6EGXfgFHQAAACpggw4AAAAVsEEHAACACtigAwAAQAWExFGNOXPmhNqBBx44oGu98MILofa+970v1L7zne8M6PqZxx57LNSuvvrqUDv//PMb7XPPPbfT9adMmRJqu+22W6hloScMnoEGwnX1gQ98INRuvvnmRvtf//VfO11rwoQJgzImhsdHPvKRUDvuuONC7fHHHw+1N73pTY32okWLBjyOLGDpzW9+c6O97777drrWvffeG2q33XbbwAZGFU488cRQu/baa4d1DFlg27x580LtpJNOCrWBBthlgXMMrYMPPjjUvvGNb4TaYYcd1mhv2LAh9Mnu3R/84AdDbeXKlaHWvpeeeeaZoc8nP/nJUOvp6Qm19vx77rnnQh/wCzoAAABUwAYdAAAAKmCDDgAAABWwQQcAAIAKCImjGlmYy3bbbdfpse1QuHe/+92hz3e/+92BDWyQfeELX2i0Tz/99NDnVa96VajNnDkz1LIQPSFxW7Znn3021G699dYBXWuoA+0YuEMOOSTUzjrrrE6PzUKSNicUbih99rOfDbX169ePwEgYiCz8LQuJG6gseC0LgBtoQFs7lLWr7O8JiRs822+/fahl4ZSf+cxnQi0L+Vu4cGGjfc4554Q+N9xwQ6exTZs2LdQuueSSRvuMM87odK1MO4TuXe9614CvxejlF3QAAACogA06AAAAVMAGHQAAACrgDDqjwjXXXNNoX3HFFcM+hqlTp4bavvvuG2qf/OQnG+3svDkMhttvv32kh8AmZOd4d91111Brn60sJT+XOdTa52/nzp3b6XE33njjEIyGoZDNycE8b57lzAz1ue558+YN6HHz588f5JGMbRMnTmy0s3yUU089NdTa57VLKeVzn/tcqF100UWbMbqmiy++ONTe8pa3DOha48aNC7UvfvGLjfaCBQsGdG1GN7+gAwAAQAVs0AEAAKACNugAAABQARt0AAAAqICQOKrx4x//ONSeffbZUNt+++1D7Q1veEOjfcQRR4Q+t956a6jtvvvuoXbUUUeF2oc//OFGu6+vL/SZMWNGqO23336hNlC9vb2htmrVqkG7/li3ww47hNrHP/7xUMtCh2677bYB/c1LLrkk1F796leH2rnnnttoZ8Ez119/fahlnynqkK0hWe2HP/xhqGXr4mCaNGlSqJ122mmNdjbWbD4vWbJk0MbF4MnC384777wBX68d9nbBBRf022ewXXvttaHWJeQuG9dQj3WsefOb39xon3LKKaHPihUrQu3kk08Otbvvvrvfv3fQQQeF2umnnx5qH/3oR0PtgQceCLWrrrqq0X7jG9/Y7xhKKeU73/lOqP3jP/5jp8cytvkFHQAAACpggw4AAAAVsEEHAACACtigAwAAQAWExFGNpUuXhlo7nK2UUr7yla/0e60sHOvJJ58MtQkTJoTarrvuGmrtUK4sIGkwPf/886F25plnhtrChQuHdByj1ezZs0PtwgsvDLV2sE0peUDb8ccfP6Bx/PVf/3Wn67fnWzb/PvShD4Xa008/PaBxUY/BDJrMZEGZP/vZz0Jt5syZ/V7ryiuvHJQxMfSy8LQugWqb0g6FG4mQtc0Zf5uQuIHL1orPf/7zjfb69etDn1NPPTXUNmzYEGrHHHNMqLXD3trBwaWUsnr16lD7kz/5k1DLQl/bQa1ZSNyNN94YameddVaobdy4MdSgzS/oAAAAUAEbdAAAAKiADToAAABUwAYdAAAAKiAkjqr96Ec/CrUsRKttypQpnWpdbbVV89+yNifkY8WKFY32HXfcEfp87nOfC7WbbrppwH9zrOvp6Wm0v/vd74Y+hx12WKdrXXPNNaF20EEHNdrTp09/GaMbHBdffHGo/cM//EOoLViwoNFesmTJEI2Il3L11VeH2pe+9KVQO+WUU0ItC8Nqrw8777xz6NMOUiqllHe+852hlj22be3ataF2yy239Ps46jBv3rwBP7YdCFfKlh2qNn/+/JEewqiyxx57hNpee+3VaL/wwguhT3YPO/roo0MtC9F97LHHGu1srfv2t78damvWrAm1M844I9TOPvvsRrv9Pa6UPFS2t7c31KALv6ADAABABWzQAQAAoAI26AAAAFABG3QAAACowLi+vr6+kR4Ew2fdunVl8uTJIz2Mzv7oj/4o1C6//PJhH8cvf/nLRjsLceuqHQrXDjcZSWvXri077rjjkF1/OOZfFnB1ww03NNpz584NfbJAwnPPPTfUsjC5973vfY32scce2+84NyULQRzMZXrx4sWN9mmnnRb6zJ49O9Tan4FSSnnyyScHbVylDP38K6XuNfBtb3tbqF122WWhls2H22+/vdE+8sgjO/3NpUuXhtpFF10Uan//93/faK9evTr02WWXXTr9zVqNpfnXdU3Jwt9OOumkQR7Ny3f++eeH2nnnnTega3UJnh0uo+EenAXyvv/972+03/rWt4Y+WaBae10rpZQf/OAHoTaYAZULFy4MtXYQ7Ec+8pHQ55/+6Z8GbQwjZTjWQLrxCzoAAABUwAYdAAAAKmCDDgAAABXYZqQHAL/zd3/3d6H26U9/etjH8etf/zrUPvWpTzXaP/3pT4drOLxM55xzTqhlZ87bTj755FA76qijQm233XYLtYGeET/kkENC7eCDDw619ufggAMOGNDfK6WUOXPmNNrZGb/x48eH2i9+8YtQy87tX3jhhQMe21iX5WuceeaZofZXf/VXofaa17ym0V6yZEnoc/HFF4fal770pVA7+uijQ619Tjc7u069TjzxxAE9robz5qXE8c+bN2/A18rO1TN41qxZE2pf/OIXX7I9Un72s5+FWnYP/uY3v9loj4bz5tTNL+gAAABQARt0AAAAqIANOgAAAFTABh0AAAAqICSOEfGGN7wh1LJAuHYwUSmlPP/886H25JNPNtoLFiwIfY4//vhQ22GHHULtmWeeCTWhcFuON77xjaGWzaO2CRMmdKplgXDtYMHPfvazoU8WAJa55557Qq0davSud70r9Mlq06ZNC7Xp06c32ttuu23os379+lB7xSteEWrZ68Pg+t73vhdq//Vf/xVqO+64Y6O9YcOG0Cd7X7tqz/uFCxcO+FoMv/POO2+kh9DZ+eefH2qDOf758+cP2rXYcpx99tmhloUg9vb2hlp2T4eh5Bd0AAAAqIANOgAAAFTABh0AAAAqYIMOAAAAFRASx4g466yzQi0L8lq3bl2onXnmmaF2zTXX9Ps3P/OZz4Ta3/7t34bakUceGWrtYK3HH3+837/HyPja174WapMmTWq0t9kmLn1PPfVUqF1yySWhtnr16lDrGgA3UE888USjfeGFF4Y+WS3zZ3/2Z412FkqXzW9zvh4vvPBCqGXzcqB6enr67XPaaacN2t9j6J144okjPYR0DNdee+2Q/s12wGYpeQgdo8vWW28dam9/+9s7PfZTn/pUqC1evHizxwQvh1/QAQAAoAI26AAAAFABG3QAAACogA06AAAAVEBIHFXbsGFDqHUJhMtcdtlloZaFxGXa4SL//M//PKAxMPS+8pWvhNq3vvWtRnu77bYLfVatWjVkY6rJf/7nf470EKjc6aef3m+fn/zkJ8MwEgZiMEPQBnqt8847b9DG0FUWCHfSSScN+zgYeccff3yonXDCCaGWzZksHBaGm1/QAQAAoAI26AAAAFABG3QAAACogDPoVG3ixImh9p73vCfUvve97zXa22wTp/Zf/MVfDN7A2KL09vaO9BBgVBkrmQ1j3UicJc+0zwrPnz8/9BnMs/dsWfbYY49G+/vf/36nx336058OtRdeeGFQxgSbwy/oAAAAUAEbdAAAAKiADToAAABUwAYdAAAAKiAkjqplIXH//u//3qkGwOAYN27cSA+BjrKwtFrC3rq44IILQq0dEtduM7Z9/etfb7SnTJkS+nzwgx8MtRtvvHGohgSbxS/oAAAAUAEbdAAAAKiADToAAABUwAYdAAAAKiAkjhGRhbrNmzcv1Hp6eoZjOP1avHjxSA8BYFgceeSRodbX19doX3755cM1HAbBSSed1GhnoXEnnnhip2tlAW3z588fyLDSQDt4KUcccUSotdesSy+9NPT56le/OmRjgsHmF3QAAACogA06AAAAVMAGHQAAACpggw4AAAAVEBLHiLjqqqtC7eCDDw61T3ziE6F29tlnD9o4vv/974daNrYrr7xy0P4mQM1e8YpXhNqSJUsa7dtvv32YRsNgaAe7ZUFvsCXIAionT57caH/5y18OfZ5//vkhGxMMNr+gAwAAQAVs0AEAAKACNugAAABQARt0AAAAqICQOKrx2GOPhdo555zTqQbA4Fi0aFGozZ07t9GeMmVK6LNs2bKhGhJAKaWUSZMmhdpPf/rTRvuee+4ZruHAkPALOgAAAFTABh0AAAAqYIMOAAAAFXAGHQD4/+64445QO/bYYxvt8847L/Q5++yzh2xMAJty6aWXNtpPPfXUCI0EBodf0AEAAKACNugAAABQARt0AAAAqIANOgAAAFRASBwA8P/95V/+ZacawHDbZZddRnoIMOT8gg4AAAAVsEEHAACACtigAwAAQAVs0MeYvr6+kR4CFRvq+WH+8VKGY36Yg2yK+cdIcw9mJJkf9bBBH2N6e3tHeghUbKjnh/nHSxmO+WEOsinmHyPNPZiRZH7UY1yffy4ZUzZu3FiWLl1aenp6yrhx40Z6OFSir6+v9Pb2lhkzZpStthq6f7cz/8gM1/wrxRwkMv8Yae7BjKThXAPpxgYdAAAAKuCfSQAAAKACNugAAABQARt0AAAAqIANOgAAAFTABh0AAAAqYIMOAAAAFbBBBwAAgArYoAMAAEAFbNABAACgAjboAAAAUAEbdAAAAKiADToAAABUwAYdAAAAKmCDDgAAABWwQQcAAIAK2KADAABABWzQAQAAoAI26AAAAFABG3QAAACogA06AAAAVMAGHQAAACpggw4AAAAVsEEHAACACtigAwAAQAVs0AEAAKACNugAAABQARt0AAAAqIANOgAAAFTABh0AAAAqYIMOAAAAFdhmpAfA8Nq4cWNZunRp6enpKePGjRvp4VCJvr6+0tvbW2bMmFG22mro/t3O/CMzXPOvFHOQyPxjpLkHM5KGcw2kGxv0MWbp0qVl1qxZIz0MKvXII4+UmTNnDtn1zT9eylDPv1LMQTbN/GOkuQczkoZjDaQbG/QxpqenZ6SHQMWGen78/vV//1/v+/r6+n2sf+1/+bLXdTBfx8G6/u+uMxzrkzWQTTH/GGnDeQ+GNvOjHjboY8zvf3m24eF3frdBGuo58bvrjxs37mX/LfN1cAzXe/xy9fX1Dct7bB6xKeYfI63W9Zmxwfyoh4MGAAAAUAEbdAAAAKiA/8UdGHE1not+Oddq17I+Xc7Zb864RkKX13Woz8EDAIwmfkEHAACACtigAwAAQAVs0AEAAKACNugAAABQASFxjBm1BGu1CcwaXF1ez66v+TbbxCVy/PjxoTZ58uSXbJeSz78NGzaE2rp16/rt9+yzz4Y+L774Yqh1CbTrauPGjQN6nPkNDLahXldq/b4AjA1+QQcAAIAK2KADAABABWzQAQAAoALOoFO1rufABvPc8VCfPXMmd+RtvfXWoTZt2rRQ23XXXUNtq63iv2tOmDCh0e7p6Ql9Jk6cGGrPP/98qK1YsSLUVq9e3WivXbs29HnqqadCrcsZ9GwM2Xnz5557LtSyz4r5DQy29rqbrTNd16N2LXtcVhtoDge8lK5zmbHFL+gAAABQARt0AAAAqIANOgAAAFTABh0AAAAqICSOYTHQwIuugVNdAmSycK8uATJZLbtWVsu8+OKLjfbmhNG88MILA37slqZrAFD2Pmy33XaNdhb+Nn78+FDLgt2mT58earNnz260Z82a1WlcWbDbo48+2m/t8ccfD33aQXKllLJu3bpQe/bZZxvtbbaJt4FsXm277bahlgXMMTIGGs43mGtzFr7YXu8252+yZeu6Xu+www6hNnPmzEZ7zpw5oc+ee+4Zalm45eLFixvt++67L/RZuXJlqHUN1DS/6zSYYWxd179sfrfnTDaHuo7VXBu9/IIOAAAAFbBBBwAAgArYoAMAAEAFbNABAACgAkLiGHQDDa3IwjSy0I2s1rb99tuH2o477hhqkydPDrV2GE0ppey7774v2S4lD9bKgmbagV+rVq0KfXp7e0NtxYoVnWrt4LFsXKM5WCQLPZs2bVqjPWnSpH77lJLPhQMPPDDUDj/88EY7C4nLAoay9y8bRzuYbs2aNaHPww8/HGqLFi0KtWXLljXaXedH1/DBdr+uQYxjzUADMEvptgZmsve1a4hb+3OVrafZWLO5Klxw9OkSpJqtzTvttFOovfrVrw61P/7jP260Dz744E7Xz+baAw880GhfccUVoc/8+fNDLbtXj9ZQ1pp1WTu7Bvlm71+X0LZsDc7CDbPvok8//XSj3TUAN5vLXdbv0fx9bzTzCzoAAABUwAYdAAAAKmCDDgAAABWwQQcAAIAKCIljswx1IFwWsDFhwoRQawfN7L777qHPCSecEGpZGM2cOXNCbdddd220p06dGvpkYR1ZCFg7zOuhhx4Kfe67775Qu+uuu0Jt8eLFofbII4802llQ3WgJDcmCVLKglvac2WWXXUKfbM4cdNBBnWrt67WD+krJ5/L48eM7jaM937LnnQXTZQFw69ate8n2pq6fyT6zXeaWEJvctttuG2oTJ04MtWzebLfddv1eKwvFfPbZZzuNbcqUKf1eP1vvsmCjLkGWbFnaa0G2Du+5556h9ra3vS3UzjjjjFBrB2Vm62k2j7J52r6fZ49rB3mVUsrNN98calkIYvZdgP51DRbs8v0xmx9ZOGz2fTL7ftcOjN1tt906jTVb/37729822tn3uNWrV4fac889F2pdZPdz99z6+QUdAAAAKmCDDgAAABWwQQcAAIAKOINOZ0N9ZiU7v9M+K1ZKKfvuu2+oHXDAAY32cccdF/ocffTRodY+u15KfmatfUZt48aNoc/69es7Xat9lq59trOU/NxSdk6pp6cn1LJzwbXL5laXc9DZ47J51K5lZ9D33nvvUMvOmWVnK9vnELP5kZ2by87/ZueL99hjj0Y7e4+zeZTNmUWLFjXa2RnK7LXvei693S97LbpeazRpP+dsbdh5551DLcvEyOZvu5bN5/baU0opy5cvD7W1a9eGWnt+Zed2Fy5cGGrZ/GrP++zMrjOS9crWn/b53sMOOyz0eec73xlq2X05u++3189sjmbnxrPchfZYjzrqqNDn3nvvDbV77rkn1LL5zcBk94VsrmX3yPb7PHfu3NBnv/32C7XsO2D7fltKXJuz8+zZ+LPvcu3vFdl3ll/84hehNlDW0i2TX9ABAACgAjboAAAAUAEbdAAAAKiADToAAABUQEgcmzSYwRLt8IwsMGvHHXcMtSOOOCLUDjnkkFCbN29eo50FhEycODHUli1bFmrtEK1SSlm1alWjnYV7ZbKgpnYASRY6NmHChFDLglG6BMJtCQEhWbhKe9zZ88iefza32q9d9lpm8y/7m88880yobbfddo12FmD02GOPhVoWapSFvc2ePbvRzsLr2mMoJQ9bmjp1aqP9xBNPhD5dQ+66vG9jUZewo+wzvs8++4TaK1/5ylCbNWtWv7VsvWuvY6WU8tBDD4Xa9ttvH2rtNTW7fvacsuu35/1zzz0X+mTBcQy/bC5n82P//fdvtN/znveEPscff3yoTZs2rdM4lixZ0mjfdtttoU+2Nh988MGhduCBBzba2drf7lNKPr+zddHc7V/XQLjs+9GMGTNCrT23jj322NAnCwxcuXJlqGXv3yOPPNJoZ3Nmr732CrVsnWwHemb3/CyEk7HFL+gAAABQARt0AAAAqIANOgAAAFTABh0AAAAqICSOYdEOBOkSQlRKKfvuu2+oZaEv7dCNLHzrjjvuCLUsaCYLiWsHiWy77bahTxYI1yXYLQsIefLJJ0MtC+7K+mXPfUvUJWwse026hKvstNNOoZa9D9n7nL2+y5cvb7SzYKx777031DZs2BBq7RDBUuLzzAJ2Jk2a1KnWDq3J5mgWkpO9rl3eo2ysYzFcbpttmrfb7HVvhwGWEsO3SsnDqtavX99o33XXXaFPVmuHH5WSfxbaYU2ve93rQp+dd9451H75y1+GWrbGUqdsDcxCut773vc22ieffHKnx2XBbvfff3+oXXnllY327bffHvpkgW1ZCGZ7LmdBddnzzoI4s7WM/mWBcFnwWrYmnnrqqaH2pje9qdHO1tdf//rXnWpZoGtvb2+jPXPmzNAnmzNZUGv7vp99j8vuwdk9smuNLY9f0AEAAKACNugAAABQARt0AAAAqIANOgAAAFRASBzDoktIXE9PT6hlASHtgJdSYtBMFvyRhcr86le/CrUs4KsdkJUFwmVhIFng1+TJkxvtxx9/PPTJQkPaQWSllLJs2bJQa78WW2pgSHvOZM8jC+jJguPasjCXrmE/2fuwePHiRvu+++7r9Lh2cNimtMPe9tprr9AnC76bNWtWqM2ZM6fRXrp0aeiTvYZdA/mycJvRLJs3WVhVe85l68XRRx8davvtt1+oZcFu7RDMLJztwQcfDLXnn38+1LLgrvaalAXVZa9Ftl63P8tb6ho12mTBXVlg4Hve855QO+GEExrtLBAuWxuy4ML/+I//CLUbb7yx0W6HIpaSh4ztvvvuobZu3bpGe/r06Z3GOhbDLQcie53acysLMM3Wune9612hdswxx4RaO8Av+27305/+NNTuvPPOUFu9enWotUPnpk6dGvp0WfdLiXMmuwdn99Yu321K6fbdifr5BR0AAAAqYIMOAAAAFbBBBwAAgArYoAMAAEAFhMQxIrIQkSwwKwvdyGorV65stNshMKXkoTK9vb2h1g4DKaWUXXbZpdE+4ogjQp/Xve51oZYFibSD3X7zm9+EPosWLQq1LBgqe55dg0RqMpghJlm4T3vOZCFY2eOysJj7778/1BYuXNhoZ+/Lc889F2pZMGIW2tXulwXCTZs2LdSefvrpUGuHN2VzdMOGDaGWvT5dguOyPqM9JKxLWNohhxwS+mTrShYydM0114RaOxQpC7vM1sCur317fmVzMJtvXT4Lo+393xJkgXDtANNSSnnrW98aam95y1tCbZ999mm0n3322dAnC+T6+te/HmpZoOuKFStCrS0LHsvu5xMnTmy02wFjpeTrVrYGZq9jtoaPde11bOeddw59TjvttFA76aSTQi373nbDDTc02jfddFPo89vf/jbUVq1aFWrZ+9xe/w488MDQ59BDDw21bC48/PDDjfaaNWtCn66huNbO0csv6AAAAFABG3QAAACogA06AAAAVMAZdDapfd5lMM+6ZOfIs7M62ZnG7Pxw+9xr+7xnKfl531mzZoXa9ttvH2qvetWrGu3XvOY1oc+uu+4aal3Oly9YsCD0eeCBB/p9XCn5WeEt8Qx6F9mcyc7/Zee02mfKsryD7HXL5l92XqzL9bNaO9uglFL23nvvUGuf78zmbXYmeO3ataHWPme6++67hz7ZZzGba9k50/b7lL2uo/0sXfZcJkyY0Ghn5xV32223UHviiSdCLXtf2zkc2dzNzlZm52+z86Ht8U6fPj30yfIZsuyFwVyjRvtcGizttTK7R2bnfT/wgQ+E2syZM0OtvRbcfffdoc9Xv/rVUPvJT34Saln2R/s9zeZtNtey9S177m3tc+ql5N89Ruv9dnN0yeDYY489Qp/se1V238zOkl933XWNdjsXppQ8DyP7vpetw4cddlij/Yd/+IehT5bnsnjx4lBrr5PZWp2tYdn3nWxNt/6NDn5BBwAAgArYoAMAAEAFbNABAACgAjboAAAAUAEhcXS2OWE8XQLnsgCWxx57LNQmTZoUau0AuCyw7ZWvfGWo7b///qE2ZcqUUGsHmmTBIllwyQ033BBqd9xxR6OdhYisWrUq1LIAnNESBtJlbmV9stCUbbfdNtTa4S1ZmMv48eP7HWcppUybNi3U2kE2WchaFjrUDn8rpZQZM2aE2gEHHNBoZyE22WvRJdQoe95ZeN2TTz4Zapks8GY0G+hnMAtiy+ZN9h5mc7wdmpXNt2yOZOGC2Vp54IEH9nv9LHyry3zIAiCFbw1c9nq235uDDjoo9Hnve98balkgXPaetkPhvva1r4U+V199daitX78+1Lp8prL7YTYn991331BrBzZmf+/xxx8Ptex5twNqyedf+zva7NmzQ59sLert7Q21ZcuWhVo7WDD7vpDdb7NxZMGCr3/96/t9XBaamgVntudWNoeyOTlavu/RjV/QAQAAoAI26AAAAFABG3QAAACogA06AAAAVEBIHMOiHdjx4osvhj5ZwMaaNWs61fbcc89Gux1oVEoesNEO99rUONqhbVkg3K233hpqN954Y6g9/PDDjfa6detCnywYaqwFhLTnTNeQwnYAUCkx6CgLQWsHAZaSh3ZNnz69335Z6EsWoJWFvWUBhO3guCzsa+3ataHWDs4pJX5+spC4rJaFRWWfxRUrVjTa2Ws4FrWDk7KQq0w2R4477rhQawdYrVy5st8xlJIHax1++OGh1p73XQMaly9fHmpdxpXVsvvGWFsXu8jWwPYacuaZZ4Y+r3rVq0ItC0ZbtGhRqF1++eWN9nXXXdfpWl213+ds/mX3/ezz016LswDMa6+9NtQ2bNjQ77jIte/f7VDLUkp56qmnQm3y5MmhloW4HXrooY32wQcfHPpkAcDZ/TyrtdfE7DPWvveVUsrChQtDrX3fzL7bdA3O3JzwZurmF3QAAACogA06AAAAVMAGHQAAACpggw4AAAAVEBLHoOsSWpGFXaxfvz7U2uFspeRBIu3QrywYJhtXFmD14IMPhtqvfvWrRvs3v/lN6JPVnnjiiVBrP88slC57fca67P3LAtWyAJl2bdasWaFPFoKWha1kgULt9ysLy8pq2fizUJypU6f2+7gsuCkLrWmHz2RhN9lYs9CaLDSpHcCUze/RFGKTzctMO/hxyZIloc/cuXNDLQsvzOZ4OzguWzuzsWaBlFlIUpf3LAsNzILBsrnUlq3No2neDJYs6HTHHXcMtUMOOaTRft3rXtfpWkuXLg21m2++OdT+7//+r9HO5l8W8pfp8pmaM2dOqL32ta8NtWxdbwfMLViwIPS58847Q21zQu5Gq4Guf10D1bI1saenJ9SOPPLIRjv7npitKdmcbN9vSyll0qRJ/V7r17/+dajddtttodYOdM0CD7uGv3WtseXxCzoAAABUwAYdAAAAKmCDDgAAABWwQQcAAIAKCIljs2RBFlmtHQo0fvz40CcLpsoCPLIQrZ122qnRzsKrsmtlAUnLli0Ltfvvv7/Rfvjhh0OfLJQkC3t74YUXXrJdSh7y0TU4rv3YriEuW6Is4GzXXXcNtXYo3IwZM0KfrLZu3bpQy8KP2nM3C33JApjagWqllDJt2rR+r5/N7+eeey7Uss9ZOzQpm1dZiFcWTNcOu9nU3xxrss9vO0DtZz/7WeiTzYf99tsv1LL3ur3+ZO9rthZk609vb2+otcP+sutnQYWrV6/u929m1xJ01M3EiRNDLQuJO+WUUxrtPffcM/TJAjDvvffeULvqqqtCrX3fzEK0Ml3DsNrP84wzzgh9jjrqqFBrB8iWEoNgf/CDH4Q+jz76aKgJLhy49vp0zz33dHpcFjyZ3ePb9+VHHnkk9MmCiPfaa69Qy4I52/fE7LvB97///VDLPj/t751dvieWYq6NNX5BBwAAgArYoAMAAEAFbNABAACgAs6gs1mys6rZWdv2+dXsrGVPT0+oZWfKjj322FBrn4/87W9/G/pkZ8Sz83vZ2aL2c8rGn53f63K2qOv5y7F+/ijLKMjORU+fPj3U2q9514yC9rwqJT//2z7/lp1B33nnnUMtOyuaXb/92cjmTHY+MjsPPmXKlEY7+wyvXLky1J544olQy84Hds1KGC2yz2V2rrb9vt59992hT/a677PPPqGWvWft9z9bo7IzmNm6ddxxx4XaiSee+JJ/r5RSbr311lDL1t32Z21z1raxtC5m8yq7hx188MGhdvzxxzfa2RnX7LzsLbfcEmqPPfZYqGXXa8vGn31fmD17dqi9//3vb7Sz7wFdc0TaZ85vv/320KfLvKW79vqXzaEs+2LFihWhNnXq1FBbunRpo53dm3bbbbdQO+2000Itu1e3vzP87//+b+jzk5/8JNSyDI4u86hrdtBYWv/GGr+gAwAAQAVs0AEAAKACNugAAABQARt0AAAAqICQODrLgomyIIsszKsdZJOFufzBH/xBqL361a8OtSyEasGCBY32/fffH/pkITZZoNiuu+4aanPmzGm0s8CsLFQmCz1ph6V0DYQba2Eg7bmVhQllYWxZAFy7lj2ua9hXNv/a4VvZZ+Dpp5/u93GllLLTTjv1O7bsOU6aNCnUshC99vzr+hpm8zsL4nnmmWca7bE2b0vJ50h7/cwCCLPgpOXLl/d7rVLiXM36ZH8z63f44YeHWjvQMLvWgw8+GGrZujvWggQHS7YeZZ/7LOSvfV/L1p5srj388MOhlgW6ttfn9jpQSn6/bYfXlVLKa1/72lA74IADGu3seS9btizUrr322lD71re+1Wg/+uijoU8W5DUW17Lf1zW4rMv6l4WhZoGVd9xxR6hl96z29bJ739y5c0PtmGOO6XespcS17cILLwx9svk30GDBrt9HGL38gg4AAAAVsEEHAACACtigAwAAQAVs0AEAAKACQuLYLFmYRhbmNXny5Eb7yCOPDH2OPfbYTn/z5ptvDrX58+c32lk421577RVqU6dODbUJEyaEWjuQJnuOWRhSFqTUJSBprIfRlBJfgywgJQs6euSRR0KtHZCUvS9Z8Ew2F7IAuHXr1vXbZ7fddgu1bC6sWLEi1NoBbWvXru13DKXkr1k7TCf7rGRhUVktC5N7/vnnQ434Xnd5bzZVy3T5vGSytSwLAWvXstDDbI5YywZP9p62w/tKye912fvclgVaZaGV+++/f6i15/c+++wT+uy3336h1g5/K6WUmTNnhtqUKVMa7aVLl4Y+V111Vah997vfDbX2Y7M1y7wduOy1a8+t7N6Xzb9sznd5b7LvdmeddVaotedVKXlY58UXX9xo33PPPaHPQAPhuhIcN7b4BR0AAAAqYIMOAAAAFbBBBwAAgArYoAMAAEAFhMQx6LKwrT322KPRnjFjRugzbdq0ULvzzjtD7aabbgq1djDYxIkTQ58sTOeII44ItSxcpH39LOAkC/DIguOGOtRjtIaGZEE+WUjcsmXLQm3RokWNdjs0rpRSdthhh1DbbrvtOtV22WWXRjsLl8vmRxayltXawXGrV68OfZ555plQywLG2gE4jz76aOhz//33h1r2N7uGJba1X4uxGMhUy3PO3sPDDz881Nrr+po1a0KfLKiQoZW9f08++WSotedbdp876KCDQi1bj7KAwPY9vt0upZTp06eHWhaouf3224faww8/3Gh/+9vfDn2uvPLKUHviiSdCrR2M2SW4lcENKcuutTlrYvu+/I53vCP0Of7440Mte++vv/76ULvssssa7SxoFgaTX9ABAACgAjboAAAAUAEbdAAAAKiAM+h0lp0Pys7vZOfH2ue/J0+eHPpkZ+myc+Nz5swJtfY5tuz824knnhhqe+65Z6i9+OKLodY+f3vvvfeGPtn5y+wMcPs1q+Us6pYoO5e+du3aUFu5cmWjfc8994Q+PT09oTZ37txO42jP0+wzkM3vbPzZ2d72ufrsnH12VjS7Vvv8aPt8eyn5GdZsrNnf7HIGPTu36HMwuLqeF500aVKoZetne93K5uBozb+oRfb6tte2UkpZvHhxqLVzVLJ73wEHHBBq2bnx7F7XvgdnWR2ZbI3Kxt8+A5xl0XRZ70rJ7/EMzGCeS+8qyznaf//9G+33ve99oU+21t1yyy2h9o1vfCPU2nO+lvtVLeNg8PkFHQAAACpggw4AAAAVsEEHAACACtigAwAAQAWExNFZ1zCKLgEszz77bKiNHz8+1E444YRQO+qoo0Ktt7e30c4Cv7LAuXawTSml3H///aH2P//zP432XXfdFfp0DaMR6hF1CZrJ5kwWRLR+/fpQawcpPfbYY6HPggULQi0LPJs2bVq//bKguiww8NFHHw21JUuWhFo7jC2bV1kwTzYnu4S4Ze9H9rouX76802OpV7ZWdplLDz30UKfHCQQcPNnn/oknngi1G264IdQmTJjQaJ9yyimhT7a2ZffliRMnhtozzzzTaGdrbHbfvP7660Pt1ltvDbV2mGX775WSB1maa3Xq+r5k4aq77LJLqH384x9vtGfNmhX6ZJ+V73znO6G2aNGiUOty34TB5Bd0AAAAqIANOgAAAFTABh0AAAAqYIMOAAAAFRASx2bJgj7agW2llPLggw822nvvvXfokwV47LPPPqGWhda0PfXUU6HWDtoqpZRf/vKXoXb11VeH2i233NJoZyFgIxFQkwUwbYm6PI+NGzeGWha8ll2rPScff/zx0CebM1lYTKYdYJeFOWUhM1ktCz9q6xq8lfXbaqvmv8tmIWHtQKZN1bLXf6DjYuhlr3sWlJkFfLUDAbPQwGwNZPB0vd9m97V2yN/q1atDnwMPPDDUsnDV7G8uW7as0c5CN++4445Qy+Zal3tplzBa6tHlu1C2Pk2aNCnU3vjGN4ba4Ycf3mhnc/SKK64ItXYAcCn5dwEYbn5BBwAAgArYoAMAAEAFbNABAACgAjboAAAAUAEhcWyWLPijHZhVSilLlixptK+55prQZ+nSpaGWBc3Mnj071NpBNu1Ao1JKufnmm0Pt9ttvD7X2WEuJAVlZONZgBsKN9hCt9ms10OebBcdlIWvtOfnkk0+GPltvvfWAxpDJggyz62chcdk86jK2bbaJy3kWpNQOics+K1mgYnatgQb/MDKyObL99tuHWhbc9cADDzTa2Wcoe6+71IY6THM0y167LOSqfa/LguS22267UJswYUKoZetuO9gtu0cOdA1hyzLQ97R9byolD4k78sgjQ609t+68887Q50c/+lGoZWGJXe/LMJT8gg4AAAAVsEEHAACACtigAwAAQAVs0AEAAKACQuLYLFlwRhYgs3bt2ka7t7c39Ln33ntD7Yc//GGoZUEi7fCjriEfWWhNVms/p6EODMmuP5rCtsaNG/eyn8/mPP/265m9x9mc6WqgoVfZXM5q7bFloXFZOGOXkLh2uFMp+WeYLUv2eckC4davXx9qN910U6itXLmy0V62bFnos2rVqpczREZQ14DXrAZDIbv3tQOAS4lrUSmlLFy4sNH++c9/HvpkAcBZqKxAOGrgF3QAAACogA06AAAAVMAGHQAAACrgDDrDossZ4Kw2Vo2m8+Y1GOjrOdAsgOw8e3a+Ljvrnf3N9mO7ngvtMv5sDObfli97759++ulQe+ihh0Jt+fLlodY+47lmzZrQJzvPbl0HusjWrGwtuvTSS0Nt/PjxjXaWh5GdXZfBQq38gg4AAAAVsEEHAACACtigAwAAQAVs0AEAAKACQuIYdMMdyDXU19rU9Qbz+mNN+/XMXrsufbpqh74M9XuVhcxsTvBMFjrX1vU5dZnLXR9nzm9Zus7LLDipt7d3SMYEUEp+n8vC3lavXj2g6w/03gcjwS/oAAAAUAEbdAAAAKiADToAAABUwBn0Meb3z+BsCedxBnOMQ/18t4TXsz/D+Rr197dqeO+H+3GbY0ue37+79nC8bqPhc8rQMP8YaVvyOj5cRsNzqJXXth5+QR9jBP3wUoZ6fmzq+n19feG/Ln26/jfQa3Uda5fHbUkG87V4Oa/XcKxP1kA2xfxjpI3UPRhKMT9qMq5vNHybpLONGzeWpUuXlp6eHgnM/H99fX2lt7e3zJgxo2y11dD9u535R2a45l8p5iCR+cdIcw9mJA3nGkg3NugAAABQAf9MAgAAABWwQQcAAIAK2KADAABABWzQAQAAoAI26AAAAFABG3QAAACogA06AAAAVMAGHQAAACpggw4AAAAVsEEHAACACtigAwAAQAVs0AEAAKACNugAAABQARt0AAAAqIANOgAAAFTABh0AAAAqYIMOAAAAFbBBBwAAgArYoAMAAEAFbNABAACgAjboAAAAUAEbdAAAAKiADToAAABUwAYdAAAAKmCDDgAAABWwQQcAAIAK2KADAABABWzQAQAAoAI26AAAAFABG3QAAACogA06AAAAVMAGHQAAACpggw4AAAAVsEEHAACACtigAwAAQAVs0AEAAKACNugAAABQARt0AAAAqIANOgAAAFTABh0AAAAqYIMOAAAAFbBBBwAAgArYoAMAAEAFbNABAACgAv8PexbOJ9fkDZAAAAAASUVORK5CYII=' width=1000.0/>\n",
       "            </div>\n",
       "        "
      ],
      "text/plain": [
       "Canvas(toolbar=Toolbar(toolitems=[('Home', 'Reset original view', 'home', 'home'), ('Back', 'Back to previous …"
      ]
     },
     "metadata": {},
     "output_type": "display_data"
    }
   ],
   "source": [
    "plot_digits(xbatch[:5], a)"
   ]
  },
  {
   "cell_type": "markdown",
   "id": "48e0632f",
   "metadata": {},
   "source": [
    "- [x] Strange course of validation and train losses (Have I implemented it correctly?)\n",
    "- [x] Find a way to use encoder and decoder separately\n",
    "- [x] use PT lightning?"
   ]
  },
  {
   "cell_type": "markdown",
   "id": "284def50",
   "metadata": {},
   "source": [
    "### Let's try to save the Model"
   ]
  },
  {
   "cell_type": "code",
   "execution_count": 42,
   "id": "db82fc73",
   "metadata": {},
   "outputs": [],
   "source": [
    "torch.save(model.state_dict(), 'C:\\\\Users\\\\aleks\\\\Projects\\\\arameic-mishmash\\\\MNISTmodel.pt')"
   ]
  },
  {
   "cell_type": "code",
   "execution_count": 43,
   "id": "766af071",
   "metadata": {},
   "outputs": [
    {
     "data": {
      "text/plain": [
       "AE(\n",
       "  (encoder): Sequential(\n",
       "    (0): Linear(in_features=784, out_features=128, bias=True)\n",
       "    (1): ReLU()\n",
       "    (2): Linear(in_features=128, out_features=64, bias=True)\n",
       "    (3): ReLU()\n",
       "    (4): Linear(in_features=64, out_features=36, bias=True)\n",
       "    (5): ReLU()\n",
       "    (6): Linear(in_features=36, out_features=18, bias=True)\n",
       "    (7): ReLU()\n",
       "    (8): Linear(in_features=18, out_features=10, bias=True)\n",
       "  )\n",
       "  (decoder): Sequential(\n",
       "    (0): Linear(in_features=10, out_features=18, bias=True)\n",
       "    (1): ReLU()\n",
       "    (2): Linear(in_features=18, out_features=36, bias=True)\n",
       "    (3): ReLU()\n",
       "    (4): Linear(in_features=36, out_features=64, bias=True)\n",
       "    (5): ReLU()\n",
       "    (6): Linear(in_features=64, out_features=128, bias=True)\n",
       "    (7): ReLU()\n",
       "    (8): Linear(in_features=128, out_features=784, bias=True)\n",
       "    (9): Sigmoid()\n",
       "  )\n",
       ")"
      ]
     },
     "execution_count": 43,
     "metadata": {},
     "output_type": "execute_result"
    }
   ],
   "source": [
    "loaded_model = AE()\n",
    "loaded_model.load_state_dict(torch.load('C:\\\\Users\\\\aleks\\\\Projects\\\\arameic-mishmash\\\\MNISTmodel.pt'))\n",
    "loaded_model.eval()"
   ]
  },
  {
   "cell_type": "code",
   "execution_count": 45,
   "id": "74197058",
   "metadata": {},
   "outputs": [
    {
     "data": {
      "application/vnd.jupyter.widget-view+json": {
       "model_id": "32bc427ead2c4b638f6000552e79b08e",
       "version_major": 2,
       "version_minor": 0
      },
      "image/png": "[encoded data removed]",
      "text/html": [
       "\n",
       "            <div style=\"display: inline-block;\">\n",
       "                <div class=\"jupyter-widgets widget-label\" style=\"text-align: center;\">\n",
       "                    Figure\n",
       "                </div>\n",
       "                <img src='data:image/png;base64,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' width=1000.0/>\n",
       "            </div>\n",
       "        "
      ],
      "text/plain": [
       "Canvas(toolbar=Toolbar(toolitems=[('Home', 'Reset original view', 'home', 'home'), ('Back', 'Back to previous …"
      ]
     },
     "metadata": {},
     "output_type": "display_data"
    }
   ],
   "source": [
    "xbatch, ybatch =next(iter(test_loader))\n",
    "xbatch=xbatch.reshape(-1,28*28)\n",
    "a=[model(x)[0] for x in xbatch[:5]]\n",
    "a=torch.stack(a, dim=0)\n",
    "b=[loaded_model(x)[0] for x in xbatch[:5]]\n",
    "b=torch.stack(b, dim=0)\n",
    "plot_digits(b, a)"
   ]
  },
  {
   "cell_type": "markdown",
   "id": "f333ad5f",
   "metadata": {},
   "source": [
    "### Check if weights are equal"
   ]
  },
  {
   "cell_type": "code",
   "execution_count": 72,
   "id": "84f68271",
   "metadata": {},
   "outputs": [
    {
     "name": "stdout",
     "output_type": "stream",
     "text": [
      "encoder.0.weight matches encoder.0.weight\n",
      "encoder.0.bias matches encoder.0.bias\n",
      "encoder.2.weight matches encoder.2.weight\n",
      "encoder.2.bias matches encoder.2.bias\n",
      "encoder.4.weight matches encoder.4.weight\n",
      "encoder.4.bias matches encoder.4.bias\n",
      "encoder.6.weight matches encoder.6.weight\n",
      "encoder.6.bias matches encoder.6.bias\n",
      "encoder.8.weight matches encoder.8.weight\n",
      "encoder.8.bias matches encoder.8.bias\n",
      "decoder.0.weight matches decoder.0.weight\n",
      "decoder.0.bias matches decoder.0.bias\n",
      "decoder.2.weight matches decoder.2.weight\n",
      "decoder.2.bias matches decoder.2.bias\n",
      "decoder.4.weight matches decoder.4.weight\n",
      "decoder.4.bias matches decoder.4.bias\n",
      "decoder.6.weight matches decoder.6.weight\n",
      "decoder.6.bias matches decoder.6.bias\n",
      "decoder.8.weight matches decoder.8.weight\n",
      "decoder.8.bias matches decoder.8.bias\n"
     ]
    },
    {
     "data": {
      "text/plain": [
       "True"
      ]
     },
     "execution_count": 72,
     "metadata": {},
     "output_type": "execute_result"
    }
   ],
   "source": [
    "def models_are_eq(model1, model2):\n",
    "    for (nameA, paramA), (nameB, paramB) in zip(model.named_parameters(), loaded_model.named_parameters()):\n",
    "        if (paramA == paramB).all():\n",
    "            print('{} matches {}'.format(nameA, nameB))\n",
    "        else:\n",
    "            print('{} does not match {}'.format(nameA, nameB))\n",
    "    for p1, p2 in zip(model1.parameters(), model2.parameters()):\n",
    "        if p1.data.ne(p2.data).sum() > 0:\n",
    "            return False\n",
    "    return True\n",
    "\n",
    "models_are_eq(model, loaded_model)"
   ]
  },
  {
   "cell_type": "markdown",
   "id": "c2cdb105",
   "metadata": {},
   "source": [
    "### Let's try to transfer encoder's layers from pretrained `model` to untrained `encmodel`"
   ]
  },
  {
   "cell_type": "code",
   "execution_count": 117,
   "id": "6e1ed397",
   "metadata": {},
   "outputs": [],
   "source": [
    "class Encoder(torch.nn.Module): #shape of the model mathes the shape of AE class\n",
    "    def __init__(self):\n",
    "        super().__init__()\n",
    "         \n",
    "        # Building an linear encoder with Linear\n",
    "        # layer followed by Relu activation function\n",
    "        # 784 ==> 10\n",
    "        self.encoder = torch.nn.Sequential(\n",
    "            torch.nn.Linear(28 * 28, 128),\n",
    "            torch.nn.ReLU(),\n",
    "            torch.nn.Linear(128, 64),\n",
    "            torch.nn.ReLU(),\n",
    "            torch.nn.Linear(64, 36),\n",
    "            torch.nn.ReLU(),\n",
    "            torch.nn.Linear(36, 18),\n",
    "            torch.nn.ReLU(),\n",
    "            torch.nn.Linear(18, 10)\n",
    "        )\n",
    "         \n",
    "    def forward(self, x):\n",
    "        encoded = self.encoder(x)\n",
    "        return encoded\n",
    "\n",
    "rawmodel=Encoder() #Untrained model"
   ]
  },
  {
   "cell_type": "code",
   "execution_count": 136,
   "id": "b41c7a2a",
   "metadata": {},
   "outputs": [
    {
     "name": "stdout",
     "output_type": "stream",
     "text": [
      "encoder.0.weight\n",
      "encoder.0.bias\n",
      "encoder.2.weight\n",
      "encoder.2.bias\n",
      "encoder.4.weight\n",
      "encoder.4.bias\n",
      "encoder.6.weight\n",
      "encoder.6.bias\n",
      "encoder.8.weight\n",
      "encoder.8.bias\n",
      "decoder.0.weight\n",
      "decoder.0.bias\n",
      "decoder.2.weight\n",
      "decoder.2.bias\n",
      "decoder.4.weight\n",
      "decoder.4.bias\n",
      "decoder.6.weight\n",
      "decoder.6.bias\n",
      "decoder.8.weight\n",
      "decoder.8.bias\n"
     ]
    }
   ],
   "source": [
    "model.state_dict().items()\n",
    "\n",
    "for name, param in model.state_dict().items():\n",
    "    print(name)"
   ]
  },
  {
   "cell_type": "code",
   "execution_count": 122,
   "id": "4f61d0eb",
   "metadata": {},
   "outputs": [
    {
     "data": {
      "text/plain": [
       "<All keys matched successfully>"
      ]
     },
     "execution_count": 122,
     "metadata": {},
     "output_type": "execute_result"
    }
   ],
   "source": [
    "pretrained_dict = model.state_dict()\n",
    "model_dict = rawmodel.state_dict()\n",
    "\n",
    "# 1. filter out unnecessary keys. Or copies only 'encoder' part\n",
    "pretrained_dict = {name: values for name, values in pretrained_dict.items() if 'encoder' in name}\n",
    "# 2. overwrite entries in the existing state dict\n",
    "model_dict.update(pretrained_dict) \n",
    "# 3. load the new state dict\n",
    "rawmodel.load_state_dict(pretrained_dict)"
   ]
  },
  {
   "cell_type": "code",
   "execution_count": 124,
   "id": "cb1f5f51",
   "metadata": {},
   "outputs": [
    {
     "name": "stdout",
     "output_type": "stream",
     "text": [
      "encoder.0.weight\n",
      "encoder.0.bias\n",
      "encoder.2.weight\n",
      "encoder.2.bias\n",
      "encoder.4.weight\n",
      "encoder.4.bias\n",
      "encoder.6.weight\n",
      "encoder.6.bias\n",
      "encoder.8.weight\n",
      "encoder.8.bias\n"
     ]
    }
   ],
   "source": [
    "for name, param in rawmodel.state_dict().items():\n",
    "    print(name)"
   ]
  },
  {
   "cell_type": "markdown",
   "id": "670a774b",
   "metadata": {},
   "source": [
    "### Test if `rawmodel` encoder does the same thing as `model`'s trained encoder``"
   ]
  },
  {
   "cell_type": "code",
   "execution_count": 115,
   "id": "4bdbe1d4",
   "metadata": {},
   "outputs": [
    {
     "data": {
      "text/plain": [
       "tensor(True)"
      ]
     },
     "execution_count": 115,
     "metadata": {},
     "output_type": "execute_result"
    }
   ],
   "source": [
    "xbatch, ybatch =next(iter(test_loader))\n",
    "xbatch=xbatch.reshape(-1,28*28)\n",
    "a=[model(x)[1] for x in xbatch[:5]]\n",
    "a=torch.stack(a, dim=0)\n",
    "b=[rawmodel(x) for x in xbatch[:5]]\n",
    "b=torch.stack(b, dim=0)\n",
    "\n",
    "torch.all(a==b)"
   ]
  },
  {
   "cell_type": "markdown",
   "id": "fc73acdd",
   "metadata": {},
   "source": [
    "# It DOES\n",
    "### Let's now try to create an autoencoder with three pretrained and frozen layers, and then train the rest of them"
   ]
  },
  {
   "cell_type": "code",
   "execution_count": 212,
   "id": "bfd3e7ae",
   "metadata": {},
   "outputs": [
    {
     "name": "stdout",
     "output_type": "stream",
     "text": [
      "encoder.0.weight\n",
      "encoder.0.bias\n",
      "encoder.2.weight\n",
      "encoder.2.bias\n",
      "encoder.4.weight\n",
      "encoder.4.bias\n"
     ]
    },
    {
     "data": {
      "text/plain": [
       "<All keys matched successfully>"
      ]
     },
     "execution_count": 212,
     "metadata": {},
     "output_type": "execute_result"
    }
   ],
   "source": [
    "premodel=AE()\n",
    "dict = model.state_dict()\n",
    "premodel_dict = premodel.state_dict()\n",
    "\n",
    "#select 1-th, 2-th, 3-th layers of the encoder\n",
    "dict = {key: v for key, v in model.state_dict().items() if np.logical_and('encoder' in key, np.array(['0' in key, '2' in key, '4' in key]).any())}\n",
    "\n",
    "for name, param in dict.items():\n",
    "    print(name)\n",
    "premodel_dict.update(dict)\n",
    "\n",
    "premodel.load_state_dict(premodel_dict)"
   ]
  },
  {
   "cell_type": "markdown",
   "id": "4044a9c5",
   "metadata": {},
   "source": [
    "### `premodel` now has pretrained first 3 layers\n",
    "### Let's now freeze these layers"
   ]
  },
  {
   "cell_type": "code",
   "execution_count": 255,
   "id": "05687ef9",
   "metadata": {},
   "outputs": [
    {
     "name": "stdout",
     "output_type": "stream",
     "text": [
      "weights or biases are changed\n",
      "weights or biases are changed\n",
      "weights or biases are changed\n",
      "weights or biases are changed\n",
      "weights or biases are changed\n",
      "weights or biases are changed\n"
     ]
    }
   ],
   "source": [
    "\n",
    "for preparam, param in zip(premodel.parameters(), model.parameters()):\n",
    "    if (preparam==param).all():\n",
    "        preparam.requires_grad = False\n",
    "        print('weights or biases are changed')\n",
    "\n",
    "#We've freezed weights and biases for 3 layers, 6 freezes in total"
   ]
  },
  {
   "cell_type": "markdown",
   "id": "7747fe9b",
   "metadata": {},
   "source": [
    "### Dummy training of the pretrained model"
   ]
  },
  {
   "cell_type": "code",
   "execution_count": 216,
   "id": "5c658c19",
   "metadata": {},
   "outputs": [],
   "source": [
    "preoptimizer = torch.optim.Adam(premodel.parameters(),\n",
    "                             lr = 1e-2,\n",
    "                             weight_decay = 1e-8)\n",
    "epochs = 2\n",
    "outputs = []\n",
    "losses = []\n",
    "val_losses=[]\n",
    "for epoch in range(epochs):\n",
    "    for (images_in_batch, _) in train_loader: \n",
    "        \n",
    "# Reshaping the image to (-1, 784)\n",
    "        images_in_batch = images_in_batch.reshape(-1, 28*28)\n",
    "       \n",
    "# Output of Autoencoder\n",
    "        reconstructed = premodel(images_in_batch)[0]\n",
    "       \n",
    "# Calculating the loss function\n",
    "        loss = loss_function(reconstructed, images_in_batch)\n",
    "       \n",
    "# The gradients are set to zero,\n",
    "        # the gradient is computed and stored.\n",
    "        # .step() performs parameter update\n",
    "        preoptimizer.zero_grad()\n",
    "        loss.backward()\n",
    "        preoptimizer.step()   \n",
    "        \n",
    "# Storing the losses in a list for plotting\n",
    "        losses.append(loss.detach().numpy()) #error at the end of the training on one batch := train_losses\n",
    "    \n",
    "# calculating validation loss (error for the last img of the batch) \n",
    "        one_img, _=validation_loader.dataset[int(np.random.random()*len(validation_loader.dataset))] #picking 1 random image from validation dataset\n",
    "        one_img=one_img.reshape(-1, 28*28)\n",
    "        one_res=premodel(one_img)[0]\n",
    "        val_loss=loss_function(one_res, one_img)\n",
    "        val_losses.append(val_loss.detach().numpy())\n",
    "    outputs.append((epochs, one_img, reconstructed))"
   ]
  },
  {
   "cell_type": "markdown",
   "id": "a7c301db",
   "metadata": {},
   "source": [
    "### Compare results of original model and model with frozen three first layers"
   ]
  },
  {
   "cell_type": "code",
   "execution_count": 217,
   "id": "7144ca12",
   "metadata": {},
   "outputs": [
    {
     "data": {
      "application/vnd.jupyter.widget-view+json": {
       "model_id": "63db65b0d3c54b4d835e547d8d0da995",
       "version_major": 2,
       "version_minor": 0
      },
      "image/png": "[encoded data removed]",
      "text/html": [
       "\n",
       "            <div style=\"display: inline-block;\">\n",
       "                <div class=\"jupyter-widgets widget-label\" style=\"text-align: center;\">\n",
       "                    Figure\n",
       "                </div>\n",
       "                <img src='data:image/png;base64,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' width=1000.0/>\n",
       "            </div>\n",
       "        "
      ],
      "text/plain": [
       "Canvas(toolbar=Toolbar(toolitems=[('Home', 'Reset original view', 'home', 'home'), ('Back', 'Back to previous …"
      ]
     },
     "metadata": {},
     "output_type": "display_data"
    }
   ],
   "source": [
    "xbatch, ybatch =next(iter(test_loader))\n",
    "xbatch=xbatch.reshape(-1,28*28)\n",
    "a=[model(x)[0] for x in xbatch[:5]]\n",
    "a=torch.stack(a, dim=0)\n",
    "\n",
    "c=[premodel(x)[0] for x in xbatch[:5]]\n",
    "c=torch.stack(c, dim=0)\n",
    "plot_digits(c, a)\n"
   ]
  },
  {
   "cell_type": "markdown",
   "id": "eaf987c1",
   "metadata": {},
   "source": [
    "### Compare `model` and `premodel`"
   ]
  },
  {
   "cell_type": "code",
   "execution_count": 218,
   "id": "a5e011c6",
   "metadata": {},
   "outputs": [
    {
     "name": "stdout",
     "output_type": "stream",
     "text": [
      "encoder.0.weight matches encoder.0.weight\n",
      "encoder.0.bias matches encoder.0.bias\n",
      "encoder.2.weight matches encoder.2.weight\n",
      "encoder.2.bias matches encoder.2.bias\n",
      "encoder.4.weight matches encoder.4.weight\n",
      "encoder.4.bias matches encoder.4.bias\n",
      "encoder.6.weight matches encoder.6.weight\n",
      "encoder.6.bias matches encoder.6.bias\n",
      "encoder.8.weight matches encoder.8.weight\n",
      "encoder.8.bias matches encoder.8.bias\n",
      "decoder.0.weight matches decoder.0.weight\n",
      "decoder.0.bias matches decoder.0.bias\n",
      "decoder.2.weight matches decoder.2.weight\n",
      "decoder.2.bias matches decoder.2.bias\n",
      "decoder.4.weight matches decoder.4.weight\n",
      "decoder.4.bias matches decoder.4.bias\n",
      "decoder.6.weight matches decoder.6.weight\n",
      "decoder.6.bias matches decoder.6.bias\n",
      "decoder.8.weight matches decoder.8.weight\n",
      "decoder.8.bias matches decoder.8.bias\n"
     ]
    },
    {
     "data": {
      "text/plain": [
       "False"
      ]
     },
     "execution_count": 218,
     "metadata": {},
     "output_type": "execute_result"
    }
   ],
   "source": [
    "models_are_eq(model, premodel)"
   ]
  },
  {
   "cell_type": "code",
   "execution_count": 256,
   "id": "d21489b0",
   "metadata": {},
   "outputs": [
    {
     "name": "stdout",
     "output_type": "stream",
     "text": [
      "are third layers equal? tensor(True)\n",
      "are fourth layers equal? tensor(False)\n"
     ]
    }
   ],
   "source": [
    "print('are third layers equal?' ,(model.state_dict()['encoder.4.weight']==premodel.state_dict()['encoder.4.weight']).all())\n",
    "\n",
    "print('are fourth layers equal?' ,(model.state_dict()['encoder.6.weight']==premodel.state_dict()['encoder.6.weight']).all())"
   ]
  }
 ],
 "metadata": {
  "kernelspec": {
   "display_name": "Python 3 (ipykernel)",
   "language": "python",
   "name": "python3"
  },
  "language_info": {
   "codemirror_mode": {
    "name": "ipython",
    "version": 3
   },
   "file_extension": ".py",
   "mimetype": "text/x-python",
   "name": "python",
   "nbconvert_exporter": "python",
   "pygments_lexer": "ipython3",
   "version": "3.11.5"
  }
 },
 "nbformat": 4,
 "nbformat_minor": 5
}
